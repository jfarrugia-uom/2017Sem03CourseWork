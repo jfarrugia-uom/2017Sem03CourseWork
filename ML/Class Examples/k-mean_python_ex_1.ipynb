{
 "cells": [
  {
   "cell_type": "markdown",
   "metadata": {
    "collapsed": false
   },
   "source": [
    "# K-means implementation in  python \n"
   ]
  },
  {
   "cell_type": "markdown",
   "metadata": {},
   "source": [
    "We first import two useful libraries\n",
    "1. numpy (matrix algebra):  we use np as a shortcut\n",
    "2. plyplot from matplotlib: useful for plotting charts: we use plt as a shortcut\n",
    "3. use tab and shift+tab for help"
   ]
  },
  {
   "cell_type": "code",
   "execution_count": 1,
   "metadata": {
    "collapsed": true
   },
   "outputs": [],
   "source": [
    "import numpy as np\n",
    "import matplotlib.pyplot as plt"
   ]
  },
  {
   "cell_type": "code",
   "execution_count": 2,
   "metadata": {
    "collapsed": true
   },
   "outputs": [],
   "source": [
    "# this line plots graphs in line\n",
    "%matplotlib inline"
   ]
  },
  {
   "cell_type": "markdown",
   "metadata": {},
   "source": [
    "### First we generate a  dataset (synthetic)"
   ]
  },
  {
   "cell_type": "code",
   "execution_count": 3,
   "metadata": {
    "collapsed": false
   },
   "outputs": [
    {
     "name": "stdout",
     "output_type": "stream",
     "text": [
      "[[ 0.53047874  0.62488869]\n",
      " [ 0.37454284  0.50649656]\n",
      " [ 0.73576817  0.73777585]]\n"
     ]
    }
   ],
   "source": [
    "# C_g is the array for centroids\n",
    "# \n",
    "M_g = 3\n",
    "np.random.seed(3)\n",
    "C_g = np.random.rand(M_g,2)*.6+0.2\n",
    "print C_g"
   ]
  },
  {
   "cell_type": "code",
   "execution_count": 4,
   "metadata": {
    "collapsed": true
   },
   "outputs": [],
   "source": [
    "# we can also fix the centroids on a diagonal\n",
    "C_g=np.array([[.25,.25],\n",
    "             [.5,.5],\n",
    "             [.75,.75]])"
   ]
  },
  {
   "cell_type": "code",
   "execution_count": 5,
   "metadata": {
    "collapsed": true
   },
   "outputs": [],
   "source": [
    "# we can also choose the centroids arbitarily\n",
    "C_g=np.array([[.25,.25],\n",
    "             [.75,.5],\n",
    "             [.45,.75]])"
   ]
  },
  {
   "cell_type": "code",
   "execution_count": 15,
   "metadata": {
    "collapsed": false
   },
   "outputs": [],
   "source": [
    "# Generate data set ( M=3, centroid, constant sigma)\n",
    "sigma=0.085\n",
    "number=10\n",
    "X1=sigma*np.random.randn(number,2)+C_g[0]\n",
    "X2=sigma*np.random.randn(number,2)+C_g[1]\n",
    "X3=sigma*np.random.randn(number,2)+C_g[2]\n",
    "#\n",
    "# storing the centroid index (note this may not correspond to teh same number from the k-means algorithm)\n",
    "X11=np.concatenate((sigma*np.random.randn(number,2)+C_g[0],np.full((number,1),0.0)),axis=1)\n",
    "X22=np.concatenate((sigma*np.random.randn(number,2)+C_g[1],np.full((number,1),1.0)),axis=1)\n",
    "X33=np.concatenate((sigma*np.random.randn(number,2)+C_g[2],np.full((number,1),2.0)),axis=1)\n",
    "#\n",
    "#X=np.concatenate((X1,X2,X3), axis=0)\n",
    "X=np.concatenate((X11,X22,X33), axis=0)\n",
    "#np.random.shuffle(X)\n",
    "#print X"
   ]
  },
  {
   "cell_type": "markdown",
   "metadata": {},
   "source": [
    "#### You can improve the above code snippet to generate any arbitrary number (M) of  clusters"
   ]
  },
  {
   "cell_type": "code",
   "execution_count": 16,
   "metadata": {
    "collapsed": false
   },
   "outputs": [
    {
     "data": {
      "image/png": "[encoded data removed]",
      "text/plain": [
       "<matplotlib.figure.Figure at 0x10de03e10>"
      ]
     },
     "metadata": {},
     "output_type": "display_data"
    }
   ],
   "source": [
    "# plot data set and centroids\n",
    "plt.figure()\n",
    "plt.plot(X[:,0],X[:,1],'o')\n",
    "plt.plot(C_g[:,0],C_g[:,1],'ro')\n",
    "plt.axis([0, 1.0, 0, 1.0])\n",
    "plt.show()"
   ]
  },
  {
   "cell_type": "markdown",
   "metadata": {},
   "source": [
    "#### You can improve the above code snippet to colour/shape code the clusters"
   ]
  },
  {
   "cell_type": "markdown",
   "metadata": {},
   "source": [
    "## K-means starts here"
   ]
  },
  {
   "cell_type": "code",
   "execution_count": 17,
   "metadata": {
    "collapsed": false
   },
   "outputs": [
    {
     "name": "stdout",
     "output_type": "stream",
     "text": [
      "x_range = (0.1185, 0.9589)\n",
      "Initial Centroids : \n",
      "[[ 0.58692766  0.84843455]\n",
      " [ 0.49839171  0.56811066]\n",
      " [ 0.69919562  0.19375007]]\n"
     ]
    }
   ],
   "source": [
    "# Initialise array for centroids\n",
    "# C is the array for centroids\n",
    "#\n",
    "# compute range of values for centroids\n",
    "min_x0=np.min(X[:,0])\n",
    "max_x0=np.max(X[:,0])\n",
    "#print \"x0_range = (%5.4f, %5.4f)\" %(min_x0, max_x0)\n",
    "min_x1=np.min(X[:,1])\n",
    "max_x1=np.max(X[:,1])\n",
    "#print \"x1_range = (%5.4f, %5.4f)\" %(min_x1, max_x1)\n",
    "a = min(min_x0,min_x1)\n",
    "b = max(max_x0,max_x1)\n",
    "print \"x_range = (%5.4f, %5.4f)\" %(a,b)\n",
    "#\n",
    "M = 3\n",
    "C = np.random.rand(M,2)*(b-a)+a\n",
    "#\n",
    "print \"Initial Centroids : \"\n",
    "print C"
   ]
  },
  {
   "cell_type": "code",
   "execution_count": 18,
   "metadata": {
    "collapsed": true
   },
   "outputs": [],
   "source": [
    "# Define a function that allocates points to the nearest centroid\n",
    "# input arguments are vector XX, representing features for one point and Centroid values\n",
    "# function returns index closest centroid\n",
    "def get_centroid_index(xx,C_val):\n",
    "    #\n",
    "    return_arg = -1\n",
    "    #\n",
    "    if len(xx.shape)>1 or xx.shape[0]!=(C_val.shape)[1]:\n",
    "        print \"---error in input arguments ---\"\n",
    "    #\n",
    "    distance=np.zeros(C_val.shape[0])\n",
    "    for i in range(C_val.shape[0]):\n",
    "        distance[i]=(np.sqrt(np.sum((xx-C_val[i,:])**2)))\n",
    "    #print distance\n",
    "    return_arg = np.argmin(distance)\n",
    "    return return_arg\n",
    "    "
   ]
  },
  {
   "cell_type": "code",
   "execution_count": 19,
   "metadata": {
    "collapsed": false
   },
   "outputs": [
    {
     "name": "stdout",
     "output_type": "stream",
     "text": [
      "[2 2 2 2 2 2 2 2 2 2 1 1 1 1 1 1 1 1 1 1 0 0 0 0 0 0 0 0 0 0]\n"
     ]
    }
   ],
   "source": [
    "# make a copy of the dataset\n",
    "XX = np.copy(X)\n",
    "C_index=np.zeros(len(XX[:,0]),dtype=int)\n",
    "C_iter=np.array(C)\n",
    "#\n",
    "converge=[]\n",
    "for iter in range(10):\n",
    "    C_prev=np.array(C_iter)\n",
    "    # Allocate data points to centroids \n",
    "    for i in range(len(C_index)):\n",
    "        C_index[i] = get_centroid_index(XX[i,0:2],C_iter)\n",
    "    #\n",
    "    # Recalculate centroids\n",
    "    #\n",
    "    for m in range(M):\n",
    "        x_total=[[],[]]\n",
    "        for i in range(len(C_index)):\n",
    "            if C_index[i]==m:\n",
    "                x_total[0].append(XX[i,0])\n",
    "                x_total[1].append(XX[i,1])\n",
    "        #print \"centroid=%d:%d\"%(m,len(x_total[0]))\n",
    "        #print \"centroid=%d:%d\"%(m,len(x_total[1]))\n",
    "\n",
    "        if len(x_total[0])>0 and len(x_total[1])>0:\n",
    "            C_iter[m,0] = np.mean(x_total[0])\n",
    "            C_iter[m,1] = np.mean(x_total[1])\n",
    "    #\n",
    "    converge.append(np.sum((C_prev-C_iter)**2.0))\n",
    "print C_index"
   ]
  },
  {
   "cell_type": "code",
   "execution_count": 12,
   "metadata": {
    "collapsed": false
   },
   "outputs": [
    {
     "name": "stdout",
     "output_type": "stream",
     "text": [
      "[1 1 2 1 1 1 1 1 1 1 0 0 1 0 0 0 0 2 0 0 2 2 2 2 2 2 2 2 2 1]\n"
     ]
    }
   ],
   "source": [
    "# to compare labels and calculate error we need to manually match the centroids \n",
    "for i in range(len(C_index)):\n",
    "    if C_index[i]==2:\n",
    "        C_index[i]=0\n",
    "    elif C_index[i]==0:\n",
    "        C_index[i]=1\n",
    "    elif C_index[i]==1:\n",
    "        C_index[i]=2\n",
    "\n",
    "print C_index\n",
    "\n"
   ]
  },
  {
   "cell_type": "markdown",
   "metadata": {},
   "source": [
    "#### improve above code snippet with Python dictionaries"
   ]
  },
  {
   "cell_type": "code",
   "execution_count": 20,
   "metadata": {
    "collapsed": false
   },
   "outputs": [
    {
     "name": "stdout",
     "output_type": "stream",
     "text": [
      "80.0\n"
     ]
    }
   ],
   "source": [
    "# an attempt to compute error. \n",
    "# What is wrong with teh below line? \n",
    "print np.sum((XX[:,2] - np.asarray(C_index, dtype=float))**2)"
   ]
  },
  {
   "cell_type": "code",
   "execution_count": 21,
   "metadata": {
    "collapsed": false
   },
   "outputs": [
    {
     "name": "stdout",
     "output_type": "stream",
     "text": [
      "[0.068666443493376098, 0.041230078338395627, 0.027162547523272532, 0.0023276191400260935, 0.0, 0.0, 0.0, 0.0, 0.0, 0.0]\n"
     ]
    },
    {
     "data": {
      "image/png": "[encoded data removed]",
      "text/plain": [
       "<matplotlib.figure.Figure at 0x10de90d90>"
      ]
     },
     "metadata": {},
     "output_type": "display_data"
    }
   ],
   "source": [
    "print converge\n",
    "plt.figure()\n",
    "plt.plot(converge)\n",
    "plt.show()"
   ]
  },
  {
   "cell_type": "code",
   "execution_count": 22,
   "metadata": {
    "collapsed": false
   },
   "outputs": [
    {
     "data": {
      "image/png": "[encoded data removed]",
      "text/plain": [
       "<matplotlib.figure.Figure at 0x10dd98390>"
      ]
     },
     "metadata": {},
     "output_type": "display_data"
    }
   ],
   "source": [
    "# plot data set and centroids\n",
    "plt.figure()\n",
    "plt.plot(X[:,0],X[:,1],'o')\n",
    "plt.plot(C_g[:,0],C_g[:,1],'ro')\n",
    "plt.plot(C[:,0],C[:,1],'go')\n",
    "plt.plot(C_iter[:,0],C_iter[:,1],'yo')\n",
    "\n",
    "plt.axis([0, 1.0, 0, 1.0])\n",
    "plt.show()"
   ]
  },
  {
   "cell_type": "code",
   "execution_count": null,
   "metadata": {
    "collapsed": false
   },
   "outputs": [],
   "source": []
  }
 ],
 "metadata": {
  "kernelspec": {
   "display_name": "Python 2",
   "language": "python",
   "name": "python2"
  },
  "language_info": {
   "codemirror_mode": {
    "name": "ipython",
    "version": 2
   },
   "file_extension": ".py",
   "mimetype": "text/x-python",
   "name": "python",
   "nbconvert_exporter": "python",
   "pygments_lexer": "ipython2",
   "version": "2.7.12"
  }
 },
 "nbformat": 4,
 "nbformat_minor": 0
}

