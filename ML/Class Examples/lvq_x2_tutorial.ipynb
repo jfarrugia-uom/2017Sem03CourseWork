{
 "cells": [
  {
   "cell_type": "code",
   "execution_count": null,
   "metadata": {
    "collapsed": true
   },
   "outputs": [],
   "source": []
  },
  {
   "cell_type": "markdown",
   "metadata": {
    "collapsed": false
   },
   "source": [
    "# LVQ x2 implementation in  python \n"
   ]
  },
  {
   "cell_type": "markdown",
   "metadata": {},
   "source": [
    "We first import two useful libraries\n",
    "1. numpy (matrix algebra):  we use np as a shortcut\n",
    "2. plyplot from matplotlib: useful for plotting charts: we use plt as a shortcut\n",
    "3. use tab and shift+tab for help"
   ]
  },
  {
   "cell_type": "code",
   "execution_count": null,
   "metadata": {
    "collapsed": true
   },
   "outputs": [],
   "source": [
    "import numpy as np\n",
    "import matplotlib.pyplot as plt"
   ]
  },
  {
   "cell_type": "code",
   "execution_count": null,
   "metadata": {
    "collapsed": true
   },
   "outputs": [],
   "source": [
    "# this line plots graphs in line\n",
    "%matplotlib inline"
   ]
  },
  {
   "cell_type": "markdown",
   "metadata": {},
   "source": [
    "### First we generate a dataset"
   ]
  },
  {
   "cell_type": "code",
   "execution_count": null,
   "metadata": {
    "collapsed": false
   },
   "outputs": [],
   "source": [
    "# C_g is the array for centroids\n",
    "# \n",
    "M_g = 3\n",
    "np.random.seed(3)\n",
    "\n"
   ]
  },
  {
   "cell_type": "code",
   "execution_count": null,
   "metadata": {
    "collapsed": false
   },
   "outputs": [],
   "source": [
    "theta_deg = np.arange(0.0,181.0,10.0)\n",
    "theta_rad = theta_deg*(np.pi/180.0)\n",
    "C_g = np.zeros((len(theta_deg),2))\n",
    "C_g[:,0]=np.cos(theta_rad)/2.5+0.5\n",
    "C_g[:,1]=np.sin(theta_rad)/1.5+0.25\n",
    "\n",
    "plt.figure()\n",
    "plt.plot(C_g[:,0],C_g[:,1],'o')\n",
    "plt.show"
   ]
  },
  {
   "cell_type": "code",
   "execution_count": null,
   "metadata": {
    "collapsed": false
   },
   "outputs": [],
   "source": [
    "# Generate data set ( M=3, centroid, constant sigma)\n",
    "#\n",
    "sigma=0.04\n",
    "number=20\n",
    "number0=200\n",
    "#\n",
    "# storing the centroid index (note this may not correspond to teh same number from the k-means algorithm)\n",
    "#X1=np.concatenate((1.3*sigma*np.random.randn(number0,2)+C_g[0],np.full((number0,1),0.0)),axis=1)\n",
    "X=np.zeros([number*len(C_g[:,0])+number0,3])\n",
    "for i in range(len(C_g[:,0])):\n",
    "    #print i\n",
    "    X[i*number:(i*number)+number,:]=np.concatenate((sigma*np.random.randn(number,2)+C_g[i],np.full((number,1),1.0)),axis=1)\n",
    "\n",
    "i = len(C_g[:,0])\n",
    "#print sigma*np.random.randn(number0,2)+np.array([0.5,0.5]\n",
    "X[i*number:(i*number)+number0,:]=np.concatenate((sigma*np.random.randn(number0,2)+np.array([0.5,1.2]),np.full((number0,1),2.0)),axis=1)\n",
    "\n",
    "\n",
    "\n",
    "#\n",
    "#X=np.concatenate((X1,X2,X3), axis=0)\n",
    "#X=np.concatenate((X1,X2,X3,X4,X5,X6,X7,X8), axis=0)\n",
    "#np.random.shuffle(X)\n",
    "print X.shape\n",
    "#print X\n",
    "           "
   ]
  },
  {
   "cell_type": "code",
   "execution_count": null,
   "metadata": {
    "collapsed": false
   },
   "outputs": [],
   "source": [
    "# plot data set and centroids\n",
    "plt.figure()\n",
    "col={0:'bo',1:'go', 2:'co'}\n",
    "for i in range(len(X[:,0])):\n",
    "    plt.plot(X[i,0],X[i,1],col[int(X[i,2])])\n",
    "\n",
    "plt.plot(C_g[:,0],C_g[:,1],'ro')\n",
    "plt.axis([0, 1.5, 0, 1.5])\n",
    "plt.show()"
   ]
  },
  {
   "cell_type": "code",
   "execution_count": null,
   "metadata": {
    "collapsed": false
   },
   "outputs": [],
   "source": []
  },
  {
   "cell_type": "code",
   "execution_count": null,
   "metadata": {
    "collapsed": true
   },
   "outputs": [],
   "source": []
  }
 ],
 "metadata": {
  "kernelspec": {
   "display_name": "Python 2",
   "language": "python",
   "name": "python2"
  },
  "language_info": {
   "codemirror_mode": {
    "name": "ipython",
    "version": 2
   },
   "file_extension": ".py",
   "mimetype": "text/x-python",
   "name": "python",
   "nbconvert_exporter": "python",
   "pygments_lexer": "ipython2",
   "version": "2.7.12"
  }
 },
 "nbformat": 4,
 "nbformat_minor": 0
}

