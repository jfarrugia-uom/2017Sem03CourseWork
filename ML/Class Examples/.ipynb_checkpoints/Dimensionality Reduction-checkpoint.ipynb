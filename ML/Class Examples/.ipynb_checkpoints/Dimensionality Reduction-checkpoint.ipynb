{
 "cells": [
  {
   "cell_type": "code",
   "execution_count": null,
   "metadata": {
    "collapsed": true
   },
   "outputs": [],
   "source": []
  },
  {
   "cell_type": "markdown",
   "metadata": {},
   "source": [
    "# Dimensionality reduction and Feature Selection\n"
   ]
  },
  {
   "cell_type": "markdown",
   "metadata": {},
   "source": [
    "We first import three useful libraries\n",
    "1. numpy (matrix algebra):  we use np as a shortcut\n",
    "2. plyplot from matplotlib: useful for plotting charts: we use plt as a shortcut\n",
    "3. sklearn\n",
    "3. use tab and shift+tab for help"
   ]
  },
  {
   "cell_type": "code",
   "execution_count": 1,
   "metadata": {},
   "outputs": [],
   "source": [
    "import numpy as np\n",
    "import matplotlib.pyplot as plt"
   ]
  },
  {
   "cell_type": "code",
   "execution_count": 2,
   "metadata": {
    "collapsed": true
   },
   "outputs": [],
   "source": [
    "# this line plots graphs in line\n",
    "%matplotlib inline"
   ]
  },
  {
   "cell_type": "markdown",
   "metadata": {},
   "source": [
    "# Pearson correlation"
   ]
  },
  {
   "cell_type": "code",
   "execution_count": 3,
   "metadata": {},
   "outputs": [],
   "source": [
    "from scipy.stats import pearsonr"
   ]
  },
  {
   "cell_type": "code",
   "execution_count": 4,
   "metadata": {},
   "outputs": [
    {
     "data": {
      "text/plain": [
       "(0.99962228516121843, 0.017498096813278487)"
      ]
     },
     "execution_count": 4,
     "metadata": {},
     "output_type": "execute_result"
    }
   ],
   "source": [
    "# example 1\n",
    "pearsonr([1,2,3],[1,2,3.1])"
   ]
  },
  {
   "cell_type": "code",
   "execution_count": 5,
   "metadata": {},
   "outputs": [
    {
     "data": {
      "text/plain": [
       "(0.90886906843896254, 0.012078855823236475)"
      ]
     },
     "execution_count": 5,
     "metadata": {},
     "output_type": "execute_result"
    }
   ],
   "source": [
    "#example 2\n",
    "pearsonr([1,2,3,4,5,6],[2,4,10,8,10,12])"
   ]
  },
  {
   "cell_type": "code",
   "execution_count": 6,
   "metadata": {},
   "outputs": [
    {
     "data": {
      "text/plain": [
       "(-1.0, 0.0)"
      ]
     },
     "execution_count": 6,
     "metadata": {},
     "output_type": "execute_result"
    }
   ],
   "source": [
    "#example 3\n",
    "pearsonr([1,2,3,4,5,6],[6,5,4,3,2,1])"
   ]
  },
  {
   "cell_type": "code",
   "execution_count": 8,
   "metadata": {},
   "outputs": [
    {
     "data": {
      "image/png": "[encoded data removed]",
      "text/plain": [
       "<matplotlib.figure.Figure at 0x7ff2644e3450>"
      ]
     },
     "metadata": {},
     "output_type": "display_data"
    },
    {
     "data": {
      "text/plain": [
       "(0.0, 1.0)"
      ]
     },
     "execution_count": 8,
     "metadata": {},
     "output_type": "execute_result"
    }
   ],
   "source": [
    "#example 3\n",
    "plt.plot([1,2,3,4,5,6],[1,2,3,3,2,1],\"-\")\n",
    "plt.show()\n",
    "\n",
    "pearsonr([1,2,3,4,5,6],[1,2,3,3,2,1])\n",
    "#high bias"
   ]
  },
  {
   "cell_type": "markdown",
   "metadata": {},
   "source": [
    "## Generating features that are linearly related"
   ]
  },
  {
   "cell_type": "code",
   "execution_count": 5,
   "metadata": {},
   "outputs": [
    {
     "name": "stdout",
     "output_type": "stream",
     "text": [
      "Pearson Coefficient =  (0.97844049110460873, 6.0620898422190775e-69)\n"
     ]
    },
    {
     "data": {
      "image/png": "[encoded data removed]",
      "text/plain": [
       "<matplotlib.figure.Figure at 0x10d208a10>"
      ]
     },
     "metadata": {},
     "output_type": "display_data"
    }
   ],
   "source": [
    "# we first produce some data whose scatter plot \n",
    "# exhibits a linear relationship\n",
    "# y = mx + c or y = x\n",
    "N=100\n",
    "y_sigma=.25   # variance for y feature\n",
    "x_sigma=np.sqrt(5.0)   # variance for X feature\n",
    "#x = (np.random.rand(N)-0.5)*10\n",
    "x = np.random.randn(N)*x_sigma+5   #Gaussian and shift\n",
    "#x = np.arange(0,10,.02)\n",
    "N=len(x)\n",
    "y = np.copy(x)/2.0+np.random.randn(N)*y_sigma # line equation + gaussian noise\n",
    "print 'Pearson Coefficient = ',pearsonr(x,y) \n",
    "fig, ax = plt.subplots()\n",
    "ax.plot(x, y,'k.')\n",
    "ax.set_xlim((-2,12))\n",
    "ax.set_ylim((-2,7))\n",
    "x0,x1 = ax.get_xlim()\n",
    "y0,y1 = ax.get_ylim()\n",
    "ax.set_aspect(1.0)\n",
    "ax.grid(b=True, which='major', linestyle='--')\n",
    "plt.show()"
   ]
  },
  {
   "cell_type": "code",
   "execution_count": 13,
   "metadata": {},
   "outputs": [
    {
     "name": "stdout",
     "output_type": "stream",
     "text": [
      "Pearson Coefficient =  (0.16235077840488005, 0.10656597697052414)\n"
     ]
    },
    {
     "data": {
      "image/png": "[encoded data removed]",
      "text/plain": [
       "<matplotlib.figure.Figure at 0x7ff2360aea90>"
      ]
     },
     "metadata": {},
     "output_type": "display_data"
    }
   ],
   "source": [
    "N=100\n",
    "y_sigma=5.025   # variance for y feature\n",
    "x_sigma=np.sqrt(5.0)   # variance for X feature\n",
    "#x = (np.random.rand(N)-0.5)*10\n",
    "x = np.random.randn(N)*x_sigma+5   #Gaussian and shift\n",
    "#x = np.arange(0,10,.02)\n",
    "N=len(x)\n",
    "y = np.copy(x)/2.0+np.random.randn(N)*y_sigma # line equation + gaussian noise\n",
    "print 'Pearson Coefficient = ',pearsonr(x,y) \n",
    "fig, ax = plt.subplots()\n",
    "ax.plot(x, y,'k.')\n",
    "ax.set_xlim((-2,12))\n",
    "ax.set_ylim((-2,7))\n",
    "x0,x1 = ax.get_xlim()\n",
    "y0,y1 = ax.get_ylim()\n",
    "ax.set_aspect(1.0)\n",
    "ax.grid(b=True, which='major', linestyle='--')\n",
    "plt.show()"
   ]
  },
  {
   "cell_type": "markdown",
   "metadata": {
    "collapsed": true
   },
   "source": [
    "## generating features that are non-linearly related"
   ]
  },
  {
   "cell_type": "code",
   "execution_count": 17,
   "metadata": {},
   "outputs": [
    {
     "name": "stdout",
     "output_type": "stream",
     "text": [
      "Pearson Coefficient =  (-0.12686040483926056, 0.001848570562034618)\n"
     ]
    },
    {
     "data": {
      "image/png": "[encoded data removed]",
      "text/plain": [
       "<matplotlib.figure.Figure at 0x7ff235f5cb50>"
      ]
     },
     "metadata": {},
     "output_type": "display_data"
    }
   ],
   "source": [
    "# we first produce some data whose scatter plot lies on a curve\n",
    "# for example y = 0.5x^2 + 0.1x + 1.0\n",
    "N=600\n",
    "y_sigma=0.25\n",
    "x = np.random.randn(N)*x_sigma\n",
    "N=len(x)\n",
    "#\n",
    "#y = np.copy((x**2)/2.0 + (0.1*x)) + 1.0 + np.random.randn(N)*y_sigma # quadratic equation + gaussian noise\n",
    "y = (0.5 * x**2) + (0.1*x) + 1 + np.random.randn(N)*y_sigma\n",
    "#\n",
    "print 'Pearson Coefficient = ',pearsonr(x,y) \n",
    "fig, ax = plt.subplots()\n",
    "ax.plot(x, y,'k.')\n",
    "ax.set_xlim((-6,6))\n",
    "ax.set_ylim((0,6))\n",
    "x0,x1 = ax.get_xlim()\n",
    "y0,y1 = ax.get_ylim()\n",
    "ax.set_aspect(1.0)\n",
    "ax.grid(b=True, which='major', linestyle='--')\n",
    "plt.show()"
   ]
  },
  {
   "cell_type": "markdown",
   "metadata": {},
   "source": [
    "# Entropy"
   ]
  },
  {
   "cell_type": "code",
   "execution_count": 38,
   "metadata": {
    "collapsed": true
   },
   "outputs": [],
   "source": [
    "from scipy.stats import entropy\n",
    "from sklearn.metrics import mutual_info_score\n",
    "from sklearn.metrics import normalized_mutual_info_score"
   ]
  },
  {
   "cell_type": "code",
   "execution_count": 39,
   "metadata": {},
   "outputs": [
    {
     "data": {
      "text/plain": [
       "(0.72291586426397214,\n",
       " (array([  2,   5,  24,  69, 119, 146, 137,  72,  21,   5]),\n",
       "  array([-7.78682155, -6.39821937, -5.00961719, -3.621015  , -2.23241282,\n",
       "         -0.84381064,  0.54479154,  1.93339372,  3.32199591,  4.71059809,\n",
       "          6.09920027])))"
      ]
     },
     "execution_count": 39,
     "metadata": {},
     "output_type": "execute_result"
    }
   ],
   "source": [
    "# skip this during lab session (useful for projects)\n",
    "from sklearn.metrics import mutual_info_score\n",
    "from sklearn.metrics import normalized_mutual_info_score\n",
    "\n",
    "def calc_MI(x, y, bins):\n",
    "    prob_xy = np.histogram2d(x, y, bins)\n",
    "    c_xy=prob_xy[0]\n",
    "    Hx = np.histogram(x,bins=prob_xy[1])\n",
    "    Hy = np.histogram(y,bins=prob_xy[2])\n",
    "    mi = mutual_info_score(None, None, contingency=c_xy)\n",
    "    return mi,Hx\n",
    "\n",
    "calc_MI(x,y,10)"
   ]
  },
  {
   "cell_type": "code",
   "execution_count": null,
   "metadata": {
    "collapsed": true
   },
   "outputs": [],
   "source": [
    "# generate dataset with sklearn built in functions\n",
    "# optional exercise at home"
   ]
  },
  {
   "cell_type": "markdown",
   "metadata": {},
   "source": [
    "# Mutual Information"
   ]
  },
  {
   "cell_type": "markdown",
   "metadata": {},
   "source": [
    "### Compute P(X), H(X)\n",
    "### Compute P(Y), H(y)\n",
    "### Compute P(X,Y)"
   ]
  },
  {
   "cell_type": "code",
   "execution_count": 23,
   "metadata": {},
   "outputs": [
    {
     "name": "stdout",
     "output_type": "stream",
     "text": [
      "N = 600\n",
      "D = 10\n"
     ]
    }
   ],
   "source": [
    "#assume x,y\n",
    "print 'N =',N\n",
    "D=np.int(np.sqrt(N/5.0))\n",
    "print 'D =',D\n",
    "#D=20"
   ]
  },
  {
   "cell_type": "code",
   "execution_count": 25,
   "metadata": {},
   "outputs": [
    {
     "name": "stdout",
     "output_type": "stream",
     "text": [
      "[  3   6  25  70 120 147 138  73  22   6]\n",
      "1.0\n",
      "[ 0.00491803  0.00983607  0.04098361  0.1147541   0.19672131  0.24098361\n",
      "  0.22622951  0.11967213  0.03606557  0.00983607]\n"
     ]
    }
   ],
   "source": [
    "# find probability distribution for x\n",
    "fc,bn=np.histogram(x, bins=D)\n",
    "fc+=1 # Laplace's smoothing\n",
    "print fc\n",
    "P_x = fc/np.float((fc.sum()))\n",
    "print np.sum(P_x)\n",
    "print P_x"
   ]
  },
  {
   "cell_type": "code",
   "execution_count": 40,
   "metadata": {},
   "outputs": [
    {
     "name": "stdout",
     "output_type": "stream",
     "text": [
      "[  0.27474289   3.28061229   6.2864817    9.29235111  12.29822051\n",
      "  15.30408992  18.30995932  21.31582873  24.32169813  27.32756754\n",
      "  30.33343694]\n"
     ]
    }
   ],
   "source": [
    "# find probability distribution for y\n",
    "# .....\n",
    "#P_y=.....\n",
    "def prob_XY(_input, _bins, laplace_corrector):\n",
    "    fc,bn=np.histogram(_input, _bins)\n",
    "    fc += laplace_corrector\n",
    "    return fc/np.float((fc.sum())),bn\n",
    "\n",
    "print(prob_XY(y, D, 1)[1])\n",
    "P_y = prob_XY(y, D, 1)[0]"
   ]
  },
  {
   "cell_type": "code",
   "execution_count": 42,
   "metadata": {},
   "outputs": [
    {
     "name": "stdout",
     "output_type": "stream",
     "text": [
      "H_x= 2.69686146024\n",
      "H_y= 1.5438757176\n"
     ]
    }
   ],
   "source": [
    "# compute entropy for x and y\n",
    "H_x = entropy(P_x,base=2)\n",
    "print 'H_x=',H_x\n",
    "H_y = entropy(P_y, base=2)\n",
    "print 'H_y=',H_y"
   ]
  },
  {
   "cell_type": "code",
   "execution_count": 43,
   "metadata": {},
   "outputs": [
    {
     "name": "stdout",
     "output_type": "stream",
     "text": [
      "[[ 0.00142857  0.00142857  0.00142857  0.00142857  0.00142857  0.00142857\n",
      "   0.00142857  0.00285714  0.00142857  0.00285714]\n",
      " [ 0.00142857  0.00142857  0.00142857  0.00142857  0.00428571  0.00428571\n",
      "   0.00285714  0.00142857  0.00142857  0.00142857]\n",
      " [ 0.00142857  0.00142857  0.01        0.02428571  0.00428571  0.00142857\n",
      "   0.00142857  0.00142857  0.00142857  0.00142857]\n",
      " [ 0.00571429  0.07714286  0.02        0.00142857  0.00142857  0.00142857\n",
      "   0.00142857  0.00142857  0.00142857  0.00142857]\n",
      " [ 0.16571429  0.00714286  0.00142857  0.00142857  0.00142857  0.00142857\n",
      "   0.00142857  0.00142857  0.00142857  0.00142857]\n",
      " [ 0.21        0.00142857  0.00142857  0.00142857  0.00142857  0.00142857\n",
      "   0.00142857  0.00142857  0.00142857  0.00142857]\n",
      " [ 0.19428571  0.00428571  0.00142857  0.00142857  0.00142857  0.00142857\n",
      "   0.00142857  0.00142857  0.00142857  0.00142857]\n",
      " [ 0.01285714  0.07857143  0.01571429  0.00142857  0.00142857  0.00142857\n",
      "   0.00142857  0.00142857  0.00142857  0.00142857]\n",
      " [ 0.00142857  0.00142857  0.01571429  0.01428571  0.00428571  0.00142857\n",
      "   0.00142857  0.00142857  0.00142857  0.00142857]\n",
      " [ 0.00142857  0.00142857  0.00142857  0.00142857  0.00571429  0.00285714\n",
      "   0.00285714  0.00142857  0.00142857  0.00142857]]\n"
     ]
    }
   ],
   "source": [
    "#\n",
    "# Computer joint distribution for x and y; P_xy\n",
    "#hist_xy=np.histogram2d(x, y, bins=[D,D])\n",
    "#P_xy = hist_xy[0] / np.float(hist_xy[0].sum())\n",
    "fc,bn1,bn2=np.histogram2d(x, y, bins=[D,D])\n",
    "#add laplace smoothing\n",
    "fc += 1\n",
    "P_xy = fc / np.float(fc.sum())\n",
    "\n",
    "print P_xy\n",
    "#print P_xy[2,:]\n",
    "#print np.sum(P_xy,axis=0)\n",
    "#print P_xy[3,2]\n"
   ]
  },
  {
   "cell_type": "code",
   "execution_count": 54,
   "metadata": {},
   "outputs": [
    {
     "name": "stdout",
     "output_type": "stream",
     "text": [
      "m = 10, n = 10\n",
      "I_xy =  0.957474241034\n",
      "I_xyN =  0.225780141726\n"
     ]
    }
   ],
   "source": [
    "# for log\n",
    "import math\n",
    "\n",
    "# Compute Mutual Information and normalise\n",
    "m=D\n",
    "n=D\n",
    "print (\"m = %d, n = %d\" % (m,n))\n",
    "I_xy=0.0\n",
    "for i in range(m):\n",
    "    for j in range(n):\n",
    "        I_xy += P_xy[i,j] * math.log(P_xy[i,j] / (P_x[i] * P_y[j]) ,2)\n",
    "\n",
    "print 'I_xy = ', I_xy\n",
    "# we now normalize the mutual information\n",
    "I_xyN= I_xy/(H_x  + H_y)\n",
    "print 'I_xyN = ', I_xyN"
   ]
  },
  {
   "cell_type": "markdown",
   "metadata": {},
   "source": [
    "### Vector Algebra primer "
   ]
  },
  {
   "cell_type": "code",
   "execution_count": 20,
   "metadata": {
    "scrolled": true
   },
   "outputs": [
    {
     "data": {
      "image/png": "[encoded data removed]",
      "text/plain": [
       "<matplotlib.figure.Figure at 0x7ff236039750>"
      ]
     },
     "metadata": {},
     "output_type": "display_data"
    }
   ],
   "source": [
    "# generate 10 numbers guassian distributed, sigma=1\n",
    "sigma=0.3450  #standard deviation\n",
    "np.random.seed(1)\n",
    "X1=np.random.randn(10000)*sigma\n",
    "# generate histogram\n",
    "#x_bin=np.arange(-4.0*sigma,3.5*sigma,sigma/3.0)+sigma/2.0\n",
    "h,b=np.histogram(X1,bins=x_bin)\n",
    "#h,b=np.histogram(X1)\n",
    "#print h,b\n",
    "plt.bar(b[:-1],h,width=sigma/4.0)\n",
    "plt.show()\n",
    "#print x_bin"
   ]
  },
  {
   "cell_type": "code",
   "execution_count": 71,
   "metadata": {},
   "outputs": [
    {
     "name": "stdout",
     "output_type": "stream",
     "text": [
      "Mean= 0.00337156656119\n",
      "variance =  0.118736145554\n",
      "standard deviation =  0.344581116072\n"
     ]
    }
   ],
   "source": [
    "# calculate mean and sigma\n",
    "print 'Mean=',np.mean(X1)\n",
    "print 'variance = ',np.std(X1)**2.0\n",
    "print 'standard deviation = ',np.std(X1)"
   ]
  },
  {
   "cell_type": "code",
   "execution_count": 72,
   "metadata": {},
   "outputs": [
    {
     "name": "stdout",
     "output_type": "stream",
     "text": [
      "Mean= 0.00112914225612\n",
      "variance =  0.11860792853\n",
      "standard deviation =  0.344395018155\n",
      "variance =  0.11860792853\n"
     ]
    }
   ],
   "source": [
    "X2=np.random.normal(loc=0.0,scale=0.345,size=100000)  # scale is standard deviation\n",
    "print 'Mean=',np.mean(X2)\n",
    "print 'variance = ',np.std(X2)**2.0\n",
    "print 'standard deviation = ',np.std(X2)\n",
    "print 'variance = ',np.var(X2)"
   ]
  },
  {
   "cell_type": "markdown",
   "metadata": {},
   "source": [
    "### Co-Variance"
   ]
  },
  {
   "cell_type": "code",
   "execution_count": 73,
   "metadata": {},
   "outputs": [
    {
     "name": "stdout",
     "output_type": "stream",
     "text": [
      "co-variance = \n",
      "[[ 5.11577291  5.14605978]\n",
      " [ 5.14605978  6.24250223]]\n"
     ]
    },
    {
     "data": {
      "image/png": "[encoded data removed]",
      "text/plain": [
       "<matplotlib.figure.Figure at 0x110a1c450>"
      ]
     },
     "metadata": {},
     "output_type": "display_data"
    }
   ],
   "source": [
    "# we first produce some data whose scatter plot lies on a straight line +ve\n",
    "# y = mx + c or y = x\n",
    "N=500\n",
    "y_sigma=1.0\n",
    "x_sigma=np.sqrt(5.0)\n",
    "#x = (np.random.rand(N)-0.5)*10\n",
    "x = np.random.randn(N)*x_sigma\n",
    "y = np.copy(x)+np.random.randn(N)*y_sigma\n",
    "print 'co-variance = '\n",
    "print np.cov(x,y) \n",
    "fig, ax = plt.subplots()\n",
    "ax.plot(x, y,'k.')\n",
    "ax.set_xlim((-10,10))\n",
    "ax.set_ylim((-10,10))\n",
    "x0,x1 = ax.get_xlim()\n",
    "y0,y1 = ax.get_ylim()\n",
    "ax.set_aspect(1.0)\n",
    "ax.grid(b=True, which='major', linestyle='--')\n",
    "plt.show()"
   ]
  },
  {
   "cell_type": "code",
   "execution_count": 74,
   "metadata": {},
   "outputs": [
    {
     "name": "stdout",
     "output_type": "stream",
     "text": [
      "co-variance = \n",
      "[[ 4.86661582 -4.82600369]\n",
      " [-4.82600369  5.74920155]]\n"
     ]
    },
    {
     "data": {
      "image/png": "[encoded data removed]",
      "text/plain": [
       "<matplotlib.figure.Figure at 0x1110d6b50>"
      ]
     },
     "metadata": {},
     "output_type": "display_data"
    }
   ],
   "source": [
    "# we first produce some data whose scatter plot lies on a straight line -ve\n",
    "# y = mx + c or y = -x\n",
    "N=500\n",
    "y_sigma=1.0\n",
    "x_sigma=np.sqrt(5.0)\n",
    "x = np.random.randn(N)*x_sigma\n",
    "y = ....\n",
    "print 'co-variance = '\n",
    "print np.cov(x,y) \n",
    "fig, ax = plt.subplots()\n",
    "ax.plot(x, y,'k.')\n",
    "ax.set_xlim((-10,10))\n",
    "ax.set_ylim((-10,10))\n",
    "x0,x1 = ax.get_xlim()\n",
    "y0,y1 = ax.get_ylim()\n",
    "ax.set_aspect(1.0)\n",
    "ax.grid(b=True, which='major', linestyle='--')\n",
    "plt.show()"
   ]
  },
  {
   "cell_type": "code",
   "execution_count": 75,
   "metadata": {},
   "outputs": [
    {
     "name": "stdout",
     "output_type": "stream",
     "text": [
      "co-variance = \n",
      "[[ 5.34834065 -0.07278307]\n",
      " [-0.07278307  1.05048647]]\n"
     ]
    },
    {
     "data": {
      "image/png": "[encoded data removed]",
      "text/plain": [
       "<matplotlib.figure.Figure at 0x1111cdfd0>"
      ]
     },
     "metadata": {},
     "output_type": "display_data"
    }
   ],
   "source": [
    "# we first produce some data whose scatter plot lies on a straight line\n",
    "# y = mx + c or y = -x\n",
    "N=500\n",
    "y_sigma=1.0\n",
    "x_sigma=np.sqrt(5.0)\n",
    "x = np.random.randn(N)*x_sigma\n",
    "y = np.random.randn(N)*y_sigma\n",
    "print 'co-variance = '\n",
    "print np.cov(x,y) \n",
    "fig, ax = plt.subplots()\n",
    "ax.plot(x, y,'k.')\n",
    "ax.set_xlim((-10,10))\n",
    "ax.set_ylim((-10,10))\n",
    "x0,x1 = ax.get_xlim()\n",
    "y0,y1 = ax.get_ylim()\n",
    "ax.set_aspect(1.0)\n",
    "ax.grid(b=True, which='major', linestyle='--')\n",
    "plt.show()\n"
   ]
  },
  {
   "cell_type": "code",
   "execution_count": 76,
   "metadata": {},
   "outputs": [
    {
     "name": "stdout",
     "output_type": "stream",
     "text": [
      "co-variance = \n",
      "[[ 0.87801123 -0.00704813]\n",
      " [-0.00704813  5.62053554]]\n"
     ]
    },
    {
     "data": {
      "image/png": "[encoded data removed]",
      "text/plain": [
       "<matplotlib.figure.Figure at 0x1109bf050>"
      ]
     },
     "metadata": {},
     "output_type": "display_data"
    }
   ],
   "source": [
    "# we first produce some data whose scatter plot lies on a straight line\n",
    "# y = mx + c or y = -x\n",
    "N=500\n",
    "x_sigma=1.0\n",
    "y_sigma=np.sqrt(5.0)\n",
    "x = np.random.randn(N)*x_sigma\n",
    "y = np.random.randn(N)*y_sigma\n",
    "print 'co-variance = '\n",
    "print np.cov(x,y) \n",
    "#\n",
    "fig, ax = plt.subplots()\n",
    "#colors = ['k']*len(x)\n",
    "ax.plot(x, y,'k.')\n",
    "ax.set_xlim((-10,10))\n",
    "ax.set_ylim((-10,10))\n",
    "x0,x1 = ax.get_xlim()\n",
    "y0,y1 = ax.get_ylim()\n",
    "ax.set_aspect(1.0)\n",
    "#ax.grid(b=True, which='major', color='k', linestyle='--')\n",
    "ax.grid(b=True, which='major', linestyle='--')\n",
    "#fig.savefig('cov.png', dpi=600)\n",
    "plt.show()\n",
    "#plt.close(fig)"
   ]
  },
  {
   "cell_type": "markdown",
   "metadata": {},
   "source": [
    "## example for covariance on a dataset"
   ]
  },
  {
   "cell_type": "code",
   "execution_count": null,
   "metadata": {
    "collapsed": true
   },
   "outputs": [],
   "source": []
  },
  {
   "cell_type": "markdown",
   "metadata": {},
   "source": [
    "## Transformation matrix"
   ]
  },
  {
   "cell_type": "code",
   "execution_count": 77,
   "metadata": {},
   "outputs": [
    {
     "name": "stdout",
     "output_type": "stream",
     "text": [
      "A=\n",
      "[[ 3  0]\n",
      " [ 8 -1]]\n",
      "(1, 2)\n",
      "y= [[1 5]]\n",
      "y'= [[3 3]]\n",
      "x'= [[3 8]]\n",
      "x'= [[3 6]]\n"
     ]
    }
   ],
   "source": [
    "#Example\n",
    "A=np.matrix('3 0,; 8 -1')\n",
    "y=np.matrix('1 5')\n",
    "x=np.matrix('1 0')\n",
    "\n",
    "print 'A=\\n',A\n",
    "print y.shape\n",
    "print 'y=',y\n",
    "print 'y\\'=',np.transpose(A*np.transpose(y))\n",
    "print 'x\\'=',np.transpose(A*np.transpose(x))\n",
    "x=np.matrix('1 2')\n",
    "print 'x\\'=',np.transpose(A*np.transpose(x))\n",
    "\n",
    "\n",
    "\n",
    "\n"
   ]
  },
  {
   "cell_type": "markdown",
   "metadata": {},
   "source": [
    "## Eigen Vectors"
   ]
  },
  {
   "cell_type": "code",
   "execution_count": 55,
   "metadata": {},
   "outputs": [
    {
     "name": "stdout",
     "output_type": "stream",
     "text": [
      "[[2 3]\n",
      " [2 1]]\n",
      "eigen values =  [ 4. -1.]\n",
      "eigen vectors = \n",
      "[[ 0.83205029 -0.70710678]\n",
      " [ 0.5547002   0.70710678]]\n"
     ]
    }
   ],
   "source": [
    "A=np.matrix('2 3; 2 1')\n",
    "print A\n",
    "print 'eigen values = ',np.linalg.eigvals(A)\n",
    "print 'eigen vectors = '\n",
    "print np.linalg.eig(A)[1]"
   ]
  },
  {
   "cell_type": "markdown",
   "metadata": {},
   "source": [
    "# PCA"
   ]
  },
  {
   "cell_type": "code",
   "execution_count": 56,
   "metadata": {},
   "outputs": [
    {
     "name": "stdout",
     "output_type": "stream",
     "text": [
      "Var(x) =  5.75744577275\n",
      "Var(y) =  8.47755355692\n",
      "co-variance = \n",
      "[[ 5.76898374  5.51014721]\n",
      " [ 5.51014721  8.49454264]]\n"
     ]
    },
    {
     "data": {
      "image/png": "[encoded data removed]",
      "text/plain": [
       "<matplotlib.figure.Figure at 0x7ff235c7a310>"
      ]
     },
     "metadata": {},
     "output_type": "display_data"
    }
   ],
   "source": [
    "# we first produce some data whose scatter plot lies on a straight line\n",
    "# y = mx + c or y = x\n",
    "N=500\n",
    "y_sigma=1.8\n",
    "x_sigma=np.sqrt(6.0)\n",
    "x = np.random.randn(N)*x_sigma\n",
    "y = np.copy(x)+np.random.randn(N)*y_sigma\n",
    "print \"Var(x) = \",np.var(x)\n",
    "print \"Var(y) = \",np.var(y)\n",
    "print 'co-variance = '\n",
    "print np.cov(x,y) \n",
    "fig, ax = plt.subplots()\n",
    "ax.plot(x, y,'k.')\n",
    "ax.set_xlim((-10,10))\n",
    "ax.set_ylim((-10,10))\n",
    "x0,x1 = ax.get_xlim()\n",
    "y0,y1 = ax.get_ylim()\n",
    "ax.set_aspect(1.0)\n",
    "ax.grid(b=True, which='major', linestyle='--')\n",
    "plt.show()"
   ]
  },
  {
   "cell_type": "code",
   "execution_count": 58,
   "metadata": {},
   "outputs": [
    {
     "name": "stdout",
     "output_type": "stream",
     "text": [
      "shape= (500, 2)\n"
     ]
    },
    {
     "data": {
      "text/plain": [
       "matrix([[ 5.79053424,  5.52708577],\n",
       "        [ 5.52708577,  8.50785624]])"
      ]
     },
     "execution_count": 58,
     "metadata": {},
     "output_type": "execute_result"
    }
   ],
   "source": [
    "X=np.zeros([N,2])\n",
    "X[:,0]=np.copy(x)\n",
    "X[:,1]=np.copy(y)\n",
    "print 'shape=',X.shape\n",
    "XX=np.matrix(X)\n",
    "np.transpose(XX)*XX/(N-1)"
   ]
  },
  {
   "cell_type": "code",
   "execution_count": 59,
   "metadata": {},
   "outputs": [
    {
     "name": "stdout",
     "output_type": "stream",
     "text": [
      "(500, 2)\n",
      "(2, 500)\n",
      "(2, 2)\n",
      "[[ 5.79053424  5.52708577]\n",
      " [ 5.52708577  8.50785624]]\n",
      "[[ 5.79053424  5.52708577]\n",
      " [ 5.52708577  8.50785624]]\n"
     ]
    }
   ],
   "source": [
    "print XX.shape\n",
    "XXX=XX.T\n",
    "print XXX.shape\n",
    "C=XX.T*XX/(N-1)\n",
    "C.shape\n",
    "CC=XXX*XXX.T/(N-1)\n",
    "print CC.shape\n",
    "print C\n",
    "print CC"
   ]
  },
  {
   "cell_type": "markdown",
   "metadata": {},
   "source": [
    "# PCA from Richert & Coelho (sklearn)"
   ]
  },
  {
   "cell_type": "code",
   "execution_count": 82,
   "metadata": {
    "collapsed": true
   },
   "outputs": [],
   "source": [
    "x1 = np.arange(0,10,.2)\n",
    "x2 = x1 + np.random.normal(loc=0.0, scale=1.0, size=len(x1))\n",
    "X=np.c_[(x1,x2)]\n",
    "good=(x1>5) | (x2>5)  # some arbitrary classes\n",
    "bad = ~good # to make the example look good"
   ]
  },
  {
   "cell_type": "code",
   "execution_count": 66,
   "metadata": {},
   "outputs": [],
   "source": [
    "from sklearn import linear_model, decomposition, datasets\n",
    "pca = decomposition.PCA(n_components=2)"
   ]
  },
  {
   "cell_type": "code",
   "execution_count": 84,
   "metadata": {},
   "outputs": [
    {
     "name": "stdout",
     "output_type": "stream",
     "text": [
      "[ 0.98279089  0.01720911]\n",
      "[[ 8.33        7.97177575]\n",
      " [ 7.97177575  8.18256622]]\n",
      "[ 16.22839969   0.28416653]\n",
      "[[ 0.71036851  0.70382994]\n",
      " [-0.70382994  0.71036851]]\n"
     ]
    }
   ],
   "source": [
    "Xtrans = pca.fit_transform(X)\n",
    "print pca.explained_variance_ratio_\n",
    "print pca.get_covariance()\n",
    "print pca.explained_variance_\n",
    "print pca.components_"
   ]
  },
  {
   "cell_type": "code",
   "execution_count": 85,
   "metadata": {},
   "outputs": [
    {
     "data": {
      "text/plain": [
       "17.57"
      ]
     },
     "execution_count": 85,
     "metadata": {},
     "output_type": "execute_result"
    }
   ],
   "source": [
    "(8.33+9.24)"
   ]
  },
  {
   "cell_type": "code",
   "execution_count": 87,
   "metadata": {},
   "outputs": [
    {
     "data": {
      "image/png": "[encoded data removed]",
      "text/plain": [
       "<matplotlib.figure.Figure at 0x1109da410>"
      ]
     },
     "metadata": {},
     "output_type": "display_data"
    }
   ],
   "source": [
    "# plot features original\n",
    "fig, ax = plt.subplots()\n",
    "for i in range(len(good)):\n",
    "    if good[i]:\n",
    "        ax.plot(X[i,0], X[i,1],c='r',marker='o')\n",
    "    else:\n",
    "        ax.plot(X[i,0], X[i,1],c='b',marker='o')\n",
    "ax.set_xlim((-2,12))\n",
    "ax.set_ylim((-2,14))\n",
    "x0,x1 = ax.get_xlim()\n",
    "y0,y1 = ax.get_ylim()\n",
    "ax.set_aspect(abs(x1-x0)/abs(y1-y0))\n",
    "ax.grid(b=True, which='major', linestyle='--')\n",
    "plt.show()"
   ]
  },
  {
   "cell_type": "code",
   "execution_count": 88,
   "metadata": {},
   "outputs": [
    {
     "data": {
      "image/png": "[encoded data removed]",
      "text/plain": [
       "<matplotlib.figure.Figure at 0x110070950>"
      ]
     },
     "metadata": {},
     "output_type": "display_data"
    }
   ],
   "source": [
    "# plot features transformed\n",
    "fig, ax = plt.subplots()\n",
    "for i in range(len(good)):\n",
    "    if good[i]:\n",
    "        ax.plot(Xtrans[i,0], 0,c='r',marker='o')\n",
    "    else:\n",
    "        ax.plot(Xtrans[i,0], 0,c='b',marker='o')\n",
    "ax.set_xlim((-10,10))\n",
    "ax.set_ylim((-2,2))\n",
    "x0,x1 = ax.get_xlim()\n",
    "y0,y1 = ax.get_ylim()\n",
    "ax.set_aspect(abs(x1-x0)/abs(y1-y0))\n",
    "ax.grid(b=True, which='major', linestyle='--')\n",
    "plt.show()"
   ]
  },
  {
   "cell_type": "markdown",
   "metadata": {},
   "source": [
    "# manual pca"
   ]
  },
  {
   "cell_type": "markdown",
   "metadata": {},
   "source": [
    "1. Let d = feature dimensionality\n",
    "2. Let N= number of examples in dataset\n",
    "3. Organise data as a centred matrix X=[N,d], where N=#rows, d=#col\n",
    "4. We want to reduce dimensionality to k.\n",
    "5. After reduction we end up with a dataset X' = [N,k], where k<=p\n",
    "6. We carry out the following:\n",
    "7. Compute the covariance matrix M=X'X. This is a [d,d] matrix.\n",
    "8. Compute the eigenvalues and eigenvectors. ev is a [d,d] matrix\n",
    "9. Choose the first k largest eigenvalues, i.e [k,d] matrix\n",
    "10. Project the data onto the eigenvectors, i.e [N,k] matrix"
   ]
  },
  {
   "cell_type": "code",
   "execution_count": 60,
   "metadata": {},
   "outputs": [
    {
     "data": {
      "image/png": "[encoded data removed]",
      "text/plain": [
       "<matplotlib.figure.Figure at 0x7ff235cd5310>"
      ]
     },
     "metadata": {},
     "output_type": "display_data"
    }
   ],
   "source": [
    "# Generate data set [from Richert & Coelho]\n",
    "np.random.seed(0)\n",
    "x1 = np.arange(0,10,.2)\n",
    "x2 = x1 + np.random.normal(loc=0.0, scale=1.0, size=len(x1))\n",
    "X=np.matrix(np.c_[(x1,x2)])\n",
    "good=(x1>5) | (x2>5)  # some arbitrary classes\n",
    "bad = ~good # to make the example look good\n",
    "#\n",
    "#Plot dataset using original (d) features\n",
    "fig, ax = plt.subplots()\n",
    "for i in range(len(good)):\n",
    "    if good[i]:\n",
    "        ax.plot(X[i,0], X[i,1],c='r',marker='o')\n",
    "    else:\n",
    "        ax.plot(X[i,0], X[i,1],c='b',marker='o')\n",
    "ax.set_xlim((-2,12))\n",
    "ax.set_ylim((-2,14))\n",
    "x0,x1 = ax.get_xlim()\n",
    "y0,y1 = ax.get_ylim()\n",
    "ax.set_aspect(abs(x1-x0)/abs(y1-y0))\n",
    "ax.grid(b=True, which='major', linestyle='--')\n",
    "plt.show()"
   ]
  },
  {
   "cell_type": "code",
   "execution_count": 62,
   "metadata": {},
   "outputs": [
    {
     "name": "stdout",
     "output_type": "stream",
     "text": [
      "shape of datatset matrix =  (50, 2)\n",
      "N = 50\n",
      "d = 2\n",
      "mean_X = [[ 4.9         5.04055927]]\n",
      "First few examples from dataset:\n"
     ]
    },
    {
     "data": {
      "image/png": "[encoded data removed]",
      "text/plain": [
       "<matplotlib.figure.Figure at 0x7ff236280f10>"
      ]
     },
     "metadata": {},
     "output_type": "display_data"
    }
   ],
   "source": [
    "# Organise data as a centred matrix X=[N,p], where N=#rows, p=#col\n",
    "#\n",
    "print 'shape of datatset matrix = ',X.shape \n",
    "N,d = X.shape\n",
    "print 'N =',N\n",
    "print 'd =',d\n",
    "mean_X = np.mean(X, axis=0)\n",
    "print 'mean_X =',mean_X\n",
    "#subtract mean\n",
    "\n",
    "X = X - mean_X\n",
    "print 'First few examples from dataset:'\n",
    "X[0:5,:]\n",
    "#\n",
    "#Plot dataset using original (d) centred features\n",
    "fig, ax = plt.subplots()\n",
    "for i in range(len(good)):\n",
    "    if good[i]:\n",
    "        ax.plot(X[i,0], X[i,1],c='r',marker='o')\n",
    "    else:\n",
    "        ax.plot(X[i,0], X[i,1],c='b',marker='o')\n",
    "ax.set_xlim((-8,8))\n",
    "ax.set_ylim((-8,8))\n",
    "x0,x1 = ax.get_xlim()\n",
    "y0,y1 = ax.get_ylim()\n",
    "ax.set_aspect(abs(x1-x0)/abs(y1-y0))\n",
    "ax.grid(b=True, which='major', linestyle='--')\n",
    "plt.show()"
   ]
  },
  {
   "cell_type": "code",
   "execution_count": 63,
   "metadata": {},
   "outputs": [
    {
     "name": "stdout",
     "output_type": "stream",
     "text": [
      "[[ 8.5         7.27563355]\n",
      " [ 7.27563355  7.34392205]]\n",
      "[[ 8.5         7.27563355]\n",
      " [ 7.27563355  7.34392205]]\n",
      "M trace = 15.8439220476\n"
     ]
    }
   ],
   "source": [
    "# Compute the covariance matrix M=X'X. This is a [d,d] matrix.\n",
    "#\n",
    "# using built in function:\n",
    "print np.cov(X.T)\n",
    "# Using matrix operations\n",
    "M=np.cov(X.T)\n",
    "print M\n",
    "#compute trace\n",
    "print 'M trace =',M.trace()"
   ]
  },
  {
   "cell_type": "code",
   "execution_count": 64,
   "metadata": {},
   "outputs": [
    {
     "name": "stdout",
     "output_type": "stream",
     "text": [
      "[[-0.73457438 -0.67852817]\n",
      " [-0.67852817  0.73457438]]\n",
      "[ 15.22052065   0.6234014 ]\n",
      "[ 0.96065359  0.03934641]\n"
     ]
    }
   ],
   "source": [
    "#we can use single value decomposition to compite eigen values\n",
    "U,S,V = np.linalg.svd(M)\n",
    "# U :\n",
    "# S : Variance\n",
    "# V : Eigen vectors\n",
    "print V\n",
    "print S\n",
    "print S/np.sum(S)"
   ]
  },
  {
   "cell_type": "code",
   "execution_count": 67,
   "metadata": {},
   "outputs": [
    {
     "name": "stdout",
     "output_type": "stream",
     "text": [
      "[ 0.96065359  0.03934641]\n",
      "[[ 8.5         7.27563355]\n",
      " [ 7.27563355  7.34392205]]\n",
      "[ 15.22052065   0.6234014 ]\n",
      "[[ 0.73457438  0.67852817]\n",
      " [ 0.67852817 -0.73457438]]\n"
     ]
    }
   ],
   "source": [
    "# This is for comparison only\n",
    "Xtr = pca.fit_transform(X)\n",
    "print pca.explained_variance_ratio_\n",
    "print pca.get_covariance()\n",
    "print pca.explained_variance_\n",
    "print pca.components_"
   ]
  },
  {
   "cell_type": "code",
   "execution_count": 69,
   "metadata": {},
   "outputs": [
    {
     "name": "stdout",
     "output_type": "stream",
     "text": [
      "Eigenvalues = \n",
      "[ 15.22052065   0.6234014 ]\n",
      " e sum =  15.8439220476\n",
      "Eigenvectors = \n",
      "[[-0.73457438 -0.67852817]\n",
      " [ 0.67852817 -0.73457438]]\n",
      "[-0.49842941  0.49842941]\n"
     ]
    }
   ],
   "source": [
    "# Compute the eigenvalues and eigenvectors. ev is a [d,d] matrix\n",
    "# e : eigenvalues [d]\n",
    "# ev : egenvectors [d,d]\n",
    "e, EV= np.linalg.eigh(M)\n",
    "# reverse order of arrays, since we want maxium on top\n",
    "e=e[::-1]\n",
    "EV=EV[::-1]\n",
    "print 'Eigenvalues = '\n",
    "print e\n",
    "print ' e sum = ',e.sum()\n",
    "print 'Eigenvectors = '\n",
    "print EV\n",
    "# check that eigenvectors are uncorrelated\n",
    "# dot product is zero\n",
    "#np.dot(EV[0],EV[1].T)\n",
    "print EV[0]*EV[1].T"
   ]
  },
  {
   "cell_type": "code",
   "execution_count": 70,
   "metadata": {},
   "outputs": [
    {
     "name": "stdout",
     "output_type": "stream",
     "text": [
      "[-0.73457438 -0.67852817]\n"
     ]
    }
   ],
   "source": [
    "# Choose the first k largest eigenvalues, i.e [k,d] matrix\n",
    "# we will choose the .......\n",
    "V=EV[0,]\n",
    "#print the chosen eigen vector\n",
    "print V"
   ]
  },
  {
   "cell_type": "code",
   "execution_count": 95,
   "metadata": {},
   "outputs": [
    {
     "name": "stdout",
     "output_type": "stream",
     "text": [
      "shape of X_new = (50, 1)\n"
     ]
    },
    {
     "data": {
      "image/png": "[encoded data removed]",
      "text/plain": [
       "<matplotlib.figure.Figure at 0x111776ad0>"
      ]
     },
     "metadata": {},
     "output_type": "display_data"
    }
   ],
   "source": [
    "# Project the data onto the eigenvectors, i.e [N,k] matrix\n",
    "# Xt is data projected on eigenvector\n",
    "Xt=......\n",
    "print 'shape of X_new =',Xt.shape \n",
    "# plot features transformed\n",
    "fig, ax = plt.subplots()\n",
    "for i in range(len(good)):\n",
    "    if good[i]:\n",
    "        ax.plot(Xt[i,0], 0,c='r',marker='o')\n",
    "    else:\n",
    "        ax.plot(Xt[i,0], 0,c='b',marker='o')\n",
    "#ax.set_xlim((-2,2))\n",
    "ax.set_xlim((-10,10))\n",
    "ax.set_ylim((-2,2))\n",
    "x0,x1 = ax.get_xlim()\n",
    "y0,y1 = ax.get_ylim()\n",
    "ax.set_aspect(abs(x1-x0)/abs(y1-y0))\n",
    "ax.grid(b=True, which='major', linestyle='--')\n",
    "plt.show()"
   ]
  },
  {
   "cell_type": "markdown",
   "metadata": {},
   "source": [
    "# PCA from Richert & Coelho (sklearn)"
   ]
  },
  {
   "cell_type": "code",
   "execution_count": 96,
   "metadata": {
    "collapsed": true
   },
   "outputs": [],
   "source": [
    "x1 = np.arange(0,10,.2)\n",
    "x2 = x1 + np.random.normal(loc=0.0, scale=1.0, size=len(x1))\n",
    "X=np.c_[(x1,x2)]\n",
    "good=(x1>5) | (x2>5)  # some arbitrary classes\n",
    "bad = ~good # to make the example look good"
   ]
  },
  {
   "cell_type": "code",
   "execution_count": 97,
   "metadata": {
    "collapsed": true
   },
   "outputs": [],
   "source": [
    "from sklearn import linear_model, decomposition, datasets\n",
    "pca = decomposition.PCA(n_components=2)"
   ]
  },
  {
   "cell_type": "code",
   "execution_count": 98,
   "metadata": {},
   "outputs": [
    {
     "name": "stdout",
     "output_type": "stream",
     "text": [
      "[ 0.97952467  0.02047533]\n",
      "[[  8.33         9.09963469]\n",
      " [  9.09963469  10.8236724 ]]\n",
      "[ 18.76149471   0.39217769]\n",
      "[[ 0.65736137  0.75357549]\n",
      " [-0.75357549  0.65736137]]\n"
     ]
    }
   ],
   "source": [
    "Xtrans = .....\n",
    "print pca.explained_variance_ratio_\n",
    "print pca.get_covariance()\n",
    "print pca.explained_variance_\n",
    "print pca.components_"
   ]
  },
  {
   "cell_type": "code",
   "execution_count": 99,
   "metadata": {},
   "outputs": [
    {
     "data": {
      "image/png": "[encoded data removed]",
      "text/plain": [
       "<matplotlib.figure.Figure at 0x1100e4f10>"
      ]
     },
     "metadata": {},
     "output_type": "display_data"
    }
   ],
   "source": [
    "# plot features original\n",
    "fig, ax = plt.subplots()\n",
    "for i in range(len(good)):\n",
    "    if good[i]:\n",
    "        ax.plot(X[i,0], X[i,1],c='r',marker='o')\n",
    "    else:\n",
    "        ax.plot(X[i,0], X[i,1],c='b',marker='o')\n",
    "ax.set_xlim((-2,12))\n",
    "ax.set_ylim((-2,14))\n",
    "x0,x1 = ax.get_xlim()\n",
    "y0,y1 = ax.get_ylim()\n",
    "ax.set_aspect(abs(x1-x0)/abs(y1-y0))\n",
    "ax.grid(b=True, which='major', linestyle='--')\n",
    "plt.show()"
   ]
  },
  {
   "cell_type": "code",
   "execution_count": 100,
   "metadata": {},
   "outputs": [
    {
     "data": {
      "image/png": "[encoded data removed]",
      "text/plain": [
       "<matplotlib.figure.Figure at 0x110a49e90>"
      ]
     },
     "metadata": {},
     "output_type": "display_data"
    }
   ],
   "source": [
    "# plot features transformed\n",
    "fig, ax = plt.subplots()\n",
    "for i in range(len(good)):\n",
    "    if good[i]:\n",
    "        ax.plot(Xtrans[i,0], 0,c='r',marker='o')\n",
    "    else:\n",
    "        ax.plot(Xtrans[i,0], 0,c='b',marker='o')\n",
    "ax.set_xlim((-10,10))\n",
    "ax.set_ylim((-2,2))\n",
    "x0,x1 = ax.get_xlim()\n",
    "y0,y1 = ax.get_ylim()\n",
    "ax.set_aspect(abs(x1-x0)/abs(y1-y0))\n",
    "ax.grid(b=True, which='major', linestyle='--')\n",
    "plt.show()"
   ]
  },
  {
   "cell_type": "markdown",
   "metadata": {},
   "source": [
    "# PCA vs LDA"
   ]
  },
  {
   "cell_type": "code",
   "execution_count": 101,
   "metadata": {
    "collapsed": true
   },
   "outputs": [],
   "source": [
    "x1 = np.arange(0,10,.2)\n",
    "x2 = x1 + np.random.normal(loc=0.0, scale=1.0, size=len(x1))\n",
    "X=np.c_[(x1,x2)]\n",
    "good=(x1>x2)  # some arbitrary classes\n",
    "bad = ~good # to make the example look good"
   ]
  },
  {
   "cell_type": "code",
   "execution_count": 102,
   "metadata": {
    "collapsed": true
   },
   "outputs": [],
   "source": [
    "from sklearn import linear_model, decomposition, datasets\n",
    "pca = decomposition.PCA(n_components=2)"
   ]
  },
  {
   "cell_type": "code",
   "execution_count": 103,
   "metadata": {},
   "outputs": [
    {
     "name": "stdout",
     "output_type": "stream",
     "text": [
      "[ 0.97050158  0.02949842]\n",
      "[[ 8.33        7.7637807 ]\n",
      " [ 7.7637807   8.17192768]]\n",
      "[ 16.01514683   0.48678085]\n",
      "[[ 0.7106967   0.70349855]\n",
      " [ 0.70349855 -0.7106967 ]]\n"
     ]
    }
   ],
   "source": [
    "Xtrans = ....)\n",
    "print pca.explained_variance_ratio_\n",
    "print pca.get_covariance()\n",
    "print pca.explained_variance_\n",
    "print pca.components_"
   ]
  },
  {
   "cell_type": "code",
   "execution_count": 104,
   "metadata": {},
   "outputs": [
    {
     "data": {
      "image/png": "[encoded data removed]",
      "text/plain": [
       "<matplotlib.figure.Figure at 0x110641c10>"
      ]
     },
     "metadata": {},
     "output_type": "display_data"
    }
   ],
   "source": [
    "# plot features original\n",
    "fig, ax = plt.subplots()\n",
    "for i in range(len(good)):\n",
    "    if good[i]:\n",
    "        ax.plot(X[i,0], X[i,1],c='r',marker='o')\n",
    "    else:\n",
    "        ax.plot(X[i,0], X[i,1],c='b',marker='o')\n",
    "ax.set_xlim((-2,12))\n",
    "ax.set_ylim((-2,14))\n",
    "x0,x1 = ax.get_xlim()\n",
    "y0,y1 = ax.get_ylim()\n",
    "ax.set_aspect(abs(x1-x0)/abs(y1-y0))\n",
    "ax.grid(b=True, which='major', linestyle='--')\n",
    "plt.show()"
   ]
  },
  {
   "cell_type": "code",
   "execution_count": 72,
   "metadata": {},
   "outputs": [
    {
     "ename": "NameError",
     "evalue": "name 'Xtrans' is not defined",
     "output_type": "error",
     "traceback": [
      "\u001b[0;31m---------------------------------------------------------------------------\u001b[0m",
      "\u001b[0;31mNameError\u001b[0m                                 Traceback (most recent call last)",
      "\u001b[0;32m<ipython-input-72-3ff89e3067ce>\u001b[0m in \u001b[0;36m<module>\u001b[0;34m()\u001b[0m\n\u001b[1;32m      5\u001b[0m         \u001b[0max\u001b[0m\u001b[0;34m.\u001b[0m\u001b[0mplot\u001b[0m\u001b[0;34m(\u001b[0m\u001b[0mXtrans\u001b[0m\u001b[0;34m[\u001b[0m\u001b[0mi\u001b[0m\u001b[0;34m,\u001b[0m\u001b[0;36m0\u001b[0m\u001b[0;34m]\u001b[0m\u001b[0;34m,\u001b[0m \u001b[0;36m0\u001b[0m\u001b[0;34m,\u001b[0m\u001b[0mc\u001b[0m\u001b[0;34m=\u001b[0m\u001b[0;34m'r'\u001b[0m\u001b[0;34m,\u001b[0m\u001b[0mmarker\u001b[0m\u001b[0;34m=\u001b[0m\u001b[0;34m'o'\u001b[0m\u001b[0;34m)\u001b[0m\u001b[0;34m\u001b[0m\u001b[0m\n\u001b[1;32m      6\u001b[0m     \u001b[0;32melse\u001b[0m\u001b[0;34m:\u001b[0m\u001b[0;34m\u001b[0m\u001b[0m\n\u001b[0;32m----> 7\u001b[0;31m         \u001b[0max\u001b[0m\u001b[0;34m.\u001b[0m\u001b[0mplot\u001b[0m\u001b[0;34m(\u001b[0m\u001b[0mXtrans\u001b[0m\u001b[0;34m[\u001b[0m\u001b[0mi\u001b[0m\u001b[0;34m,\u001b[0m\u001b[0;36m0\u001b[0m\u001b[0;34m]\u001b[0m\u001b[0;34m,\u001b[0m \u001b[0;36m0\u001b[0m\u001b[0;34m,\u001b[0m\u001b[0mc\u001b[0m\u001b[0;34m=\u001b[0m\u001b[0;34m'b'\u001b[0m\u001b[0;34m,\u001b[0m\u001b[0mmarker\u001b[0m\u001b[0;34m=\u001b[0m\u001b[0;34m'o'\u001b[0m\u001b[0;34m)\u001b[0m\u001b[0;34m\u001b[0m\u001b[0m\n\u001b[0m\u001b[1;32m      8\u001b[0m \u001b[0max\u001b[0m\u001b[0;34m.\u001b[0m\u001b[0mset_xlim\u001b[0m\u001b[0;34m(\u001b[0m\u001b[0;34m(\u001b[0m\u001b[0;34m-\u001b[0m\u001b[0;36m10\u001b[0m\u001b[0;34m,\u001b[0m\u001b[0;36m10\u001b[0m\u001b[0;34m)\u001b[0m\u001b[0;34m)\u001b[0m\u001b[0;34m\u001b[0m\u001b[0m\n\u001b[1;32m      9\u001b[0m \u001b[0max\u001b[0m\u001b[0;34m.\u001b[0m\u001b[0mset_ylim\u001b[0m\u001b[0;34m(\u001b[0m\u001b[0;34m(\u001b[0m\u001b[0;34m-\u001b[0m\u001b[0;36m2\u001b[0m\u001b[0;34m,\u001b[0m\u001b[0;36m2\u001b[0m\u001b[0;34m)\u001b[0m\u001b[0;34m)\u001b[0m\u001b[0;34m\u001b[0m\u001b[0m\n",
      "\u001b[0;31mNameError\u001b[0m: name 'Xtrans' is not defined"
     ]
    },
    {
     "data": {
      "image/png": "[encoded data removed]",
      "text/plain": [
       "<matplotlib.figure.Figure at 0x7ff231ae9750>"
      ]
     },
     "metadata": {},
     "output_type": "display_data"
    }
   ],
   "source": [
    "# plot features transformed\n",
    "fig, ax = plt.subplots()\n",
    "for i in range(len(good)):\n",
    "    if good[i]:\n",
    "        ax.plot(Xtrans[i,0], 0,c='r',marker='o')\n",
    "    else:\n",
    "        ax.plot(Xtrans[i,0], 0,c='b',marker='o')\n",
    "ax.set_xlim((-10,10))\n",
    "ax.set_ylim((-2,2))\n",
    "x0,x1 = ax.get_xlim()\n",
    "y0,y1 = ax.get_ylim()\n",
    "ax.set_aspect(abs(x1-x0)/abs(y1-y0))\n",
    "ax.grid(b=True, which='major', linestyle='--')\n",
    "plt.show()"
   ]
  },
  {
   "cell_type": "code",
   "execution_count": 108,
   "metadata": {},
   "outputs": [],
   "source": [
    "from sklearn import discriminant_analysis\n",
    "lda_t=discriminant_analysis.LinearDiscriminantAnalysis(n_components=10)\n",
    "Xtrans = ....."
   ]
  },
  {
   "cell_type": "code",
   "execution_count": 71,
   "metadata": {},
   "outputs": [
    {
     "ename": "NameError",
     "evalue": "name 'Xtrans' is not defined",
     "output_type": "error",
     "traceback": [
      "\u001b[0;31m---------------------------------------------------------------------------\u001b[0m",
      "\u001b[0;31mNameError\u001b[0m                                 Traceback (most recent call last)",
      "\u001b[0;32m<ipython-input-71-3ff89e3067ce>\u001b[0m in \u001b[0;36m<module>\u001b[0;34m()\u001b[0m\n\u001b[1;32m      5\u001b[0m         \u001b[0max\u001b[0m\u001b[0;34m.\u001b[0m\u001b[0mplot\u001b[0m\u001b[0;34m(\u001b[0m\u001b[0mXtrans\u001b[0m\u001b[0;34m[\u001b[0m\u001b[0mi\u001b[0m\u001b[0;34m,\u001b[0m\u001b[0;36m0\u001b[0m\u001b[0;34m]\u001b[0m\u001b[0;34m,\u001b[0m \u001b[0;36m0\u001b[0m\u001b[0;34m,\u001b[0m\u001b[0mc\u001b[0m\u001b[0;34m=\u001b[0m\u001b[0;34m'r'\u001b[0m\u001b[0;34m,\u001b[0m\u001b[0mmarker\u001b[0m\u001b[0;34m=\u001b[0m\u001b[0;34m'o'\u001b[0m\u001b[0;34m)\u001b[0m\u001b[0;34m\u001b[0m\u001b[0m\n\u001b[1;32m      6\u001b[0m     \u001b[0;32melse\u001b[0m\u001b[0;34m:\u001b[0m\u001b[0;34m\u001b[0m\u001b[0m\n\u001b[0;32m----> 7\u001b[0;31m         \u001b[0max\u001b[0m\u001b[0;34m.\u001b[0m\u001b[0mplot\u001b[0m\u001b[0;34m(\u001b[0m\u001b[0mXtrans\u001b[0m\u001b[0;34m[\u001b[0m\u001b[0mi\u001b[0m\u001b[0;34m,\u001b[0m\u001b[0;36m0\u001b[0m\u001b[0;34m]\u001b[0m\u001b[0;34m,\u001b[0m \u001b[0;36m0\u001b[0m\u001b[0;34m,\u001b[0m\u001b[0mc\u001b[0m\u001b[0;34m=\u001b[0m\u001b[0;34m'b'\u001b[0m\u001b[0;34m,\u001b[0m\u001b[0mmarker\u001b[0m\u001b[0;34m=\u001b[0m\u001b[0;34m'o'\u001b[0m\u001b[0;34m)\u001b[0m\u001b[0;34m\u001b[0m\u001b[0m\n\u001b[0m\u001b[1;32m      8\u001b[0m \u001b[0max\u001b[0m\u001b[0;34m.\u001b[0m\u001b[0mset_xlim\u001b[0m\u001b[0;34m(\u001b[0m\u001b[0;34m(\u001b[0m\u001b[0;34m-\u001b[0m\u001b[0;36m10\u001b[0m\u001b[0;34m,\u001b[0m\u001b[0;36m10\u001b[0m\u001b[0;34m)\u001b[0m\u001b[0;34m)\u001b[0m\u001b[0;34m\u001b[0m\u001b[0m\n\u001b[1;32m      9\u001b[0m \u001b[0max\u001b[0m\u001b[0;34m.\u001b[0m\u001b[0mset_ylim\u001b[0m\u001b[0;34m(\u001b[0m\u001b[0;34m(\u001b[0m\u001b[0;34m-\u001b[0m\u001b[0;36m2\u001b[0m\u001b[0;34m,\u001b[0m\u001b[0;36m2\u001b[0m\u001b[0;34m)\u001b[0m\u001b[0;34m)\u001b[0m\u001b[0;34m\u001b[0m\u001b[0m\n",
      "\u001b[0;31mNameError\u001b[0m: name 'Xtrans' is not defined"
     ]
    },
    {
     "data": {
      "image/png": "[encoded data removed]",
      "text/plain": [
       "<matplotlib.figure.Figure at 0x7ff2361d71d0>"
      ]
     },
     "metadata": {},
     "output_type": "display_data"
    }
   ],
   "source": [
    "# plot features transformed\n",
    "fig, ax = plt.subplots()\n",
    "for i in range(len(good)):\n",
    "    if good[i]:\n",
    "        ax.plot(Xtrans[i,0], 0,c='r',marker='o')\n",
    "    else:\n",
    "        ax.plot(Xtrans[i,0], 0,c='b',marker='o')\n",
    "ax.set_xlim((-10,10))\n",
    "ax.set_ylim((-2,2))\n",
    "x0,x1 = ax.get_xlim()\n",
    "y0,y1 = ax.get_ylim()\n",
    "ax.set_aspect(abs(x1-x0)/abs(y1-y0))\n",
    "ax.grid(b=True, which='major', linestyle='--')\n",
    "plt.show()"
   ]
  },
  {
   "cell_type": "markdown",
   "metadata": {},
   "source": [
    "# Feature selection (Wrapper) from sklearn"
   ]
  },
  {
   "cell_type": "code",
   "execution_count": 111,
   "metadata": {
    "collapsed": true
   },
   "outputs": [],
   "source": [
    "from sklearn.feature_selection import RFE\n",
    "from sklearn.linear_model import LogisticRegression\n",
    "from sklearn.datasets import make_classification\n"
   ]
  },
  {
   "cell_type": "code",
   "execution_count": 112,
   "metadata": {},
   "outputs": [
    {
     "name": "stdout",
     "output_type": "stream",
     "text": [
      "[[ 1.04797216  0.28427967  1.74266878  0.10598387 -0.06140967]\n",
      " [-0.03509518  1.26507784  0.21149701 -1.83036528 -1.63277265]\n",
      " [-1.2845523  -0.10434349 -0.98800194  1.71859916  1.00089777]\n",
      " [-0.51423397 -1.01804188 -0.07785476 -0.20133222  2.77695878]\n",
      " [ 1.01184243 -0.65795104  0.46838523 -0.34932837 -2.39634209]]\n"
     ]
    }
   ],
   "source": [
    "X,y = make_classification(n_samples=100, n_features=10, n_informative=3, random_state=0)\n",
    "print X[0:5,0:5]\n"
   ]
  },
  {
   "cell_type": "code",
   "execution_count": 113,
   "metadata": {},
   "outputs": [
    {
     "data": {
      "text/plain": [
       "LogisticRegression(C=1.0, class_weight=None, dual=False, fit_intercept=True,\n",
       "          intercept_scaling=1, max_iter=100, multi_class='ovr', n_jobs=1,\n",
       "          penalty='l2', random_state=None, solver='liblinear', tol=0.0001,\n",
       "          verbose=0, warm_start=False)"
      ]
     },
     "execution_count": 113,
     "metadata": {},
     "output_type": "execute_result"
    }
   ],
   "source": [
    "clf = LogisticRegression()\n",
    "clf.fit(X,y)"
   ]
  },
  {
   "cell_type": "code",
   "execution_count": 114,
   "metadata": {},
   "outputs": [
    {
     "name": "stdout",
     "output_type": "stream",
     "text": [
      "[7 1 4 1 1 3 2 8 6 5]\n"
     ]
    }
   ],
   "source": [
    "selector=RFE(clf, n_features_to_select=10)\n",
    "selector=....\n",
    "#print selector.support_\n",
    "print selector.ranking_"
   ]
  },
  {
   "cell_type": "code",
   "execution_count": 115,
   "metadata": {},
   "outputs": [
    {
     "name": "stdout",
     "output_type": "stream",
     "text": [
      "[ 9  3  6  2  1  5  4 10  8  7]\n",
      "[8 2 5 1 1 4 3 9 7 6]\n",
      "[7 1 4 1 1 3 2 8 6 5]\n"
     ]
    }
   ],
   "source": [
    "selector=RFE(clf, n_features_to_select=1)\n",
    "selector=....\n",
    "#print selector.support_\n",
    "print selector.ranking_\n",
    "selector=RFE(clf, n_features_to_select=2)\n",
    "selector=...\n",
    "#print selector.support_\n",
    "print selector.ranking_\n",
    "selector=RFE(clf, n_features_to_select=3)\n",
    "selector=...\n",
    "#print selector.support_\n",
    "print selector.ranking_"
   ]
  },
  {
   "cell_type": "code",
   "execution_count": null,
   "metadata": {
    "collapsed": true
   },
   "outputs": [],
   "source": []
  }
 ],
 "metadata": {
  "kernelspec": {
   "display_name": "Python 2",
   "language": "python",
   "name": "python2"
  },
  "language_info": {
   "codemirror_mode": {
    "name": "ipython",
    "version": 2
   },
   "file_extension": ".py",
   "mimetype": "text/x-python",
   "name": "python",
   "nbconvert_exporter": "python",
   "pygments_lexer": "ipython2",
   "version": "2.7.12"
  }
 },
 "nbformat": 4,
 "nbformat_minor": 1
}
