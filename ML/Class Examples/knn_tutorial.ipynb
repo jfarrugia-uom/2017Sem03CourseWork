{
 "cells": [
  {
   "cell_type": "code",
   "execution_count": null,
   "metadata": {
    "collapsed": true
   },
   "outputs": [],
   "source": []
  },
  {
   "cell_type": "markdown",
   "metadata": {},
   "source": [
    "# kNN implementation in  python \n"
   ]
  },
  {
   "cell_type": "markdown",
   "metadata": {},
   "source": [
    "We first import two useful libraries\n",
    "1. numpy (matrix algebra):  we use np as a shortcut\n",
    "2. plyplot from matplotlib: useful for plotting charts: we use plt as a shortcut\n",
    "3. use tab and shift+tab for help"
   ]
  },
  {
   "cell_type": "code",
   "execution_count": 1,
   "metadata": {
    "collapsed": true
   },
   "outputs": [],
   "source": [
    "import numpy as np\n",
    "import matplotlib.pyplot as plt"
   ]
  },
  {
   "cell_type": "code",
   "execution_count": 2,
   "metadata": {
    "collapsed": true
   },
   "outputs": [],
   "source": [
    "# this line plots graphs in line\n",
    "%matplotlib inline"
   ]
  },
  {
   "cell_type": "markdown",
   "metadata": {},
   "source": [
    "### First we generate a dataset"
   ]
  },
  {
   "cell_type": "code",
   "execution_count": 3,
   "metadata": {},
   "outputs": [
    {
     "name": "stdout",
     "output_type": "stream",
     "text": [
      "[[ 0.53047874  0.62488869]\n",
      " [ 0.37454284  0.50649656]\n",
      " [ 0.73576817  0.73777585]]\n"
     ]
    }
   ],
   "source": [
    "# randomly\n",
    "# C_g is the array for centroids\n",
    "# \n",
    "M_g = 3\n",
    "np.random.seed(3)\n",
    "C_g = np.random.rand(M_g,2)*.6+0.2\n",
    "print C_g"
   ]
  },
  {
   "cell_type": "code",
   "execution_count": 4,
   "metadata": {
    "collapsed": true
   },
   "outputs": [],
   "source": [
    "# we can also fix the centroids on a diagonal\n",
    "C_g=np.array([[.25,.25],\n",
    "             [.5,.5],\n",
    "             [.75,.75]])"
   ]
  },
  {
   "cell_type": "code",
   "execution_count": 5,
   "metadata": {
    "collapsed": true
   },
   "outputs": [],
   "source": [
    "# we can also choose the centroids arbitarily\n",
    "C_g=np.array([[.25,.25],\n",
    "             [.75,.5],\n",
    "             [.45,.75]])"
   ]
  },
  {
   "cell_type": "code",
   "execution_count": 25,
   "metadata": {
    "collapsed": true
   },
   "outputs": [],
   "source": [
    "# Generate data set ( M=3, centroid, constant sigma)\n",
    "#\n",
    "sigma=0.2\n",
    "number=50\n",
    "#\n",
    "# storing the centroid index \n",
    "X11=np.concatenate((sigma*np.random.randn(number,2)+C_g[0],np.full((number,1),0.0)),axis=1)\n",
    "X22=np.concatenate((sigma*np.random.randn(number,2)+C_g[1],np.full((number,1),1.0)),axis=1)\n",
    "X33=np.concatenate((sigma*np.random.randn(number,2)+C_g[2],np.full((number,1),2.0)),axis=1)\n",
    "#\n",
    "#X=np.concatenate((X1,X2,X3), axis=0)\n",
    "X=np.concatenate((X11,X22,X33), axis=0)\n",
    "np.random.shuffle(X)\n",
    "#print X"
   ]
  },
  {
   "cell_type": "markdown",
   "metadata": {},
   "source": [
    "#### You can improve the above code snippet to generate any arbitrary number (M) of  clusters"
   ]
  },
  {
   "cell_type": "code",
   "execution_count": 26,
   "metadata": {},
   "outputs": [
    {
     "data": {
      "image/png": "[encoded data removed]",
      "text/plain": [
       "<matplotlib.figure.Figure at 0x7fc63bf4c850>"
      ]
     },
     "metadata": {},
     "output_type": "display_data"
    }
   ],
   "source": [
    "# plot data set and centroids\n",
    "plt.figure()\n",
    "col={0:'bo',1:'go', 2:'co'}\n",
    "for i in range(len(X[:,0])):\n",
    "    plt.plot(X[i,0],X[i,1],col[int(X[i,2])])\n",
    "\n",
    "plt.plot(C_g[:,0],C_g[:,1],'ro')\n",
    "plt.axis([0, 1.0, 0, 1.0])\n",
    "plt.show()"
   ]
  },
  {
   "cell_type": "code",
   "execution_count": 27,
   "metadata": {},
   "outputs": [
    {
     "name": "stdout",
     "output_type": "stream",
     "text": [
      "Split point =  105\n",
      "Train size =  105\n",
      "Test size = 45\n"
     ]
    }
   ],
   "source": [
    "#split data set into train and test\n",
    "split = int((number*M_g)*0.7)\n",
    "print \"Split point = \",split\n",
    "X_train=np.asarray(X[0:split,:])\n",
    "print \"Train size = \",len(X_train[:,0])\n",
    "X_test=np.asarray(X[split:,:])\n",
    "print \"Test size =\",len(X_test[:,0])"
   ]
  },
  {
   "cell_type": "markdown",
   "metadata": {},
   "source": [
    "## kNN starts here"
   ]
  },
  {
   "cell_type": "code",
   "execution_count": 1,
   "metadata": {},
   "outputs": [
    {
     "ename": "NameError",
     "evalue": "name 'np' is not defined",
     "output_type": "error",
     "traceback": [
      "\u001b[0;31m---------------------------------------------------------------------------\u001b[0m",
      "\u001b[0;31mNameError\u001b[0m                                 Traceback (most recent call last)",
      "\u001b[0;32m<ipython-input-1-be04f1679f2f>\u001b[0m in \u001b[0;36m<module>\u001b[0;34m()\u001b[0m\n\u001b[1;32m      5\u001b[0m \u001b[0mx_new_index\u001b[0m\u001b[0;34m=\u001b[0m\u001b[0;36m0\u001b[0m\u001b[0;34m\u001b[0m\u001b[0m\n\u001b[1;32m      6\u001b[0m \u001b[0;31m#x_new_index=3\u001b[0m\u001b[0;34m\u001b[0m\u001b[0;34m\u001b[0m\u001b[0m\n\u001b[0;32m----> 7\u001b[0;31m \u001b[0mx_new\u001b[0m\u001b[0;34m=\u001b[0m\u001b[0mnp\u001b[0m\u001b[0;34m.\u001b[0m\u001b[0mfull\u001b[0m\u001b[0;34m(\u001b[0m\u001b[0;34m(\u001b[0m\u001b[0mlen\u001b[0m\u001b[0;34m(\u001b[0m\u001b[0mX_train\u001b[0m\u001b[0;34m)\u001b[0m\u001b[0;34m,\u001b[0m\u001b[0;36m3\u001b[0m\u001b[0;34m)\u001b[0m\u001b[0;34m,\u001b[0m\u001b[0;34m[\u001b[0m\u001b[0mX_test\u001b[0m\u001b[0;34m[\u001b[0m\u001b[0mx_new_index\u001b[0m\u001b[0;34m,\u001b[0m\u001b[0;36m0\u001b[0m\u001b[0;34m]\u001b[0m\u001b[0;34m,\u001b[0m\u001b[0mX_test\u001b[0m\u001b[0;34m[\u001b[0m\u001b[0mx_new_index\u001b[0m\u001b[0;34m,\u001b[0m\u001b[0;36m1\u001b[0m\u001b[0;34m]\u001b[0m\u001b[0;34m,\u001b[0m\u001b[0;34m-\u001b[0m\u001b[0;36m1.0\u001b[0m\u001b[0;34m]\u001b[0m\u001b[0;34m)\u001b[0m\u001b[0;34m\u001b[0m\u001b[0m\n\u001b[0m\u001b[1;32m      8\u001b[0m \u001b[0;31m#print x_new\u001b[0m\u001b[0;34m\u001b[0m\u001b[0;34m\u001b[0m\u001b[0m\n\u001b[1;32m      9\u001b[0m \u001b[0mx_diff\u001b[0m\u001b[0;34m=\u001b[0m\u001b[0mX_train\u001b[0m\u001b[0;34m-\u001b[0m\u001b[0mx_new\u001b[0m\u001b[0;34m\u001b[0m\u001b[0m\n",
      "\u001b[0;31mNameError\u001b[0m: name 'np' is not defined"
     ]
    }
   ],
   "source": [
    "# find distance from each example in x_train\n",
    "# rank using distance\n",
    "# pick up top k entries\n",
    "# select by majority (use histogram)\n",
    "x_new_index=0\n",
    "#x_new_index=3\n",
    "x_new=np.full((len(X_train),3),[X_test[x_new_index,0],X_test[x_new_index,1],-1.0])\n",
    "#print x_new\n",
    "x_diff=X_train-x_new\n",
    "#print x_diff\n",
    "x_new[:,2]=np.sqrt(x_diff[:,0]**2.0+x_diff[:,1]**2.0)\n",
    "#print x_new\n",
    "x_rank=np.concatenate((np.copy(X_train),x_new),axis=1)\n",
    "#print x_rank\n",
    "r_index=x_rank[:,5].argsort()\n",
    "#print r_index\n",
    "print X_test[x_new_index,:]\n",
    "print x_rank[r_index,:][0:10,:]\n",
    "#print x_rank[r_index,:][0:100,:]\n"
   ]
  },
  {
   "cell_type": "code",
   "execution_count": 29,
   "metadata": {},
   "outputs": [
    {
     "name": "stdout",
     "output_type": "stream",
     "text": [
      "[ 1.  2.  1.  2.  2.]\n",
      "[0 2 3]\n",
      "2 is the predicted class\n"
     ]
    }
   ],
   "source": [
    "# take majority from k nearest neighbours, if tie pick one at random\n",
    "k=5\n",
    "aa=x_rank[r_index,:][0:k,2]\n",
    "print aa\n",
    "hh,nn=np.histogram(aa,[0,1,2,3])\n",
    "print hh\n",
    "rr=hh.argsort()\n",
    "print rr[-1], \"is the predicted class\""
   ]
  },
  {
   "cell_type": "code",
   "execution_count": 32,
   "metadata": {},
   "outputs": [
    {
     "name": "stdout",
     "output_type": "stream",
     "text": [
      "[ 1.  2.  1.  2.  2.]\n",
      "[0 2 3]\n",
      "2 is the predicted class\n",
      "[ 0.  0.  1.  2.  1.]\n",
      "[2 2 1]\n",
      "1 is the predicted class\n",
      "[ 2.  2.  1.  1.  2.]\n",
      "[0 2 3]\n",
      "2 is the predicted class\n",
      "[ 2.  0.  0.  0.  0.]\n",
      "[4 0 1]\n",
      "0 is the predicted class\n",
      "[ 2.  2.  2.  1.  2.]\n",
      "[0 1 4]\n",
      "2 is the predicted class\n",
      "[ 1.  2.  1.  2.  1.]\n",
      "[0 3 2]\n",
      "1 is the predicted class\n",
      "[ 2.  2.  2.  2.  2.]\n",
      "[0 0 5]\n",
      "2 is the predicted class\n",
      "[ 2.  2.  2.  2.  2.]\n",
      "[0 0 5]\n",
      "2 is the predicted class\n",
      "[ 2.  2.  2.  2.  0.]\n",
      "[1 0 4]\n",
      "2 is the predicted class\n",
      "[ 1.  1.  2.  2.  1.]\n",
      "[0 3 2]\n",
      "1 is the predicted class\n",
      "[ 1.  0.  0.  0.  0.]\n",
      "[4 1 0]\n",
      "0 is the predicted class\n",
      "[ 2.  1.  1.  2.  0.]\n",
      "[1 2 2]\n",
      "2 is the predicted class\n",
      "[ 2.  1.  1.  1.  2.]\n",
      "[0 3 2]\n",
      "1 is the predicted class\n",
      "[ 0.  0.  0.  0.  0.]\n",
      "[5 0 0]\n",
      "0 is the predicted class\n",
      "[ 2.  2.  2.  2.  2.]\n",
      "[0 0 5]\n",
      "2 is the predicted class\n",
      "[ 0.  0.  0.  0.  0.]\n",
      "[5 0 0]\n",
      "0 is the predicted class\n",
      "[ 2.  2.  2.  2.  2.]\n",
      "[0 0 5]\n",
      "2 is the predicted class\n",
      "[ 0.  0.  0.  2.  1.]\n",
      "[3 1 1]\n",
      "0 is the predicted class\n",
      "[ 1.  2.  2.  2.  2.]\n",
      "[0 1 4]\n",
      "2 is the predicted class\n",
      "[ 1.  1.  1.  1.  1.]\n",
      "[0 5 0]\n",
      "1 is the predicted class\n",
      "[ 2.  2.  2.  1.  1.]\n",
      "[0 2 3]\n",
      "2 is the predicted class\n",
      "[ 1.  1.  1.  2.  1.]\n",
      "[0 4 1]\n",
      "1 is the predicted class\n",
      "[ 2.  1.  1.  1.  2.]\n",
      "[0 3 2]\n",
      "1 is the predicted class\n",
      "[ 1.  1.  1.  1.  1.]\n",
      "[0 5 0]\n",
      "1 is the predicted class\n",
      "[ 1.  2.  2.  2.  2.]\n",
      "[0 1 4]\n",
      "2 is the predicted class\n",
      "[ 0.  0.  0.  0.  0.]\n",
      "[5 0 0]\n",
      "0 is the predicted class\n",
      "[ 0.  0.  0.  0.  0.]\n",
      "[5 0 0]\n",
      "0 is the predicted class\n",
      "[ 2.  2.  1.  1.  1.]\n",
      "[0 3 2]\n",
      "1 is the predicted class\n",
      "[ 0.  0.  0.  0.  0.]\n",
      "[5 0 0]\n",
      "0 is the predicted class\n",
      "[ 1.  0.  0.  0.  1.]\n",
      "[3 2 0]\n",
      "0 is the predicted class\n",
      "[ 0.  2.  0.  0.  1.]\n",
      "[3 1 1]\n",
      "0 is the predicted class\n",
      "[ 0.  2.  0.  2.  1.]\n",
      "[2 1 2]\n",
      "2 is the predicted class\n",
      "[ 0.  0.  0.  0.  0.]\n",
      "[5 0 0]\n",
      "0 is the predicted class\n",
      "[ 0.  1.  0.  0.  0.]\n",
      "[4 1 0]\n",
      "0 is the predicted class\n",
      "[ 2.  1.  2.  2.  2.]\n",
      "[0 1 4]\n",
      "2 is the predicted class\n",
      "[ 1.  1.  1.  1.  1.]\n",
      "[0 5 0]\n",
      "1 is the predicted class\n",
      "[ 1.  1.  1.  1.  1.]\n",
      "[0 5 0]\n",
      "1 is the predicted class\n",
      "[ 2.  2.  2.  2.  1.]\n",
      "[0 1 4]\n",
      "2 is the predicted class\n",
      "[ 0.  0.  1.  1.  1.]\n",
      "[2 3 0]\n",
      "1 is the predicted class\n",
      "[ 1.  1.  1.  1.  1.]\n",
      "[0 5 0]\n",
      "1 is the predicted class\n",
      "[ 0.  1.  1.  0.  0.]\n",
      "[3 2 0]\n",
      "0 is the predicted class\n",
      "[ 0.  0.  1.  0.  1.]\n",
      "[3 2 0]\n",
      "0 is the predicted class\n",
      "[ 0.  1.  0.  1.  0.]\n",
      "[3 2 0]\n",
      "0 is the predicted class\n",
      "[ 2.  2.  1.  2.  1.]\n",
      "[0 2 3]\n",
      "2 is the predicted class\n",
      "[ 1.  1.  1.  1.  1.]\n",
      "[0 5 0]\n",
      "1 is the predicted class\n"
     ]
    }
   ],
   "source": [
    "# loop over all test cases\n",
    "# calculate overall accuracy\n",
    "# calculate accuracy per class\n",
    "k=5\n",
    "predicted = np.zeros(len(X_test[:,0]))\n",
    "for x_new_index in range(len(X_test[:,0])):\n",
    "    x_new=np.full((len(X_train),3),[X_test[x_new_index,0],X_test[x_new_index,1],-1.0])\n",
    "    #print x_new\n",
    "    x_diff=X_train-x_new\n",
    "    #print x_diff\n",
    "    x_new[:,2]=np.sqrt(x_diff[:,0]**2.0+x_diff[:,1]**2.0)\n",
    "    #print x_new\n",
    "    x_rank=np.concatenate((np.copy(X_train),x_new),axis=1)\n",
    "    #print x_rank\n",
    "    r_index=x_rank[:,5].argsort()\n",
    "    #print x_new_index,\n",
    "    aa=x_rank[r_index,:][0:k,2]\n",
    "    print aa\n",
    "    hh,nn=np.histogram(aa,[0,1,2,3])\n",
    "    print hh\n",
    "    rr=hh.argsort()\n",
    "    print rr[-1], \"is the predicted class\"\n",
    "    predicted[x_new_index]=rr[-1]\n"
   ]
  },
  {
   "cell_type": "code",
   "execution_count": 33,
   "metadata": {},
   "outputs": [
    {
     "data": {
      "text/plain": [
       "array([ 2.,  1.,  2.,  0.,  2.,  1.,  2.,  2.,  2.,  1.,  0.,  2.,  1.,\n",
       "        0.,  2.,  0.,  2.,  0.,  2.,  1.,  2.,  1.,  1.,  1.,  2.,  0.,\n",
       "        0.,  1.,  0.,  0.,  0.,  2.,  0.,  0.,  2.,  1.,  1.,  2.,  1.,\n",
       "        1.,  0.,  0.,  0.,  2.,  1.])"
      ]
     },
     "execution_count": 33,
     "metadata": {},
     "output_type": "execute_result"
    }
   ],
   "source": [
    "predicted"
   ]
  },
  {
   "cell_type": "code",
   "execution_count": null,
   "metadata": {
    "collapsed": true
   },
   "outputs": [],
   "source": []
  },
  {
   "cell_type": "markdown",
   "metadata": {},
   "source": [
    "# Scratch Area\n"
   ]
  },
  {
   "cell_type": "code",
   "execution_count": 14,
   "metadata": {},
   "outputs": [
    {
     "data": {
      "text/plain": [
       "array([0, 0, 4, 1, 0, 0, 1])"
      ]
     },
     "execution_count": 14,
     "metadata": {},
     "output_type": "execute_result"
    }
   ],
   "source": [
    "arr1 = np.array([0,0,4,1,0,0,1])\n",
    "arr2 = np.array([1,0,1,1,0,1,1])\n",
    "arr1"
   ]
  },
  {
   "cell_type": "code",
   "execution_count": 15,
   "metadata": {},
   "outputs": [
    {
     "data": {
      "text/plain": [
       "4"
      ]
     },
     "execution_count": 15,
     "metadata": {},
     "output_type": "execute_result"
    }
   ],
   "source": [
    "np.sum(arr1==arr2)"
   ]
  },
  {
   "cell_type": "code",
   "execution_count": 16,
   "metadata": {},
   "outputs": [
    {
     "data": {
      "text/plain": [
       "array([False,  True, False,  True,  True, False,  True], dtype=bool)"
      ]
     },
     "execution_count": 16,
     "metadata": {},
     "output_type": "execute_result"
    }
   ],
   "source": [
    "arr1==arr2"
   ]
  },
  {
   "cell_type": "code",
   "execution_count": null,
   "metadata": {
    "collapsed": true
   },
   "outputs": [],
   "source": []
  }
 ],
 "metadata": {
  "kernelspec": {
   "display_name": "Python 2",
   "language": "python",
   "name": "python2"
  },
  "language_info": {
   "codemirror_mode": {
    "name": "ipython",
    "version": 2
   },
   "file_extension": ".py",
   "mimetype": "text/x-python",
   "name": "python",
   "nbconvert_exporter": "python",
   "pygments_lexer": "ipython2",
   "version": "2.7.12"
  }
 },
 "nbformat": 4,
 "nbformat_minor": 1
}
