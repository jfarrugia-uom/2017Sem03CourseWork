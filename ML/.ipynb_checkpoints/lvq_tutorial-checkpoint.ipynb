{
 "cells": [
  {
   "cell_type": "code",
   "execution_count": null,
   "metadata": {
    "collapsed": true
   },
   "outputs": [],
   "source": []
  },
  {
   "cell_type": "markdown",
   "metadata": {},
   "source": [
    "# LVQ implementation in  python \n"
   ]
  },
  {
   "cell_type": "markdown",
   "metadata": {},
   "source": [
    "We first import two useful libraries\n",
    "1. numpy (matrix algebra):  we use np as a shortcut\n",
    "2. plyplot from matplotlib: useful for plotting charts: we use plt as a shortcut\n",
    "3. use tab and shift+tab for help"
   ]
  },
  {
   "cell_type": "code",
   "execution_count": 1,
   "metadata": {
    "collapsed": true
   },
   "outputs": [],
   "source": [
    "import numpy as np\n",
    "import matplotlib.pyplot as plt"
   ]
  },
  {
   "cell_type": "code",
   "execution_count": 2,
   "metadata": {
    "collapsed": true
   },
   "outputs": [],
   "source": [
    "# this line plots graphs in line\n",
    "%matplotlib inline"
   ]
  },
  {
   "cell_type": "markdown",
   "metadata": {},
   "source": [
    "### First we generate a dataset"
   ]
  },
  {
   "cell_type": "code",
   "execution_count": 3,
   "metadata": {},
   "outputs": [
    {
     "name": "stdout",
     "output_type": "stream",
     "text": [
      "[[ 0.53047874  0.62488869]\n",
      " [ 0.37454284  0.50649656]\n",
      " [ 0.73576817  0.73777585]]\n"
     ]
    }
   ],
   "source": [
    "# C_g is the array for centroids\n",
    "# \n",
    "M_g = 3\n",
    "np.random.seed(3)\n",
    "C_g = np.random.rand(M_g,2)*.6+0.2\n",
    "print C_g"
   ]
  },
  {
   "cell_type": "code",
   "execution_count": null,
   "metadata": {
    "collapsed": true
   },
   "outputs": [],
   "source": [
    "# we can also fix the centroids on a diagonal\n",
    "C_g=np.array([[.25,.25],\n",
    "             [.5,.5],\n",
    "             [.75,.75]])"
   ]
  },
  {
   "cell_type": "code",
   "execution_count": null,
   "metadata": {
    "collapsed": true
   },
   "outputs": [],
   "source": [
    "# we can also choose the centroids arbitarily\n",
    "C_g=np.array([[.25,.25],\n",
    "             [.75,.5],\n",
    "             [.45,.75]])"
   ]
  },
  {
   "cell_type": "code",
   "execution_count": null,
   "metadata": {},
   "outputs": [],
   "source": [
    "# Generate data set ( M=3, centroid, constant sigma)\n",
    "#\n",
    "sigma=0.095\n",
    "number=50\n",
    "#\n",
    "# storing the centroid index (note this may not correspond to teh same number from the k-means algorithm)\n",
    "X11=np.concatenate((sigma*np.random.randn(number,2)+C_g[0],np.full((number,1),0.0)),axis=1)\n",
    "X22=np.concatenate((sigma*np.random.randn(number,2)+C_g[1],np.full((number,1),1.0)),axis=1)\n",
    "X33=np.concatenate((sigma*np.random.randn(number,2)+C_g[2],np.full((number,1),2.0)),axis=1)\n",
    "#\n",
    "#X=np.concatenate((X1,X2,X3), axis=0)\n",
    "X=np.concatenate((X11,X22,X33), axis=0)\n",
    "np.random.shuffle(X)\n",
    "#print X"
   ]
  },
  {
   "cell_type": "code",
   "execution_count": null,
   "metadata": {},
   "outputs": [],
   "source": [
    "# plot data set and centroids\n",
    "plt.figure()\n",
    "col={0:'bo',1:'go', 2:'co'}\n",
    "for i in range(len(X[:,0])):\n",
    "    plt.plot(X[i,0],X[i,1],col[int(X[i,2])])\n",
    "\n",
    "plt.plot(C_g[:,0],C_g[:,1],'ro')\n",
    "plt.axis([0, 1.0, 0, 1.0])\n",
    "plt.show()"
   ]
  },
  {
   "cell_type": "code",
   "execution_count": null,
   "metadata": {},
   "outputs": [],
   "source": [
    "#split data set into train and test\n",
    "split = int((number*M_g)*0.7)\n",
    "print \"Split point = \",split\n",
    "X_train=np.asarray(X[0:split,:])\n",
    "print \"Train size = \",len(X_train[:,0])\n",
    "X_test=np.asarray(X[split:,:])\n",
    "print \"Test size =\",len(X_test[:,0])\n"
   ]
  },
  {
   "cell_type": "markdown",
   "metadata": {},
   "source": [
    "## LVQ1 starts here"
   ]
  },
  {
   "cell_type": "code",
   "execution_count": null,
   "metadata": {},
   "outputs": [],
   "source": [
    "# Initialise prototypes (features,label) m\n",
    "# Initialise a learning rate profile\n",
    "# for each example in the training set do:\n",
    "#    find the prototype closest to the training example\n",
    "#    if the prototype label matches the example label:\n",
    "#        m_i(t+1) = m_i(t) + rate(x(t)-m_i(t))\n",
    "#    else:\n",
    "#        m_i(t+1) = m_i(t) + rate(x(t)-m_i(t))\n",
    "\n",
    "\n"
   ]
  },
  {
   "cell_type": "code",
   "execution_count": null,
   "metadata": {},
   "outputs": [],
   "source": [
    "# Initialise prototypes (features,label) m\n",
    "#\n",
    "# Prt is the array for prototypes\n",
    "#\n",
    "np.random.seed(5)\n",
    "# compute range of values for protypes\n",
    "min_x0=np.min(X[:,0])\n",
    "max_x0=np.max(X[:,0])\n",
    "#print \"x0_range = (%5.4f, %5.4f)\" %(min_x0, max_x0)\n",
    "min_x1=np.min(X[:,1])\n",
    "max_x1=np.max(X[:,1])\n",
    "#print \"x1_range = (%5.4f, %5.4f)\" %(min_x1, max_x1)\n",
    "#a = min(min_x0,min_x1)\n",
    "#b = max(max_x0,max_x1)\n",
    "#print \"x_range = (%5.4f, %5.4f)\" %(a,b)\n",
    "#\n",
    "M = 3    # number of prototypes\n",
    "P_0 = np.random.rand(M,1)*(max_x0-min_x0)+min_x0\n",
    "P_1 = np.random.rand(M,1)*(max_x1-min_x1)+min_x1\n",
    "P_label=np.array([[0],[1],[2]])\n",
    "#\n",
    "Prt=np.zeros((M,3),dtype=float)\n",
    "Prt=np.concatenate((P_0,P_1,P_label),axis=1)\n",
    "print \"Initial Prototypes : \"\n",
    "print Prt\n"
   ]
  },
  {
   "cell_type": "code",
   "execution_count": null,
   "metadata": {},
   "outputs": [],
   "source": [
    "# Initialise a learning rate profile\n",
    "T=20  # number of epochs\n",
    "t=np.arange(T)\n",
    "rate=0.01*np.exp(-0.1*t)\n",
    "plt.figure()\n",
    "plt.plot(t,rate)\n",
    "plt.show()"
   ]
  },
  {
   "cell_type": "code",
   "execution_count": null,
   "metadata": {
    "collapsed": true
   },
   "outputs": [],
   "source": [
    "# function get nearest prototype\n",
    "#\n",
    "def get_nearest_prototype(features,prototype):\n",
    "    K=len(prototype[:,0])\n",
    "    F=np.full((K,2),features)\n",
    "    diff=F-prototype[:,0:-1]\n",
    "    dist=np.sqrt(diff[:,0]**2+diff[:,1]**2)\n",
    "    return dist,dist.argsort()\n"
   ]
  },
  {
   "cell_type": "code",
   "execution_count": null,
   "metadata": {},
   "outputs": [],
   "source": [
    "# for each example in the training set do:\n",
    "#    find the prototype closest to the training example\n",
    "#    if the prototype label matches the example label:\n",
    "#        m_i(t+1) = m_i(t) + rate(x(t)-m_i(t))\n",
    "#    else:\n",
    "#        m_i(t+1) = m_i(t) + rate(x(t)-m_i(t))\n",
    "\n",
    "...\n",
    "\n",
    "    "
   ]
  },
  {
   "cell_type": "code",
   "execution_count": null,
   "metadata": {},
   "outputs": [],
   "source": [
    "# plot data set and centroids\n",
    "...\n"
   ]
  }
 ],
 "metadata": {
  "kernelspec": {
   "display_name": "Python 2",
   "language": "python",
   "name": "python2"
  },
  "language_info": {
   "codemirror_mode": {
    "name": "ipython",
    "version": 2
   },
   "file_extension": ".py",
   "mimetype": "text/x-python",
   "name": "python",
   "nbconvert_exporter": "python",
   "pygments_lexer": "ipython2",
   "version": "2.7.12"
  }
 },
 "nbformat": 4,
 "nbformat_minor": 1
}
