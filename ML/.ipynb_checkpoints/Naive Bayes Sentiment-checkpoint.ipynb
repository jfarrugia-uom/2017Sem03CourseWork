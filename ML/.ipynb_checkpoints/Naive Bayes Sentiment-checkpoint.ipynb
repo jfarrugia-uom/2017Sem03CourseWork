{
 "cells": [
  {
   "cell_type": "markdown",
   "metadata": {},
   "source": [
    "# Create multinomial naive bayes model from scratch"
   ]
  },
  {
   "cell_type": "code",
   "execution_count": 1,
   "metadata": {
    "collapsed": true
   },
   "outputs": [],
   "source": [
    "# refer to http://sebastianraschka.com/Articles/2014_naive_bayes_1.html\n",
    "from collections import Counter\n",
    "from functools import reduce"
   ]
  },
  {
   "cell_type": "code",
   "execution_count": 2,
   "metadata": {
    "collapsed": true
   },
   "outputs": [],
   "source": [
    "comments = ['surplus good economy job', 'good government listens', \n",
    "            'best budget investments', 'corrupt highest levels', 'resign crooks', 'government good job friends']"
   ]
  },
  {
   "cell_type": "code",
   "execution_count": 3,
   "metadata": {},
   "outputs": [],
   "source": [
    "labels = ['pro','pro','pro','anti', 'anti','anti']"
   ]
  },
  {
   "cell_type": "code",
   "execution_count": 43,
   "metadata": {},
   "outputs": [
    {
     "name": "stdout",
     "output_type": "stream",
     "text": [
      "[('surplus good economy job', 'pro'), ('good government listens', 'pro'), ('best budget investments', 'pro'), ('corrupt highest levels', 'anti'), ('resign crooks', 'anti'), ('government good job friends', 'anti')]\n",
      "Counter({'pro': 3, 'anti': 3})\n",
      "\n",
      "term frequencies: \n",
      "{'pro': Counter({'good': 2, 'surplus': 1, 'government': 1, 'budget': 1, 'job': 1, 'economy': 1, 'investments': 1, 'best': 1, 'listens': 1}), 'anti': Counter({'good': 1, 'government': 1, 'crooks': 1, 'resign': 1, 'job': 1, 'levels': 1, 'corrupt': 1, 'highest': 1, 'friends': 1})}\n",
      "{'pro': 0.0048, 'anti': 0.001736111111111111}\n"
     ]
    }
   ],
   "source": [
    "# create vocab of unique words - needed to calculate size of vocab\n",
    "wordSet = set()\n",
    "for x in comments:\n",
    "    #print x.split()\n",
    "    comment = x.split();\n",
    "    for y in comment:\n",
    "        wordSet.add(y)\n",
    "        \n",
    "# create list of tuples containing document and label; let's call it full_set\n",
    "full_set = [(comments[x], labels[x]) for x in range(0,len(comments))]\n",
    "print full_set\n",
    "\n",
    "# count frequency; we'll use this to calculate the priors\n",
    "label_count = Counter(labels)\n",
    "print label_count\n",
    "\n",
    "# construct term frequency dictionary for a given class docClass\n",
    "def termFreq(documents, docClass):\n",
    "    splitDocument = [x[0] for x in documents if x[1] == docClass]\n",
    "    bagOfWords = [_word for word_list in [word.split() for word in splitDocument] for _word in word_list]\n",
    "    return Counter(bagOfWords)\n",
    "\n",
    "\n",
    "# now create a dictionary of dictionaries to easily determine freqs of words belonging to a given class\n",
    "term_frequencies = {x:termFreq(full_set, x) for x in set(labels)}\n",
    "print(\"\\nterm frequencies: \")\n",
    "print(term_frequencies)\n",
    "\n",
    "def probOfWordGivenClass(word, docClass):\n",
    "    return (term_frequencies[docClass][word] + 1.0) / (sum(term_frequencies[docClass].values()) + len(wordSet) * 1.0) \n",
    "\n",
    "def probOfClassGivenDocument(document):\n",
    "    prod = lambda x, y: x * y\n",
    "    temp_prob = {_class:[probOfWordGivenClass(_word, _class) for _word in test_doc.split() if _word in wordSet] \n",
    "                 for _class in set(labels) }\n",
    "    return {key: reduce(prod, val) * label_count[key]*1.0 / sum(label_count.values()) for key, val in temp_prob.items()}\n",
    "    \n",
    "test_doc = 'good budget' \n",
    "print probOfClassGivenDocument(test_doc)\n"
   ]
  }
 ],
 "metadata": {
  "kernelspec": {
   "display_name": "Python 2",
   "language": "python",
   "name": "python2"
  },
  "language_info": {
   "codemirror_mode": {
    "name": "ipython",
    "version": 2
   },
   "file_extension": ".py",
   "mimetype": "text/x-python",
   "name": "python",
   "nbconvert_exporter": "python",
   "pygments_lexer": "ipython2",
   "version": "2.7.12"
  }
 },
 "nbformat": 4,
 "nbformat_minor": 2
}
