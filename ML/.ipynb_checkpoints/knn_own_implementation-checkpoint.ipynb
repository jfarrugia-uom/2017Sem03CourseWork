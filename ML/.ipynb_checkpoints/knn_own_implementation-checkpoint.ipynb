{
 "cells": [
  {
   "cell_type": "code",
   "execution_count": 1,
   "metadata": {
    "collapsed": true
   },
   "outputs": [],
   "source": [
    "# import required packages\n",
    "import numpy as np\n",
    "import matplotlib.pyplot as plt"
   ]
  },
  {
   "cell_type": "code",
   "execution_count": 2,
   "metadata": {
    "collapsed": true
   },
   "outputs": [],
   "source": [
    "# this line plots graphs in line\n",
    "%matplotlib inline"
   ]
  },
  {
   "cell_type": "code",
   "execution_count": 3,
   "metadata": {},
   "outputs": [
    {
     "name": "stdout",
     "output_type": "stream",
     "text": [
      "[[ 0.53047874  0.62488869]\n",
      " [ 0.37454284  0.50649656]\n",
      " [ 0.73576817  0.73777585]]\n",
      "Generating points around centroid 0 \n",
      "Generating points around centroid 1 \n",
      "Generating points around centroid 2 \n",
      "[[  5.47229671e-01   2.97343253e-01   0.00000000e+00]\n",
      " [  9.57790423e-01   6.26348835e-01   1.00000000e+00]\n",
      " [  2.19098630e-01   6.03925461e-01   0.00000000e+00]\n",
      " [  7.93895311e-01   2.78157052e-01   2.00000000e+00]\n",
      " [  3.58030770e-01   1.14814756e+00   2.00000000e+00]\n",
      " [  6.30905697e-01   3.76869766e-01   2.00000000e+00]\n",
      " [  4.24857145e-01  -8.70732638e-03   0.00000000e+00]\n",
      " [  3.78632656e-01   2.99817341e-01   0.00000000e+00]\n",
      " [  2.60006728e-01   1.69064517e-01   0.00000000e+00]\n",
      " [  6.52415957e-02   4.52248478e-02   0.00000000e+00]\n",
      " [  6.43883571e-01   3.53894671e-01   1.00000000e+00]\n",
      " [  1.89958785e-01   6.81629868e-01   0.00000000e+00]\n",
      " [  4.46473487e-01   2.97864740e-02   0.00000000e+00]\n",
      " [  5.73315577e-01   5.82473711e-01   2.00000000e+00]\n",
      " [  3.72815418e-01   8.24175455e-02   0.00000000e+00]\n",
      " [  1.30670072e-01   1.32281124e-01   0.00000000e+00]\n",
      " [  6.20317822e-01   3.52507033e-01   1.00000000e+00]\n",
      " [ -3.33147550e-01   5.56318995e-02   0.00000000e+00]\n",
      " [  3.35730208e-01   8.03157409e-01   2.00000000e+00]\n",
      " [  7.50488832e-01   5.84927144e-01   1.00000000e+00]\n",
      " [  5.05819616e-01   5.11923087e-01   1.00000000e+00]\n",
      " [  3.20056516e-01   1.07627659e+00   2.00000000e+00]\n",
      " [  8.39156192e-01   3.43458191e-01   1.00000000e+00]\n",
      " [  1.29906946e-02   2.08870020e-01   0.00000000e+00]\n",
      " [  7.21875995e-01   6.99417673e-01   1.00000000e+00]\n",
      " [  6.32299676e-01   1.90688835e-01   1.00000000e+00]\n",
      " [ -8.70217356e-02   7.53684159e-01   2.00000000e+00]\n",
      " [  9.96694209e-01   5.29797279e-01   1.00000000e+00]\n",
      " [  6.68930616e-01   8.77938471e-01   2.00000000e+00]\n",
      " [  5.68701060e-01   5.17683041e-01   1.00000000e+00]\n",
      " [  7.30952480e-01   3.94562444e-01   1.00000000e+00]\n",
      " [  3.43921289e-01   3.07844978e-01   1.00000000e+00]\n",
      " [ -1.27729507e-02   4.26924476e-01   0.00000000e+00]\n",
      " [  2.44058095e-01   5.43958276e-01   2.00000000e+00]\n",
      " [  7.24447588e-01   5.49633605e-01   1.00000000e+00]\n",
      " [  3.75048993e-01   2.17897327e-01   0.00000000e+00]\n",
      " [  6.67881910e-01   7.54784404e-01   2.00000000e+00]\n",
      " [  1.35058316e-01   2.28109133e-01   0.00000000e+00]\n",
      " [  5.06532061e-01   7.40568619e-01   2.00000000e+00]\n",
      " [  5.68717623e-01   1.16417571e+00   2.00000000e+00]\n",
      " [  7.46274457e-01   5.96705757e-01   1.00000000e+00]\n",
      " [  6.97751903e-01   2.40390672e-01   1.00000000e+00]\n",
      " [  4.64945559e-01   6.24349839e-01   2.00000000e+00]\n",
      " [  6.14357464e-01   5.85287015e-01   1.00000000e+00]\n",
      " [  4.52429720e-02   1.07401360e-01   0.00000000e+00]\n",
      " [ -7.46570892e-02   3.79335090e-01   0.00000000e+00]\n",
      " [  5.02872675e-01   4.71842712e-01   1.00000000e+00]\n",
      " [  4.71637500e-01   4.73878131e-01   0.00000000e+00]\n",
      " [  5.89096797e-01   7.66091478e-01   2.00000000e+00]\n",
      " [  3.80192921e-01   8.00565018e-01   2.00000000e+00]\n",
      " [  2.80589141e-01   3.71609452e-02   0.00000000e+00]\n",
      " [  4.02532505e-01   9.27067935e-01   2.00000000e+00]\n",
      " [  7.16381980e-01   8.81855362e-01   1.00000000e+00]\n",
      " [  8.61742641e-01   4.04327068e-01   1.00000000e+00]\n",
      " [  7.75601564e-01   7.48323304e-01   1.00000000e+00]\n",
      " [  7.24127798e-01   1.75507766e-01   1.00000000e+00]\n",
      " [  2.41236366e-01   1.54556394e-01   0.00000000e+00]\n",
      " [  4.52668386e-01   7.81725392e-01   1.00000000e+00]\n",
      " [  5.47508626e-01   2.63398631e-02   0.00000000e+00]\n",
      " [  2.67581817e-01   7.18788319e-01   2.00000000e+00]\n",
      " [  8.79012397e-01   5.62612075e-01   1.00000000e+00]\n",
      " [  3.37589322e-01   6.37795692e-01   0.00000000e+00]\n",
      " [  6.03793032e-01   1.02324857e+00   2.00000000e+00]\n",
      " [  5.45928144e-01   5.54118685e-01   1.00000000e+00]\n",
      " [  5.35882900e-01   5.74173994e-01   1.00000000e+00]\n",
      " [  2.27443770e-01   4.22140751e-01   2.00000000e+00]\n",
      " [  9.22566419e-01   3.70313595e-01   1.00000000e+00]\n",
      " [  3.27523116e-01   1.02999310e+00   2.00000000e+00]\n",
      " [  9.17168780e-01   5.98423781e-01   1.00000000e+00]\n",
      " [  6.70784333e-01   1.12635100e+00   2.00000000e+00]\n",
      " [  5.90817061e-01   5.14549106e-01   1.00000000e+00]\n",
      " [ -2.91527005e-02   5.28332582e-01   0.00000000e+00]\n",
      " [  6.04913304e-01   4.93011323e-01   1.00000000e+00]\n",
      " [  5.28625056e-01   7.01723040e-01   2.00000000e+00]\n",
      " [  9.92385267e-01   8.75494778e-01   2.00000000e+00]\n",
      " [  1.28522249e+00   4.85756195e-01   1.00000000e+00]\n",
      " [  6.85683061e-01   5.30226074e-01   1.00000000e+00]\n",
      " [  1.40928010e-01  -5.92954631e-02   0.00000000e+00]\n",
      " [  8.79565959e-01   3.87925316e-01   1.00000000e+00]\n",
      " [  6.12007865e-01   5.97282895e-01   1.00000000e+00]\n",
      " [  4.19166681e-01  -1.22177906e-01   0.00000000e+00]\n",
      " [  4.10341949e-01   1.24151753e+00   2.00000000e+00]\n",
      " [  5.27650083e-01   6.72574564e-01   2.00000000e+00]\n",
      " [  5.62390334e-01   6.91235752e-01   2.00000000e+00]\n",
      " [  3.32555938e-01   1.13216537e+00   2.00000000e+00]\n",
      " [  2.45179106e-01   7.22685164e-02   0.00000000e+00]\n",
      " [  3.46757670e-01   3.85243280e-01   0.00000000e+00]\n",
      " [  1.09588349e+00   6.38810454e-01   1.00000000e+00]\n",
      " [  6.46670415e-01   4.62185667e-01   1.00000000e+00]\n",
      " [  4.76699408e-01   4.92147761e-01   2.00000000e+00]\n",
      " [  4.52636688e-01   4.20559568e-01   0.00000000e+00]\n",
      " [  6.79452959e-01   7.27954169e-01   2.00000000e+00]\n",
      " [  6.63959672e-01   7.83303902e-01   2.00000000e+00]\n",
      " [  3.26978287e-01   5.37568775e-01   2.00000000e+00]\n",
      " [  9.62327299e-02   2.03993856e-01   0.00000000e+00]\n",
      " [  1.01237568e+00   8.00399025e-01   2.00000000e+00]\n",
      " [  7.52235404e-02   2.55942763e-01   0.00000000e+00]\n",
      " [  2.33451704e-01   1.24599865e-01   0.00000000e+00]\n",
      " [  5.07511530e-01   1.00281715e+00   2.00000000e+00]\n",
      " [  6.63443110e-01   8.78284131e-01   2.00000000e+00]\n",
      " [  8.17830377e-01   1.21317172e+00   2.00000000e+00]\n",
      " [  6.66760397e-01   6.44931532e-01   1.00000000e+00]\n",
      " [  3.99011253e-01   6.45222157e-01   0.00000000e+00]\n",
      " [  4.59629502e-01   5.16747564e-01   0.00000000e+00]\n",
      " [  5.83152030e-01   7.68998491e-01   1.00000000e+00]\n",
      " [  3.85814320e-01   7.89125663e-02   0.00000000e+00]\n",
      " [  4.08343316e-01   7.47005363e-01   2.00000000e+00]\n",
      " [  3.22241821e-01   6.19116958e-01   2.00000000e+00]\n",
      " [  4.16460279e-01   1.09453384e+00   2.00000000e+00]\n",
      " [  5.80007640e-02   3.25459047e-01   0.00000000e+00]\n",
      " [  6.63821989e-01   3.91945947e-01   1.00000000e+00]\n",
      " [  1.17533421e-03   1.24716618e-01   0.00000000e+00]\n",
      " [  9.20303790e-01   5.97249865e-01   1.00000000e+00]\n",
      " [  3.54895028e-01   7.16844595e-01   2.00000000e+00]\n",
      " [  4.74795592e-01   2.23617153e-01   0.00000000e+00]\n",
      " [  1.14769794e+00   7.39011667e-01   1.00000000e+00]\n",
      " [  7.34511808e-01   5.55213699e-01   1.00000000e+00]\n",
      " [  7.73847697e-01   8.52618602e-01   2.00000000e+00]\n",
      " [  4.39210430e-01   1.01303344e+00   2.00000000e+00]\n",
      " [  7.95150053e-01   5.57407033e-01   1.00000000e+00]\n",
      " [  2.34051812e-01   3.62897104e-01   0.00000000e+00]\n",
      " [  6.06794840e-01   6.46293147e-01   1.00000000e+00]\n",
      " [  5.99333041e-01   1.51177950e-01   1.00000000e+00]\n",
      " [  5.77538303e-01   7.14336786e-01   1.00000000e+00]\n",
      " [  1.94522359e-01   1.79048204e-01   0.00000000e+00]\n",
      " [ -1.99651554e-01   1.96447627e-01   0.00000000e+00]\n",
      " [  6.47774201e-01   4.75431319e-01   1.00000000e+00]\n",
      " [  6.44947071e-01   1.64873073e-01   1.00000000e+00]\n",
      " [  9.12962908e-01   3.96001649e-01   1.00000000e+00]\n",
      " [  8.29380191e-01   5.08839442e-01   2.00000000e+00]\n",
      " [  4.74449949e-01   5.18523325e-01   2.00000000e+00]\n",
      " [  8.35193350e-01   4.70197246e-01   1.00000000e+00]\n",
      " [  7.50652391e-01   9.31663743e-01   2.00000000e+00]\n",
      " [  4.26263608e-01   5.91914613e-01   0.00000000e+00]\n",
      " [  6.58547843e-01   6.71856802e-01   1.00000000e+00]\n",
      " [ -2.41338025e-02   2.97712638e-01   0.00000000e+00]\n",
      " [  5.09900466e-01   6.62001738e-01   2.00000000e+00]\n",
      " [  1.66025739e-01   9.03144214e-01   2.00000000e+00]\n",
      " [  2.79012643e-01   4.83576457e-01   0.00000000e+00]\n",
      " [  1.29422979e-01  -1.32894409e-01   0.00000000e+00]\n",
      " [  6.63084036e-01   5.75524868e-01   2.00000000e+00]\n",
      " [  1.31784252e-01   1.46716526e-01   0.00000000e+00]\n",
      " [  5.20163168e-01   1.07531472e+00   2.00000000e+00]\n",
      " [  1.15054498e-01   2.80123373e-01   0.00000000e+00]\n",
      " [  5.22560697e-01   5.18192707e-01   2.00000000e+00]\n",
      " [  3.95079976e-01   8.37001852e-01   2.00000000e+00]\n",
      " [  2.10517064e-01   6.04929006e-01   0.00000000e+00]\n",
      " [  4.50138251e-02   4.29867689e-01   0.00000000e+00]\n",
      " [  1.78745848e-01  -9.86282074e-02   0.00000000e+00]\n",
      " [  8.92467811e-02  -2.33816635e-01   0.00000000e+00]]\n",
      "[ 0.  1.  0.  2.  2.  2.  0.  0.  0.  0.  1.  0.  0.  2.  0.  0.  1.  0.\n",
      "  2.  1.  1.  2.  1.  0.  1.  1.  2.  1.  2.  1.  1.  1.  0.  2.  1.  0.\n",
      "  2.  0.  2.  2.  1.  1.  2.  1.  0.  0.  1.  0.  2.  2.  0.  2.  1.  1.\n",
      "  1.  1.  0.  1.  0.  2.  1.  0.  2.  1.  1.  2.  1.  2.  1.  2.  1.  0.\n",
      "  1.  2.  2.  1.  1.  0.  1.  1.  0.  2.  2.  2.  2.  0.  0.  1.  1.  2.\n",
      "  0.  2.  2.  2.  0.  2.  0.  0.  2.  2.  2.  1.  0.  0.  1.  0.  2.  2.\n",
      "  2.  0.  1.  0.  1.  2.  0.  1.  1.  2.  2.  1.  0.  1.  1.  1.  0.  0.\n",
      "  1.  1.  1.  2.  2.  1.  2.  0.  1.  0.  2.  2.  0.  0.  2.  0.  2.  0.\n",
      "  2.  2.  0.  0.  0.  0.]\n"
     ]
    }
   ],
   "source": [
    "# Generate clusters\n",
    "# seed random number generator\n",
    "cluster_size = 3\n",
    "sigma = 0.2\n",
    "points_n = 50\n",
    "\n",
    "np.random.seed(3)\n",
    "centroid_array = np.random.rand(cluster_size,2) *.6 + 0.2\n",
    "print(centroid_array)\n",
    "\n",
    "# let's use the same 3 arbitrary centroids used in class\n",
    "centroid_array = np.array([[.25,.25], [.75,.5],[.45,.75]])\n",
    "\n",
    "# using randn function to generate random points from the normal distribution with mu centroid_array, and sd sigma\n",
    "# sigma * np.random.randn(...) + mu\n",
    "points = np.zeros((points_n * cluster_size, 3))\n",
    "for idx in range(cluster_size):\n",
    "    print (\"Generating points around centroid %d \" % (idx))\n",
    "    random_points = sigma * np.random.randn(points_n, 2) + centroid_array[idx,:]\n",
    "    # create label point_Size x 1 array containing idx value; idx corresponds to cluster \"label\"\n",
    "    label = np.full((points_n, 1), idx)        \n",
    "    points[np.arange(points_n)+(points_n * idx)] = np.hstack((random_points, label))\n",
    "# Shuffle so the train/test split does not partition clusters\n",
    "np.random.shuffle(points)\n",
    "# extricate labels from feature array to improve readability of subsequent code\n",
    "print(points)     \n",
    "labels = points[:,2]\n",
    "points = points[:,[0,1]]\n",
    "#print(points)     \n",
    "print(labels)"
   ]
  },
  {
   "cell_type": "code",
   "execution_count": 4,
   "metadata": {},
   "outputs": [
    {
     "data": {
      "image/png": "[encoded data removed]",
      "text/plain": [
       "<matplotlib.figure.Figure at 0x7f36bbf57750>"
      ]
     },
     "metadata": {},
     "output_type": "display_data"
    }
   ],
   "source": [
    "# plot data set and centroids\n",
    "plt.figure()\n",
    "col={0:'bo',1:'go', 2:'co'}\n",
    "for i in range(points_n * cluster_size):\n",
    "    plt.plot(points[i,0],points[i,1],col[int(labels[i])])\n",
    "\n",
    "plt.plot(centroid_array[:,0], centroid_array[:,1],'ro')\n",
    "plt.axis([0, 1.0, 0, 1.0])\n",
    "plt.show()"
   ]
  },
  {
   "cell_type": "code",
   "execution_count": 6,
   "metadata": {},
   "outputs": [
    {
     "name": "stdout",
     "output_type": "stream",
     "text": [
      "Data set contains 150 points\n",
      "Feature train set length is 105; feature test set length is 45\n",
      "Label train set length is 105; label test length is 45\n"
     ]
    },
    {
     "data": {
      "image/png": "[encoded data removed]",
      "text/plain": [
       "<matplotlib.figure.Figure at 0x7f36ab9696d0>"
      ]
     },
     "metadata": {},
     "output_type": "display_data"
    },
    {
     "data": {
      "image/png": "[encoded data removed]",
      "text/plain": [
       "<matplotlib.figure.Figure at 0x7f36ab9088d0>"
      ]
     },
     "metadata": {},
     "output_type": "display_data"
    },
    {
     "name": "stdout",
     "output_type": "stream",
     "text": [
      "45\n"
     ]
    }
   ],
   "source": [
    "# split data set into training and testing\n",
    "\n",
    "#split = int(round(array_len*0.7))\n",
    "print(\"Data set contains %d points\" % (len(points)))\n",
    "split = int(round(len(points)*0.7))\n",
    "x_train = points[0:split,]\n",
    "x_test = points[split:,:]\n",
    "\n",
    "y_train = labels[0:split,]\n",
    "y_test = labels[split:]\n",
    "\n",
    "print(\"Feature train set length is %d; feature test set length is %d\" % (len(x_train), len(x_test)))\n",
    "print(\"Label train set length is %d; label test length is %d\" % (len(y_train), len(y_test)))\n",
    "\n",
    "# plot training data\n",
    "for i in range(len(x_train)):\n",
    "    plt.plot(x_train[i,0], x_train[i,1], col[int(y_train[i])])\n",
    "plt.show()\n",
    "\n",
    "# plot test data\n",
    "for i in range(len(x_test)):\n",
    "    plt.plot(x_test[i,0], x_test[i,1], col[int(y_test[i])])\n",
    "plt.show()\n"
   ]
  },
  {
   "cell_type": "code",
   "execution_count": null,
   "metadata": {},
   "outputs": [],
   "source": [
    "#Less readable logic which handles features and labels in one array\n",
    "\n",
    "#from collections import Counter\n",
    "# implement euclidean distance\n",
    "#a = np.array([[10,2,2],[1,2,50],[1,0,50]])\n",
    "#b = np.array([[3,4]])\n",
    "#c = np.array([2,50,50])\n",
    "\n",
    "#def eucDist(a, b):    \n",
    "#    return np.sqrt(np.sum((a - b) ** 2, axis=1))      \n",
    "    \n",
    "# we'll index the first two columns of the matrix containing the input features \n",
    "# calculate Euc. distance between test point and all other points\n",
    "#distArray = eucDist(b,a[:,[0,1]])\n",
    "\n",
    "# stack distances over labels from points array\n",
    "# transposition of labels required to convert to rank 1 array\n",
    "#dl = np.stack((distArray, a[:,[2]].T[0,:]), axis=0)\n",
    "\n",
    "# sort columns by value of first element in each column, i.e. the distances\n",
    "#dl = dl[:,dl[0,:].argsort()]\n",
    "#dl = dl[:,:3] # second number is k\n",
    "#print(dl)\n",
    "#Counter(dl[1,:]).most_common(1)[0][0]\n"
   ]
  },
  {
   "cell_type": "code",
   "execution_count": 18,
   "metadata": {},
   "outputs": [
    {
     "name": "stdout",
     "output_type": "stream",
     "text": [
      "[0 1 0 2 0 2 0 1 0 0 1 1 1 2 1 2 1 1 2 0 0 1 1 1 1 0 1 1 2 1 0 2 2 2 0 1 0\n",
      " 2 0 1 2 0 0 0 0]\n",
      "[ 0.  2.  2.  2.  0.  1.  0.  1.  2.  0.  1.  1.  2.  2.  1.  0.  1.  1.\n",
      "  1.  0.  0.  1.  1.  1.  2.  2.  1.  2.  0.  1.  0.  2.  2.  0.  0.  2.\n",
      "  0.  2.  0.  2.  2.  0.  0.  0.  0.]\n",
      "Accuracy using k=1 is 0.688889\n"
     ]
    }
   ],
   "source": [
    "from collections import Counter\n",
    "\n",
    "def eucDist(a, b):    \n",
    "    return np.sqrt(np.sum((a - b) ** 2, axis=1))   \n",
    "\n",
    "def predict(_x_train, _y_train, _x_test, k):\n",
    "    distArray = eucDist(_x_train, _x_test)\n",
    "    # stack distances on training labels\n",
    "    label_distance = np.stack((distArray, _y_train), axis= 0)        \n",
    "    # sort array by distance, i.e. first row and \n",
    "    # return second row consisting of labels pertaining to respective training points\n",
    "    predicted_labels = label_distance[1, label_distance[0,].argsort() ][:k] \n",
    "    # return most common label amongst k neighbours \n",
    "    return Counter(predicted_labels).most_common(1)[0][0]\n",
    "\n",
    "def kNearestNeighbor(_x_train, _y_train, _x_test, predicted, k):\n",
    "    for i in range(len(_x_test)):\n",
    "        predicted[i] = predict(_x_train, _y_train, _x_test[i,:], k)\n",
    "    \n",
    "def accuracyScore(known_labels, predicted_labels):\n",
    "    accD = Counter(known_labels==predicted_labels)\n",
    "    return accD[True] / (sum(accD.values()) * 1.0)    \n",
    "\n",
    "# initialise predicted array to -1\n",
    "predicted = np.full((len(y_test)),-1)\n",
    "k = 1\n",
    "kNearestNeighbor(x_train, y_train, x_test, predicted, k)\n",
    "\n",
    "# plot test set; colour mapped to predicted label\n",
    "#for i in range(len(x_test)):\n",
    "#    plt.plot(x_test[i,0], x_test[i,1], col[int(predicted[i])])\n",
    "#plt.show()\n",
    "print(predicted)\n",
    "print(y_test)\n",
    "print(\"Accuracy using k=%d is %f\" % (k, accuracyScore(y_test, predicted)))\n"
   ]
  },
  {
   "cell_type": "code",
   "execution_count": 17,
   "metadata": {},
   "outputs": [
    {
     "name": "stdout",
     "output_type": "stream",
     "text": [
      "0.688888888889\n"
     ]
    }
   ],
   "source": [
    "# try out scikit kNN implementation\n",
    "# loading library\n",
    "from sklearn.neighbors import KNeighborsClassifier\n",
    "from sklearn.metrics import accuracy_score\n",
    "\n",
    "# instantiate learning model (k = 10)\n",
    "knn = KNeighborsClassifier(n_neighbors=1)\n",
    "\n",
    "# fitting the model\n",
    "knn.fit(x_train, y_train)\n",
    "\n",
    "# predict the response\n",
    "pred = knn.predict(x_test)\n",
    "\n",
    "# evaluate accuracy\n",
    "print accuracy_score(y_test, pred)\n"
   ]
  },
  {
   "cell_type": "code",
   "execution_count": 12,
   "metadata": {},
   "outputs": [
    {
     "name": "stdout",
     "output_type": "stream",
     "text": [
      "[1, 3, 5, 7, 9, 11, 13, 15, 17, 19, 21, 23, 25, 27, 29]\n"
     ]
    }
   ],
   "source": [
    "# reproduced from https://kevinzakka.github.io/2016/07/13/k-nearest-neighbor/\n",
    "from sklearn.neighbors import KNeighborsClassifier\n",
    "from sklearn.cross_validation import train_test_split\n",
    "from sklearn.model_selection import cross_val_score\n",
    "\n",
    "# perform K-fold cross validation to tune hyper-parameters, specifically k\n",
    "myList = list(range(1,30))\n",
    "\n",
    "# subsetting just the odd ones\n",
    "neighbors = filter(lambda x: x % 2 != 0, myList)\n",
    "\n",
    "# empty list that will hold cv scores\n",
    "cv_scores = []\n",
    "# perform 10-fold cross validation\n",
    "for k in neighbors:\n",
    "    knn = KNeighborsClassifier(n_neighbors=k)    \n",
    "    scores = cross_val_score(knn, x_train, y_train, cv=10, scoring='accuracy')\n",
    "    cv_scores.append(scores.mean())\n",
    "\n"
   ]
  },
  {
   "cell_type": "code",
   "execution_count": 14,
   "metadata": {},
   "outputs": [
    {
     "name": "stdout",
     "output_type": "stream",
     "text": [
      "The optimal number of neighbors is 1\n"
     ]
    },
    {
     "data": {
      "image/png": "[encoded data removed]",
      "text/plain": [
       "<matplotlib.figure.Figure at 0x7f36ab8f4850>"
      ]
     },
     "metadata": {},
     "output_type": "display_data"
    }
   ],
   "source": [
    "# plot error against ideal k\n",
    "MSE = [1 - x for x in cv_scores]\n",
    "\n",
    "# determining best k\n",
    "optimal_k = neighbors[MSE.index(min(MSE))]\n",
    "print \"The optimal number of neighbors is %d\" % optimal_k\n",
    "\n",
    "# plot misclassification error vs k\n",
    "plt.plot(neighbors, MSE)\n",
    "plt.xlabel('Number of Neighbors K')\n",
    "plt.ylabel('Misclassification Error')\n",
    "plt.show()"
   ]
  }
 ],
 "metadata": {
  "kernelspec": {
   "display_name": "Python 2",
   "language": "python",
   "name": "python2"
  },
  "language_info": {
   "codemirror_mode": {
    "name": "ipython",
    "version": 2
   },
   "file_extension": ".py",
   "mimetype": "text/x-python",
   "name": "python",
   "nbconvert_exporter": "python",
   "pygments_lexer": "ipython2",
   "version": "2.7.12"
  }
 },
 "nbformat": 4,
 "nbformat_minor": 2
}
