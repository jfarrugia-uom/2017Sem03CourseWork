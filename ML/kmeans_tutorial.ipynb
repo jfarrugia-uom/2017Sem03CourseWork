{
 "cells": [
  {
   "cell_type": "markdown",
   "metadata": {},
   "source": [
    "# k-Means Implementation"
   ]
  },
  {
   "cell_type": "markdown",
   "metadata": {},
   "source": [
    "We first import two useful libraries\n",
    "1. numpy (matrix algebra):  we use np as a shortcut\n",
    "2. plyplot from matplotlib: useful for plotting charts: we use plt as a shortcut\n",
    "3. use tab and shift+tab for help"
   ]
  },
  {
   "cell_type": "code",
   "execution_count": 1,
   "metadata": {
    "collapsed": true
   },
   "outputs": [],
   "source": [
    "import numpy as np\n",
    "import matplotlib.pyplot as plt"
   ]
  },
  {
   "cell_type": "code",
   "execution_count": 154,
   "metadata": {},
   "outputs": [
    {
     "name": "stdout",
     "output_type": "stream",
     "text": [
      "[[ 0.2   0.8 ]\n",
      " [ 0.4   0.25]\n",
      " [ 0.8   0.62]]\n",
      "30 points generated\n"
     ]
    }
   ],
   "source": [
    "# first we create a few centroids and some random points around them\n",
    "np.random.seed(3)\n",
    "centroid_count = 3\n",
    "sigma = 0.07\n",
    "n = 10\n",
    "\n",
    "# initialise centroids randomly\n",
    "#centroid_array = 0.6 * np.random.rand(centroid_count,2) + 0.15\n",
    "# initialise centroids manually\n",
    "centroid_array = np.array([[0.2, 0.8], [0.4, 0.25], [0.8, 0.62]])\n",
    "print(centroid_array)\n",
    "\n",
    "# create \"emtpy\" array having a valid structure\n",
    "points = np.empty((0,2),float)\n",
    "for centr in centroid_array:    \n",
    "    points = np.vstack((points,sigma * np.random.randn(n,2) + centr))\n",
    "\n",
    "print(\"%d points generated\" % (len(points)))\n",
    "#points = sigma * np.random.randn(n,2) + centroid_array[0,:]\n",
    "#points = sigma * np.random.randn(n,2) + centroid_array[0,:]\n",
    "\n",
    "#x= sigma*np.random.randn(10)+centroid[0]\n",
    "#y= sigma*np.random.randn(10)+centroid[1]\n",
    "#print(x)\n",
    "#print(y)\n"
   ]
  },
  {
   "cell_type": "code",
   "execution_count": 155,
   "metadata": {},
   "outputs": [
    {
     "data": {
      "image/png": "[encoded data removed]",
      "text/plain": [
       "<matplotlib.figure.Figure at 0x7f9ac4f9c590>"
      ]
     },
     "metadata": {},
     "output_type": "display_data"
    }
   ],
   "source": [
    "# plot clusters\n",
    "plt.figure()\n",
    "plt.plot(points[:,0],points[:,1],\"bo\")\n",
    "plt.plot(centroid_array[:,0],centroid_array[:,1], 'ro')\n",
    "plt.axis([0, 1.0, 0, 1.0])\n",
    "plt.show()\n",
    "plt.close()"
   ]
  },
  {
   "cell_type": "code",
   "execution_count": 167,
   "metadata": {},
   "outputs": [
    {
     "name": "stdout",
     "output_type": "stream",
     "text": [
      "[[ 0.78707462  0.58608793]\n",
      " [ 0.38621755  0.22691645]\n",
      " [ 0.21074971  0.77659209]]\n",
      "[2 2 2 2 2 2 2 2 2 2 1 1 1 1 1 1 1 1 1 1 0 0 0 0 0 0 0 0 0 0]\n",
      "Iterations until convergence: 3\n"
     ]
    }
   ],
   "source": [
    "# cluster size\n",
    "k = 3\n",
    "max_iterations = 100\n",
    "threshold = 0.001\n",
    "# create k random centroids\n",
    "np.random.seed(15)\n",
    "estimated_centroids = np.random.rand(k, 2)\n",
    "\n",
    "# measure each points distance to each centroid, and for each point select the centroid that is closest\n",
    "def eucDist(a, b):    \n",
    "    return np.sqrt(np.sum((a - b) ** 2, axis=1))   \n",
    "\n",
    "# allocate cluster array\n",
    "est_clusters = np.zeros((len(points), ), dtype=np.int)\n",
    "# initialise preceding centroids\n",
    "preceding_centroids = np.zeros(np.shape(estimated_centroids))\n",
    "iteration = 0\n",
    "while (np.mean(estimated_centroids - preceding_centroids) > threshold and (iteration < max_iterations)):\n",
    "    preceding_centroids = estimated_centroids.copy()\n",
    "    for idx in range(0,len(points)):\n",
    "        # measure distance between each point and estimated centroid and select centroid having min distance\n",
    "        est_clusters[idx] = np.argmin((eucDist(points[idx,:], estimated_centroids)))    \n",
    "    # calculate new centroids based on mean point in each estimated cluster at iterations iter\n",
    "    for idx in range(0, k):\n",
    "        cluster_pts = points[np.nonzero(est_clusters == idx)]        \n",
    "        if (len(cluster_pts) > 1):\n",
    "            # update centroids\n",
    "            estimated_centroids[idx] = np.sum(cluster_pts, axis= 0)/len(cluster_pts)\n",
    "    iteration += 1 \n",
    "\n",
    "print(estimated_centroids)\n",
    "#np.reshape(est_clusters,(-1,1)))\n",
    "print(est_clusters)\n",
    "print(\"Iterations until convergence: %d\" %(iteration) )\n"
   ]
  },
  {
   "cell_type": "code",
   "execution_count": 157,
   "metadata": {},
   "outputs": [
    {
     "data": {
      "image/png": "[encoded data removed]",
      "text/plain": [
       "<matplotlib.figure.Figure at 0x7f9ac5361510>"
      ]
     },
     "metadata": {},
     "output_type": "display_data"
    }
   ],
   "source": [
    "plt.plot(points[:,0],points[:,1], \"bo\")\n",
    "plt.plot(centroid_array[:,0], centroid_array[:,1], 'ro')\n",
    "plt.plot(estimated_centroids[:,0], estimated_centroids[:,1], 'go')\n",
    "plt.axis([0, 1.0, 0, 1.0])\n",
    "plt.show()\n",
    "plt.close()"
   ]
  }
 ],
 "metadata": {
  "kernelspec": {
   "display_name": "Python 2",
   "language": "python",
   "name": "python2"
  },
  "language_info": {
   "codemirror_mode": {
    "name": "ipython",
    "version": 2
   },
   "file_extension": ".py",
   "mimetype": "text/x-python",
   "name": "python",
   "nbconvert_exporter": "python",
   "pygments_lexer": "ipython2",
   "version": "2.7.12"
  }
 },
 "nbformat": 4,
 "nbformat_minor": 1
}
