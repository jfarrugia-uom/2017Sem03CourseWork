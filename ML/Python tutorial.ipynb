{
 "cells": [
  {
   "cell_type": "code",
   "execution_count": 1,
   "metadata": {},
   "outputs": [
    {
     "name": "stdout",
     "output_type": "stream",
     "text": [
      "[1, 1, 2, 3, 6, 8, 10]\n"
     ]
    }
   ],
   "source": [
    "def quicksort(arr):\n",
    "    if len(arr) <= 1:\n",
    "        return arr\n",
    "    pivot = arr[len(arr) // 2]\n",
    "    left = [x for x in arr if x < pivot]\n",
    "    middle = [x for x in arr if x == pivot]\n",
    "    right = [x for x in arr if x > pivot]\n",
    "    return quicksort(left) + middle + quicksort(right)\n",
    "\n",
    "print(quicksort([3,6,8,10,1,2,1]))\n",
    "# Prints \"[1, 1, 2, 3, 6, 8, 10]\"\n",
    "\n"
   ]
  },
  {
   "cell_type": "code",
   "execution_count": 2,
   "metadata": {},
   "outputs": [
    {
     "name": "stdout",
     "output_type": "stream",
     "text": [
      "<type 'int'>\n",
      "3\n",
      "4\n",
      "2\n",
      "6\n",
      "9\n",
      "4\n",
      "8\n",
      "<type 'float'>\n",
      "(2.5, 3.5, 5.0, 6.25)\n"
     ]
    }
   ],
   "source": [
    "x = 3\n",
    "print(type(x)) # Prints \"<class 'int'>\"\n",
    "print(x)       # Prints \"3\"\n",
    "print(x + 1)   # Addition; prints \"4\"\n",
    "print(x - 1)   # Subtraction; prints \"2\"\n",
    "print(x * 2)   # Multiplication; prints \"6\"\n",
    "print(x ** 2)  # Exponentiation; prints \"9\"\n",
    "x += 1\n",
    "print(x)  # Prints \"4\"\n",
    "x *= 2\n",
    "print(x)  # Prints \"8\"\n",
    "y = 2.5\n",
    "print(type(y)) # Prints \"<class 'float'>\"\n",
    "print(y, y + 1, y * 2, y ** 2) # Prints \"2.5 3.5 5.0 6.25\"\n",
    "\n"
   ]
  },
  {
   "cell_type": "code",
   "execution_count": 3,
   "metadata": {},
   "outputs": [
    {
     "name": "stdout",
     "output_type": "stream",
     "text": [
      "<type 'bool'>\n",
      "False\n",
      "True\n",
      "False\n",
      "True\n"
     ]
    }
   ],
   "source": [
    "t = True\n",
    "f = False\n",
    "print(type(t)) # Prints \"<class 'bool'>\"\n",
    "print(t and f) # Logical AND; prints \"False\"\n",
    "print(t or f)  # Logical OR; prints \"True\"\n",
    "print(not t)   # Logical NOT; prints \"False\"\n",
    "print(t != f)  # Logical XOR; prints \"True\"\n",
    "\n"
   ]
  },
  {
   "cell_type": "code",
   "execution_count": 4,
   "metadata": {},
   "outputs": [
    {
     "name": "stdout",
     "output_type": "stream",
     "text": [
      "hello\n",
      "5\n",
      "hello world\n",
      "hello world 12\n",
      "Hello\n",
      "HELLO\n",
      "  hello\n",
      " hello \n",
      "he(ell)(ell)o\n",
      "world\n"
     ]
    }
   ],
   "source": [
    "hello = 'hello'    # String literals can use single quotes\n",
    "world = \"world\"    # or double quotes; it does not matter.\n",
    "print(hello)       # Prints \"hello\"\n",
    "print(len(hello))  # String length; prints \"5\"\n",
    "hw = hello + ' ' + world  # String concatenation\n",
    "print(hw)  # prints \"hello world\"\n",
    "hw12 = '%s %s %d' % (hello, world, 12)  # sprintf style string formatting\n",
    "print(hw12)  # prints \"hello world 12\"\n",
    "\n",
    "s = \"hello\"\n",
    "print(s.capitalize())  # Capitalize a string; prints \"Hello\"\n",
    "print(s.upper())       # Convert a string to uppercase; prints \"HELLO\"\n",
    "print(s.rjust(7))      # Right-justify a string, padding with spaces; prints \"  hello\"\n",
    "print(s.center(7))     # Center a string, padding with spaces; prints \" hello \"\n",
    "print(s.replace('l', '(ell)'))  # Replace all instances of one substring with another;\n",
    "                                # prints \"he(ell)(ell)o\"\n",
    "print('  world '.strip())  # Strip leading and trailing whitespace; prints \"world\"\n"
   ]
  },
  {
   "cell_type": "code",
   "execution_count": 5,
   "metadata": {},
   "outputs": [
    {
     "name": "stdout",
     "output_type": "stream",
     "text": [
      "[3, 2, 1]\n",
      "([3, 2, 1], 1)\n",
      "1\n",
      "[3, 2, 'foo']\n",
      "[3, 2, 'foo', 'bar']\n",
      "('bar', [3, 2, 'foo'])\n"
     ]
    }
   ],
   "source": [
    "xs = [3,2,1]\n",
    "print(xs)\n",
    "print(xs, xs[2])  # Prints \"[3, 1, 2] 2\"\n",
    "print(xs[-1])     # Negative indices count from the end of the list; prints \"2\"\n",
    "xs[2] = 'foo'     # Lists can contain elements of different types\n",
    "print(xs)         # Prints \"[3, 1, 'foo']\"\n",
    "xs.append('bar')  # Add a new element to the end of the list\n",
    "print(xs)         # Prints \"[3, 1, 'foo', 'bar']\"\n",
    "x = xs.pop()      # Remove and return the last element of the list\n",
    "print(x, xs)      # Prints \"bar [3, 1, 'foo']\""
   ]
  },
  {
   "cell_type": "code",
   "execution_count": 6,
   "metadata": {},
   "outputs": [
    {
     "name": "stdout",
     "output_type": "stream",
     "text": [
      "[0, 1, 2, 3, 4]\n",
      "[2, 3]\n",
      "[2, 3, 4]\n",
      "[0, 1]\n",
      "[0, 1, 2, 3, 4]\n",
      "[0, 1, 2, 3]\n",
      "[0, 1, 8, 9, 4]\n"
     ]
    }
   ],
   "source": [
    "nums = list(range(5))     # range is a built-in function that creates a list of integers\n",
    "print(nums)               # Prints \"[0, 1, 2, 3, 4]\"\n",
    "print(nums[2:4])          # Get a slice from index 2 to 4 (exclusive); prints \"[2, 3]\"\n",
    "print(nums[2:])           # Get a slice from index 2 to the end; prints \"[2, 3, 4]\"\n",
    "print(nums[:2])           # Get a slice from the start to index 2 (exclusive); prints \"[0, 1]\"\n",
    "print(nums[:])            # Get a slice of the whole list; prints \"[0, 1, 2, 3, 4]\"\n",
    "print(nums[:-1])          # Slice indices can be negative; prints \"[0, 1, 2, 3]\"\n",
    "nums[2:4] = [8, 9]        # Assign a new sublist to a slice\n",
    "print(nums)               # Prints \"[0, 1, 8, 9, 4]\""
   ]
  },
  {
   "cell_type": "code",
   "execution_count": 7,
   "metadata": {},
   "outputs": [
    {
     "name": "stdout",
     "output_type": "stream",
     "text": [
      "monkey\n",
      "lion\n",
      "elephant\n",
      "#1: monkey\n",
      "#2: lion\n",
      "#3: elephant\n"
     ]
    }
   ],
   "source": [
    "animals = ['monkey','lion','elephant']\n",
    "for animal in animals:\n",
    "    print(animal)\n",
    "    \n",
    "for idx, animal in enumerate(animals):\n",
    "    print('#%d: %s' % (idx + 1, animal))"
   ]
  },
  {
   "cell_type": "code",
   "execution_count": 8,
   "metadata": {},
   "outputs": [
    {
     "name": "stdout",
     "output_type": "stream",
     "text": [
      "[1, 25, 36]\n",
      "[0, 24, 35]\n",
      "[35]\n"
     ]
    }
   ],
   "source": [
    "inputs = [1,5,6]\n",
    "squares = []\n",
    "for input in inputs:\n",
    "    squares.append(input**2)\n",
    "print(squares)\n",
    "minus_one = [x - 1 for x in squares]         # list comprehension\n",
    "print(minus_one)                 \n",
    "make_odd = [x - 1 for x in squares if x % 2==0]      # list comprehension with condition\n",
    "print(make_odd)"
   ]
  },
  {
   "cell_type": "code",
   "execution_count": 9,
   "metadata": {},
   "outputs": [
    {
     "name": "stdout",
     "output_type": "stream",
     "text": [
      "True\n",
      "False\n",
      "wet\n",
      "None\n",
      "None\n"
     ]
    }
   ],
   "source": [
    "# dictionaries \n",
    "animal_d = {'cat':'fluffy', 'dog':'smelly'}\n",
    "animal_d['cat'] # get value for key 'cat'\n",
    "print('cat' in animal_d)   # check for presence of key in dictionary\n",
    "print('bird' in animal_d)\n",
    "animal_d['fish'] = 'wet'\n",
    "print(animal_d['fish'])\n",
    "print(animal_d.get('bird')) # gets value for key; if not exists defaults to None\n",
    "del animal_d['fish']\n",
    "print(animal_d.get('fish'))"
   ]
  },
  {
   "cell_type": "code",
   "execution_count": 10,
   "metadata": {},
   "outputs": [
    {
     "name": "stdout",
     "output_type": "stream",
     "text": [
      "Animal person has 2 legs\n",
      "Animal octopus has 8 legs\n",
      "Animal dog has 4 legs\n",
      "Animal person has 2 legs\n",
      "Animal octopus has 8 legs\n",
      "Animal dog has 4 legs\n"
     ]
    }
   ],
   "source": [
    "legs = {'person':2, 'dog':4, 'octopus':8}\n",
    "for item in legs:\n",
    "    print('Animal %s has %d legs' % (item, legs[item]))\n",
    "    \n",
    "# to access keys and values at one go\n",
    "for animal, limbs in legs.items():\n",
    "    print('Animal %s has %d legs' % (animal, limbs))"
   ]
  },
  {
   "cell_type": "code",
   "execution_count": 11,
   "metadata": {},
   "outputs": [
    {
     "name": "stdout",
     "output_type": "stream",
     "text": [
      "{0: 0, 1: 1, 2: 4, 3: 9, 4: 16, 5: 25}\n"
     ]
    }
   ],
   "source": [
    "nums = [0,1,2,3,4,5]\n",
    "squares = {x: x**2 for x in nums}  # construct dictionary from list comprehension\n",
    "print(squares)"
   ]
  },
  {
   "cell_type": "code",
   "execution_count": 12,
   "metadata": {},
   "outputs": [
    {
     "name": "stdout",
     "output_type": "stream",
     "text": [
      "True\n",
      "True\n",
      "set length = 4\n",
      "set length = 3\n",
      "Item @ idx[1] = meatloaf\n",
      "Item @ idx[2] = curry\n",
      "Item @ idx[3] = pizza\n",
      "<type 'set'>\n"
     ]
    }
   ],
   "source": [
    "food = {'pasta', 'curry', 'pizza'} # sets\n",
    "print ('pasta' in food)\n",
    "print ('burger' not in food)\n",
    "food.add('meatloaf')\n",
    "food.add('curry') # set should contain distinct elements\n",
    "print ('set length = %d' % (len(food)))\n",
    "food.remove('pasta')\n",
    "print ('set length = %d' % (len(food)))\n",
    "for idx, item in enumerate(food):\n",
    "    print('Item @ idx[%d] = %s' % (idx + 1, item))\n",
    "\n",
    "number_set = {x for x in range(10)} # generate set\n",
    "print(type(number_set)) # check that resultant type is set"
   ]
  },
  {
   "cell_type": "code",
   "execution_count": 251,
   "metadata": {},
   "outputs": [
    {
     "name": "stdout",
     "output_type": "stream",
     "text": [
      "{(0, 1): 0, (1, 2): 1, (6, 7): 6, (5, 6): 5, (7, 8): 7, (8, 9): 8, (4, 5): 4, (2, 3): 2, (9, 10): 9, (3, 4): 3}\n",
      "5\n",
      "1\n",
      "Index 0 = 5\n",
      "Index 1 = 6\n",
      "5\n",
      "6\n",
      "First element of tuple = 5\n"
     ]
    }
   ],
   "source": [
    "# playing with tuples\n",
    "tuple_d = {(x, x+1) : x for x in range(10)}\n",
    "print(tuple_d)\n",
    "t = (5,6)\n",
    "print(tuple_d[t]) # will print 5\n",
    "print(tuple_d[(1,2)]) # will print 1\n",
    "# get length of tuple\n",
    "len(t)\n",
    "# enumerate a tuple\n",
    "for idx, item in enumerate(t):\n",
    "    print(\"Index %d = %d\" % (idx,item))\n",
    "# iterate over a tuple\n",
    "for item in t:\n",
    "    print(item)\n",
    "# print element i of tuple\n",
    "print(\"First element of tuple = %d\" % (t[0]))"
   ]
  },
  {
   "cell_type": "code",
   "execution_count": 14,
   "metadata": {},
   "outputs": [
    {
     "name": "stdout",
     "output_type": "stream",
     "text": [
      "10.0\n"
     ]
    }
   ],
   "source": [
    "import math as mt\n",
    "# function example\n",
    "def getAbsolute(x):\n",
    "    return mt.fabs(x)\n",
    "\n",
    "print(getAbsolute(-10))"
   ]
  },
  {
   "cell_type": "code",
   "execution_count": 15,
   "metadata": {},
   "outputs": [
    {
     "name": "stdout",
     "output_type": "stream",
     "text": [
      "Hello, Bob\n",
      "HELLO, FRED!\n"
     ]
    }
   ],
   "source": [
    "def hello(name, loud=False):\n",
    "    if loud:\n",
    "        print('HELLO, %s!' % name.upper())\n",
    "    else:\n",
    "        print('Hello, %s' % name)\n",
    "\n",
    "hello('Bob') # Prints \"Hello, Bob\"\n",
    "hello('Fred', loud=True)  # Prints \"HELLO, FRED!\"\n",
    "\n"
   ]
  },
  {
   "cell_type": "markdown",
   "metadata": {},
   "source": [
    "# Numpy Tutorial Starts Here"
   ]
  },
  {
   "cell_type": "code",
   "execution_count": 16,
   "metadata": {},
   "outputs": [
    {
     "name": "stdout",
     "output_type": "stream",
     "text": [
      "[1 2 3]\n",
      "<type 'numpy.ndarray'>\n",
      "(3,)\n",
      "Array length = 3\n",
      "1\n",
      "2\n",
      "3\n",
      "(0, 1)\n",
      "(1, 2)\n",
      "(2, 3)\n",
      "3\n",
      "5\n"
     ]
    }
   ],
   "source": [
    "import numpy as np\n",
    "# create single dimensional array (aka rank 1 array)\n",
    "my_array = np.array([1, 2, 3])\n",
    "# print array\n",
    "print(my_array)\n",
    "# print type\n",
    "print(type(my_array))\n",
    "print(my_array.shape)\n",
    "print(\"Array length = %d\" % (my_array.shape[0]))\n",
    "# iterate over array\n",
    "for i in my_array:\n",
    "    print(i)\n",
    "\n",
    "# enumerate array\n",
    "for idx, item in enumerate(my_array):\n",
    "    print(idx, item)\n",
    "\n",
    "# get last element of array    \n",
    "print(my_array[-1])\n",
    "# assign last element of array to 5\n",
    "my_array[2] = 5\n",
    "print(my_array[-1])\n"
   ]
  },
  {
   "cell_type": "code",
   "execution_count": 24,
   "metadata": {},
   "outputs": [
    {
     "name": "stdout",
     "output_type": "stream",
     "text": [
      "(4, 3)\n",
      "[[ 1  3  2]\n",
      " [ 4  6  5]\n",
      " [ 7  8  9]\n",
      " [10 11 12]]\n",
      "Array dimension = 2\n",
      "9\n",
      "[array([2, 6, 4]), array([ 8, 12, 10]), array([14, 16, 18]), array([20, 22, 24])]\n",
      "x (<type 'numpy.ndarray'>) = 1\n",
      "x (<type 'numpy.ndarray'>) = 3\n",
      "x (<type 'numpy.ndarray'>) = 2\n",
      "x (<type 'numpy.ndarray'>) = 4\n",
      "x (<type 'numpy.ndarray'>) = 6\n",
      "x (<type 'numpy.ndarray'>) = 5\n",
      "x (<type 'numpy.ndarray'>) = 7\n",
      "x (<type 'numpy.ndarray'>) = 8\n",
      "x (<type 'numpy.ndarray'>) = 9\n",
      "x (<type 'numpy.ndarray'>) = 10\n",
      "x (<type 'numpy.ndarray'>) = 11\n",
      "x (<type 'numpy.ndarray'>) = 12\n"
     ]
    }
   ],
   "source": [
    "# create two-dimensional array\n",
    "my_array2 = np.array([[1,3,2], [4,6,5], [7,8,9], [10,11,12]])\n",
    "print(my_array2.shape)\n",
    "print(my_array2)\n",
    "# print dimension count\n",
    "print(\"Array dimension = %d\" % (len(my_array2.shape)))\n",
    "\n",
    "print(my_array2[2][2])\n",
    "print([x*2 for x in my_array2])\n",
    "\n",
    "# using numpy iterator to iterate over array\n",
    "for x in np.nditer(my_array2, order='K'):\n",
    "    print(\"x (%s) = %d\" % (type(x), x))\n",
    "    \n"
   ]
  },
  {
   "cell_type": "code",
   "execution_count": 250,
   "metadata": {},
   "outputs": [
    {
     "name": "stdout",
     "output_type": "stream",
     "text": [
      "[[ 0.  0.]\n",
      " [ 0.  0.]]\n",
      "[[ 1.  0.]\n",
      " [ 0.  1.]]\n",
      "[[7 7 7]\n",
      " [7 7 7]\n",
      " [7 7 7]]\n",
      "[[ 0.59595628  0.13341135]\n",
      " [ 0.3309788   0.71264788]]\n",
      "[0 1 2 3 4]\n",
      "[0 1 2 3 4 5 6 7]\n"
     ]
    }
   ],
   "source": [
    "# create arrays with numpy\n",
    "zero_array = np.zeros((2,2)) # create 2 x 2 array\n",
    "print(zero_array)\n",
    "\n",
    "# create identity matrix\n",
    "id_matrix = np.eye(2)\n",
    "print(id_matrix)\n",
    "\n",
    "# create full matrix\n",
    "print(np.full((3,3), 7))\n",
    "# create random array\n",
    "rand_array = np.random.random((2,2))\n",
    "print(rand_array)\n",
    "\n",
    "# append arrays\n",
    "a1 = np.arange(5)\n",
    "print(a1)\n",
    "a1 = np.append(a1, np.array([5,6,7]))\n",
    "print(a1)"
   ]
  },
  {
   "cell_type": "code",
   "execution_count": 43,
   "metadata": {},
   "outputs": [
    {
     "name": "stdout",
     "output_type": "stream",
     "text": [
      "[[ 1  2  3  4]\n",
      " [ 5  6  7  8]\n",
      " [ 9 10 11 12]]\n",
      "[[2 3]\n",
      " [6 7]]\n",
      "77\n"
     ]
    }
   ],
   "source": [
    "# array indexing and slicing\n",
    "a = np.array([[1,2,3,4], [5,6,7,8], [9,10,11,12]])\n",
    "print(a)\n",
    "\n",
    "# slice array across both dimensions\n",
    "b = a[:2, 1:3]\n",
    "print(b)\n",
    "# a[1,1] == a[1][1]\n",
    "b[0, 0] = 77   # this will assign 77 to both b[0,0] and a[0,1]\n",
    "print(a[0,1])"
   ]
  },
  {
   "cell_type": "code",
   "execution_count": 225,
   "metadata": {},
   "outputs": [
    {
     "name": "stdout",
     "output_type": "stream",
     "text": [
      "[ 2  6 10]\n",
      "[[ 3  4]\n",
      " [ 7  8]\n",
      " [11 12]]\n",
      "(3,)\n",
      "[[ 2]\n",
      " [ 6]\n",
      " [10]]\n",
      "(3, 1)\n",
      "[5 6 7 8]\n",
      "(4,)\n",
      "[[5 6 7 8]]\n",
      "(1, 4)\n"
     ]
    }
   ],
   "source": [
    "# mixing integer indexing and slice indexing\n",
    "a = np.array([[1,2,3,4], [5,6,7,8], [9,10,11,12]])\n",
    "\n",
    "print(a[:,1]) # transform second column of array in rank 1 array\n",
    "print(a[:,1].shape) # will return (3,)\n",
    "\n",
    "print(a[:, 1:2]) # isolate second column of array in 2D array: 3 rows by 1 column\n",
    "print(a[:, 1:2].shape) # will return (3,1)\n",
    "\n",
    "print(a[1, :]) # isolate second row of array in rank 1 array\n",
    "print(a[1, :].shape) # will return (4,)\n",
    "print(a[1:2, :]) # isolate second row of array in 2D arrays: 1 row by 4 columns\n",
    "print(a[1:2, :].shape)  # (1,4)"
   ]
  },
  {
   "cell_type": "code",
   "execution_count": 95,
   "metadata": {},
   "outputs": [
    {
     "name": "stdout",
     "output_type": "stream",
     "text": [
      "[[ 1  2  3  4]\n",
      " [ 9 10 11 12]]\n",
      "[ 1 10]\n",
      "[ 4  7 10]\n",
      "[5 5]\n"
     ]
    }
   ],
   "source": [
    "# examples of integer array indexing\n",
    "print(a[[0,2]]) # returns sub-array of original array; in this case 1st and last row\n",
    "print(a[[0,2],[0,1]]) # should return [1,10]\n",
    "print(a[[0,1,2],[3,2,1]]) # should return [4,7,10]\n",
    "# we can also reuse element from same array\n",
    "print(a[[1,1],[0,0]]) # should print [5,5]"
   ]
  },
  {
   "cell_type": "code",
   "execution_count": 107,
   "metadata": {},
   "outputs": [
    {
     "name": "stdout",
     "output_type": "stream",
     "text": [
      "[[ 1  2  3]\n",
      " [ 4  5  6]\n",
      " [ 7  8  9]\n",
      " [10 11 12]]\n",
      "[0 1 2 3]\n",
      "[ 1  4  7 10]\n",
      "[[11  2  3]\n",
      " [14  5  6]\n",
      " [17  8  9]\n",
      " [20 11 12]]\n"
     ]
    }
   ],
   "source": [
    "# integer array indexing continued\n",
    "a = np.array([[1,2,3],[4,5,6],[7,8,9],[10,11,12]])\n",
    "print(a)\n",
    "# create array of indices\n",
    "b = np.array([0,0,0,0])\n",
    "# generate array containing range of 4 sequential number 0-3\n",
    "print(np.arange(4))\n",
    "# select one element from each row using elements in b\n",
    "print(a[np.arange(4), b])\n",
    "# add 10 to elements in first column\n",
    "a[np.arange(4), b]+=10\n",
    "print(a)"
   ]
  },
  {
   "cell_type": "code",
   "execution_count": 119,
   "metadata": {},
   "outputs": [
    {
     "name": "stdout",
     "output_type": "stream",
     "text": [
      "[[ True False False]\n",
      " [ True False False]\n",
      " [ True False False]\n",
      " [ True  True  True]]\n",
      "[11 14 17 20 11 12]\n",
      "[11 14 17 20 11 12]\n"
     ]
    },
    {
     "data": {
      "text/plain": [
       "array([22, 28, 34, 40, 22, 24])"
      ]
     },
     "execution_count": 119,
     "metadata": {},
     "output_type": "execute_result"
    }
   ],
   "source": [
    "# boolean indexing\n",
    "bool_idx = a > 10   # select elements > 10\n",
    "print(bool_idx)\n",
    "\n",
    "print(a[bool_idx])\n",
    "# same outcome can achieved in 1 concise statement\n",
    "print(a[a>10])\n",
    "# find elements in array greater than 10 and multiply those by 2\n",
    "a[a>10] * 2"
   ]
  },
  {
   "cell_type": "code",
   "execution_count": 131,
   "metadata": {},
   "outputs": [
    {
     "name": "stdout",
     "output_type": "stream",
     "text": [
      "[[  6.   8.]\n",
      " [ 10.  12.]]\n",
      "[[  6.   8.]\n",
      " [ 10.  12.]]\n",
      "[[ 4.  4.]\n",
      " [ 4.  4.]]\n",
      "[[ 4.  4.]\n",
      " [ 4.  4.]]\n",
      "[[  5.  12.]\n",
      " [ 21.  32.]]\n",
      "[[  5.  12.]\n",
      " [ 21.  32.]]\n",
      "[[ 0.2         0.33333333]\n",
      " [ 0.42857143  0.5       ]]\n",
      "[[ 0.2         0.33333333]\n",
      " [ 0.42857143  0.5       ]]\n",
      "[[ 1.          1.41421356]\n",
      " [ 1.73205081  2.        ]]\n"
     ]
    }
   ],
   "source": [
    "# Array arithmetic\n",
    "a = np.array([[1,2], [3,4]], dtype=np.float64)\n",
    "b = np.array([[5,6], [7,8]], dtype=np.float64)\n",
    "print(a+b)\n",
    "print(np.add(a,b))\n",
    "\n",
    "print(b-a)\n",
    "print(np.subtract(b,a))\n",
    "\n",
    "print(a*b)\n",
    "print(np.multiply(a,b))\n",
    "\n",
    "print(a/b)\n",
    "print(np.divide(a,b))\n",
    "\n",
    "print(np.sqrt(a,b))"
   ]
  },
  {
   "cell_type": "code",
   "execution_count": 138,
   "metadata": {},
   "outputs": [
    {
     "name": "stdout",
     "output_type": "stream",
     "text": [
      "219\n",
      "219\n",
      "[[19 22]\n",
      " [43 50]]\n"
     ]
    }
   ],
   "source": [
    "# dot product\n",
    "v = np.array([9,10])\n",
    "w = np.array([11,12])\n",
    "\n",
    "print(v.dot(w))\n",
    "print(np.dot(v,w))\n",
    "\n",
    "x = np.array([[1,2], [3,4]])\n",
    "y = np.array([[5,6], [7,8]])\n",
    "# [1 2]    [5 6]\n",
    "# [3 4]    [7 8]\n",
    "\n",
    "print(x.dot(y))"
   ]
  },
  {
   "cell_type": "code",
   "execution_count": 145,
   "metadata": {},
   "outputs": [
    {
     "name": "stdout",
     "output_type": "stream",
     "text": [
      "10\n",
      "[4 6]\n",
      "[3 7]\n",
      "[[1 3]\n",
      " [2 4]]\n"
     ]
    }
   ],
   "source": [
    "# perform computations on array\n",
    "x = np.array([[1,2], [3,4]])\n",
    "# sum all elements in array\n",
    "print(np.sum(x))\n",
    "# we can also sum along the column (0) and row (1) axes\n",
    "print(np.sum(x, axis=0))\n",
    "print(np.sum(x, axis=1))\n",
    "\n",
    "# transposition of matrix\n",
    "print(x.T)\n",
    "# transposition has no effect on a rank 1 matrix"
   ]
  },
  {
   "cell_type": "code",
   "execution_count": 166,
   "metadata": {},
   "outputs": [
    {
     "name": "stdout",
     "output_type": "stream",
     "text": [
      "[1 2 3]\n",
      "[4 5 6]\n",
      "[7 8 9]\n",
      "[10 11 12]\n",
      "[[ 2  2  4]\n",
      " [ 5  5  7]\n",
      " [ 8  8 10]\n",
      " [11 11 13]]\n",
      "[[1 0 1]\n",
      " [1 0 1]\n",
      " [1 0 1]\n",
      " [1 0 1]]\n",
      "[[ 2  2  4]\n",
      " [ 5  5  7]\n",
      " [ 8  8 10]\n",
      " [11 11 13]]\n",
      "[[ 2  2  4]\n",
      " [ 5  5  7]\n",
      " [ 8  8 10]\n",
      " [11 11 13]]\n",
      "[[ 2  2  4]\n",
      " [ 5  5  7]\n",
      " [ 8  8 10]\n",
      " [11 11 13]]\n"
     ]
    }
   ],
   "source": [
    "# Broadcasting techniques\n",
    "# Adding vector to each row of a matrix\n",
    "x = np.array([[1,2,3], [4,5,6], [7,8,9], [10,11,12]])\n",
    "v = np.array([1,0,1])\n",
    "# create new vector with shape like x\n",
    "y = np.empty_like(x)\n",
    "\n",
    "for idx in range(4):\n",
    "    print(x[idx,:])    \n",
    "    y[idx,:] = x[idx,:] + v\n",
    "print(y)\n",
    "\n",
    "# instead of lopping, we can also using the tile command to create a stack of vectors\n",
    "# first stack 4 instances of the vector v \n",
    "vv = np.tile(v, (4,1))\n",
    "print(vv)\n",
    "print(x + v)\n",
    "print(np.add(x,v))\n",
    "\n",
    "# finally, the addition operator supports broadcasting.  This way two unequally-shaped matrices can be added together\n",
    "print(x + v)"
   ]
  },
  {
   "cell_type": "code",
   "execution_count": 244,
   "metadata": {},
   "outputs": [
    {
     "name": "stdout",
     "output_type": "stream",
     "text": [
      "Shape of vector a is (2,)\n",
      "(3,)\n",
      "(2, 1)\n",
      "[[ 3  4  5]\n",
      " [ 6  8 10]]\n",
      "[[1 4]\n",
      " [2 5]\n",
      " [3 6]]\n",
      "[[ 5  6  7]\n",
      " [ 9 10 11]]\n",
      "[[ 5  6  7]\n",
      " [ 9 10 11]]\n",
      "[[ -2  -4  -6]\n",
      " [ -8 -10 -12]]\n"
     ]
    }
   ],
   "source": [
    "# Broadcasting applications\n",
    "# Compute vector outer product\n",
    "a = np.array([1,2])\n",
    "b = np.array([3,4,5]) \n",
    "print(\"Shape of vector a is %s\" % (a.shape,)) # should be (2,)\n",
    "print(b.shape) # should be (3,)\n",
    "a = np.reshape(a, newshape=(2,1))\n",
    "print(a.shape) # should now be (2,1)\n",
    "\n",
    "print(a * b) # should be (2,3)\n",
    "\n",
    "# add vector to each column of a matrix\n",
    "a = np.array([[1,2,3], [4,5,6]])\n",
    "print(a.T)\n",
    "v = np.array([4,5])\n",
    "print((a.T + v).T)\n",
    "\n",
    "# same result can be obtained by reshaping v into a (2,1)\n",
    "print(a + np.reshape(v, (2,1)) )\n",
    "\n",
    "# multiply (2,3) array with scalar\n",
    "print(a*-2)"
   ]
  },
  {
   "cell_type": "markdown",
   "metadata": {},
   "source": [
    "# SciPy, Matplotlib tutorial starts here"
   ]
  },
  {
   "cell_type": "code",
   "execution_count": 199,
   "metadata": {},
   "outputs": [
    {
     "name": "stdout",
     "output_type": "stream",
     "text": [
      "[[0 1]\n",
      " [1 0]\n",
      " [2 0]]\n",
      "[[ 0.          1.41421356  2.23606798]\n",
      " [ 1.41421356  0.          1.        ]\n",
      " [ 2.23606798  1.          0.        ]]\n"
     ]
    }
   ],
   "source": [
    "from scipy.spatial.distance import pdist, squareform\n",
    "\n",
    "x = np.array([[0,1],[1,0],[2,0]])\n",
    "print(x)\n",
    "# compute distance matrix between points\n",
    "d = squareform(pdist(x, 'euclidean'))\n",
    "print(d)"
   ]
  },
  {
   "cell_type": "code",
   "execution_count": 226,
   "metadata": {
    "scrolled": true
   },
   "outputs": [
    {
     "data": {
      "image/png": "[encoded data removed]",
      "text/plain": [
       "<matplotlib.figure.Figure at 0x7ff7ff707c10>"
      ]
     },
     "metadata": {},
     "output_type": "display_data"
    }
   ],
   "source": [
    "import matplotlib.pyplot as plt\n",
    "\n",
    "x = np.arange(0, 3 * np.pi, 0.1)\n",
    "y_sin = np.sin(x)\n",
    "y_cos = np.cos(x)\n",
    "\n",
    "# superimpose plot, add legend, axes labels\n",
    "plt.plot(x,y_sin)\n",
    "plt.plot(x,y_cos)\n",
    "plt.xlabel('x axis label')\n",
    "plt.ylabel('y axis label')\n",
    "plt.title(\"Sample plot - Sine and Cosine\")\n",
    "plt.legend(['Sine', 'Cosine'])\n",
    "plt.show()\n"
   ]
  },
  {
   "cell_type": "code",
   "execution_count": 243,
   "metadata": {},
   "outputs": [
    {
     "name": "stdout",
     "output_type": "stream",
     "text": [
      "[[ 1  2]\n",
      " [ 3  4]\n",
      " [ 0 10]]\n",
      "[[  1.   2.]\n",
      " [  3.   4.]\n",
      " [  0.  10.]\n",
      " [  2.   3.]\n",
      " [  4.   5.]\n",
      " [  1.  11.]]\n"
     ]
    }
   ],
   "source": [
    "test = np.array([[1,2], [3,4], [0,10]])\n",
    "print (test)\n",
    "test2 = test + np.array([1,1])\n",
    "\n",
    "zero_arr = np.zeros((6,2))\n",
    "#print(zero_arr)\n",
    "zero_arr[np.arange(3)] = test\n",
    "np.arange(3)+3\n",
    "zero_arr[np.arange(3)+3] = test2\n",
    "print(zero_arr)"
   ]
  }
 ],
 "metadata": {
  "kernelspec": {
   "display_name": "Python 2",
   "language": "python",
   "name": "python2"
  },
  "language_info": {
   "codemirror_mode": {
    "name": "ipython",
    "version": 2
   },
   "file_extension": ".py",
   "mimetype": "text/x-python",
   "name": "python",
   "nbconvert_exporter": "python",
   "pygments_lexer": "ipython2",
   "version": "2.7.12"
  }
 },
 "nbformat": 4,
 "nbformat_minor": 2
}
