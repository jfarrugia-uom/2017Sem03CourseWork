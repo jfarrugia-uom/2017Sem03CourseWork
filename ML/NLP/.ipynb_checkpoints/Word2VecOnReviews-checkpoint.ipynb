{
 "cells": [
  {
   "cell_type": "markdown",
   "metadata": {},
   "source": [
    "# Word2Vec example with gensim, NLTK"
   ]
  },
  {
   "cell_type": "code",
   "execution_count": 130,
   "metadata": {
    "collapsed": true
   },
   "outputs": [],
   "source": [
    "import MySQLdb as mysql\n",
    "import pandas as pd\n",
    "import nltk\n",
    "from nltk.corpus import stopwords # Import the stop word list\n",
    "import re # regular expression library\n",
    "\n",
    "import numpy as np"
   ]
  },
  {
   "cell_type": "code",
   "execution_count": null,
   "metadata": {
    "collapsed": true
   },
   "outputs": [],
   "source": [
    "# download text datasets including stop words\n",
    "#nltk.download() "
   ]
  },
  {
   "cell_type": "code",
   "execution_count": 100,
   "metadata": {
    "collapsed": true
   },
   "outputs": [],
   "source": [
    "# hook up to mysql\n",
    "# to fix ascii problem when tokenising, important to specify character set\n",
    "# https://stackoverflow.com/questions/21129020/how-to-fix-unicodedecodeerror-ascii-codec-cant-decode-byte\n",
    "db = mysql.connect(\"localhost\", \"jfarrugia\", \"jfarrugia\", \"yelp_db\", charset='utf8',\n",
    "use_unicode=True)\n",
    "# load some data\n",
    "pd_review = pd.read_sql(\"select id, name, text, stars from toronto_50K_random_reviews\", con=db)\n",
    "# close connection\n",
    "db.close()"
   ]
  },
  {
   "cell_type": "code",
   "execution_count": 101,
   "metadata": {},
   "outputs": [
    {
     "data": {
      "text/plain": [
       "(50000, 4)"
      ]
     },
     "execution_count": 101,
     "metadata": {},
     "output_type": "execute_result"
    }
   ],
   "source": [
    "# confirm review shape\n",
    "pd_review.shape"
   ]
  },
  {
   "cell_type": "code",
   "execution_count": 102,
   "metadata": {},
   "outputs": [
    {
     "data": {
      "text/plain": [
       "u\"Not too bad overall. Got the 4 course menu which included a whole fish (grilled or seared) an appetizer and desert. The fish was wonderful. The pita appetizer was ok but one of the dips was not very good. I can't comment on dessert as I didn't try it. The others at my table seemed to think it was ok. The service was pretty good. Nothing special. We did think it was odd that the waiter spoke to people at the front door while he was taking our order. Not too bad overall. Would go back but won't be sprinting.\""
      ]
     },
     "execution_count": 102,
     "metadata": {},
     "output_type": "execute_result"
    }
   ],
   "source": [
    "# show 1 review\n",
    "pd_review[\"text\"][0]"
   ]
  },
  {
   "cell_type": "code",
   "execution_count": 61,
   "metadata": {},
   "outputs": [],
   "source": [
    "# details from https://www.kaggle.com/c/word2vec-nlp-tutorial#part-1-for-beginners-bag-of-words\n",
    "# lower case all text\n",
    "lc_review = pd_review[\"text\"][0].lower()\n"
   ]
  },
  {
   "cell_type": "code",
   "execution_count": 62,
   "metadata": {},
   "outputs": [],
   "source": [
    "# split one review into separate words\n",
    "words = lc_review.split(\" \")\n",
    "# remove stop words from review text\n",
    "words_no_stop = [w for w in words if w not in stopwords.words(\"english\")]"
   ]
  },
  {
   "cell_type": "code",
   "execution_count": 63,
   "metadata": {},
   "outputs": [
    {
     "name": "stdout",
     "output_type": "stream",
     "text": [
      "[u'came', u'thursday', u'night', u'take', u'advantag', u'groupon', u'husbi', u'purchased.', u'20', u'min', u'wait', u'till', u'got', u'seated.', u'needless', u'say', u'busi', u'restaur', u'-', u'busiest', u'street', u'infact.\\nth', u'server', u'friendli', u'welcoming.', u'felt', u'went', u'way', u'make', u'us', u'comfortable,', u'alway', u'nice!', u'order', u'zil', u'zil', u'tib', u'lalibela', u'special', u'one.', u'huge', u'portions,', u'could', u'finish', u'all.', u'yummi', u'serv', u'bit', u'salti', u'tasting,', u'overal', u'good.', u'however,', u'best', u'ethiopian', u'food', u'had,', u'compare.']\n"
     ]
    }
   ],
   "source": [
    "from nltk.stem.porter import PorterStemmer\n",
    "# removel morphological affices from words, leaving word stem\n",
    "stemmer = PorterStemmer()\n",
    "words_no_stop_stem = [stemmer.stem(w) for w in words_no_stop]\n",
    "print words_no_stop_stem"
   ]
  },
  {
   "cell_type": "code",
   "execution_count": 50,
   "metadata": {},
   "outputs": [],
   "source": [
    "def process_review(base_review, remove_stop=False, stem = False, join=False):\n",
    "    words = re.sub(\"[^a-zA-Z0-9]\", \" \", base_review) \n",
    "    # convert to lower case + split    \n",
    "    words = words.lower().split(\" \")    \n",
    "    # searching a set is faster than a list    \n",
    "    # might contemplate tweaking stop word list\n",
    "    #stop = {x for x in set(stopwords.words(\"english\")) if x not in ['not', 'no']\n",
    "    if remove_stop:\n",
    "        stop = set(stopwords.words(\"english\"))\n",
    "        words = [word for word in words if word not in stop]\n",
    "    # run porter stemmer\n",
    "    if stem:\n",
    "        words = [stemmer.stem(w) for w in words]\n",
    "    # return string\n",
    "    if join:\n",
    "        return \" \".join(words)\n",
    "    else:\n",
    "        return words"
   ]
  },
  {
   "cell_type": "code",
   "execution_count": 36,
   "metadata": {},
   "outputs": [
    {
     "name": "stdout",
     "output_type": "stream",
     "text": [
      "came here on a thursday night to take advantag or a groupon the husbi purchas  it wa a 20 min wait till we got seat  needless to say it is a veri busi restaur   the busiest on the street infact  the server were friendli and welcom  i felt they went out of their way to make us comfort  which is alway nice  we order the zil zil tib and the lalibela special for one  huge portion  we could not finish it all  some of the yummi serv were a bit salti for my tast  but overal it wa good  thi is howev  not the best ethiopian food i have had  if i had to compar \n"
     ]
    }
   ],
   "source": [
    "# test one review\n",
    "print process_review(pd_review[\"text\"][0])\n",
    "clean_reviews = pd_review[\"text\"].apply(process_review)\n"
   ]
  },
  {
   "cell_type": "code",
   "execution_count": 27,
   "metadata": {},
   "outputs": [],
   "source": [
    "# now create bag-of-words with vectoriser\n",
    "from sklearn.feature_extraction.text import CountVectorizer\n",
    "\n",
    "# limit vocab to 5000 words for now\n",
    "cv = CountVectorizer(analyzer='word', tokenizer=None, preprocessor=None,\n",
    "                     stop_words = None, max_features=5000)\n",
    "\n",
    "review_features = cv.fit_transform(clean_reviews)\n",
    "# convert from sparse matrix to numpy array\n",
    "review_features = review_features.toarray()"
   ]
  },
  {
   "cell_type": "code",
   "execution_count": 82,
   "metadata": {},
   "outputs": [
    {
     "name": "stdout",
     "output_type": "stream",
     "text": [
      "(10000, 5000)\n",
      "        term  weight\n",
      "1745    food  0.8358\n",
      "3312   place  0.7465\n",
      "1915    good  0.6963\n",
      "3083   order  0.5654\n",
      "2570    like  0.5131\n",
      "1954   great  0.4472\n",
      "3871  servic  0.4404\n",
      "4518    time  0.4299\n",
      "3067     one  0.3987\n",
      "1903      go  0.3918\n"
     ]
    }
   ],
   "source": [
    "# check size of bag of words model\n",
    "print review_features.shape\n",
    "# have a look at the vocab\n",
    "#print cv.get_feature_names()\n",
    "\n",
    "def get_top_n_features(bow, cv, n):\n",
    "    weights = bow.mean(axis=0).ravel().tolist()\n",
    "    weights_df = pd.DataFrame({'term': cv.get_feature_names(), 'weight':weights})\n",
    "    print weights_df.sort_values(by='weight', ascending=False).head(n)    \n",
    "\n",
    "# print 50 top terms\n",
    "get_top_n_features(review_features, cv, 10)"
   ]
  },
  {
   "cell_type": "markdown",
   "metadata": {},
   "source": [
    "# Word2Vec stuff"
   ]
  },
  {
   "cell_type": "code",
   "execution_count": null,
   "metadata": {
    "collapsed": true
   },
   "outputs": [],
   "source": [
    "# word2vec requires review paragraphs split into individual sentences\n",
    "# the datastructure to hold this data is a list of lists - \n",
    "# inner list holds sentences"
   ]
  },
  {
   "cell_type": "code",
   "execution_count": 37,
   "metadata": {
    "collapsed": true
   },
   "outputs": [],
   "source": [
    "# NLTK's punkt includes a pre-trained tokenizer for english which can\n",
    "# be used to transform (split) new paragraph observations into sentences\n",
    "punkt = nltk.data.load('tokenizers/punkt/english.pickle')"
   ]
  },
  {
   "cell_type": "code",
   "execution_count": 103,
   "metadata": {},
   "outputs": [],
   "source": [
    "# split review corpus into sentences\n",
    "# cannot use clean_reviews since punctuation was removed\n",
    "\n",
    "#process_review(pd_review[\"text\"][0], False, False, False)\n",
    "def split_to_sentence(base_reviews, tokeniser, remove_stop=False):\n",
    "    raw_sentences = tokeniser.tokenize(base_reviews.strip())\n",
    "    sentences = []\n",
    "    for rs in raw_sentences:\n",
    "        # consider only strings with length >= 1\n",
    "        if (len(rs) > 0):\n",
    "            sentences.append( process_review(rs, remove_stop=remove_stop) )\n",
    "    return sentences\n",
    "\n",
    "sentences = pd_review[\"text\"].apply(lambda x: split_to_sentence(x, punkt)).tolist()"
   ]
  },
  {
   "cell_type": "code",
   "execution_count": 104,
   "metadata": {},
   "outputs": [
    {
     "name": "stdout",
     "output_type": "stream",
     "text": [
      "[u'my', u'pasta', u'primavera', u'was', u'nice', u'', u'and', u'the', u'soup', u'special', u'we', u'had', u'was', u'delicious', u'']\n"
     ]
    }
   ],
   "source": [
    "# we need to flatten sentences list since we have a triple level list\n",
    "# that we need to convert to a list of lists (2 levels)\n",
    "sentence_list = [item for sublist in sentences for item in sublist]\n",
    "\n",
    "# format will be ok with word2vector\n",
    "print sentence_list[100]"
   ]
  },
  {
   "cell_type": "code",
   "execution_count": 106,
   "metadata": {},
   "outputs": [
    {
     "data": {
      "text/plain": [
       "444454"
      ]
     },
     "execution_count": 106,
     "metadata": {},
     "output_type": "execute_result"
    }
   ],
   "source": [
    "# we have aroiund 444000 sentences minded from 50K reviews of\n",
    "# Toronto restaurants\n",
    "print len(sentence_list)"
   ]
  },
  {
   "cell_type": "code",
   "execution_count": 107,
   "metadata": {
    "scrolled": true
   },
   "outputs": [
    {
     "name": "stderr",
     "output_type": "stream",
     "text": [
      "2018-01-21 19:34:27,588 : INFO : collecting all words and their counts\n",
      "2018-01-21 19:34:27,593 : INFO : PROGRESS: at sentence #0, processed 0 words, keeping 0 word types\n",
      "2018-01-21 19:34:27,667 : INFO : PROGRESS: at sentence #10000, processed 166483 words, keeping 9036 word types\n",
      "2018-01-21 19:34:27,735 : INFO : PROGRESS: at sentence #20000, processed 332568 words, keeping 12587 word types\n"
     ]
    },
    {
     "name": "stdout",
     "output_type": "stream",
     "text": [
      "Training model...\n"
     ]
    },
    {
     "name": "stderr",
     "output_type": "stream",
     "text": [
      "2018-01-21 19:34:27,800 : INFO : PROGRESS: at sentence #30000, processed 497948 words, keeping 15344 word types\n",
      "2018-01-21 19:34:27,845 : INFO : PROGRESS: at sentence #40000, processed 664084 words, keeping 17603 word types\n",
      "2018-01-21 19:34:27,912 : INFO : PROGRESS: at sentence #50000, processed 829665 words, keeping 19661 word types\n",
      "2018-01-21 19:34:27,958 : INFO : PROGRESS: at sentence #60000, processed 997906 words, keeping 21318 word types\n",
      "2018-01-21 19:34:28,028 : INFO : PROGRESS: at sentence #70000, processed 1168609 words, keeping 23082 word types\n",
      "2018-01-21 19:34:28,109 : INFO : PROGRESS: at sentence #80000, processed 1333955 words, keeping 24453 word types\n",
      "2018-01-21 19:34:28,157 : INFO : PROGRESS: at sentence #90000, processed 1497282 words, keeping 25699 word types\n",
      "2018-01-21 19:34:28,211 : INFO : PROGRESS: at sentence #100000, processed 1663384 words, keeping 26999 word types\n",
      "2018-01-21 19:34:28,265 : INFO : PROGRESS: at sentence #110000, processed 1827603 words, keeping 28240 word types\n",
      "2018-01-21 19:34:28,315 : INFO : PROGRESS: at sentence #120000, processed 1994715 words, keeping 29279 word types\n",
      "2018-01-21 19:34:28,362 : INFO : PROGRESS: at sentence #130000, processed 2158219 words, keeping 30349 word types\n",
      "2018-01-21 19:34:28,434 : INFO : PROGRESS: at sentence #140000, processed 2324503 words, keeping 31317 word types\n",
      "2018-01-21 19:34:28,481 : INFO : PROGRESS: at sentence #150000, processed 2490142 words, keeping 32179 word types\n",
      "2018-01-21 19:34:28,532 : INFO : PROGRESS: at sentence #160000, processed 2657425 words, keeping 33173 word types\n",
      "2018-01-21 19:34:28,579 : INFO : PROGRESS: at sentence #170000, processed 2822402 words, keeping 34127 word types\n",
      "2018-01-21 19:34:28,622 : INFO : PROGRESS: at sentence #180000, processed 2988994 words, keeping 35025 word types\n",
      "2018-01-21 19:34:28,666 : INFO : PROGRESS: at sentence #190000, processed 3155085 words, keeping 35720 word types\n",
      "2018-01-21 19:34:28,726 : INFO : PROGRESS: at sentence #200000, processed 3321156 words, keeping 36514 word types\n",
      "2018-01-21 19:34:28,768 : INFO : PROGRESS: at sentence #210000, processed 3486079 words, keeping 37290 word types\n",
      "2018-01-21 19:34:28,816 : INFO : PROGRESS: at sentence #220000, processed 3653440 words, keeping 38121 word types\n",
      "2018-01-21 19:34:28,868 : INFO : PROGRESS: at sentence #230000, processed 3818864 words, keeping 38853 word types\n",
      "2018-01-21 19:34:28,912 : INFO : PROGRESS: at sentence #240000, processed 3985978 words, keeping 39610 word types\n",
      "2018-01-21 19:34:28,957 : INFO : PROGRESS: at sentence #250000, processed 4151614 words, keeping 40416 word types\n",
      "2018-01-21 19:34:29,002 : INFO : PROGRESS: at sentence #260000, processed 4316235 words, keeping 41110 word types\n",
      "2018-01-21 19:34:29,047 : INFO : PROGRESS: at sentence #270000, processed 4479798 words, keeping 41789 word types\n",
      "2018-01-21 19:34:29,098 : INFO : PROGRESS: at sentence #280000, processed 4648025 words, keeping 42516 word types\n",
      "2018-01-21 19:34:29,160 : INFO : PROGRESS: at sentence #290000, processed 4814506 words, keeping 43131 word types\n",
      "2018-01-21 19:34:29,204 : INFO : PROGRESS: at sentence #300000, processed 4976106 words, keeping 43711 word types\n",
      "2018-01-21 19:34:29,256 : INFO : PROGRESS: at sentence #310000, processed 5143927 words, keeping 44395 word types\n",
      "2018-01-21 19:34:29,314 : INFO : PROGRESS: at sentence #320000, processed 5310846 words, keeping 44985 word types\n",
      "2018-01-21 19:34:29,358 : INFO : PROGRESS: at sentence #330000, processed 5474969 words, keeping 45598 word types\n",
      "2018-01-21 19:34:29,413 : INFO : PROGRESS: at sentence #340000, processed 5641955 words, keeping 46200 word types\n",
      "2018-01-21 19:34:29,495 : INFO : PROGRESS: at sentence #350000, processed 5808506 words, keeping 46846 word types\n",
      "2018-01-21 19:34:29,560 : INFO : PROGRESS: at sentence #360000, processed 5971934 words, keeping 47441 word types\n",
      "2018-01-21 19:34:29,613 : INFO : PROGRESS: at sentence #370000, processed 6136171 words, keeping 48012 word types\n",
      "2018-01-21 19:34:29,660 : INFO : PROGRESS: at sentence #380000, processed 6300519 words, keeping 48712 word types\n",
      "2018-01-21 19:34:29,720 : INFO : PROGRESS: at sentence #390000, processed 6468919 words, keeping 49297 word types\n",
      "2018-01-21 19:34:29,765 : INFO : PROGRESS: at sentence #400000, processed 6637032 words, keeping 49905 word types\n",
      "2018-01-21 19:34:29,845 : INFO : PROGRESS: at sentence #410000, processed 6807466 words, keeping 50445 word types\n",
      "2018-01-21 19:34:29,896 : INFO : PROGRESS: at sentence #420000, processed 6974810 words, keeping 50970 word types\n",
      "2018-01-21 19:34:29,946 : INFO : PROGRESS: at sentence #430000, processed 7141392 words, keeping 51572 word types\n",
      "2018-01-21 19:34:30,003 : INFO : PROGRESS: at sentence #440000, processed 7307073 words, keeping 52077 word types\n",
      "2018-01-21 19:34:30,026 : INFO : collected 52339 word types from a corpus of 7381114 raw words and 444454 sentences\n",
      "2018-01-21 19:34:30,029 : INFO : Loading a fresh vocabulary\n",
      "2018-01-21 19:34:30,136 : INFO : min_count=30 retains 6793 unique words (12% of original 52339, drops 45546)\n",
      "2018-01-21 19:34:30,139 : INFO : min_count=30 leaves 7199327 word corpus (97% of original 7381114, drops 181787)\n",
      "2018-01-21 19:34:30,179 : INFO : deleting the raw counts dictionary of 52339 items\n",
      "2018-01-21 19:34:30,191 : INFO : sample=0.001 downsamples 45 most-common words\n",
      "2018-01-21 19:34:30,193 : INFO : downsampling leaves estimated 4759464 word corpus (66.1% of prior 7199327)\n",
      "2018-01-21 19:34:30,194 : INFO : estimated required memory for 6793 words and 200 dimensions: 14265300 bytes\n",
      "2018-01-21 19:34:30,224 : INFO : resetting layer weights\n",
      "2018-01-21 19:34:30,333 : INFO : training model with 2 workers on 6793 vocabulary and 200 features, using sg=0 hs=0 sample=0.001 negative=5 window=10\n",
      "2018-01-21 19:34:31,346 : INFO : PROGRESS: at 1.38% examples, 326923 words/s, in_qsize 4, out_qsize 0\n",
      "2018-01-21 19:34:32,355 : INFO : PROGRESS: at 2.88% examples, 342446 words/s, in_qsize 4, out_qsize 0\n",
      "2018-01-21 19:34:33,399 : INFO : PROGRESS: at 4.05% examples, 316287 words/s, in_qsize 4, out_qsize 0\n",
      "2018-01-21 19:34:34,402 : INFO : PROGRESS: at 5.77% examples, 338028 words/s, in_qsize 4, out_qsize 0\n",
      "2018-01-21 19:34:35,412 : INFO : PROGRESS: at 8.39% examples, 393668 words/s, in_qsize 4, out_qsize 0\n",
      "2018-01-21 19:34:36,424 : INFO : PROGRESS: at 11.07% examples, 432981 words/s, in_qsize 4, out_qsize 0\n",
      "2018-01-21 19:34:37,424 : INFO : PROGRESS: at 13.44% examples, 450859 words/s, in_qsize 4, out_qsize 0\n",
      "2018-01-21 19:34:38,436 : INFO : PROGRESS: at 15.68% examples, 460711 words/s, in_qsize 4, out_qsize 0\n",
      "2018-01-21 19:34:39,442 : INFO : PROGRESS: at 18.17% examples, 474924 words/s, in_qsize 4, out_qsize 0\n",
      "2018-01-21 19:34:40,444 : INFO : PROGRESS: at 20.89% examples, 492233 words/s, in_qsize 4, out_qsize 0\n",
      "2018-01-21 19:34:41,455 : INFO : PROGRESS: at 23.56% examples, 504853 words/s, in_qsize 4, out_qsize 0\n",
      "2018-01-21 19:34:42,466 : INFO : PROGRESS: at 26.25% examples, 515358 words/s, in_qsize 4, out_qsize 0\n",
      "2018-01-21 19:34:43,474 : INFO : PROGRESS: at 28.98% examples, 525343 words/s, in_qsize 4, out_qsize 0\n",
      "2018-01-21 19:34:44,482 : INFO : PROGRESS: at 31.31% examples, 527227 words/s, in_qsize 4, out_qsize 0\n",
      "2018-01-21 19:34:45,479 : INFO : PROGRESS: at 33.98% examples, 533916 words/s, in_qsize 4, out_qsize 0\n",
      "2018-01-21 19:34:46,490 : INFO : PROGRESS: at 36.34% examples, 535217 words/s, in_qsize 4, out_qsize 0\n",
      "2018-01-21 19:34:47,506 : INFO : PROGRESS: at 38.57% examples, 534690 words/s, in_qsize 4, out_qsize 0\n",
      "2018-01-21 19:34:48,517 : INFO : PROGRESS: at 40.89% examples, 535453 words/s, in_qsize 3, out_qsize 0\n",
      "2018-01-21 19:34:49,519 : INFO : PROGRESS: at 43.15% examples, 535660 words/s, in_qsize 3, out_qsize 0\n",
      "2018-01-21 19:34:50,531 : INFO : PROGRESS: at 45.44% examples, 535634 words/s, in_qsize 4, out_qsize 0\n",
      "2018-01-21 19:34:51,539 : INFO : PROGRESS: at 47.25% examples, 530453 words/s, in_qsize 4, out_qsize 0\n",
      "2018-01-21 19:34:52,553 : INFO : PROGRESS: at 48.77% examples, 522504 words/s, in_qsize 4, out_qsize 0\n",
      "2018-01-21 19:34:53,556 : INFO : PROGRESS: at 51.40% examples, 526786 words/s, in_qsize 3, out_qsize 0\n",
      "2018-01-21 19:34:54,566 : INFO : PROGRESS: at 54.08% examples, 531151 words/s, in_qsize 4, out_qsize 0\n"
     ]
    },
    {
     "name": "stderr",
     "output_type": "stream",
     "text": [
      "2018-01-21 19:34:55,566 : INFO : PROGRESS: at 56.48% examples, 532605 words/s, in_qsize 4, out_qsize 0\n",
      "2018-01-21 19:34:56,578 : INFO : PROGRESS: at 58.94% examples, 534634 words/s, in_qsize 4, out_qsize 0\n",
      "2018-01-21 19:34:57,580 : INFO : PROGRESS: at 61.57% examples, 537883 words/s, in_qsize 4, out_qsize 0\n",
      "2018-01-21 19:34:58,584 : INFO : PROGRESS: at 64.19% examples, 540920 words/s, in_qsize 4, out_qsize 0\n",
      "2018-01-21 19:34:59,587 : INFO : PROGRESS: at 66.90% examples, 544368 words/s, in_qsize 4, out_qsize 0\n",
      "2018-01-21 19:35:00,595 : INFO : PROGRESS: at 69.23% examples, 544559 words/s, in_qsize 4, out_qsize 0\n",
      "2018-01-21 19:35:01,605 : INFO : PROGRESS: at 71.86% examples, 546929 words/s, in_qsize 4, out_qsize 0\n",
      "2018-01-21 19:35:02,614 : INFO : PROGRESS: at 74.52% examples, 549361 words/s, in_qsize 4, out_qsize 0\n",
      "2018-01-21 19:35:03,617 : INFO : PROGRESS: at 77.16% examples, 551622 words/s, in_qsize 4, out_qsize 0\n",
      "2018-01-21 19:35:04,621 : INFO : PROGRESS: at 79.78% examples, 553914 words/s, in_qsize 4, out_qsize 0\n",
      "2018-01-21 19:35:05,623 : INFO : PROGRESS: at 82.41% examples, 555891 words/s, in_qsize 4, out_qsize 0\n",
      "2018-01-21 19:35:06,630 : INFO : PROGRESS: at 85.06% examples, 557887 words/s, in_qsize 4, out_qsize 0\n",
      "2018-01-21 19:35:07,630 : INFO : PROGRESS: at 87.63% examples, 559313 words/s, in_qsize 4, out_qsize 0\n",
      "2018-01-21 19:35:08,636 : INFO : PROGRESS: at 89.34% examples, 555221 words/s, in_qsize 3, out_qsize 0\n",
      "2018-01-21 19:35:09,648 : INFO : PROGRESS: at 90.96% examples, 550739 words/s, in_qsize 4, out_qsize 0\n",
      "2018-01-21 19:35:10,657 : INFO : PROGRESS: at 92.50% examples, 546027 words/s, in_qsize 3, out_qsize 0\n",
      "2018-01-21 19:35:11,669 : INFO : PROGRESS: at 94.60% examples, 544678 words/s, in_qsize 3, out_qsize 0\n",
      "2018-01-21 19:35:12,687 : INFO : PROGRESS: at 96.37% examples, 541489 words/s, in_qsize 4, out_qsize 0\n",
      "2018-01-21 19:35:13,702 : INFO : PROGRESS: at 98.92% examples, 542928 words/s, in_qsize 4, out_qsize 0\n",
      "2018-01-21 19:35:14,103 : INFO : worker thread finished; awaiting finish of 1 more threads\n",
      "2018-01-21 19:35:14,113 : INFO : worker thread finished; awaiting finish of 0 more threads\n",
      "2018-01-21 19:35:14,115 : INFO : training on 36905570 raw words (23799643 effective words) took 43.8s, 543698 effective words/s\n",
      "2018-01-21 19:35:14,116 : INFO : precomputing L2-norms of word weight vectors\n",
      "2018-01-21 19:35:14,212 : INFO : saving Word2Vec object under 200features_30minwords_10context, separately None\n",
      "2018-01-21 19:35:14,214 : INFO : not storing attribute syn0norm\n",
      "2018-01-21 19:35:14,215 : INFO : not storing attribute cum_table\n",
      "2018-01-21 19:35:14,274 : INFO : saved 200features_30minwords_10context\n"
     ]
    }
   ],
   "source": [
    "# Import the built-in logging module and configure it to have clean messages\n",
    "import logging\n",
    "logging.basicConfig(format='%(asctime)s : %(levelname)s : %(message)s',\\\n",
    "    level=logging.INFO)\n",
    "\n",
    "\n",
    "# Set values for various parameters\n",
    "num_features = 200    # Word vector dimensionality                      \n",
    "min_word_count = 30   # Minimum word count                        \n",
    "num_workers = 2       # Number of threads to run in parallel\n",
    "context = 10          # Context window size                                                                                    \n",
    "downsampling = 1e-3   # Downsample setting for frequent words\n",
    "\n",
    "# train word2vec model based on my 50K review sample\n",
    "from gensim.models import word2vec\n",
    "print \"Training model...\"\n",
    "model = word2vec.Word2Vec(sentence_list, workers=num_workers, \\\n",
    "            size=num_features, min_count = min_word_count, \\\n",
    "            window = context, sample = downsampling)\n",
    "\n",
    "# If you don't plan to train the model any further, calling \n",
    "# init_sims will make the model much more memory-efficient.\n",
    "model.init_sims(replace=True)\n",
    "\n",
    "# It can be helpful to create a meaningful model name and \n",
    "# save the model for later use. You can load it later using Word2Vec.load()\n",
    "model_name = \"200features_30minwords_10context\"\n",
    "model.save(model_name)\n"
   ]
  },
  {
   "cell_type": "code",
   "execution_count": 256,
   "metadata": {
    "scrolled": true
   },
   "outputs": [
    {
     "data": {
      "text/plain": [
       "[(u'gross', 0.7470200061798096),\n",
       " (u'awful', 0.7391952276229858),\n",
       " (u'edible', 0.6546488404273987),\n",
       " (u'tasteless', 0.6506273746490479),\n",
       " (u'meh', 0.6375978589057922),\n",
       " (u'horrible', 0.6174851655960083),\n",
       " (u'bland', 0.6133884787559509),\n",
       " (u'alright', 0.6046308279037476),\n",
       " (u'terrible', 0.6013745069503784),\n",
       " (u'inedible', 0.596312403678894)]"
      ]
     },
     "execution_count": 256,
     "metadata": {},
     "output_type": "execute_result"
    }
   ],
   "source": [
    "# terms most similar to sushi\n",
    "#print model.wv.most_similar(\"sushi\")\n",
    "# terms most similar to sushi\n",
    "model.wv.most_similar(\"disgusting\")"
   ]
  },
  {
   "cell_type": "code",
   "execution_count": 121,
   "metadata": {
    "collapsed": true
   },
   "outputs": [],
   "source": [
    "# should we need to load the model\n",
    "#model = word2vec.Word2Vec.load(\"200features_30minwords_10context\")\n"
   ]
  },
  {
   "cell_type": "code",
   "execution_count": 126,
   "metadata": {},
   "outputs": [
    {
     "data": {
      "text/plain": [
       "(6793, 200)"
      ]
     },
     "execution_count": 126,
     "metadata": {},
     "output_type": "execute_result"
    }
   ],
   "source": [
    "# model.wv.syn0 consists of a feature vector for each work\n",
    "type(model.wv.syn0)\n",
    "# with a min word count of 30, a vocab of 6,793 words as created\n",
    "len(model.wv.vocab)\n",
    "# shape of wv.syn0 should be 6793, 200\n",
    "model.wv.syn0.shape"
   ]
  },
  {
   "cell_type": "code",
   "execution_count": 213,
   "metadata": {},
   "outputs": [
    {
     "data": {
      "text/plain": [
       "[(u'seafood', 0.5753906965255737),\n",
       " (u'noodles', 0.5618176460266113),\n",
       " (u'udon', 0.5462554693222046),\n",
       " (u'broccoli', 0.5354248285293579),\n",
       " (u'vegetable', 0.5339387059211731),\n",
       " (u'rice', 0.5258795022964478),\n",
       " (u'bibimbap', 0.5200287103652954),\n",
       " (u'noodle', 0.5142123103141785),\n",
       " (u'mein', 0.509763240814209),\n",
       " (u'soba', 0.5056496858596802)]"
      ]
     },
     "execution_count": 213,
     "metadata": {},
     "output_type": "execute_result"
    }
   ],
   "source": [
    "# 200 dimension feature vector returned for word 'italian'\n",
    "model.wv[\"italian\"].shape\n",
    "model.wv.most_similar(positive=['pasta','chinese'], negative=['italian'])\n",
    "#model.wv.most_similar('disgusting')\n",
    "#model.wv.most_similar('fresh')\n",
    "#model.wv.most_similar(positive=['kobe','beef'])"
   ]
  },
  {
   "cell_type": "code",
   "execution_count": 166,
   "metadata": {},
   "outputs": [],
   "source": [
    "# create a feature vector composed of the average of word vectors in\n",
    "# a review's paragraph\n",
    "def convert_review_feature_vector(word_list, model, feature_count):\n",
    "    # initialise array of length feature_count (200 )\n",
    "    feature_vector = np.zeros((feature_count,), dtype='float32')\n",
    "    # stores count of words that are features in learned vocab\n",
    "    word_count = 0.\n",
    "    # convert learned vocab to set for faster processing\n",
    "    vocab_set = set(model.wv.index2word)\n",
    "    # iterate over words in word_list, adding feature vectors together\n",
    "    for word in word_list:\n",
    "        if word in vocab_set:\n",
    "            word_count += 1\n",
    "            feature_vector = np.add(feature_vector, model.wv[word])\n",
    "    \n",
    "    # finally divide feature_vector by number of words ot get arithmetic vector mean\n",
    "    feature_vector = np.divide(feature_vector, word_count)\n",
    "    return feature_vector\n"
   ]
  },
  {
   "cell_type": "code",
   "execution_count": 169,
   "metadata": {},
   "outputs": [],
   "source": [
    "clean_reviews2 = pd_review[\"text\"].apply(lambda x: process_review(x, remove_stop=True))\n",
    "# creates a 2D array of feature vector of size review count x feature count\n",
    "review_vectors =\\\n",
    "np.array(clean_reviews2.apply(lambda x: \n",
    "                              convert_review_feature_vector(x, model, 200)).tolist())\n",
    "\n",
    "# def process_review(base_review, remove_stop=False, stem = False, join=False):\n",
    "#convert_review_feature_vector(['excellent','thai','curry'], model, 200)"
   ]
  },
  {
   "cell_type": "code",
   "execution_count": 255,
   "metadata": {},
   "outputs": [
    {
     "name": "stdout",
     "output_type": "stream",
     "text": [
      "Time taken for search:  2.60874795914 seconds.\n"
     ]
    }
   ],
   "source": [
    "import time\n",
    "\n",
    "start = time.time() # Start time\n",
    "\n",
    "search_string = \"vegan curry\"\n",
    "\n",
    "search_vect = convert_review_feature_vector(search_string.split(), model, 200)\n",
    "\n",
    "from scipy import spatial\n",
    "# calculate cosine similarity of search string with review vectors\n",
    "distances = []\n",
    "for rv in review_vectors:\n",
    "    distances.append(spatial.distance.cosine(search_vect, rv))\n",
    "\n",
    "end = time.time()\n",
    "elapsed = end - start\n",
    "print \"Time taken for search: \", elapsed, \"seconds.\""
   ]
  },
  {
   "cell_type": "code",
   "execution_count": 254,
   "metadata": {
    "scrolled": true
   },
   "outputs": [
    {
     "data": {
      "text/plain": [
       "[(u'Banjara Indian Cuisine', 0.3259483575820923),\n",
       " (u'Flip Toss & Thai Kitchen', 0.3838837742805481),\n",
       " (u'Picnic', 0.3978135585784912),\n",
       " (u'Golden Thai Restaurant', 0.4034334421157837),\n",
       " (u'Thai Restaurant', 0.43333888053894043),\n",
       " (u'Vital Life', 0.43357789516448975),\n",
       " (u'Saffron Spice Kitchen', 0.4379618763923645),\n",
       " (u'Khao San Road', 0.43985843658447266),\n",
       " (u'EAT BKK Thai Kitchen', 0.44309723377227783),\n",
       " (u'Gandhi Cuisine', 0.4435776472091675),\n",
       " (u'Lime Asian Kitchen', 0.4474688768386841),\n",
       " (u\"Lee's Thai Spring Roll\", 0.44914722442626953),\n",
       " (u'Tabule Restaurant', 0.4529154896736145),\n",
       " (u'Naturalis Cafe', 0.4554935693740845),\n",
       " (u'Saffron Spice Kitchen', 0.4582432508468628),\n",
       " (u\"Pam's Caribbean Kitchen\", 0.46021604537963867),\n",
       " (u'The Real Jerk', 0.46623891592025757),\n",
       " (u'Eastern Twist', 0.4733338952064514),\n",
       " (u'Pho Rua Vang Golden Turtle', 0.47746366262435913),\n",
       " (u'Thai Elephant', 0.4776585102081299)]"
      ]
     },
     "execution_count": 254,
     "metadata": {},
     "output_type": "execute_result"
    }
   ],
   "source": [
    "# print top 20 cosine similarity\n",
    "[(pd_review[\"name\"][x], distances[x]) for x in np.argsort(distances)[:20]]\n"
   ]
  },
  {
   "cell_type": "markdown",
   "metadata": {},
   "source": [
    "# Attempt to project onto 2D using PCA"
   ]
  },
  {
   "cell_type": "code",
   "execution_count": 243,
   "metadata": {},
   "outputs": [],
   "source": [
    "# https://machinelearningmastery.com/develop-word-embeddings-python-gensim/\n",
    "from sklearn.manifold import TSNE\n",
    "import matplotlib.pyplot as plt\n",
    "import random\n",
    "\n",
    "%matplotlib inline\n",
    "\n",
    "def plot_closestwords(model, word, feature_count):\n",
    "    \n",
    "    arr = np.empty((0,feature_count), dtype='f')\n",
    "    word_labels = [word]\n",
    "\n",
    "    # get close words\n",
    "    close_words = model.wv.similar_by_word(word)\n",
    "    \n",
    "    # add the vector for each of the closest words to the array\n",
    "    arr = np.append(arr, np.array([model.wv[word]]), axis=0)\n",
    "    for wrd_score in close_words:\n",
    "        wrd_vector = model.wv[wrd_score[0]]\n",
    "        word_labels.append(wrd_score[0])\n",
    "        arr = np.append(arr, np.array([wrd_vector]), axis=0)\n",
    "        \n",
    "    # find tsne coords for 2 dimensions\n",
    "    tsne = TSNE(n_components=2, random_state=0)\n",
    "    #np.set_printoptions(suppress=True)\n",
    "    result = tsne.fit_transform(arr)\n",
    "\n",
    "    x_coords = result[:, 0]\n",
    "    y_coords = result[:, 1]\n",
    "    # display scatter plot\n",
    "    #fig = plt.figure(figsize=(20, 10))\n",
    "    plt.scatter(x_coords, y_coords)\n",
    "\n",
    "    for label, x, y in zip(word_labels, x_coords, y_coords):\n",
    "        plt.annotate(label, xy=(x, y), xytext=(0, 0), textcoords='offset points')\n",
    "    plt.xlim(x_coords.min()+0.00005, x_coords.max()+0.00005)\n",
    "    plt.ylim(y_coords.min()+0.00005, y_coords.max()+0.00005)"
   ]
  },
  {
   "cell_type": "code",
   "execution_count": 250,
   "metadata": {},
   "outputs": [
    {
     "data": {
      "image/png": "[encoded data removed]",
      "text/plain": [
       "<matplotlib.figure.Figure at 0x7f741e912a50>"
      ]
     },
     "metadata": {},
     "output_type": "display_data"
    }
   ],
   "source": [
    "\n"
   ]
  },
  {
   "cell_type": "code",
   "execution_count": null,
   "metadata": {
    "collapsed": true
   },
   "outputs": [],
   "source": []
  }
 ],
 "metadata": {
  "kernelspec": {
   "display_name": "Python 2",
   "language": "python",
   "name": "python2"
  },
  "language_info": {
   "codemirror_mode": {
    "name": "ipython",
    "version": 2
   },
   "file_extension": ".py",
   "mimetype": "text/x-python",
   "name": "python",
   "nbconvert_exporter": "python",
   "pygments_lexer": "ipython2",
   "version": "2.7.12"
  }
 },
 "nbformat": 4,
 "nbformat_minor": 2
}
