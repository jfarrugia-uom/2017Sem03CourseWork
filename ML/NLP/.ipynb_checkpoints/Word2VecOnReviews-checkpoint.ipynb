{
 "cells": [
  {
   "cell_type": "markdown",
   "metadata": {},
   "source": [
    "# Word2Vec example with gensim, NLTK"
   ]
  },
  {
   "cell_type": "code",
   "execution_count": 1,
   "metadata": {
    "collapsed": true
   },
   "outputs": [],
   "source": [
    "import MySQLdb as mysql\n",
    "import pandas as pd\n",
    "import nltk\n",
    "from gensim.models import word2vec\n",
    "from nltk.corpus import stopwords # Import the stop word list\n",
    "import re # regular expression library\n",
    "\n",
    "import numpy as np"
   ]
  },
  {
   "cell_type": "code",
   "execution_count": 2,
   "metadata": {
    "collapsed": true
   },
   "outputs": [],
   "source": [
    "# download text datasets including stop words\n",
    "#nltk.download() "
   ]
  },
  {
   "cell_type": "code",
   "execution_count": 3,
   "metadata": {
    "collapsed": true
   },
   "outputs": [],
   "source": [
    "# hook up to mysql\n",
    "# to fix ascii problem when tokenising, important to specify character set\n",
    "# https://stackoverflow.com/questions/21129020/how-to-fix-unicodedecodeerror-ascii-codec-cant-decode-byte\n",
    "ip = \"localhost\"\n",
    "username = 'jfarrugia'\n",
    "password = 'jfarrugia'\n",
    "\n",
    "db = mysql.connect(ip, username, password, \"yelp_db\", charset='utf8',\n",
    "use_unicode=True)\n",
    "# load some data from a previously created table\n",
    "pd_review = pd.read_sql(\"select id, name, text, stars from toronto_50K_random_reviews\", con=db)\n",
    "\n",
    "# close connection\n",
    "db.close()"
   ]
  },
  {
   "cell_type": "code",
   "execution_count": 4,
   "metadata": {},
   "outputs": [
    {
     "data": {
      "text/plain": [
       "(50000, 4)"
      ]
     },
     "execution_count": 4,
     "metadata": {},
     "output_type": "execute_result"
    }
   ],
   "source": [
    "# confirm review shape\n",
    "pd_review.shape"
   ]
  },
  {
   "cell_type": "code",
   "execution_count": 5,
   "metadata": {},
   "outputs": [
    {
     "data": {
      "text/plain": [
       "u\"Not too bad overall. Got the 4 course menu which included a whole fish (grilled or seared) an appetizer and desert. The fish was wonderful. The pita appetizer was ok but one of the dips was not very good. I can't comment on dessert as I didn't try it. The others at my table seemed to think it was ok. The service was pretty good. Nothing special. We did think it was odd that the waiter spoke to people at the front door while he was taking our order. Not too bad overall. Would go back but won't be sprinting.\""
      ]
     },
     "execution_count": 5,
     "metadata": {},
     "output_type": "execute_result"
    }
   ],
   "source": [
    "# show 1 review\n",
    "pd_review[\"text\"][0]"
   ]
  },
  {
   "cell_type": "code",
   "execution_count": 6,
   "metadata": {
    "collapsed": true
   },
   "outputs": [],
   "source": [
    "# details from https://www.kaggle.com/c/word2vec-nlp-tutorial#part-1-for-beginners-bag-of-words\n",
    "# lower case all text\n",
    "lc_review = pd_review[\"text\"][0].lower()\n"
   ]
  },
  {
   "cell_type": "code",
   "execution_count": 7,
   "metadata": {
    "collapsed": true
   },
   "outputs": [],
   "source": [
    "# split one review into separate words\n",
    "words = lc_review.split(\" \")\n",
    "# remove stop words from review text\n",
    "words_no_stop = [w for w in words if w not in stopwords.words(\"english\")]"
   ]
  },
  {
   "cell_type": "code",
   "execution_count": 8,
   "metadata": {},
   "outputs": [
    {
     "name": "stdout",
     "output_type": "stream",
     "text": [
      "[u'bad', u'overall.', u'got', u'4', u'cours', u'menu', u'includ', u'whole', u'fish', u'(grill', u'seared)', u'appet', u'desert.', u'fish', u'wonderful.', u'pita', u'appet', u'ok', u'one', u'dip', u'good.', u\"can't\", u'comment', u'dessert', u'tri', u'it.', u'other', u'tabl', u'seem', u'think', u'ok.', u'servic', u'pretti', u'good.', u'noth', u'special.', u'think', u'odd', u'waiter', u'spoke', u'peopl', u'front', u'door', u'take', u'order.', u'bad', u'overall.', u'would', u'go', u'back', u'sprinting.']\n"
     ]
    }
   ],
   "source": [
    "from nltk.stem.porter import PorterStemmer\n",
    "# removel morphological affices from words, leaving word stem\n",
    "stemmer = PorterStemmer()\n",
    "words_no_stop_stem = [stemmer.stem(w) for w in words_no_stop]\n",
    "print words_no_stop_stem"
   ]
  },
  {
   "cell_type": "code",
   "execution_count": 9,
   "metadata": {
    "collapsed": true
   },
   "outputs": [],
   "source": [
    "def process_review(base_review, remove_stop=False, stem = False, join=False):\n",
    "    words = re.sub(\"[^a-zA-Z0-9]\", \" \", base_review) \n",
    "    # convert to lower case + split    \n",
    "    words = words.lower().split(\" \")    \n",
    "    # searching a set is faster than a list    \n",
    "    # might contemplate tweaking stop word list\n",
    "    #stop = {x for x in set(stopwords.words(\"english\")) if x not in ['not', 'no']\n",
    "    if remove_stop:\n",
    "        stop = set(stopwords.words(\"english\"))\n",
    "        words = [word for word in words if word not in stop]\n",
    "    # run porter stemmer\n",
    "    if stem:\n",
    "        words = [stemmer.stem(w) for w in words]\n",
    "    # return string\n",
    "    if join:\n",
    "        return \" \".join(words)\n",
    "    else:\n",
    "        return words"
   ]
  },
  {
   "cell_type": "markdown",
   "metadata": {},
   "source": [
    "# Word2Vec stuff"
   ]
  },
  {
   "cell_type": "code",
   "execution_count": null,
   "metadata": {
    "collapsed": true
   },
   "outputs": [],
   "source": [
    "# word2vec requires review paragraphs split into individual sentences\n",
    "# the datastructure to hold this data is a list of lists - \n",
    "# inner list holds sentences"
   ]
  },
  {
   "cell_type": "code",
   "execution_count": 17,
   "metadata": {
    "collapsed": true
   },
   "outputs": [],
   "source": [
    "# NLTK's punkt includes a pre-trained tokenizer for english which can\n",
    "# be used to transform (split) new paragraph observations into sentences\n",
    "punkt = nltk.data.load('tokenizers/punkt/english.pickle')"
   ]
  },
  {
   "cell_type": "code",
   "execution_count": 18,
   "metadata": {
    "collapsed": true
   },
   "outputs": [],
   "source": [
    "# split review corpus into sentences\n",
    "# cannot use clean_reviews since punctuation was removed\n",
    "\n",
    "#process_review(pd_review[\"text\"][0], False, False, False)\n",
    "def split_to_sentence(base_reviews, tokeniser, remove_stop=False):\n",
    "    raw_sentences = tokeniser.tokenize(base_reviews.strip())\n",
    "    sentences = []\n",
    "    for rs in raw_sentences:\n",
    "        # consider only strings with length >= 1\n",
    "        if (len(rs) > 0):\n",
    "            sentences.append( process_review(rs, remove_stop=remove_stop) )\n",
    "    return sentences\n",
    "\n",
    "sentences = pd_review[\"text\"].apply(lambda x: split_to_sentence(x, punkt)).tolist()"
   ]
  },
  {
   "cell_type": "code",
   "execution_count": 19,
   "metadata": {},
   "outputs": [
    {
     "name": "stdout",
     "output_type": "stream",
     "text": [
      "[u'my', u'pasta', u'primavera', u'was', u'nice', u'', u'and', u'the', u'soup', u'special', u'we', u'had', u'was', u'delicious', u'']\n"
     ]
    }
   ],
   "source": [
    "# we need to flatten sentences list since we have a triple level list\n",
    "# that we need to convert to a list of lists (2 levels)\n",
    "sentence_list = [item for sublist in sentences for item in sublist]\n",
    "\n",
    "# format will be ok with word2vector\n",
    "print sentence_list[100]"
   ]
  },
  {
   "cell_type": "code",
   "execution_count": 20,
   "metadata": {},
   "outputs": [
    {
     "name": "stdout",
     "output_type": "stream",
     "text": [
      "444454\n"
     ]
    }
   ],
   "source": [
    "# we have aroiund 444000 sentences minded from 50K reviews of\n",
    "# Toronto restaurants\n",
    "print len(sentence_list)"
   ]
  },
  {
   "cell_type": "code",
   "execution_count": 21,
   "metadata": {
    "scrolled": false
   },
   "outputs": [
    {
     "name": "stderr",
     "output_type": "stream",
     "text": [
      "2018-01-27 16:34:56,631 : INFO : collecting all words and their counts\n",
      "2018-01-27 16:34:56,646 : INFO : PROGRESS: at sentence #0, processed 0 words, keeping 0 word types\n",
      "2018-01-27 16:34:56,718 : INFO : PROGRESS: at sentence #10000, processed 166483 words, keeping 9036 word types\n",
      "2018-01-27 16:34:56,797 : INFO : PROGRESS: at sentence #20000, processed 332568 words, keeping 12587 word types\n"
     ]
    },
    {
     "name": "stdout",
     "output_type": "stream",
     "text": [
      "Training model...\n"
     ]
    },
    {
     "name": "stderr",
     "output_type": "stream",
     "text": [
      "2018-01-27 16:34:56,865 : INFO : PROGRESS: at sentence #30000, processed 497948 words, keeping 15344 word types\n",
      "2018-01-27 16:34:56,928 : INFO : PROGRESS: at sentence #40000, processed 664084 words, keeping 17603 word types\n",
      "2018-01-27 16:34:56,983 : INFO : PROGRESS: at sentence #50000, processed 829665 words, keeping 19661 word types\n",
      "2018-01-27 16:34:57,053 : INFO : PROGRESS: at sentence #60000, processed 997906 words, keeping 21318 word types\n",
      "2018-01-27 16:34:57,111 : INFO : PROGRESS: at sentence #70000, processed 1168609 words, keeping 23082 word types\n",
      "2018-01-27 16:34:57,161 : INFO : PROGRESS: at sentence #80000, processed 1333955 words, keeping 24453 word types\n",
      "2018-01-27 16:34:57,215 : INFO : PROGRESS: at sentence #90000, processed 1497282 words, keeping 25699 word types\n",
      "2018-01-27 16:34:57,286 : INFO : PROGRESS: at sentence #100000, processed 1663384 words, keeping 26999 word types\n",
      "2018-01-27 16:34:57,352 : INFO : PROGRESS: at sentence #110000, processed 1827603 words, keeping 28240 word types\n",
      "2018-01-27 16:34:57,416 : INFO : PROGRESS: at sentence #120000, processed 1994715 words, keeping 29279 word types\n",
      "2018-01-27 16:34:57,472 : INFO : PROGRESS: at sentence #130000, processed 2158219 words, keeping 30349 word types\n",
      "2018-01-27 16:34:57,533 : INFO : PROGRESS: at sentence #140000, processed 2324503 words, keeping 31317 word types\n",
      "2018-01-27 16:34:57,594 : INFO : PROGRESS: at sentence #150000, processed 2490142 words, keeping 32179 word types\n",
      "2018-01-27 16:34:57,643 : INFO : PROGRESS: at sentence #160000, processed 2657425 words, keeping 33173 word types\n",
      "2018-01-27 16:34:57,706 : INFO : PROGRESS: at sentence #170000, processed 2822402 words, keeping 34127 word types\n",
      "2018-01-27 16:34:57,767 : INFO : PROGRESS: at sentence #180000, processed 2988994 words, keeping 35025 word types\n",
      "2018-01-27 16:34:57,820 : INFO : PROGRESS: at sentence #190000, processed 3155085 words, keeping 35720 word types\n",
      "2018-01-27 16:34:57,867 : INFO : PROGRESS: at sentence #200000, processed 3321156 words, keeping 36514 word types\n",
      "2018-01-27 16:34:57,923 : INFO : PROGRESS: at sentence #210000, processed 3486079 words, keeping 37290 word types\n",
      "2018-01-27 16:34:57,987 : INFO : PROGRESS: at sentence #220000, processed 3653440 words, keeping 38121 word types\n",
      "2018-01-27 16:34:58,049 : INFO : PROGRESS: at sentence #230000, processed 3818864 words, keeping 38853 word types\n",
      "2018-01-27 16:34:58,107 : INFO : PROGRESS: at sentence #240000, processed 3985978 words, keeping 39610 word types\n",
      "2018-01-27 16:34:58,151 : INFO : PROGRESS: at sentence #250000, processed 4151614 words, keeping 40416 word types\n",
      "2018-01-27 16:34:58,202 : INFO : PROGRESS: at sentence #260000, processed 4316235 words, keeping 41110 word types\n",
      "2018-01-27 16:34:58,242 : INFO : PROGRESS: at sentence #270000, processed 4479798 words, keeping 41789 word types\n",
      "2018-01-27 16:34:58,291 : INFO : PROGRESS: at sentence #280000, processed 4648025 words, keeping 42516 word types\n",
      "2018-01-27 16:34:58,355 : INFO : PROGRESS: at sentence #290000, processed 4814506 words, keeping 43131 word types\n",
      "2018-01-27 16:34:58,404 : INFO : PROGRESS: at sentence #300000, processed 4976106 words, keeping 43711 word types\n",
      "2018-01-27 16:34:58,449 : INFO : PROGRESS: at sentence #310000, processed 5143927 words, keeping 44395 word types\n",
      "2018-01-27 16:34:58,500 : INFO : PROGRESS: at sentence #320000, processed 5310846 words, keeping 44985 word types\n",
      "2018-01-27 16:34:58,556 : INFO : PROGRESS: at sentence #330000, processed 5474969 words, keeping 45598 word types\n",
      "2018-01-27 16:34:58,603 : INFO : PROGRESS: at sentence #340000, processed 5641955 words, keeping 46200 word types\n",
      "2018-01-27 16:34:58,657 : INFO : PROGRESS: at sentence #350000, processed 5808506 words, keeping 46846 word types\n",
      "2018-01-27 16:34:58,716 : INFO : PROGRESS: at sentence #360000, processed 5971934 words, keeping 47441 word types\n",
      "2018-01-27 16:34:58,764 : INFO : PROGRESS: at sentence #370000, processed 6136171 words, keeping 48012 word types\n",
      "2018-01-27 16:34:58,814 : INFO : PROGRESS: at sentence #380000, processed 6300519 words, keeping 48712 word types\n",
      "2018-01-27 16:34:58,857 : INFO : PROGRESS: at sentence #390000, processed 6468919 words, keeping 49297 word types\n",
      "2018-01-27 16:34:58,908 : INFO : PROGRESS: at sentence #400000, processed 6637032 words, keeping 49905 word types\n",
      "2018-01-27 16:34:58,956 : INFO : PROGRESS: at sentence #410000, processed 6807466 words, keeping 50445 word types\n",
      "2018-01-27 16:34:58,998 : INFO : PROGRESS: at sentence #420000, processed 6974810 words, keeping 50970 word types\n",
      "2018-01-27 16:34:59,050 : INFO : PROGRESS: at sentence #430000, processed 7141392 words, keeping 51572 word types\n",
      "2018-01-27 16:34:59,109 : INFO : PROGRESS: at sentence #440000, processed 7307073 words, keeping 52077 word types\n",
      "2018-01-27 16:34:59,128 : INFO : collected 52339 word types from a corpus of 7381114 raw words and 444454 sentences\n",
      "2018-01-27 16:34:59,129 : INFO : Loading a fresh vocabulary\n",
      "2018-01-27 16:34:59,218 : INFO : min_count=30 retains 6793 unique words (12% of original 52339, drops 45546)\n",
      "2018-01-27 16:34:59,219 : INFO : min_count=30 leaves 7199327 word corpus (97% of original 7381114, drops 181787)\n",
      "2018-01-27 16:34:59,257 : INFO : deleting the raw counts dictionary of 52339 items\n",
      "2018-01-27 16:34:59,261 : INFO : sample=0.001 downsamples 45 most-common words\n",
      "2018-01-27 16:34:59,264 : INFO : downsampling leaves estimated 4759464 word corpus (66.1% of prior 7199327)\n",
      "2018-01-27 16:34:59,265 : INFO : estimated required memory for 6793 words and 200 dimensions: 14265300 bytes\n",
      "2018-01-27 16:34:59,310 : INFO : resetting layer weights\n",
      "2018-01-27 16:34:59,435 : INFO : training model with 2 workers on 6793 vocabulary and 200 features, using sg=0 hs=0 sample=0.001 negative=5 window=10\n",
      "2018-01-27 16:35:00,465 : INFO : PROGRESS: at 1.76% examples, 411462 words/s, in_qsize 4, out_qsize 0\n",
      "2018-01-27 16:35:01,507 : INFO : PROGRESS: at 3.15% examples, 365982 words/s, in_qsize 4, out_qsize 0\n",
      "2018-01-27 16:35:02,515 : INFO : PROGRESS: at 4.54% examples, 352974 words/s, in_qsize 4, out_qsize 0\n",
      "2018-01-27 16:35:03,518 : INFO : PROGRESS: at 5.93% examples, 346770 words/s, in_qsize 4, out_qsize 0\n",
      "2018-01-27 16:35:04,519 : INFO : PROGRESS: at 8.17% examples, 383641 words/s, in_qsize 4, out_qsize 0\n",
      "2018-01-27 16:35:05,523 : INFO : PROGRESS: at 10.85% examples, 425212 words/s, in_qsize 4, out_qsize 0\n",
      "2018-01-27 16:35:06,528 : INFO : PROGRESS: at 13.10% examples, 440106 words/s, in_qsize 4, out_qsize 0\n",
      "2018-01-27 16:35:07,536 : INFO : PROGRESS: at 15.52% examples, 456384 words/s, in_qsize 4, out_qsize 0\n",
      "2018-01-27 16:35:08,553 : INFO : PROGRESS: at 17.69% examples, 461969 words/s, in_qsize 3, out_qsize 0\n",
      "2018-01-27 16:35:09,570 : INFO : PROGRESS: at 18.78% examples, 441690 words/s, in_qsize 4, out_qsize 0\n",
      "2018-01-27 16:35:10,573 : INFO : PROGRESS: at 19.94% examples, 426836 words/s, in_qsize 4, out_qsize 0\n",
      "2018-01-27 16:35:11,582 : INFO : PROGRESS: at 22.49% examples, 441186 words/s, in_qsize 4, out_qsize 0\n",
      "2018-01-27 16:35:12,594 : INFO : PROGRESS: at 24.89% examples, 451088 words/s, in_qsize 3, out_qsize 0\n",
      "2018-01-27 16:35:13,596 : INFO : PROGRESS: at 27.44% examples, 461676 words/s, in_qsize 4, out_qsize 0\n",
      "2018-01-27 16:35:14,598 : INFO : PROGRESS: at 30.12% examples, 473152 words/s, in_qsize 3, out_qsize 0\n",
      "2018-01-27 16:35:15,615 : INFO : PROGRESS: at 32.32% examples, 475586 words/s, in_qsize 4, out_qsize 0\n",
      "2018-01-27 16:35:16,617 : INFO : PROGRESS: at 33.93% examples, 469973 words/s, in_qsize 4, out_qsize 0\n",
      "2018-01-27 16:35:17,621 : INFO : PROGRESS: at 36.50% examples, 477725 words/s, in_qsize 4, out_qsize 0\n",
      "2018-01-27 16:35:18,625 : INFO : PROGRESS: at 38.92% examples, 482958 words/s, in_qsize 4, out_qsize 0\n",
      "2018-01-27 16:35:19,629 : INFO : PROGRESS: at 41.46% examples, 488897 words/s, in_qsize 4, out_qsize 0\n",
      "2018-01-27 16:35:20,642 : INFO : PROGRESS: at 44.16% examples, 495943 words/s, in_qsize 4, out_qsize 0\n",
      "2018-01-27 16:35:21,649 : INFO : PROGRESS: at 46.72% examples, 500702 words/s, in_qsize 4, out_qsize 0\n",
      "2018-01-27 16:35:22,653 : INFO : PROGRESS: at 49.40% examples, 506501 words/s, in_qsize 4, out_qsize 0\n",
      "2018-01-27 16:35:23,657 : INFO : PROGRESS: at 51.80% examples, 509161 words/s, in_qsize 4, out_qsize 0\n"
     ]
    },
    {
     "name": "stderr",
     "output_type": "stream",
     "text": [
      "2018-01-27 16:35:24,666 : INFO : PROGRESS: at 54.24% examples, 511756 words/s, in_qsize 4, out_qsize 0\n",
      "2018-01-27 16:35:25,672 : INFO : PROGRESS: at 56.83% examples, 515476 words/s, in_qsize 4, out_qsize 0\n",
      "2018-01-27 16:35:26,679 : INFO : PROGRESS: at 59.43% examples, 519351 words/s, in_qsize 4, out_qsize 0\n",
      "2018-01-27 16:35:27,686 : INFO : PROGRESS: at 61.92% examples, 521825 words/s, in_qsize 4, out_qsize 0\n",
      "2018-01-27 16:35:28,697 : INFO : PROGRESS: at 64.21% examples, 522527 words/s, in_qsize 4, out_qsize 0\n",
      "2018-01-27 16:35:29,700 : INFO : PROGRESS: at 66.55% examples, 523501 words/s, in_qsize 4, out_qsize 0\n",
      "2018-01-27 16:35:30,724 : INFO : PROGRESS: at 68.25% examples, 519324 words/s, in_qsize 4, out_qsize 0\n",
      "2018-01-27 16:35:31,733 : INFO : PROGRESS: at 70.45% examples, 519250 words/s, in_qsize 4, out_qsize 0\n",
      "2018-01-27 16:35:32,742 : INFO : PROGRESS: at 73.10% examples, 522429 words/s, in_qsize 4, out_qsize 0\n",
      "2018-01-27 16:35:33,748 : INFO : PROGRESS: at 75.87% examples, 526303 words/s, in_qsize 4, out_qsize 0\n",
      "2018-01-27 16:35:34,767 : INFO : PROGRESS: at 78.60% examples, 529552 words/s, in_qsize 3, out_qsize 0\n",
      "2018-01-27 16:35:35,767 : INFO : PROGRESS: at 81.25% examples, 532359 words/s, in_qsize 4, out_qsize 0\n",
      "2018-01-27 16:35:36,770 : INFO : PROGRESS: at 82.94% examples, 528922 words/s, in_qsize 4, out_qsize 0\n",
      "2018-01-27 16:35:37,778 : INFO : PROGRESS: at 85.14% examples, 528641 words/s, in_qsize 4, out_qsize 0\n",
      "2018-01-27 16:35:38,789 : INFO : PROGRESS: at 87.74% examples, 530776 words/s, in_qsize 4, out_qsize 0\n",
      "2018-01-27 16:35:39,791 : INFO : PROGRESS: at 90.39% examples, 533238 words/s, in_qsize 4, out_qsize 0\n",
      "2018-01-27 16:35:40,791 : INFO : PROGRESS: at 92.81% examples, 534152 words/s, in_qsize 4, out_qsize 0\n",
      "2018-01-27 16:35:41,801 : INFO : PROGRESS: at 95.11% examples, 534377 words/s, in_qsize 4, out_qsize 0\n",
      "2018-01-27 16:35:42,815 : INFO : PROGRESS: at 97.75% examples, 536278 words/s, in_qsize 4, out_qsize 0\n",
      "2018-01-27 16:35:43,702 : INFO : worker thread finished; awaiting finish of 1 more threads\n",
      "2018-01-27 16:35:43,721 : INFO : worker thread finished; awaiting finish of 0 more threads\n",
      "2018-01-27 16:35:43,722 : INFO : training on 36905570 raw words (23799352 effective words) took 44.3s, 537533 effective words/s\n",
      "2018-01-27 16:35:43,727 : INFO : precomputing L2-norms of word weight vectors\n",
      "2018-01-27 16:35:43,812 : INFO : saving Word2Vec object under 200features_30minwords_10context, separately None\n",
      "2018-01-27 16:35:43,814 : INFO : not storing attribute syn0norm\n",
      "2018-01-27 16:35:43,815 : INFO : not storing attribute cum_table\n",
      "2018-01-27 16:35:43,900 : INFO : saved 200features_30minwords_10context\n"
     ]
    }
   ],
   "source": [
    "# Import the built-in logging module and configure it to have clean messages\n",
    "import logging\n",
    "logging.basicConfig(format='%(asctime)s : %(levelname)s : %(message)s',\\\n",
    "    level=logging.INFO)\n",
    "\n",
    "\n",
    "# Set values for various parameters\n",
    "num_features = 200    # Word vector dimensionality                      \n",
    "min_word_count = 30   # Minimum word count                        \n",
    "num_workers = 2       # Number of threads to run in parallel\n",
    "context = 10          # Context window size                                                                                    \n",
    "downsampling = 1e-3   # Downsample setting for frequent words\n",
    "\n",
    "# train word2vec model based on my 50K review sample\n",
    "\n",
    "print \"Training model...\"\n",
    "model = word2vec.Word2Vec(sentence_list, workers=num_workers, \\\n",
    "            size=num_features, min_count = min_word_count, \\\n",
    "            window = context, sample = downsampling)\n",
    "\n",
    "# If you don't plan to train the model any further, calling \n",
    "# init_sims will make the model much more memory-efficient.\n",
    "model.init_sims(replace=True)\n",
    "\n",
    "# in case we need to port model without re-training\n",
    "model_name = \"200features_30minwords_10context\"\n",
    "model.save(model_name)\n"
   ]
  },
  {
   "cell_type": "code",
   "execution_count": null,
   "metadata": {
    "collapsed": true
   },
   "outputs": [],
   "source": [
    "# should we need to load the model\n",
    "model = word2vec.Word2Vec.load(\"200features_30minwords_10context\")"
   ]
  },
  {
   "cell_type": "code",
   "execution_count": 22,
   "metadata": {
    "scrolled": true
   },
   "outputs": [
    {
     "data": {
      "text/plain": [
       "[(u'chinese', 0.7640732526779175),\n",
       " (u'malaysian', 0.6850325465202332),\n",
       " (u'hakka', 0.6848489046096802),\n",
       " (u'shanghai', 0.6819875240325928),\n",
       " (u'northern', 0.6764723062515259),\n",
       " (u'szechuan', 0.6727597117424011),\n",
       " (u'korean', 0.6708306670188904),\n",
       " (u'kong', 0.6656321883201599),\n",
       " (u'vietnamese', 0.6430572271347046),\n",
       " (u'westernized', 0.6387507915496826)]"
      ]
     },
     "execution_count": 22,
     "metadata": {},
     "output_type": "execute_result"
    }
   ],
   "source": [
    "# get terms most similar to cantonese\n",
    "model.wv.most_similar(\"cantonese\")"
   ]
  },
  {
   "cell_type": "code",
   "execution_count": 23,
   "metadata": {},
   "outputs": [
    {
     "data": {
      "text/plain": [
       "(6793, 200)"
      ]
     },
     "execution_count": 23,
     "metadata": {},
     "output_type": "execute_result"
    }
   ],
   "source": [
    "# model.wv.syn0 consists of a feature vector for each work\n",
    "type(model.wv.syn0)\n",
    "# with a min word count of 30, a vocab of 6,793 words as created\n",
    "len(model.wv.vocab)\n",
    "# shape of wv.syn0 should be 6793, 200\n",
    "model.wv.syn0.shape"
   ]
  },
  {
   "cell_type": "code",
   "execution_count": 24,
   "metadata": {},
   "outputs": [
    {
     "data": {
      "text/plain": [
       "[(u'seafood', 0.6198824644088745),\n",
       " (u'udon', 0.5855196714401245),\n",
       " (u'vegetable', 0.5377663373947144),\n",
       " (u'noodles', 0.5332452654838562),\n",
       " (u'rice', 0.532392680644989),\n",
       " (u'broccoli', 0.5315754413604736),\n",
       " (u'bibimbap', 0.5264356136322021),\n",
       " (u'congee', 0.5161706209182739),\n",
       " (u'soba', 0.5133492946624756),\n",
       " (u'tripe', 0.5107491612434387)]"
      ]
     },
     "execution_count": 24,
     "metadata": {},
     "output_type": "execute_result"
    }
   ],
   "source": [
    "# simple word algebra example:\n",
    "model.wv.most_similar(positive=['pasta','chinese'], negative=['italian'])\n"
   ]
  },
  {
   "cell_type": "code",
   "execution_count": 25,
   "metadata": {
    "collapsed": true
   },
   "outputs": [],
   "source": [
    "# create a feature vector composed of the average of word vectors in\n",
    "# a review's paragraph\n",
    "def convert_review_feature_vector(word_list, model, feature_count):\n",
    "    # initialise array of length feature_count (200 )\n",
    "    feature_vector = np.zeros((feature_count,), dtype='float32')\n",
    "    # stores count of words that are features in learned vocab\n",
    "    word_count = 0.\n",
    "    # convert learned vocab to set for faster processing\n",
    "    vocab_set = set(model.wv.index2word)\n",
    "    # iterate over words in word_list, adding feature vectors together\n",
    "    for word in word_list:\n",
    "        if word in vocab_set:\n",
    "            word_count += 1\n",
    "            feature_vector = np.add(feature_vector, model.wv[word])\n",
    "    \n",
    "    # finally divide feature_vector by number of words ot get arithmetic vector mean\n",
    "    feature_vector = np.divide(feature_vector, word_count)\n",
    "    return feature_vector\n"
   ]
  },
  {
   "cell_type": "code",
   "execution_count": null,
   "metadata": {
    "collapsed": true
   },
   "outputs": [],
   "source": [
    "clean_reviews2 = pd_review[\"text\"].apply(lambda x: process_review(x, remove_stop=True))\n",
    "# creates a 2D array of feature vector of size review count x feature count\n",
    "review_vectors =\\\n",
    "np.array(clean_reviews2.apply(lambda x: \n",
    "                              convert_review_feature_vector(x, model, 200)).tolist())\n"
   ]
  },
  {
   "cell_type": "code",
   "execution_count": null,
   "metadata": {},
   "outputs": [],
   "source": [
    "# execute this code to compare each individual review with the search string\n",
    "import time\n",
    "\n",
    "start = time.time() # Start time\n",
    "\n",
    "search_string = \"cantonese\"\n",
    "\n",
    "search_vect = convert_review_feature_vector(search_string.split(), model, 200)\n",
    "\n",
    "from scipy import spatial\n",
    "# calculate cosine similarity of search string with review vectors\n",
    "distances = []\n",
    "for rv in review_vectors:\n",
    "    distances.append(np.round(spatial.distance.cosine(search_vect, rv),3))\n",
    "\n",
    "end = time.time()\n",
    "elapsed = end - start\n",
    "print \"Time taken for search: \", elapsed, \"seconds.\""
   ]
  },
  {
   "cell_type": "code",
   "execution_count": null,
   "metadata": {},
   "outputs": [],
   "source": [
    "print np.argsort(distances)\n",
    "# print top 20 cosine similarity\n",
    "results = [(pd_review[\"name\"][x], pd_review[\"id\"][x], distances[x]) for x in np.argsort(distances)[:20]]\n",
    "for result in results:\n",
    "    print result\n",
    "    "
   ]
  },
  {
   "cell_type": "code",
   "execution_count": null,
   "metadata": {
    "collapsed": true
   },
   "outputs": [],
   "source": [
    "# a newer technique which first concatenates all reviews for a particular\n",
    "# resto together.  \n",
    "# the review dataframe row count is reduced to the number of restaurants.\n",
    "# the aggregated review becomes our new document\n",
    "\n",
    "# first group by resto id and aggregate reviews by first converting to list\n",
    "# and then joining\n",
    "concat_query = pd_review.groupby('id')['text'].apply(lambda x: \" \".join(list(x)))\n",
    "# extract unique id restaurant tuples from original dataframe\n",
    "uniq_restaurants = pd_review.loc[:,[\"id\",\"name\"]].drop_duplicates()\n",
    "# join aggregated reviews with unique resto data frame\n",
    "joint_reviews = uniq_restaurants.join(concat_query, on=\"id\").reset_index(drop=True)\n",
    "\n",
    "clean_reviews3 = joint_reviews[\"text\"].apply(lambda x: process_review(x, remove_stop=True))\n",
    "# creates a 2D array of feature vector of size review count x feature count\n",
    "review_vectors2 =\\\n",
    "np.array(clean_reviews3.apply(lambda x: \n",
    "                              convert_review_feature_vector(x, model, 200)).tolist())\n"
   ]
  },
  {
   "cell_type": "code",
   "execution_count": null,
   "metadata": {
    "scrolled": true
   },
   "outputs": [],
   "source": [
    "# execute this code to compare each individual review with the search string\n",
    "import time\n",
    "\n",
    "start = time.time() # Start time\n",
    "search_string = \"cantonese\"\n",
    "\n",
    "search_vect = convert_review_feature_vector(search_string.split(), model, 200)\n",
    "\n",
    "from scipy import spatial\n",
    "# calculate cosine similarity of search string with review vectors\n",
    "distances = []\n",
    "for rv in review_vectors2:\n",
    "    distances.append(np.round(spatial.distance.cosine(search_vect, rv),3))\n",
    "\n",
    "end = time.time()\n",
    "elapsed = end - start\n",
    "print \"Time taken for search: \", elapsed, \"seconds.\""
   ]
  },
  {
   "cell_type": "code",
   "execution_count": null,
   "metadata": {},
   "outputs": [],
   "source": [
    "# print top 20 cosine similarity\n",
    "results = [(joint_reviews[\"name\"][x], joint_reviews[\"id\"][x], distances[x]) for x in np.argsort(distances)[:20]]\n",
    "for result in results:\n",
    "    print result\n",
    "    \n",
    "# mixed results here.  The more reviews there are for a few place, the more\n",
    "# penalised the restaurant is.  The mean of the review's representation in vector\n",
    "# space depends on the total number of words. \n",
    "# sometimes shorter reviews (or less reviews) come up trumps\n",
    "# on the other hand, we avoid duplice results"
   ]
  },
  {
   "cell_type": "code",
   "execution_count": null,
   "metadata": {
    "collapsed": true
   },
   "outputs": [],
   "source": [
    "# pickle original reviews, review_vectors for use in application\n",
    "import pickle;\n",
    "pickle_out = open (\"pd_review.pkl\", \"wb\")\n",
    "pickle.dump(pd_review, pickle_out)\n",
    "pickle_out.close()\n",
    "\n",
    "pickle_out = open (\"review_vector.pkl\", \"wb\")\n",
    "pickle.dump(review_vectors, pickle_out)\n",
    "pickle_out.close()"
   ]
  },
  {
   "cell_type": "markdown",
   "metadata": {},
   "source": [
    "# Attempt to project onto 2D using PCA"
   ]
  },
  {
   "cell_type": "code",
   "execution_count": null,
   "metadata": {
    "collapsed": true
   },
   "outputs": [],
   "source": [
    "# https://machinelearningmastery.com/develop-word-embeddings-python-gensim/\n",
    "from sklearn.manifold import TSNE\n",
    "import matplotlib.pyplot as plt\n",
    "import random\n",
    "\n",
    "%matplotlib inline\n",
    "\n",
    "def plot_closestwords(model, word, feature_count):\n",
    "    \n",
    "    arr = np.empty((0,feature_count), dtype='f')\n",
    "    word_labels = [word]\n",
    "\n",
    "    # get close words\n",
    "    close_words = model.wv.similar_by_word(word)\n",
    "    \n",
    "    # add the vector for each of the closest words to the array\n",
    "    arr = np.append(arr, np.array([model.wv[word]]), axis=0)\n",
    "    for wrd_score in close_words:\n",
    "        wrd_vector = model.wv[wrd_score[0]]\n",
    "        word_labels.append(wrd_score[0])\n",
    "        arr = np.append(arr, np.array([wrd_vector]), axis=0)\n",
    "        \n",
    "    # find tsne coords for 2 dimensions\n",
    "    tsne = TSNE(n_components=2, random_state=0)\n",
    "    #np.set_printoptions(suppress=True)\n",
    "    result = tsne.fit_transform(arr)\n",
    "\n",
    "    x_coords = result[:, 0]\n",
    "    y_coords = result[:, 1]\n",
    "    # display scatter plot\n",
    "    #fig = plt.figure(figsize=(20, 10))\n",
    "    plt.scatter(x_coords, y_coords)\n",
    "\n",
    "    for label, x, y in zip(word_labels, x_coords, y_coords):\n",
    "        plt.annotate(label, xy=(x, y), xytext=(0, 0), textcoords='offset points')\n",
    "    plt.xlim(x_coords.min()+0.00005, x_coords.max()+0.00005)\n",
    "    plt.ylim(y_coords.min()+0.00005, y_coords.max()+0.00005)"
   ]
  }
 ],
 "metadata": {
  "kernelspec": {
   "display_name": "Python 2",
   "language": "python",
   "name": "python2"
  },
  "language_info": {
   "codemirror_mode": {
    "name": "ipython",
    "version": 2
   },
   "file_extension": ".py",
   "mimetype": "text/x-python",
   "name": "python",
   "nbconvert_exporter": "python",
   "pygments_lexer": "ipython2",
   "version": "2.7.12"
  }
 },
 "nbformat": 4,
 "nbformat_minor": 2
}
