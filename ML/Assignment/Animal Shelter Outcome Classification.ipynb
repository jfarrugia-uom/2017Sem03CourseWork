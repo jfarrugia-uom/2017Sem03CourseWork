{
 "cells": [
  {
   "cell_type": "code",
   "execution_count": 1,
   "metadata": {},
   "outputs": [
    {
     "name": "stderr",
     "output_type": "stream",
     "text": [
      "/usr/local/lib/python2.7/dist-packages/sklearn/cross_validation.py:41: DeprecationWarning: This module was deprecated in version 0.18 in favor of the model_selection module into which all the refactored classes and functions are moved. Also note that the interface of the new CV iterators are different from that of this module. This module will be removed in 0.20.\n",
      "  \"This module will be removed in 0.20.\", DeprecationWarning)\n"
     ]
    }
   ],
   "source": [
    "import pandas as pd\n",
    "import numpy as np\n",
    "import matplotlib.pyplot as plt\n",
    "import seaborn as sns\n",
    "import math\n",
    "\n",
    "from collections import Counter\n",
    "from sklearn import preprocessing\n",
    "from sklearn.linear_model import LogisticRegression\n",
    "from sklearn.cross_validation import train_test_split"
   ]
  },
  {
   "cell_type": "code",
   "execution_count": 2,
   "metadata": {},
   "outputs": [
    {
     "name": "stdout",
     "output_type": "stream",
     "text": [
      "(26729, 10)\n"
     ]
    },
    {
     "data": {
      "text/html": [
       "<div>\n",
       "<table border=\"1\" class=\"dataframe\">\n",
       "  <thead>\n",
       "    <tr style=\"text-align: right;\">\n",
       "      <th></th>\n",
       "      <th>AnimalID</th>\n",
       "      <th>Name</th>\n",
       "      <th>DateTime</th>\n",
       "      <th>OutcomeType</th>\n",
       "      <th>OutcomeSubtype</th>\n",
       "      <th>AnimalType</th>\n",
       "      <th>SexuponOutcome</th>\n",
       "      <th>AgeuponOutcome</th>\n",
       "      <th>Breed</th>\n",
       "      <th>Color</th>\n",
       "    </tr>\n",
       "  </thead>\n",
       "  <tbody>\n",
       "    <tr>\n",
       "      <th>0</th>\n",
       "      <td>A671945</td>\n",
       "      <td>Hambone</td>\n",
       "      <td>2014-02-12 18:22:00</td>\n",
       "      <td>Return_to_owner</td>\n",
       "      <td>NaN</td>\n",
       "      <td>Dog</td>\n",
       "      <td>Neutered Male</td>\n",
       "      <td>1 year</td>\n",
       "      <td>Shetland Sheepdog Mix</td>\n",
       "      <td>Brown/White</td>\n",
       "    </tr>\n",
       "    <tr>\n",
       "      <th>1</th>\n",
       "      <td>A656520</td>\n",
       "      <td>Emily</td>\n",
       "      <td>2013-10-13 12:44:00</td>\n",
       "      <td>Euthanasia</td>\n",
       "      <td>Suffering</td>\n",
       "      <td>Cat</td>\n",
       "      <td>Spayed Female</td>\n",
       "      <td>1 year</td>\n",
       "      <td>Domestic Shorthair Mix</td>\n",
       "      <td>Cream Tabby</td>\n",
       "    </tr>\n",
       "    <tr>\n",
       "      <th>2</th>\n",
       "      <td>A686464</td>\n",
       "      <td>Pearce</td>\n",
       "      <td>2015-01-31 12:28:00</td>\n",
       "      <td>Adoption</td>\n",
       "      <td>Foster</td>\n",
       "      <td>Dog</td>\n",
       "      <td>Neutered Male</td>\n",
       "      <td>2 years</td>\n",
       "      <td>Pit Bull Mix</td>\n",
       "      <td>Blue/White</td>\n",
       "    </tr>\n",
       "    <tr>\n",
       "      <th>3</th>\n",
       "      <td>A683430</td>\n",
       "      <td>NaN</td>\n",
       "      <td>2014-07-11 19:09:00</td>\n",
       "      <td>Transfer</td>\n",
       "      <td>Partner</td>\n",
       "      <td>Cat</td>\n",
       "      <td>Intact Male</td>\n",
       "      <td>3 weeks</td>\n",
       "      <td>Domestic Shorthair Mix</td>\n",
       "      <td>Blue Cream</td>\n",
       "    </tr>\n",
       "    <tr>\n",
       "      <th>4</th>\n",
       "      <td>A667013</td>\n",
       "      <td>NaN</td>\n",
       "      <td>2013-11-15 12:52:00</td>\n",
       "      <td>Transfer</td>\n",
       "      <td>Partner</td>\n",
       "      <td>Dog</td>\n",
       "      <td>Neutered Male</td>\n",
       "      <td>2 years</td>\n",
       "      <td>Lhasa Apso/Miniature Poodle</td>\n",
       "      <td>Tan</td>\n",
       "    </tr>\n",
       "  </tbody>\n",
       "</table>\n",
       "</div>"
      ],
      "text/plain": [
       "  AnimalID     Name             DateTime      OutcomeType OutcomeSubtype  \\\n",
       "0  A671945  Hambone  2014-02-12 18:22:00  Return_to_owner            NaN   \n",
       "1  A656520    Emily  2013-10-13 12:44:00       Euthanasia      Suffering   \n",
       "2  A686464   Pearce  2015-01-31 12:28:00         Adoption         Foster   \n",
       "3  A683430      NaN  2014-07-11 19:09:00         Transfer        Partner   \n",
       "4  A667013      NaN  2013-11-15 12:52:00         Transfer        Partner   \n",
       "\n",
       "  AnimalType SexuponOutcome AgeuponOutcome                        Breed  \\\n",
       "0        Dog  Neutered Male         1 year        Shetland Sheepdog Mix   \n",
       "1        Cat  Spayed Female         1 year       Domestic Shorthair Mix   \n",
       "2        Dog  Neutered Male        2 years                 Pit Bull Mix   \n",
       "3        Cat    Intact Male        3 weeks       Domestic Shorthair Mix   \n",
       "4        Dog  Neutered Male        2 years  Lhasa Apso/Miniature Poodle   \n",
       "\n",
       "         Color  \n",
       "0  Brown/White  \n",
       "1  Cream Tabby  \n",
       "2   Blue/White  \n",
       "3   Blue Cream  \n",
       "4          Tan  "
      ]
     },
     "execution_count": 2,
     "metadata": {},
     "output_type": "execute_result"
    }
   ],
   "source": [
    "df = pd.read_csv('train.csv', header=0, sep=\",\")\n",
    "# print data frame dimensions\n",
    "print df.shape\n",
    "\n",
    "# print some rows\n",
    "df.head()\n",
    "#df.OutcomeType.value_counts()\n",
    "df.AgeuponOutcome.value_counts()\n",
    "\n",
    "df.head()"
   ]
  },
  {
   "cell_type": "code",
   "execution_count": 3,
   "metadata": {},
   "outputs": [
    {
     "name": "stdout",
     "output_type": "stream",
     "text": [
      "False    19038\n",
      "True      7691\n",
      "Name: Name, dtype: int64\n"
     ]
    }
   ],
   "source": [
    "# check for unassigned names\n",
    "print df[\"Name\"].isnull().value_counts()\n",
    "\n",
    "# convert names to binary has_name\n",
    "has_name = (~df.loc[:,\"Name\"].isnull()).apply(lambda x: float(x))\n",
    "\n",
    "# check animal types\n",
    "df[\"AnimalType\"].value_counts()\n",
    "# convert Animal Type categorical variable to binary (1 if dog; 0 if cat)\n",
    "is_dog = df[\"AnimalType\"].apply(lambda x: float(x==\"Dog\"))\n",
    "\n",
    "#pd.DataFrame({'has_name':has_name, 'name':df[\"Name\"]}).head()\n"
   ]
  },
  {
   "cell_type": "code",
   "execution_count": 4,
   "metadata": {},
   "outputs": [
    {
     "data": {
      "text/plain": [
       "Index([u'Name', u'OutcomeSubtype', u'SexuponOutcome', u'AgeuponOutcome'], dtype='object')"
      ]
     },
     "execution_count": 4,
     "metadata": {},
     "output_type": "execute_result"
    }
   ],
   "source": [
    "# Fins columns which have missing values\n",
    "df.columns[df.isnull().any()]"
   ]
  },
  {
   "cell_type": "code",
   "execution_count": 5,
   "metadata": {},
   "outputs": [
    {
     "name": "stdout",
     "output_type": "stream",
     "text": [
      "Neutered Male    9779\n",
      "Spayed Female    8820\n",
      "Intact Male      3525\n",
      "Intact Female    3511\n",
      "Unknown          1093\n",
      "Name: SexuponOutcome, dtype: int64\n",
      "0    M\n",
      "1    F\n",
      "2    M\n",
      "3    M\n",
      "4    M\n",
      "Name: SexuponOutcome, dtype: object\n",
      "0    1\n",
      "1    1\n",
      "2    1\n",
      "3    0\n",
      "4    1\n",
      "Name: SexuponOutcome, dtype: float64\n"
     ]
    }
   ],
   "source": [
    "print df[\"SexuponOutcome\"].value_counts()\n",
    "\n",
    "# replace missing value with \"Unknown\"\n",
    "df[\"SexuponOutcome\"] = np.where(df[\"SexuponOutcome\"].isnull(), 'Unknown', df[\"SexuponOutcome\"])\n",
    "\n",
    "# function to translate gender into \n",
    "def get_gender(_input):\n",
    "    if 'Female' in _input:\n",
    "        return 'F'\n",
    "    elif 'Male' in _input:\n",
    "        return 'M'\n",
    "    else:\n",
    "        return 'U'\n",
    "\n",
    "def get_operated(_input):    \n",
    "    return float(_input.split()[0] in ['Neutered', 'Spayed'])        \n",
    "    \n",
    "\n",
    "is_operated = df[\"SexuponOutcome\"].apply(get_operated)\n",
    "gender = df[\"SexuponOutcome\"].apply(get_gender)\n",
    "\n",
    "print gender[0:5]\n",
    "print is_operated[0:5]"
   ]
  },
  {
   "cell_type": "code",
   "execution_count": 7,
   "metadata": {},
   "outputs": [
    {
     "name": "stderr",
     "output_type": "stream",
     "text": [
      "/usr/local/lib/python2.7/dist-packages/matplotlib/__init__.py:830: MatplotlibDeprecationWarning: axes.color_cycle is deprecated and replaced with axes.prop_cycle; please use the latter.\n",
      "  mplDeprecation)\n"
     ]
    },
    {
     "data": {
      "image/png": "[encoded data removed]",
      "text/plain": [
       "<matplotlib.figure.Figure at 0x7f9cadec8f90>"
      ]
     },
     "metadata": {},
     "output_type": "display_data"
    }
   ],
   "source": [
    "# remove null ages\n",
    "df = df[~df['AgeuponOutcome'].isnull()]\n",
    "#print df['AgeuponOutcome'].value_counts()\n",
    "# remove 0 years\n",
    "df = df[~(df[\"AgeuponOutcome\"] == '0 years')]\n",
    "def get_age_in_years(_input):\n",
    "    age = 0.0\n",
    "    age_list = _input.split()\n",
    "    if \"year\" in age_list[1]:\n",
    "        age = float(age_list[0])\n",
    "    elif \"month\" in age_list[1]:\n",
    "        age = float(age_list[0]) / 12.0\n",
    "    elif \"week\" in age_list[1]:\n",
    "        age = float(age_list[0]) / 52.0\n",
    "    else:\n",
    "        # if less than 1 week, default to 1 week\n",
    "        age = 1.0 / 52.0\n",
    "    return round(age, 3)\n",
    "\n",
    "def get_age_in_weeks(_input):\n",
    "    age = 0.0\n",
    "    age_list = _input.split()\n",
    "    if \"year\" in age_list[1]:\n",
    "        age = float(age_list[0]) * 52.0\n",
    "    elif \"month\" in age_list[1]:\n",
    "        age = float(age_list[0]) * (52.0/12.0)\n",
    "    elif \"week\" in age_list[1]:\n",
    "        age = float(age_list[0]) \n",
    "    else:\n",
    "        # if less than 1 week, default to 1 week\n",
    "        age = 1.0\n",
    "    return round(age, 3)\n",
    "\n",
    "# Transform ages to categoris as follows:\n",
    "# 1 = neonatal; 2 = infant; 3 = child; 4 = adolescent; 5 = young_adult; 6 = mature_adult; 7 = old\n",
    "# These categories are based on rate that animal ages w.r.t. human years and the stages of human development\n",
    "# https://www.ajdesigner.com/fl_cat_age/cat_age.php; https://pets.webmd.com/dogs/how-to-calculate-your-dogs-age\n",
    "def get_age_in_labels(_input):\n",
    "    age_label = 0\n",
    "    age_list = _input.split()\n",
    "    age = int(age_list[0])\n",
    "    if \"year\" in age_list[1]:\n",
    "        # \n",
    "        options = [4, 5, 5, 6, 6, 6, 6, 6, 6, 6, 7]\n",
    "        age = age - 1 if age < 11 else 10\n",
    "        age_label = options[age]        \n",
    "    elif \"month\" in age_list[1]:\n",
    "        options = [2, 2, 2, 2, 3, 3, 3, 3, 3, 3, 3]\n",
    "        age_label = options[age-1]\n",
    "    elif \"week\" in age_list[1]:        \n",
    "        age_label = 1\n",
    "    else:\n",
    "        # if less than 1 week, default to 1 week\n",
    "        age_label = 1\n",
    "    return age_label\n",
    "\n",
    "\n",
    "age_in_labels = df[\"AgeuponOutcome\"].apply(get_age_in_labels)\n",
    "\n",
    "\n",
    "fig, ax = plt.subplots()\n",
    "#ax.set_xscale('log', basex=2)\n",
    "age_in_labels.value_counts().plot(kind='bar')\n",
    "#age_in_weeks.plot(kind='density', figsize=(8,8))  \n",
    "plt.show()"
   ]
  },
  {
   "cell_type": "code",
   "execution_count": null,
   "metadata": {
    "collapsed": true
   },
   "outputs": [],
   "source": [
    "# extract dog feature / can be also used with color\n",
    "\n",
    "from sklearn.feature_extraction.text import CountVectorizer\n",
    "\n",
    "docs = ['why hello there', 'omg hello pony', 'she went there? omg']\n",
    "vec = CountVectorizer()\n",
    "X = vec.fit_transform(docs)\n",
    "df = pd.DataFrame(X.toarray(), columns=vec.get_feature_names())\n",
    "print(df)"
   ]
  },
  {
   "cell_type": "code",
   "execution_count": null,
   "metadata": {
    "collapsed": true
   },
   "outputs": [],
   "source": []
  }
 ],
 "metadata": {
  "kernelspec": {
   "display_name": "Python 2",
   "language": "python",
   "name": "python2"
  },
  "language_info": {
   "codemirror_mode": {
    "name": "ipython",
    "version": 2
   },
   "file_extension": ".py",
   "mimetype": "text/x-python",
   "name": "python",
   "nbconvert_exporter": "python",
   "pygments_lexer": "ipython2",
   "version": "2.7.12"
  }
 },
 "nbformat": 4,
 "nbformat_minor": 2
}
