{
 "cells": [
  {
   "cell_type": "code",
   "execution_count": 1,
   "metadata": {},
   "outputs": [
    {
     "name": "stderr",
     "output_type": "stream",
     "text": [
      "/usr/local/lib/python2.7/dist-packages/sklearn/cross_validation.py:41: DeprecationWarning: This module was deprecated in version 0.18 in favor of the model_selection module into which all the refactored classes and functions are moved. Also note that the interface of the new CV iterators are different from that of this module. This module will be removed in 0.20.\n",
      "  \"This module will be removed in 0.20.\", DeprecationWarning)\n"
     ]
    }
   ],
   "source": [
    "import pandas as pd\n",
    "import numpy as np\n",
    "import matplotlib.pyplot as plt\n",
    "import seaborn as sns\n",
    "import math\n",
    "\n",
    "from collections import Counter\n",
    "from sklearn import preprocessing\n",
    "from sklearn.linear_model import LogisticRegression\n",
    "from sklearn.cross_validation import train_test_split"
   ]
  },
  {
   "cell_type": "code",
   "execution_count": 2,
   "metadata": {},
   "outputs": [
    {
     "name": "stdout",
     "output_type": "stream",
     "text": [
      "(26729, 10)\n"
     ]
    },
    {
     "data": {
      "text/html": [
       "<div>\n",
       "<table border=\"1\" class=\"dataframe\">\n",
       "  <thead>\n",
       "    <tr style=\"text-align: right;\">\n",
       "      <th></th>\n",
       "      <th>AnimalID</th>\n",
       "      <th>Name</th>\n",
       "      <th>DateTime</th>\n",
       "      <th>OutcomeType</th>\n",
       "      <th>OutcomeSubtype</th>\n",
       "      <th>AnimalType</th>\n",
       "      <th>SexuponOutcome</th>\n",
       "      <th>AgeuponOutcome</th>\n",
       "      <th>Breed</th>\n",
       "      <th>Color</th>\n",
       "    </tr>\n",
       "  </thead>\n",
       "  <tbody>\n",
       "    <tr>\n",
       "      <th>0</th>\n",
       "      <td>A671945</td>\n",
       "      <td>Hambone</td>\n",
       "      <td>2014-02-12 18:22:00</td>\n",
       "      <td>Return_to_owner</td>\n",
       "      <td>NaN</td>\n",
       "      <td>Dog</td>\n",
       "      <td>Neutered Male</td>\n",
       "      <td>1 year</td>\n",
       "      <td>Shetland Sheepdog Mix</td>\n",
       "      <td>Brown/White</td>\n",
       "    </tr>\n",
       "    <tr>\n",
       "      <th>1</th>\n",
       "      <td>A656520</td>\n",
       "      <td>Emily</td>\n",
       "      <td>2013-10-13 12:44:00</td>\n",
       "      <td>Euthanasia</td>\n",
       "      <td>Suffering</td>\n",
       "      <td>Cat</td>\n",
       "      <td>Spayed Female</td>\n",
       "      <td>1 year</td>\n",
       "      <td>Domestic Shorthair Mix</td>\n",
       "      <td>Cream Tabby</td>\n",
       "    </tr>\n",
       "    <tr>\n",
       "      <th>2</th>\n",
       "      <td>A686464</td>\n",
       "      <td>Pearce</td>\n",
       "      <td>2015-01-31 12:28:00</td>\n",
       "      <td>Adoption</td>\n",
       "      <td>Foster</td>\n",
       "      <td>Dog</td>\n",
       "      <td>Neutered Male</td>\n",
       "      <td>2 years</td>\n",
       "      <td>Pit Bull Mix</td>\n",
       "      <td>Blue/White</td>\n",
       "    </tr>\n",
       "    <tr>\n",
       "      <th>3</th>\n",
       "      <td>A683430</td>\n",
       "      <td>NaN</td>\n",
       "      <td>2014-07-11 19:09:00</td>\n",
       "      <td>Transfer</td>\n",
       "      <td>Partner</td>\n",
       "      <td>Cat</td>\n",
       "      <td>Intact Male</td>\n",
       "      <td>3 weeks</td>\n",
       "      <td>Domestic Shorthair Mix</td>\n",
       "      <td>Blue Cream</td>\n",
       "    </tr>\n",
       "    <tr>\n",
       "      <th>4</th>\n",
       "      <td>A667013</td>\n",
       "      <td>NaN</td>\n",
       "      <td>2013-11-15 12:52:00</td>\n",
       "      <td>Transfer</td>\n",
       "      <td>Partner</td>\n",
       "      <td>Dog</td>\n",
       "      <td>Neutered Male</td>\n",
       "      <td>2 years</td>\n",
       "      <td>Lhasa Apso/Miniature Poodle</td>\n",
       "      <td>Tan</td>\n",
       "    </tr>\n",
       "  </tbody>\n",
       "</table>\n",
       "</div>"
      ],
      "text/plain": [
       "  AnimalID     Name             DateTime      OutcomeType OutcomeSubtype  \\\n",
       "0  A671945  Hambone  2014-02-12 18:22:00  Return_to_owner            NaN   \n",
       "1  A656520    Emily  2013-10-13 12:44:00       Euthanasia      Suffering   \n",
       "2  A686464   Pearce  2015-01-31 12:28:00         Adoption         Foster   \n",
       "3  A683430      NaN  2014-07-11 19:09:00         Transfer        Partner   \n",
       "4  A667013      NaN  2013-11-15 12:52:00         Transfer        Partner   \n",
       "\n",
       "  AnimalType SexuponOutcome AgeuponOutcome                        Breed  \\\n",
       "0        Dog  Neutered Male         1 year        Shetland Sheepdog Mix   \n",
       "1        Cat  Spayed Female         1 year       Domestic Shorthair Mix   \n",
       "2        Dog  Neutered Male        2 years                 Pit Bull Mix   \n",
       "3        Cat    Intact Male        3 weeks       Domestic Shorthair Mix   \n",
       "4        Dog  Neutered Male        2 years  Lhasa Apso/Miniature Poodle   \n",
       "\n",
       "         Color  \n",
       "0  Brown/White  \n",
       "1  Cream Tabby  \n",
       "2   Blue/White  \n",
       "3   Blue Cream  \n",
       "4          Tan  "
      ]
     },
     "execution_count": 2,
     "metadata": {},
     "output_type": "execute_result"
    }
   ],
   "source": [
    "df = pd.read_csv('train.csv', header=0, sep=\",\")\n",
    "# print data frame dimensions\n",
    "print df.shape\n",
    "\n",
    "# print some rows\n",
    "df.head()\n",
    "#df.OutcomeType.value_counts()\n",
    "df.AgeuponOutcome.value_counts()\n",
    "\n",
    "df.head()"
   ]
  },
  {
   "cell_type": "code",
   "execution_count": 3,
   "metadata": {},
   "outputs": [
    {
     "name": "stdout",
     "output_type": "stream",
     "text": [
      "False    19038\n",
      "True      7691\n",
      "Name: Name, dtype: int64\n"
     ]
    }
   ],
   "source": [
    "# check for unassigned names\n",
    "print df[\"Name\"].isnull().value_counts()\n",
    "\n",
    "# convert names to binary has_name\n",
    "has_name = (~df.loc[:,\"Name\"].isnull()).apply(lambda x: int(x))\n",
    "\n",
    "# check animal types\n",
    "df[\"AnimalType\"].value_counts()\n",
    "# convert Animal Type categorical variable to binary (1 if dog; 0 if cat)\n",
    "is_dog = df[\"AnimalType\"].apply(lambda x: float(x==\"Dog\"))\n",
    "is_dog  = is_dog.astype('category')\n",
    "#pd.DataFrame({'has_name':has_name, 'name':df[\"Name\"]}).head()\n",
    "\n",
    "# add has_name and is_dog to data frame\n",
    "df[\"has_name\"] = has_name.astype('category')\n",
    "# add is_dog column to data frame\n",
    "df = df.assign(is_dog = is_dog)"
   ]
  },
  {
   "cell_type": "code",
   "execution_count": 4,
   "metadata": {},
   "outputs": [
    {
     "data": {
      "text/html": [
       "<div>\n",
       "<table border=\"1\" class=\"dataframe\">\n",
       "  <thead>\n",
       "    <tr style=\"text-align: right;\">\n",
       "      <th></th>\n",
       "      <th>AnimalID</th>\n",
       "      <th>Name</th>\n",
       "      <th>DateTime</th>\n",
       "      <th>OutcomeType</th>\n",
       "      <th>OutcomeSubtype</th>\n",
       "      <th>AnimalType</th>\n",
       "      <th>SexuponOutcome</th>\n",
       "      <th>AgeuponOutcome</th>\n",
       "      <th>Breed</th>\n",
       "      <th>Color</th>\n",
       "      <th>has_name</th>\n",
       "      <th>is_dog</th>\n",
       "    </tr>\n",
       "  </thead>\n",
       "  <tbody>\n",
       "    <tr>\n",
       "      <th>0</th>\n",
       "      <td>A671945</td>\n",
       "      <td>Hambone</td>\n",
       "      <td>2014-02-12 18:22:00</td>\n",
       "      <td>Return_to_owner</td>\n",
       "      <td>NaN</td>\n",
       "      <td>Dog</td>\n",
       "      <td>Neutered Male</td>\n",
       "      <td>1 year</td>\n",
       "      <td>Shetland Sheepdog Mix</td>\n",
       "      <td>Brown/White</td>\n",
       "      <td>1</td>\n",
       "      <td>1</td>\n",
       "    </tr>\n",
       "    <tr>\n",
       "      <th>1</th>\n",
       "      <td>A656520</td>\n",
       "      <td>Emily</td>\n",
       "      <td>2013-10-13 12:44:00</td>\n",
       "      <td>Euthanasia</td>\n",
       "      <td>Suffering</td>\n",
       "      <td>Cat</td>\n",
       "      <td>Spayed Female</td>\n",
       "      <td>1 year</td>\n",
       "      <td>Domestic Shorthair Mix</td>\n",
       "      <td>Cream Tabby</td>\n",
       "      <td>1</td>\n",
       "      <td>0</td>\n",
       "    </tr>\n",
       "    <tr>\n",
       "      <th>2</th>\n",
       "      <td>A686464</td>\n",
       "      <td>Pearce</td>\n",
       "      <td>2015-01-31 12:28:00</td>\n",
       "      <td>Adoption</td>\n",
       "      <td>Foster</td>\n",
       "      <td>Dog</td>\n",
       "      <td>Neutered Male</td>\n",
       "      <td>2 years</td>\n",
       "      <td>Pit Bull Mix</td>\n",
       "      <td>Blue/White</td>\n",
       "      <td>1</td>\n",
       "      <td>1</td>\n",
       "    </tr>\n",
       "    <tr>\n",
       "      <th>3</th>\n",
       "      <td>A683430</td>\n",
       "      <td>NaN</td>\n",
       "      <td>2014-07-11 19:09:00</td>\n",
       "      <td>Transfer</td>\n",
       "      <td>Partner</td>\n",
       "      <td>Cat</td>\n",
       "      <td>Intact Male</td>\n",
       "      <td>3 weeks</td>\n",
       "      <td>Domestic Shorthair Mix</td>\n",
       "      <td>Blue Cream</td>\n",
       "      <td>0</td>\n",
       "      <td>0</td>\n",
       "    </tr>\n",
       "    <tr>\n",
       "      <th>4</th>\n",
       "      <td>A667013</td>\n",
       "      <td>NaN</td>\n",
       "      <td>2013-11-15 12:52:00</td>\n",
       "      <td>Transfer</td>\n",
       "      <td>Partner</td>\n",
       "      <td>Dog</td>\n",
       "      <td>Neutered Male</td>\n",
       "      <td>2 years</td>\n",
       "      <td>Lhasa Apso/Miniature Poodle</td>\n",
       "      <td>Tan</td>\n",
       "      <td>0</td>\n",
       "      <td>1</td>\n",
       "    </tr>\n",
       "  </tbody>\n",
       "</table>\n",
       "</div>"
      ],
      "text/plain": [
       "  AnimalID     Name             DateTime      OutcomeType OutcomeSubtype  \\\n",
       "0  A671945  Hambone  2014-02-12 18:22:00  Return_to_owner            NaN   \n",
       "1  A656520    Emily  2013-10-13 12:44:00       Euthanasia      Suffering   \n",
       "2  A686464   Pearce  2015-01-31 12:28:00         Adoption         Foster   \n",
       "3  A683430      NaN  2014-07-11 19:09:00         Transfer        Partner   \n",
       "4  A667013      NaN  2013-11-15 12:52:00         Transfer        Partner   \n",
       "\n",
       "  AnimalType SexuponOutcome AgeuponOutcome                        Breed  \\\n",
       "0        Dog  Neutered Male         1 year        Shetland Sheepdog Mix   \n",
       "1        Cat  Spayed Female         1 year       Domestic Shorthair Mix   \n",
       "2        Dog  Neutered Male        2 years                 Pit Bull Mix   \n",
       "3        Cat    Intact Male        3 weeks       Domestic Shorthair Mix   \n",
       "4        Dog  Neutered Male        2 years  Lhasa Apso/Miniature Poodle   \n",
       "\n",
       "         Color has_name is_dog  \n",
       "0  Brown/White        1      1  \n",
       "1  Cream Tabby        1      0  \n",
       "2   Blue/White        1      1  \n",
       "3   Blue Cream        0      0  \n",
       "4          Tan        0      1  "
      ]
     },
     "execution_count": 4,
     "metadata": {},
     "output_type": "execute_result"
    }
   ],
   "source": [
    "df.head()"
   ]
  },
  {
   "cell_type": "code",
   "execution_count": 22,
   "metadata": {},
   "outputs": [
    {
     "data": {
      "text/plain": [
       "Index([u'Name', u'OutcomeSubtype'], dtype='object')"
      ]
     },
     "execution_count": 22,
     "metadata": {},
     "output_type": "execute_result"
    }
   ],
   "source": [
    "############ MISSING VALUES #######################\n",
    "# Fins columns which have missing values\n",
    "df.columns[df.isnull().any()]\n"
   ]
  },
  {
   "cell_type": "code",
   "execution_count": 6,
   "metadata": {},
   "outputs": [
    {
     "name": "stdout",
     "output_type": "stream",
     "text": [
      "Neutered Male    9779\n",
      "Spayed Female    8820\n",
      "Intact Male      3525\n",
      "Intact Female    3511\n",
      "Unknown          1093\n",
      "Name: SexuponOutcome, dtype: int64\n"
     ]
    }
   ],
   "source": [
    "print df[\"SexuponOutcome\"].value_counts()\n",
    "\n",
    "# replace missing value with \"Unknown\"\n",
    "df[\"SexuponOutcome\"] = np.where(df[\"SexuponOutcome\"].isnull(), 'Unknown', df[\"SexuponOutcome\"])\n",
    "\n",
    "# function to translate gender into \n",
    "def get_gender(_input):\n",
    "    if 'Female' in _input:\n",
    "        return 'F'\n",
    "    elif 'Male' in _input:\n",
    "        return 'M'\n",
    "    else:\n",
    "        return 'U'\n",
    "\n",
    "def get_operated(_input):    \n",
    "    return float(_input.split()[0] in ['Neutered', 'Spayed'])        \n",
    "    \n",
    "is_operated = df[\"SexuponOutcome\"].apply(get_operated)\n",
    "is_operated.astype('category')\n",
    "\n",
    "gender = df[\"SexuponOutcome\"].apply(get_gender)\n",
    "#gender = is_gender.astype('category')\n",
    "\n",
    "# add is_operated, gender to df\n",
    "df[\"is_operated\"] = is_operated.astype('category')\n",
    "df[\"gender\"] = gender.astype('category')"
   ]
  },
  {
   "cell_type": "code",
   "execution_count": 7,
   "metadata": {},
   "outputs": [
    {
     "name": "stderr",
     "output_type": "stream",
     "text": [
      "/usr/local/lib/python2.7/dist-packages/matplotlib/__init__.py:830: MatplotlibDeprecationWarning: axes.color_cycle is deprecated and replaced with axes.prop_cycle; please use the latter.\n",
      "  mplDeprecation)\n"
     ]
    },
    {
     "data": {
      "image/png": "[encoded data removed]",
      "text/plain": [
       "<matplotlib.figure.Figure at 0x7f1a8a9699d0>"
      ]
     },
     "metadata": {},
     "output_type": "display_data"
    },
    {
     "name": "stdout",
     "output_type": "stream",
     "text": [
      "1    2248\n",
      "2    5955\n",
      "3    3665\n",
      "4    3969\n",
      "5    5565\n",
      "6    4534\n",
      "7     753\n",
      "Name: AgeuponOutcome, dtype: int64\n"
     ]
    },
    {
     "data": {
      "text/plain": [
       "2    5955\n",
       "5    5565\n",
       "6    4534\n",
       "4    3969\n",
       "3    3665\n",
       "1    2248\n",
       "7     753\n",
       "dtype: int64"
      ]
     },
     "execution_count": 7,
     "metadata": {},
     "output_type": "execute_result"
    }
   ],
   "source": [
    "# remove null ages\n",
    "df = df[~df['AgeuponOutcome'].isnull()]\n",
    "#print df['AgeuponOutcome'].value_counts()\n",
    "# remove 0 years\n",
    "df = df[~(df[\"AgeuponOutcome\"] == '0 years')]\n",
    "\n",
    "# function that normalises age of animal in years\n",
    "def get_age_in_years(_input):\n",
    "    age = 0.0\n",
    "    age_list = _input.split()\n",
    "    if \"year\" in age_list[1]:\n",
    "        age = float(age_list[0])\n",
    "    elif \"month\" in age_list[1]:\n",
    "        age = float(age_list[0]) / 12.0\n",
    "    elif \"week\" in age_list[1]:\n",
    "        age = float(age_list[0]) / 52.0\n",
    "    else:\n",
    "        # if less than 1 week, default to 1 week\n",
    "        age = 1.0 / 52.0\n",
    "    return round(age, 3)\n",
    "\n",
    "# Transform ages to categoris as follows:\n",
    "# 1 = neonatal; 2 = infant; 3 = child; 4 = adolescent; 5 = young_adult; 6 = mature_adult; 7 = old\n",
    "# These categories are based on rate that animal ages w.r.t. human years and the stages of human development\n",
    "# https://www.ajdesigner.com/fl_cat_age/cat_age.php; https://pets.webmd.com/dogs/how-to-calculate-your-dogs-age\n",
    "def get_age_in_labels(_input):\n",
    "    age_label = 0\n",
    "    age_list = _input.split()\n",
    "    age = int(age_list[0])\n",
    "    if \"year\" in age_list[1]:\n",
    "        # \n",
    "        options = [4, 5, 5, 6, 6, 6, 6, 6, 6, 6, 7]\n",
    "        age = age - 1 if age < 11 else 10\n",
    "        age_label = options[age]        \n",
    "    elif \"month\" in age_list[1]:\n",
    "        options = [2, 2, 2, 3, 3, 3, 3, 3, 3, 3, 3]\n",
    "        age_label = options[age-1]\n",
    "    elif \"week\" in age_list[1]:        \n",
    "        age_label = 1\n",
    "    else:\n",
    "        # if less than 1 week, default to 1 week\n",
    "        age_label = 1\n",
    "    return age_label\n",
    "\n",
    "\n",
    "age_in_labels = df[\"AgeuponOutcome\"].apply(get_age_in_labels)\n",
    "#fig, ax = plt.subplots()\n",
    "#ax.set_xscale('log', basex=2)\n",
    "age_in_labels.value_counts().sort_index(0).plot(kind='bar')\n",
    "\n",
    "plt.show()\n",
    "\n",
    "print age_in_labels.value_counts().sort_index(0)\n",
    "age_in_labels = age_in_labels.astype('category')\n",
    "\n",
    "# to consider keeping age_in_labels as an integer since category is ordinal\n",
    "age_in_labels.value_counts()"
   ]
  },
  {
   "cell_type": "code",
   "execution_count": 8,
   "metadata": {},
   "outputs": [
    {
     "data": {
      "text/html": [
       "<div>\n",
       "<table border=\"1\" class=\"dataframe\">\n",
       "  <thead>\n",
       "    <tr style=\"text-align: right;\">\n",
       "      <th></th>\n",
       "      <th>AnimalID</th>\n",
       "      <th>Name</th>\n",
       "      <th>DateTime</th>\n",
       "      <th>OutcomeType</th>\n",
       "      <th>OutcomeSubtype</th>\n",
       "      <th>AnimalType</th>\n",
       "      <th>SexuponOutcome</th>\n",
       "      <th>AgeuponOutcome</th>\n",
       "      <th>Breed</th>\n",
       "      <th>Color</th>\n",
       "      <th>has_name</th>\n",
       "      <th>is_dog</th>\n",
       "      <th>is_operated</th>\n",
       "      <th>gender</th>\n",
       "      <th>age_label</th>\n",
       "    </tr>\n",
       "  </thead>\n",
       "  <tbody>\n",
       "    <tr>\n",
       "      <th>0</th>\n",
       "      <td>A671945</td>\n",
       "      <td>Hambone</td>\n",
       "      <td>2014-02-12 18:22:00</td>\n",
       "      <td>Return_to_owner</td>\n",
       "      <td>NaN</td>\n",
       "      <td>Dog</td>\n",
       "      <td>Neutered Male</td>\n",
       "      <td>1 year</td>\n",
       "      <td>Shetland Sheepdog Mix</td>\n",
       "      <td>Brown/White</td>\n",
       "      <td>1</td>\n",
       "      <td>1</td>\n",
       "      <td>1</td>\n",
       "      <td>M</td>\n",
       "      <td>4</td>\n",
       "    </tr>\n",
       "    <tr>\n",
       "      <th>1</th>\n",
       "      <td>A656520</td>\n",
       "      <td>Emily</td>\n",
       "      <td>2013-10-13 12:44:00</td>\n",
       "      <td>Euthanasia</td>\n",
       "      <td>Suffering</td>\n",
       "      <td>Cat</td>\n",
       "      <td>Spayed Female</td>\n",
       "      <td>1 year</td>\n",
       "      <td>Domestic Shorthair Mix</td>\n",
       "      <td>Cream Tabby</td>\n",
       "      <td>1</td>\n",
       "      <td>0</td>\n",
       "      <td>1</td>\n",
       "      <td>F</td>\n",
       "      <td>4</td>\n",
       "    </tr>\n",
       "    <tr>\n",
       "      <th>2</th>\n",
       "      <td>A686464</td>\n",
       "      <td>Pearce</td>\n",
       "      <td>2015-01-31 12:28:00</td>\n",
       "      <td>Adoption</td>\n",
       "      <td>Foster</td>\n",
       "      <td>Dog</td>\n",
       "      <td>Neutered Male</td>\n",
       "      <td>2 years</td>\n",
       "      <td>Pit Bull Mix</td>\n",
       "      <td>Blue/White</td>\n",
       "      <td>1</td>\n",
       "      <td>1</td>\n",
       "      <td>1</td>\n",
       "      <td>M</td>\n",
       "      <td>5</td>\n",
       "    </tr>\n",
       "    <tr>\n",
       "      <th>3</th>\n",
       "      <td>A683430</td>\n",
       "      <td>NaN</td>\n",
       "      <td>2014-07-11 19:09:00</td>\n",
       "      <td>Transfer</td>\n",
       "      <td>Partner</td>\n",
       "      <td>Cat</td>\n",
       "      <td>Intact Male</td>\n",
       "      <td>3 weeks</td>\n",
       "      <td>Domestic Shorthair Mix</td>\n",
       "      <td>Blue Cream</td>\n",
       "      <td>0</td>\n",
       "      <td>0</td>\n",
       "      <td>0</td>\n",
       "      <td>M</td>\n",
       "      <td>1</td>\n",
       "    </tr>\n",
       "    <tr>\n",
       "      <th>4</th>\n",
       "      <td>A667013</td>\n",
       "      <td>NaN</td>\n",
       "      <td>2013-11-15 12:52:00</td>\n",
       "      <td>Transfer</td>\n",
       "      <td>Partner</td>\n",
       "      <td>Dog</td>\n",
       "      <td>Neutered Male</td>\n",
       "      <td>2 years</td>\n",
       "      <td>Lhasa Apso/Miniature Poodle</td>\n",
       "      <td>Tan</td>\n",
       "      <td>0</td>\n",
       "      <td>1</td>\n",
       "      <td>1</td>\n",
       "      <td>M</td>\n",
       "      <td>5</td>\n",
       "    </tr>\n",
       "  </tbody>\n",
       "</table>\n",
       "</div>"
      ],
      "text/plain": [
       "  AnimalID     Name             DateTime      OutcomeType OutcomeSubtype  \\\n",
       "0  A671945  Hambone  2014-02-12 18:22:00  Return_to_owner            NaN   \n",
       "1  A656520    Emily  2013-10-13 12:44:00       Euthanasia      Suffering   \n",
       "2  A686464   Pearce  2015-01-31 12:28:00         Adoption         Foster   \n",
       "3  A683430      NaN  2014-07-11 19:09:00         Transfer        Partner   \n",
       "4  A667013      NaN  2013-11-15 12:52:00         Transfer        Partner   \n",
       "\n",
       "  AnimalType SexuponOutcome AgeuponOutcome                        Breed  \\\n",
       "0        Dog  Neutered Male         1 year        Shetland Sheepdog Mix   \n",
       "1        Cat  Spayed Female         1 year       Domestic Shorthair Mix   \n",
       "2        Dog  Neutered Male        2 years                 Pit Bull Mix   \n",
       "3        Cat    Intact Male        3 weeks       Domestic Shorthair Mix   \n",
       "4        Dog  Neutered Male        2 years  Lhasa Apso/Miniature Poodle   \n",
       "\n",
       "         Color has_name is_dog is_operated gender age_label  \n",
       "0  Brown/White        1      1           1      M         4  \n",
       "1  Cream Tabby        1      0           1      F         4  \n",
       "2   Blue/White        1      1           1      M         5  \n",
       "3   Blue Cream        0      0           0      M         1  \n",
       "4          Tan        0      1           1      M         5  "
      ]
     },
     "execution_count": 8,
     "metadata": {},
     "output_type": "execute_result"
    }
   ],
   "source": [
    "# add age_in_labels to df\n",
    "df[\"age_label\"] = age_in_labels.astype('category')\n",
    "df.head()"
   ]
  },
  {
   "cell_type": "code",
   "execution_count": 9,
   "metadata": {},
   "outputs": [
    {
     "name": "stdout",
     "output_type": "stream",
     "text": [
      "(220, 265)\n"
     ]
    }
   ],
   "source": [
    "# apply Etienne's idea of using multinomial NBC to determinedog groups\n",
    "\n",
    "from sklearn.feature_extraction.text import CountVectorizer\n",
    "from sklearn.naive_bayes import MultinomialNB\n",
    "\n",
    "# import dog group training set\n",
    "dog_group_train = pd.read_csv('dog_group.csv', header=None, sep=\"\\t\", names=['breed','group'])\n",
    "# print first few dogs\n",
    "#print dog_group_train.head()\n",
    "\n",
    "# initialise count vectoriser\n",
    "count_vect = CountVectorizer()\n",
    "X_train_counts = count_vect.fit_transform(dog_group_train[\"breed\"])\n",
    "\n",
    "print X_train_counts.shape\n",
    "# replace slash with space so that breed can be tokenised\n",
    "clean_breed = df[df[\"AnimalType\" ]== \"Dog\"][\"Breed\"].apply(lambda x: x.replace(\"/\", \" \"))\n",
    "\n",
    "# fit Naive Bayes to our dog group training set\n",
    "mnb_classifier = MultinomialNB().fit(X_train_counts, dog_group_train[\"group\"])\n"
   ]
  },
  {
   "cell_type": "code",
   "execution_count": 10,
   "metadata": {
    "collapsed": true
   },
   "outputs": [],
   "source": [
    "# create word vector of clean breed\n",
    "test_vect = count_vect.transform(clean_breed)\n",
    "# predict dog group\n",
    "group_predict =  mnb_classifier.predict(test_vect)\n",
    "group_df = pd.DataFrame({'clean_breed':clean_breed, 'breed_group':group_predict})\n",
    "\n",
    "# concatenate group dataframe to our main data frame\n",
    "df = pd.concat( [df, group_df], axis=1)\n"
   ]
  },
  {
   "cell_type": "code",
   "execution_count": 11,
   "metadata": {},
   "outputs": [],
   "source": [
    "# for cats, group is either domestic or fancy based on whether the term \"domestic\" appears in label\n",
    "df.loc[df.is_dog == 0, 'breed_group'] = (df.loc[df.is_dog == 0, \"Breed\"]).apply(lambda x: \"Moggie\" if \"Domestic\" in x else \"Fancy\")\n",
    "\n",
    "# for cats, clean breed by replacing slash with space \n",
    "df.loc[df.is_dog == 0, 'clean_breed'] = df.loc[df.is_dog == 0, \"Breed\"].apply(lambda x: x.replace(\"/\", \" \"))"
   ]
  },
  {
   "cell_type": "code",
   "execution_count": 12,
   "metadata": {},
   "outputs": [],
   "source": [
    "#df.clean_breed"
   ]
  },
  {
   "cell_type": "code",
   "execution_count": 13,
   "metadata": {},
   "outputs": [
    {
     "data": {
      "text/plain": [
       "Moggie      10370\n",
       "Terrier      3884\n",
       "Gundog       2856\n",
       "Pastoral     2606\n",
       "Toy          2496\n",
       "Hound        1684\n",
       "Utility      1086\n",
       "Working       975\n",
       "Fancy         732\n",
       "Name: breed_group, dtype: int64"
      ]
     },
     "execution_count": 13,
     "metadata": {},
     "output_type": "execute_result"
    }
   ],
   "source": [
    "df[\"breed_group\"].value_counts()"
   ]
  },
  {
   "cell_type": "code",
   "execution_count": 14,
   "metadata": {},
   "outputs": [
    {
     "data": {
      "image/png": "[encoded data removed]",
      "text/plain": [
       "<matplotlib.figure.Figure at 0x7f1a8a641810>"
      ]
     },
     "metadata": {},
     "output_type": "display_data"
    }
   ],
   "source": [
    "df.head()\n",
    "\n",
    "df_dog = df[df[\"AnimalType\"] == \"Dog\"]\n",
    "group_outcome_df = pd.crosstab(df_dog.breed_group, df_dog.OutcomeType,margins=False)\n",
    "\n",
    "# plot grouped bar chart of dog group by outcome\n",
    "group_outcome_df.div(group_outcome_df.sum(1).astype(float), axis= 0).plot(kind='bar', stacked=True, figsize=(20,10))\n",
    "\n",
    "#group_outcome_df.iloc[0:7,0:5].plot(kind='bar', figsize=(20,10))\n",
    "plt.show()\n",
    "\n"
   ]
  },
  {
   "cell_type": "code",
   "execution_count": 15,
   "metadata": {},
   "outputs": [
    {
     "data": {
      "image/png": "[encoded data removed]",
      "text/plain": [
       "<matplotlib.figure.Figure at 0x7f1a8a9461d0>"
      ]
     },
     "metadata": {},
     "output_type": "display_data"
    }
   ],
   "source": [
    "# plot outcome type by cat group\n",
    "df_cat = df[df[\"AnimalType\"] == \"Cat\"]\n",
    "cat_outcome_df = pd.crosstab(df_cat.breed_group, df_cat.OutcomeType, margins=False)\n",
    "\n",
    "# plot grouped bar chart of dog group by outcome\n",
    "cat_outcome_df.div(cat_outcome_df.sum(1).astype(float), axis= 0).plot(kind='bar', stacked=True)\n",
    "\n",
    "#group_outcome_df.iloc[0:7,0:5].plot(kind='bar', figsize=(20,10))\n",
    "plt.show()\n"
   ]
  },
  {
   "cell_type": "code",
   "execution_count": 16,
   "metadata": {},
   "outputs": [
    {
     "data": {
      "image/png": "[encoded data removed]",
      "text/plain": [
       "<matplotlib.figure.Figure at 0x7f1a8a4b4310>"
      ]
     },
     "metadata": {},
     "output_type": "display_data"
    }
   ],
   "source": [
    "# plot grouped bar chart of outcome and age label\n",
    "age_outcome_df = pd.crosstab(df.age_label, df.OutcomeType, margins=False)\n",
    "#age_outcome_df.iloc[0:7,0:5].plot(kind='bar', figsize=(20,10))\n",
    "#plt.show()\n",
    "\n",
    "age_outcome_df.div(age_outcome_df.sum(1).astype(float), axis= 0).plot(kind='bar', stacked=True, figsize=(20,10))\n",
    "\n",
    "#group_outcome_df.iloc[0:7,0:5].plot(kind='bar', figsize=(20,10))\n",
    "plt.show()"
   ]
  },
  {
   "cell_type": "code",
   "execution_count": 17,
   "metadata": {},
   "outputs": [],
   "source": [
    "#df[df[\"is_dog\"] == 1]\n",
    "# this function returns purity category: \"pure\", \"mixed\", \"cross\"\n",
    "# depending on whether \n",
    "def get_breed_purity(_input):\n",
    "    breed_purity = \"\"\n",
    "    if \"/\" in _input:\n",
    "        breed_purity = \"cross\"\n",
    "    elif \"Mix\" in _input:\n",
    "        breed_purity = \"mix\"\n",
    "    else:\n",
    "        breed_purity = \"pure\"\n",
    "    return breed_purity\n",
    "\n",
    "df[\"breed_purity\"] = df[\"Breed\"].apply(get_breed_purity).astype('category')"
   ]
  },
  {
   "cell_type": "code",
   "execution_count": 18,
   "metadata": {},
   "outputs": [
    {
     "name": "stdout",
     "output_type": "stream",
     "text": [
      "Index([u'AnimalID', u'Name', u'DateTime', u'OutcomeType', u'OutcomeSubtype',\n",
      "       u'AnimalType', u'SexuponOutcome', u'AgeuponOutcome', u'Breed', u'Color',\n",
      "       u'has_name', u'is_dog', u'is_operated', u'gender', u'age_label',\n",
      "       u'breed_group', u'clean_breed', u'breed_purity'],\n",
      "      dtype='object')\n"
     ]
    },
    {
     "data": {
      "text/plain": [
       "['AgeuponOutcome',\n",
       " 'AnimalType',\n",
       " 'Breed',\n",
       " 'Name',\n",
       " 'AnimalID',\n",
       " 'Color',\n",
       " 'gender',\n",
       " 'has_name',\n",
       " 'clean_breed',\n",
       " 'DateTime',\n",
       " 'is_operated',\n",
       " 'is_dog',\n",
       " 'breed_purity',\n",
       " 'age_label',\n",
       " 'breed_group',\n",
       " 'OutcomeSubtype',\n",
       " 'SexuponOutcome',\n",
       " 'OutcomeType']"
      ]
     },
     "execution_count": 18,
     "metadata": {},
     "output_type": "execute_result"
    }
   ],
   "source": [
    "# basic utilities to find column details\n",
    "cols = df.columns\n",
    "print cols\n",
    "df.describe()\n",
    "\n",
    "num_cols = df._get_numeric_data().columns\n",
    "# non numeric columns\n",
    "list(set(cols) - set(num_cols))\n"
   ]
  },
  {
   "cell_type": "code",
   "execution_count": 164,
   "metadata": {},
   "outputs": [],
   "source": [
    "# extract dog feature / can be also used with color\n",
    "\n",
    "#docs = ['German Shepherd Mix', 'American Pit Bull Terrier Mix', \n",
    " #       'Chihuahua Shorthair Mix','Chihuahua Shorthair Mix', 'Pit Bull Mix', 'Yorkshire Terrier Mix', 'Rat Terrier']\n",
    "clean_breed_vectoriser = CountVectorizer()\n",
    "dog_breed_wc = clean_breed_vectoriser.fit_transform(df.loc[is_dog==1,'clean_breed'])\n",
    "df_dog_word_freq = pd.DataFrame(dog_breed_wc.toarray(), columns=clean_breed_vectoriser.get_feature_names())\n",
    "\n",
    "#print(df_breed_word_freq)\n",
    "#print df_breed_word_freq.shape\n",
    "\n",
    "def get_breed_popularity_metric(_breed_string):\n",
    "    result = float(1.0)\n",
    "    _breed_string = _breed_string.lower()\n",
    "    animal_count = df_dog_word_freq.shape[0]\n",
    "    #print \"Animal Count %d\" % animal_count\n",
    "    \n",
    "    for x in _breed_string.split():\n",
    "        if x in df_dog_word_freq.columns:            \n",
    "            #print float(sum(df_dog_word_freq[x]) + 1.0) / animal_count\n",
    "            result = result * (float(sum(df_dog_word_freq[x]) + 1.0) / animal_count)\n",
    "        else: # we're encountering a breed term not found in our vocub\n",
    "            result = result * (1.0 / animal_count)\n",
    "    \n",
    "    # weight on inverse term count so that longer terms get favourable weighted\n",
    "    #print len(_breed_string.split())    \n",
    "    return result * math.log(len(_breed_string.split())+1)\n",
    "        "
   ]
  },
  {
   "cell_type": "code",
   "execution_count": 176,
   "metadata": {},
   "outputs": [
    {
     "name": "stdout",
     "output_type": "stream",
     "text": [
      "0.000569232799021\n"
     ]
    }
   ],
   "source": [
    "bar = get_breed_popularity_metric(\"Affenpinscher Mix\")\n",
    "print bar \n",
    "#print df_dog_word_freq.shape\n",
    "#sum(df_dog_word_freq.chihuahua)\n"
   ]
  },
  {
   "cell_type": "code",
   "execution_count": 174,
   "metadata": {},
   "outputs": [
    {
     "data": {
      "text/plain": [
       "0    9.187225e-06\n",
       "2    2.455212e-02\n",
       "4    6.984787e-08\n",
       "5    5.051701e-05\n",
       "8    8.330452e-05\n",
       "Name: clean_breed, dtype: float64"
      ]
     },
     "execution_count": 174,
     "metadata": {},
     "output_type": "execute_result"
    }
   ],
   "source": [
    "# apply popularity metric to dogs\n",
    "# comment below line since it takes some time to calculate frequency per breed term\n",
    "#dog_popularity_idx = df.loc[is_dog==1, \"clean_breed\"].apply(get_breed_popularity_metric)\n",
    "dog_popularity_idx.head()\n",
    "#df.head()"
   ]
  },
  {
   "cell_type": "code",
   "execution_count": 169,
   "metadata": {},
   "outputs": [
    {
     "data": {
      "image/png": "[encoded data removed]",
      "text/plain": [
       "<matplotlib.figure.Figure at 0x7f1a870bc710>"
      ]
     },
     "metadata": {},
     "output_type": "display_data"
    }
   ],
   "source": [
    "# not interesting - ignore\n",
    "dog_popularity_idx.plot.kde()\n",
    "plt.show()"
   ]
  },
  {
   "cell_type": "code",
   "execution_count": 224,
   "metadata": {},
   "outputs": [
    {
     "name": "stdout",
     "output_type": "stream",
     "text": [
      "autumn\n",
      "set(['autumn', 'summer', 'winter', 'spring'])\n",
      "set(['weekend', 'weekday'])\n"
     ]
    }
   ],
   "source": [
    "# create two new features from date\n",
    "df.head()\n",
    "# check that month is returned correctly\n",
    "from datetime import date, datetime\n",
    "\n",
    "# code to determine season from: https://stackoverflow.com/a/28688724\n",
    "Y = 2000 # dummy leap year to allow input X-02-29 (leap day)\n",
    "seasons = [('winter', (date(Y,  1,  1),  date(Y,  3, 20))),\n",
    "           ('spring', (date(Y,  3, 21),  date(Y,  6, 20))),\n",
    "           ('summer', (date(Y,  6, 21),  date(Y,  9, 22))),\n",
    "           ('autumn', (date(Y,  9, 23),  date(Y, 12, 20))),\n",
    "           ('winter', (date(Y, 12, 21),  date(Y, 12, 31)))]\n",
    "\n",
    "def get_season(now):\n",
    "    if isinstance(now, datetime):\n",
    "        now = now.date()\n",
    "    now = now.replace(year=Y)\n",
    "    return next(season for season, (start, end) in seasons\n",
    "                if start <= now <= end)\n",
    "\n",
    "print(get_season(date.today()))\n",
    "\n",
    "print set(pd.to_datetime(df.iloc[:,2]).apply(get_season))\n",
    "print set(pd.to_datetime(df.iloc[:,2]).apply(lambda x: \"weekend\" if x.weekday() in [5,6] else \"weekday\"))\n",
    "\n",
    "pd.to_datetime(df.iloc[:,2]).apply(lambda x: \"weekend\" if x.weekday() in [5,6] else \"weekday\").value_counts()\n",
    "pd.to_datetime(df.iloc[:,2]).apply(get_season).value_counts()\n",
    "\n",
    "#import datetime\n",
    "#datetime.datetime.today().weekday()\n",
    "#from sklearn.preprocessing import LabelEncoder\n",
    "#le = LabelEncoder()\n",
    "#print le.fit_transform([\"cat\", \"dog\", \"mouse\", \"mouse\", \"dog\", \"cat\"])\n",
    "# add columns to our data frame\n",
    "df[\"is_weekend\"] = pd.to_datetime(df.iloc[:,2]).apply(lambda x: int(1  if x.weekday() in [5,6] else 0))\n",
    "df[\"season\"] = pd.to_datetime(df.iloc[:,2]).apply(get_season)\n"
   ]
  },
  {
   "cell_type": "code",
   "execution_count": 226,
   "metadata": {},
   "outputs": [
    {
     "data": {
      "image/png": "[encoded data removed]",
      "text/plain": [
       "<matplotlib.figure.Figure at 0x7f1a877de790>"
      ]
     },
     "metadata": {},
     "output_type": "display_data"
    },
    {
     "data": {
      "image/png": "[encoded data removed]",
      "text/plain": [
       "<matplotlib.figure.Figure at 0x7f1a8a5d3b50>"
      ]
     },
     "metadata": {},
     "output_type": "display_data"
    }
   ],
   "source": [
    "# plot stacked bar chart of season by outcome\n",
    "season_outcome_df = pd.crosstab(df.season, df.OutcomeType, margins=False)\n",
    "\n",
    "season_outcome_df.div(season_outcome_df.sum(1).astype(float), axis= 0).plot(kind='bar', stacked=True, figsize=(20,10))\n",
    "\n",
    "#plt.show()\n",
    "\n",
    "# plot stacked bar chart of weekday vs weekend\n",
    "we_outcome_df = pd.crosstab(df.is_weekend, df.OutcomeType, margins=False)\n",
    "we_outcome_df.div(we_outcome_df.sum(1).astype(float), axis= 0).plot(kind='bar', stacked=True)\n",
    "\n",
    "plt.show()\n"
   ]
  },
  {
   "cell_type": "code",
   "execution_count": 237,
   "metadata": {},
   "outputs": [
    {
     "data": {
      "text/html": [
       "<div>\n",
       "<table border=\"1\" class=\"dataframe\">\n",
       "  <thead>\n",
       "    <tr style=\"text-align: right;\">\n",
       "      <th></th>\n",
       "      <th>OutcomeType</th>\n",
       "      <th>Adoption</th>\n",
       "      <th>Died</th>\n",
       "      <th>Euthanasia</th>\n",
       "      <th>Return_to_owner</th>\n",
       "      <th>Transfer</th>\n",
       "      <th>All</th>\n",
       "    </tr>\n",
       "    <tr>\n",
       "      <th>season</th>\n",
       "      <th>is_weekend</th>\n",
       "      <th></th>\n",
       "      <th></th>\n",
       "      <th></th>\n",
       "      <th></th>\n",
       "      <th></th>\n",
       "      <th></th>\n",
       "    </tr>\n",
       "  </thead>\n",
       "  <tbody>\n",
       "    <tr>\n",
       "      <th rowspan=\"2\" valign=\"top\">autumn</th>\n",
       "      <th>0</th>\n",
       "      <td>1774</td>\n",
       "      <td>41</td>\n",
       "      <td>363</td>\n",
       "      <td>1011</td>\n",
       "      <td>2107</td>\n",
       "      <td>5296</td>\n",
       "    </tr>\n",
       "    <tr>\n",
       "      <th>1</th>\n",
       "      <td>1373</td>\n",
       "      <td>15</td>\n",
       "      <td>75</td>\n",
       "      <td>403</td>\n",
       "      <td>609</td>\n",
       "      <td>2475</td>\n",
       "    </tr>\n",
       "    <tr>\n",
       "      <th rowspan=\"2\" valign=\"top\">spring</th>\n",
       "      <th>0</th>\n",
       "      <td>1109</td>\n",
       "      <td>30</td>\n",
       "      <td>291</td>\n",
       "      <td>791</td>\n",
       "      <td>1710</td>\n",
       "      <td>3931</td>\n",
       "    </tr>\n",
       "    <tr>\n",
       "      <th>1</th>\n",
       "      <td>777</td>\n",
       "      <td>18</td>\n",
       "      <td>83</td>\n",
       "      <td>314</td>\n",
       "      <td>661</td>\n",
       "      <td>1853</td>\n",
       "    </tr>\n",
       "    <tr>\n",
       "      <th rowspan=\"2\" valign=\"top\">summer</th>\n",
       "      <th>0</th>\n",
       "      <td>1758</td>\n",
       "      <td>46</td>\n",
       "      <td>308</td>\n",
       "      <td>691</td>\n",
       "      <td>1921</td>\n",
       "      <td>4724</td>\n",
       "    </tr>\n",
       "    <tr>\n",
       "      <th>1</th>\n",
       "      <td>1279</td>\n",
       "      <td>17</td>\n",
       "      <td>90</td>\n",
       "      <td>275</td>\n",
       "      <td>674</td>\n",
       "      <td>2335</td>\n",
       "    </tr>\n",
       "    <tr>\n",
       "      <th rowspan=\"2\" valign=\"top\">winter</th>\n",
       "      <th>0</th>\n",
       "      <td>1603</td>\n",
       "      <td>19</td>\n",
       "      <td>255</td>\n",
       "      <td>943</td>\n",
       "      <td>1259</td>\n",
       "      <td>4079</td>\n",
       "    </tr>\n",
       "    <tr>\n",
       "      <th>1</th>\n",
       "      <td>1096</td>\n",
       "      <td>10</td>\n",
       "      <td>86</td>\n",
       "      <td>358</td>\n",
       "      <td>446</td>\n",
       "      <td>1996</td>\n",
       "    </tr>\n",
       "    <tr>\n",
       "      <th>All</th>\n",
       "      <th></th>\n",
       "      <td>10769</td>\n",
       "      <td>196</td>\n",
       "      <td>1551</td>\n",
       "      <td>4786</td>\n",
       "      <td>9387</td>\n",
       "      <td>26689</td>\n",
       "    </tr>\n",
       "  </tbody>\n",
       "</table>\n",
       "</div>"
      ],
      "text/plain": [
       "OutcomeType        Adoption  Died  Euthanasia  Return_to_owner  Transfer  \\\n",
       "season is_weekend                                                          \n",
       "autumn 0               1774    41         363             1011      2107   \n",
       "       1               1373    15          75              403       609   \n",
       "spring 0               1109    30         291              791      1710   \n",
       "       1                777    18          83              314       661   \n",
       "summer 0               1758    46         308              691      1921   \n",
       "       1               1279    17          90              275       674   \n",
       "winter 0               1603    19         255              943      1259   \n",
       "       1               1096    10          86              358       446   \n",
       "All                   10769   196        1551             4786      9387   \n",
       "\n",
       "OutcomeType          All  \n",
       "season is_weekend         \n",
       "autumn 0            5296  \n",
       "       1            2475  \n",
       "spring 0            3931  \n",
       "       1            1853  \n",
       "summer 0            4724  \n",
       "       1            2335  \n",
       "winter 0            4079  \n",
       "       1            1996  \n",
       "All                26689  "
      ]
     },
     "execution_count": 237,
     "metadata": {},
     "output_type": "execute_result"
    }
   ],
   "source": [
    "pd.crosstab([df.season, df.is_weekend], df.OutcomeType,  margins=True)\n",
    "#pd.crosstab(df.is_weekend, df.OutcomeType,  margins=True)"
   ]
  },
  {
   "cell_type": "code",
   "execution_count": 286,
   "metadata": {},
   "outputs": [],
   "source": [
    "from sklearn.feature_extraction.text import TfidfVectorizer\n",
    "\n",
    "tfv = TfidfVectorizer(min_df=0.0025, max_df=0.1, max_features=None, strip_accents='unicode', analyzer='word', token_pattern=r'\\w{1,}',\n",
    "                     ngram_range=(1,2), use_idf=1, smooth_idf=1, sublinear_tf=1, stop_words='english')"
   ]
  },
  {
   "cell_type": "code",
   "execution_count": 342,
   "metadata": {},
   "outputs": [
    {
     "name": "stdout",
     "output_type": "stream",
     "text": [
      "[u'american', u'american bulldog', u'american pit', u'american staffordshire', u'anatol', u'anatol shepherd', u'apso', u'australian', u'australian cattle', u'australian kelpie', u'australian shepherd', u'basset', u'basset hound', u'beagle', u'beagle mix', u'black brindle', u'black brown', u'black mouth', u'black smoke', u'black tan', u'blue', u'blue lacy', u'blue merle', u'blue tabby', u'blue white', u'border', u'border collie', u'border terrier', u'boston', u'boston terrier', u'boxer', u'boxer mix', u'brindle', u'brindle white', u'brown black', u'brown brindle', u'brown merle', u'brown white', u'buff', u'bull', u'bull mix', u'bull terrier', u'bulldog', u'bulldog mix', u'cairn', u'cairn terrier', u'calico', u'cardigan', u'cardigan welsh', u'catahoula', u'catahoula mix', u'cattle', u'cattle dog', u'chihuahua', u'chihuahua longhair', u'chihuahua shorthair', u'chinese', u'chinese sharpei', u'chocolate', u'chocolate white', u'chow', u'chow chow', u'coat', u'cocker', u'cocker spaniel', u'collie', u'collie black', u'collie mix', u'corgi', u'corgi mix', u'cream', u'cream tabby', u'cur', u'cur mix', u'dachshund', u'dachshund chihuahua', u'dachshund mix', u'doberman', u'doberman pinsch', u'dog', u'dog mix', u'domestic longhair', u'domestic medium', u'english', u'fawn', u'fawn white', u'flame', u'flame point', u'german', u'german shepherd', u'gold', u'golden', u'golden retriever', u'gray', u'gray white', u'great', u'great pyrenees', u'hair', u'hair mix', u'heeler', u'hound', u'hound mix', u'husky', u'husky mix', u'jack', u'jack russell', u'kelpie', u'kelpie mix', u'labrador', u'labrador retriever', u'lacy', u'lhasa', u'lhasa apso', u'longhair', u'longhair mix', u'lynx', u'lynx point', u'maltese', u'manchester', u'manchester terrier', u'medium', u'medium hair', u'merle', u'merle white', u'miniature', u'miniature pinscher', u'miniature poodle', u'miniature schnauzer', u'mix blue', u'mix buff', u'mix calico', u'mix chocolate', u'mix cream', u'mix fawn', u'mix flame', u'mix gray', u'mix lynx', u'mix orange', u'mix red', u'mix sable', u'mix seal', u'mix silver', u'mix tan', u'mix torbie', u'mix tortie', u'mix tricolor', u'mix white', u'mix yellow', u'mouth', u'mouth cur', u'orange', u'orange tabby', u'pinsch', u'pinscher', u'pinscher mix', u'pit', u'pit bull', u'plott', u'plott hound', u'point', u'pointer', u'pointer mix', u'pomeranian', u'poodle', u'poodle mix', u'poodle white', u'pug', u'pyrenees', u'pyrenees mix', u'queensland', u'queensland heeler', u'rat', u'rat terrier', u'red', u'red white', u'retriever', u'retriever black', u'retriever brown', u'retriever mix', u'retriever pit', u'rottweiler', u'rottweiler mix', u'russell', u'russell terrier', u'sable', u'sable white', u'schnauzer', u'schnauzer mix', u'seal', u'seal point', u'sharpei', u'shepherd', u'shepherd black', u'shepherd labrador', u'shepherd mix', u'shih', u'shih tzu', u'shorthair black', u'shorthair brown', u'shorthair dachshund', u'siamese', u'siamese mix', u'siberian', u'siberian husky', u'silver', u'smoke', u'smooth', u'snowshoe', u'snowshoe mix', u'spaniel', u'staffordshire', u'staffordshire mix', u'staffordshire terrier', u'tabby white', u'tan black', u'tan white', u'terrier', u'terrier black', u'terrier chihuahua', u'terrier mix', u'terrier white', u'tick', u'torbie', u'tortie', u'tricolor', u'tzu', u'tzu mix', u'welsh', u'welsh corgi', u'white black', u'white blue', u'white brown', u'white orange', u'white tan', u'yellow', u'yorkshire', u'yorkshire terrier']\n",
      "(26689, 237)\n",
      "<class 'scipy.sparse.csr.csr_matrix'>\n"
     ]
    }
   ],
   "source": [
    "\n",
    "example_text = list(df.apply(lambda x: '%s %s' % (x['Breed'], x['Color']),axis=1))\n",
    "example_text = tfv.fit_transform(example_text)\n",
    "print tfv.get_feature_names()\n",
    "#print example_text\n",
    "example_text.shape\n",
    "weights = np.asarray(example_text.mean(axis=0)).ravel().tolist()\n",
    "weights_df = pd.DataFrame({'term': tfv.get_feature_names(), 'weight':weights})\n",
    "weights_df.sort_values(by='weight', ascending=False).head(20)\n",
    "len(tfv.get_feature_names())\n",
    "print example_text.shape\n",
    "print type(example_text)\n",
    "\n",
    "#np.asarray(example_text.mean(axis=0)).reshape(-1).shape"
   ]
  },
  {
   "cell_type": "code",
   "execution_count": 270,
   "metadata": {
    "collapsed": true
   },
   "outputs": [],
   "source": [
    "from sklearn.decomposition import TruncatedSVD"
   ]
  },
  {
   "cell_type": "code",
   "execution_count": 335,
   "metadata": {},
   "outputs": [],
   "source": [
    "svd = TruncatedSVD(n_components=100)\n",
    "svd.fit(example_text)\n",
    "example_text = svd.transform(example_text)"
   ]
  },
  {
   "cell_type": "code",
   "execution_count": 339,
   "metadata": {},
   "outputs": [
    {
     "data": {
      "text/plain": [
       "array([[  8.52934782e-02,   1.04326828e-02,  -1.80955434e-02,\n",
       "          5.11113115e-02,  -3.88460802e-02,   1.58041442e-02,\n",
       "         -1.18141396e-03,  -9.84083634e-03,  -5.61500697e-02,\n",
       "          1.24986493e-03,   2.54294653e-03,   1.61930289e-02,\n",
       "          3.41578026e-02,  -2.46795221e-02,  -8.02428735e-03,\n",
       "         -1.38053375e-01,   4.60334525e-02,  -1.22791597e-01,\n",
       "         -6.61585617e-02,  -7.41199200e-02,  -2.02905372e-02,\n",
       "         -1.85709374e-02,   7.68857124e-02,   7.97045125e-01,\n",
       "          2.97954892e-01,   1.47703252e-01,  -4.06234088e-02,\n",
       "          9.17087757e-03,  -3.58594689e-02,   6.50135517e-02,\n",
       "         -3.43976675e-01,   3.72375052e-02,  -9.44332502e-02,\n",
       "         -7.77530364e-03,   3.06570821e-02,  -7.07680006e-02,\n",
       "         -3.50544217e-02,  -7.77963800e-02,   3.29057689e-02,\n",
       "          3.31166841e-02,  -1.82490589e-02,   3.73602274e-02,\n",
       "          3.31941537e-02,  -2.37953173e-02,   3.07391724e-03,\n",
       "          1.34625230e-02,   1.51253782e-02,   1.37071413e-02,\n",
       "         -6.47303625e-04,  -2.04919626e-02,  -2.65462367e-02,\n",
       "          4.44433925e-02,   3.67318568e-02,  -6.13631457e-03,\n",
       "         -4.11931259e-02,   3.88571912e-02,   2.79826329e-02,\n",
       "          9.48885494e-03,   3.90413875e-02,   2.16779909e-02,\n",
       "          3.15057324e-02,  -2.16602683e-02,  -1.80038849e-02,\n",
       "         -3.52608446e-02,   7.65200083e-04,  -1.19984339e-02,\n",
       "         -6.66975648e-03,  -2.43298704e-02,   1.40021543e-02,\n",
       "         -5.05813341e-04,   1.53011725e-03,   2.67228724e-02,\n",
       "         -1.34192361e-03,   4.56173538e-02,   2.72058649e-02,\n",
       "          2.81867154e-02,  -2.54414086e-04,   2.07242122e-03,\n",
       "         -4.65763600e-02,   3.11761349e-03,   1.26272728e-02,\n",
       "          1.49688962e-02,  -1.93637096e-02,  -3.65274927e-02,\n",
       "          1.21609396e-02,   8.23966271e-03,  -2.06690614e-02,\n",
       "          2.46681885e-02,   1.75178127e-02,  -1.05518117e-02,\n",
       "         -1.15481801e-02,  -2.14381303e-02,  -1.15741751e-02,\n",
       "         -1.02545854e-02,   7.66049349e-03,  -4.85694154e-03,\n",
       "         -2.51080803e-04,   6.56154868e-03,  -3.04160833e-03,\n",
       "         -1.87572403e-02]])"
      ]
     },
     "execution_count": 339,
     "metadata": {},
     "output_type": "execute_result"
    }
   ],
   "source": [
    "example_text.shape\n",
    "example_text[:1,]"
   ]
  },
  {
   "cell_type": "code",
   "execution_count": 352,
   "metadata": {},
   "outputs": [
    {
     "data": {
      "text/plain": [
       "AnimalID          False\n",
       "Name               True\n",
       "DateTime          False\n",
       "OutcomeType       False\n",
       "OutcomeSubtype     True\n",
       "AnimalType        False\n",
       "SexuponOutcome    False\n",
       "AgeuponOutcome    False\n",
       "Breed             False\n",
       "Color             False\n",
       "has_name          False\n",
       "is_dog            False\n",
       "is_operated       False\n",
       "gender            False\n",
       "age_label         False\n",
       "breed_group       False\n",
       "clean_breed       False\n",
       "breed_purity      False\n",
       "is_weekend        False\n",
       "season            False\n",
       "dtype: bool"
      ]
     },
     "execution_count": 352,
     "metadata": {},
     "output_type": "execute_result"
    }
   ],
   "source": [
    "df.isnull().any()\n",
    "#features=list(set(list(df.columns))-set(AnimalId)-set(OutcomeType)-set(OutcomeSubtype))\n",
    "#[ x for x in df.columns]\n",
    "#col_id = ['AnimalID']\n",
    "#col_target = ['OutcomeType']\n",
    "#col_features = ['']"
   ]
  }
 ],
 "metadata": {
  "kernelspec": {
   "display_name": "Python 2",
   "language": "python",
   "name": "python2"
  },
  "language_info": {
   "codemirror_mode": {
    "name": "ipython",
    "version": 2
   },
   "file_extension": ".py",
   "mimetype": "text/x-python",
   "name": "python",
   "nbconvert_exporter": "python",
   "pygments_lexer": "ipython2",
   "version": "2.7.12"
  }
 },
 "nbformat": 4,
 "nbformat_minor": 2
}
