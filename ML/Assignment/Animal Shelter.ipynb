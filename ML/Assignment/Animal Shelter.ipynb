{
 "cells": [
  {
   "cell_type": "code",
   "execution_count": 1,
   "metadata": {},
   "outputs": [
    {
     "name": "stderr",
     "output_type": "stream",
     "text": [
      "/usr/local/lib/python2.7/dist-packages/sklearn/cross_validation.py:41: DeprecationWarning: This module was deprecated in version 0.18 in favor of the model_selection module into which all the refactored classes and functions are moved. Also note that the interface of the new CV iterators are different from that of this module. This module will be removed in 0.20.\n",
      "  \"This module will be removed in 0.20.\", DeprecationWarning)\n"
     ]
    }
   ],
   "source": [
    "import itertools\n",
    "import pandas as pd\n",
    "import numpy as np\n",
    "import matplotlib.pyplot as plt\n",
    "import seaborn as sns\n",
    "import math\n",
    "import random\n",
    "\n",
    "from collections import Counter\n",
    "\n",
    "from sklearn import preprocessing\n",
    "from sklearn.linear_model import LogisticRegression\n",
    "from sklearn.cross_validation import train_test_split\n",
    "from sklearn.feature_extraction.text import TfidfVectorizer\n",
    "from sklearn.decomposition import TruncatedSVD\n",
    "from sklearn.preprocessing import LabelEncoder\n",
    "from sklearn.cross_validation import StratifiedKFold\n",
    "from sklearn.feature_selection import RFECV\n",
    "from sklearn.preprocessing import StandardScaler\n",
    "\n",
    "from sklearn.ensemble import RandomForestClassifier\n",
    "\n",
    "from sklearn.metrics import recall_score\n",
    "from sklearn.metrics import log_loss\n",
    "from sklearn.metrics import classification_report\n",
    "from sklearn.metrics import confusion_matrix\n",
    "\n",
    "from scipy import sparse\n",
    "\n",
    "from datetime import date, datetime"
   ]
  },
  {
   "cell_type": "code",
   "execution_count": 2,
   "metadata": {
    "collapsed": true
   },
   "outputs": [],
   "source": [
    "# functions required to perform basic transformations\n",
    "# these transformations can be safely applied to all the data set (inc validation)\n",
    "# because they only take into consideration the values of the current row\n",
    "\n",
    "# function to translate gender into \n",
    "def get_gender(_input):\n",
    "    if 'Female' in _input:\n",
    "        return 'F'\n",
    "    elif 'Male' in _input:\n",
    "        return 'M'\n",
    "    else:\n",
    "        return 'U'\n",
    "\n",
    "# function that returns 1 if animal was operated; 0 otherwise\n",
    "def is_operated(_input):    \n",
    "    return int(_input.split()[0] in ['Neutered', 'Spayed'])   \n",
    "\n",
    "# Transform ages to categoris as follows:\n",
    "# 1 = neonatal; 2 = infant; 3 = child; 4 = adolescent; 5 = young_adult; 6 = mature_adult; 7 = old\n",
    "# These categories are based on rate that animal ages w.r.t. human years and the stages of human development\n",
    "# https://www.ajdesigner.com/fl_cat_age/cat_age.php; https://pets.webmd.com/dogs/how-to-calculate-your-dogs-age\n",
    "def get_age_in_labels(_input):\n",
    "    age_label = 0\n",
    "    age_list = _input.split()\n",
    "    age = int(age_list[0])\n",
    "    if \"year\" in age_list[1]:\n",
    "        # \n",
    "        options = [4, 5, 5, 6, 6, 6, 6, 6, 6, 6, 7]\n",
    "        age = age - 1 if age < 11 else 10\n",
    "        age_label = options[age]        \n",
    "    elif \"month\" in age_list[1]:\n",
    "        options = [2, 2, 2, 3, 3, 3, 3, 3, 3, 3, 3]\n",
    "        age_label = options[age-1]\n",
    "    elif \"week\" in age_list[1]:        \n",
    "        age_label = 1\n",
    "    else:\n",
    "        # if less than 1 week, default to 1 week\n",
    "        age_label = 1\n",
    "    return age_label\n",
    "\n",
    "# this function returns purity category: \"pure\", \"mixed\", \"cross\"\n",
    "# depending on whether breed string features just the animal breed, the word \"mix\" or a fwd-slash\n",
    "def get_breed_purity(_input):\n",
    "    breed_purity = \"\"\n",
    "    if \"/\" in _input:\n",
    "        breed_purity = \"cross\"\n",
    "    elif \"Mix\" in _input:\n",
    "        breed_purity = \"mix\"\n",
    "    else:\n",
    "        breed_purity = \"pure\"\n",
    "    return breed_purity\n",
    "\n",
    "# code to determine season from: https://stackoverflow.com/a/28688724\n",
    "Y = 2000 # dummy leap year to allow input X-02-29 (leap day)\n",
    "seasons = [('winter', (date(Y,  1,  1),  date(Y,  3, 20))),\n",
    "           ('spring', (date(Y,  3, 21),  date(Y,  6, 20))),\n",
    "           ('summer', (date(Y,  6, 21),  date(Y,  9, 22))),\n",
    "           ('autumn', (date(Y,  9, 23),  date(Y, 12, 20))),\n",
    "           ('winter', (date(Y, 12, 21),  date(Y, 12, 31)))]\n",
    "\n",
    "def get_season(now):\n",
    "    if isinstance(now, datetime):\n",
    "        now = now.date()\n",
    "    now = now.replace(year=Y)\n",
    "    return next(season for season, (start, end) in seasons\n",
    "                if start <= now <= end)"
   ]
  },
  {
   "cell_type": "code",
   "execution_count": 3,
   "metadata": {},
   "outputs": [
    {
     "name": "stdout",
     "output_type": "stream",
     "text": [
      "Transfer      19\n",
      "Euthanasia     2\n",
      "Died           1\n",
      "Name: OutcomeType, dtype: int64\n"
     ]
    }
   ],
   "source": [
    "# import training data in pandas dataframe df\n",
    "df = pd.read_csv('train.csv', header=0, sep=\",\")\n",
    "# print columns having at least one null entry\n",
    "#print df.isnull().any()\n",
    "# only 1 case of unknown sex\n",
    "df[df[\"SexuponOutcome\"].isnull() == True]\n",
    "# only 18 cases of unknown age\n",
    "len(df[df[\"AgeuponOutcome\"].isnull() == True])\n",
    "# remove null cases \n",
    "\n",
    "# remove null ages\n",
    "df = df[~df['AgeuponOutcome'].isnull()]\n",
    "df = df[~df['SexuponOutcome'].isnull()]\n",
    "#print df.isnull().any()\n",
    "\n",
    "# there are 22 cases where Age is 0 years; the distribution of outcomes (compared to the cases where age is known)\n",
    "# strongly suggests that these animals are neonatal.  Defaulting the value to 1 week\n",
    "print df[(df.AgeuponOutcome == '0 years')][\"OutcomeType\"].value_counts()\n",
    "df.loc[df.AgeuponOutcome == '0 years', 'AgeuponOutcome'] = \"1 week\"\n"
   ]
  },
  {
   "cell_type": "code",
   "execution_count": 4,
   "metadata": {
    "collapsed": true
   },
   "outputs": [],
   "source": [
    "# we are going to perform dummy converstion, label encoding prior to splitting\n",
    "# replace missing value with \"Unknown\"\n",
    "\n",
    "df[\"HasName\"] = (~df.loc[:,\"Name\"].isnull()).apply(lambda x: int(x))\n",
    "df[\"IsOperated\"] = df[\"SexuponOutcome\"].apply(is_operated)\n",
    "df[\"Gender\"] = df[\"SexuponOutcome\"].apply(get_gender)\n",
    "df[\"AgeCategory\"] = df[\"AgeuponOutcome\"].apply(get_age_in_labels)\n",
    "df[\"BreedPurity\"] = df[\"Breed\"].apply(get_breed_purity).astype('category')\n",
    "df[\"IsWeekend\"] = pd.to_datetime(df.DateTime).apply(lambda x: int(1  if x.weekday() in [5,6] else 0))\n",
    "df[\"Season\"] = pd.to_datetime(df.DateTime).apply(get_season)\n",
    "#df[\"Month\"] = pd.to_datetime(df.DateTime).apply(lambda x: x.strftime(\"%b\"))\n",
    "\n",
    "df = pd.get_dummies(df, columns=['AnimalType', 'Gender', 'BreedPurity', 'Season','AgeCategory'], drop_first=True)\n",
    "#df = pd.get_dummies(df, columns=['AnimalType', 'Gender', 'BreedPurity', 'Season', 'AgeCategory'], drop_first=True)\n",
    "#df = pd.get_dummies(df, columns=['OutcomeType'])\n",
    "\n",
    "# features that will be used to build our model\n",
    "# HasName, AnimalType_Dog, Gender, is_operated, \n",
    "# lets start with a simple model that ignores the breed and color\n",
    "# we will then build a more complex model that features TFID terms "
   ]
  },
  {
   "cell_type": "code",
   "execution_count": 5,
   "metadata": {},
   "outputs": [
    {
     "data": {
      "text/plain": [
       "[(0, 'AnimalID'),\n",
       " (1, 'Name'),\n",
       " (2, 'DateTime'),\n",
       " (3, 'OutcomeType'),\n",
       " (4, 'OutcomeSubtype'),\n",
       " (5, 'SexuponOutcome'),\n",
       " (6, 'AgeuponOutcome'),\n",
       " (7, 'Breed'),\n",
       " (8, 'Color'),\n",
       " (9, 'HasName'),\n",
       " (10, 'IsOperated'),\n",
       " (11, 'IsWeekend'),\n",
       " (12, 'AnimalType_Dog'),\n",
       " (13, 'Gender_M'),\n",
       " (14, 'Gender_U'),\n",
       " (15, 'BreedPurity_mix'),\n",
       " (16, 'BreedPurity_pure'),\n",
       " (17, 'Season_spring'),\n",
       " (18, 'Season_summer'),\n",
       " (19, 'Season_winter'),\n",
       " (20, 'AgeCategory_2'),\n",
       " (21, 'AgeCategory_3'),\n",
       " (22, 'AgeCategory_4'),\n",
       " (23, 'AgeCategory_5'),\n",
       " (24, 'AgeCategory_6'),\n",
       " (25, 'AgeCategory_7')]"
      ]
     },
     "execution_count": 5,
     "metadata": {},
     "output_type": "execute_result"
    }
   ],
   "source": [
    "# Display columns to make selection easier\n",
    "ids = range(len(df.columns))\n",
    "[(x, df.columns[x]) for x in ids]"
   ]
  },
  {
   "cell_type": "code",
   "execution_count": 6,
   "metadata": {},
   "outputs": [
    {
     "data": {
      "text/plain": [
       "array(['HasName', 'IsOperated', 'IsWeekend', 'AnimalType_Dog', 'Gender_M',\n",
       "       'Gender_U', 'BreedPurity_mix', 'BreedPurity_pure', 'Season_spring',\n",
       "       'Season_summer', 'Season_winter', 'AgeCategory_2', 'AgeCategory_3',\n",
       "       'AgeCategory_4', 'AgeCategory_5', 'AgeCategory_6', 'AgeCategory_7'], dtype=object)"
      ]
     },
     "execution_count": 6,
     "metadata": {},
     "output_type": "execute_result"
    }
   ],
   "source": [
    "# retain model column names\n",
    "model_columns = df.iloc[:,9:26].columns.values\n",
    "model_columns\n"
   ]
  },
  {
   "cell_type": "code",
   "execution_count": 7,
   "metadata": {},
   "outputs": [],
   "source": [
    "# create feature and label array (when not using tfidx features)\n",
    "X = df.loc[:, model_columns].values\n",
    "\n",
    "#X = StandardScaler(with_mean=False).fit_transform(X)\n",
    "y = df.iloc[:, 3].values\n",
    "# uncomment the below to train ensemble of 1vsrest Logistic Classifiers\n",
    "#y = df.iloc[:, 20:].values\n",
    "\n",
    "# convert target variable to number\n",
    "le = LabelEncoder()\n",
    "y = le.fit_transform(y)\n",
    "# we can compute inverse_transform to get back the labels\n",
    "# le.inverse_transform(y)\n",
    "\n",
    "# split in training and testing sets\n",
    "X_train, X_test, y_train, y_test = train_test_split(X, y, test_size=0.2, random_state=2)"
   ]
  },
  {
   "cell_type": "code",
   "execution_count": null,
   "metadata": {},
   "outputs": [],
   "source": [
    "from sklearn.decomposition import TruncatedSVD\n",
    "# was max_df 0.1\n",
    "# now let's create the tfidf features\n",
    "df_train, df_test = train_test_split(df, test_size=0.2, random_state=2)\n",
    "tfv = TfidfVectorizer(min_df=0.0025, max_df=0.5, max_features=None, strip_accents='unicode', analyzer='word', token_pattern=r'\\w{1,}',\n",
    "                     ngram_range=(1,2), use_idf=1, smooth_idf=1, sublinear_tf=1, stop_words='english')\n",
    "\n",
    "breed_colour = list(df_train.apply(lambda x: '%s %s' % (x['Breed'], x['Color']),axis=1))\n",
    "breed_colour = tfv.fit_transform(breed_colour)\n",
    "\n",
    "breed_colour.shape\n",
    "\n",
    "def get_top_n_features(tfidf_array):\n",
    "    weights = tfidf_array.mean(axis=0).ravel().tolist()\n",
    "    weights_df = pd.DataFrame({'term': tfv.get_feature_names(), 'weight':weights})\n",
    "    print weights_df.sort_values(by='weight', ascending=False).head(20)    \n",
    "\n",
    "#weights = np.asarray(breed_colour.mean(axis=0)).ravel().tolist()\n",
    "#weights_df = pd.DataFrame({'term': tfv.get_feature_names(), 'weight':weights})\n",
    "#print weights_df.sort_values(by='weight', ascending=False).head(20)\n",
    "\n",
    "# perform dimensionality reduction using SVD\n",
    "#svd = TruncatedSVD(n_components=100)\n",
    "#breed_colour_svd = svd.fit_transform(breed_colour)\n",
    "\n",
    "X_train = df_train.loc[:, model_columns].values\n",
    "#X_train = sparse.hstack((X_train, breed_colour))\n",
    "X_train = np.hstack((X_train, breed_colour.toarray()))\n",
    "\n",
    "#X_train = np.hstack((X_train, breed_colour_svd))\n",
    "##ss = StandardScaler(with_mean=False)\n",
    "#ss = StandardScaler()\n",
    "#X_train = ss.fit_transform(X_train)\n",
    "\n",
    "X_test = df_test.loc[:, model_columns].values\n",
    "breed_colour_test = list(df_test.apply(lambda x: '%s %s' % (x['Breed'], x['Color']),axis=1))\n",
    "breed_colour_test = tfv.transform(breed_colour_test)\n",
    "#breed_colour_test_svd = svd.transform(breed_colour_test)\n",
    "X_test = np.hstack((X_test, breed_colour_test.toarray()))\n",
    "#X_test = sparse.hstack((X_test, breed_colour_test))\n",
    "#X_test = np.hstack((X_test, breed_colour_test_svd))\n",
    "#X_test = ss.transform(X_test)\n",
    "\n",
    "y_train = df_train.iloc[:, 3].values\n",
    "y_test = df_test.iloc[:, 3].values\n",
    "\n",
    "# convert target variable to number\n",
    "le = LabelEncoder()\n",
    "y_train = le.fit_transform(y_train)\n",
    "y_test = le.fit_transform(y_test)\n",
    "\n",
    "\n",
    "arrays = [X_train, X_test, y_train, y_test]\n",
    "print [x.shape for x in arrays]"
   ]
  },
  {
   "cell_type": "code",
   "execution_count": null,
   "metadata": {
    "collapsed": true
   },
   "outputs": [],
   "source": [
    "model_columns = np.hstack((model_columns, tfv.get_feature_names()) )"
   ]
  },
  {
   "cell_type": "code",
   "execution_count": null,
   "metadata": {},
   "outputs": [],
   "source": [
    "# get top features associated with outcome\n",
    "get_top_n_features((X_train[y_train==3])[:,17:])\n"
   ]
  },
  {
   "cell_type": "code",
   "execution_count": null,
   "metadata": {},
   "outputs": [],
   "source": [
    "# Check label proportions\n",
    "from collections import Counter\n",
    "_foo = Counter(y_test), Counter(y_train)\n",
    "print _foo\n",
    "# confirm that propotion of test outcome is similar to population proportion\n",
    "print [round(float(_foo[0][x]) / sum(_foo[0].values()),3)   for x in _foo[0]]\n",
    "\n",
    "# confirm that propotion of train outcome is similar to population proportion\n",
    "print [round(float(_foo[1][x]) / sum(_foo[1].values()),3)   for x in _foo[1]]"
   ]
  },
  {
   "cell_type": "markdown",
   "metadata": {},
   "source": [
    "# Random Forest Classification"
   ]
  },
  {
   "cell_type": "code",
   "execution_count": 8,
   "metadata": {},
   "outputs": [],
   "source": [
    "forest = RandomForestClassifier(n_estimators=1000, random_state=0, class_weight='balanced')\n",
    "forest.fit(X_train, y_train)\n",
    "importances = forest.feature_importances_\n",
    "indices = np.argsort(importances)[::-1]"
   ]
  },
  {
   "cell_type": "code",
   "execution_count": 10,
   "metadata": {
    "scrolled": false
   },
   "outputs": [
    {
     "name": "stdout",
     "output_type": "stream",
     "text": [
      " 1) IsOperated                     0.190330\n",
      " 2) HasName                        0.101197\n",
      " 3) AnimalType_Dog                 0.090323\n",
      " 4) AgeCategory_2                  0.078026\n",
      " 5) IsWeekend                      0.071412\n",
      " 6) Gender_M                       0.071372\n",
      " 7) Season_spring                  0.052330\n",
      " 8) Season_summer                  0.047984\n",
      " 9) Season_winter                  0.047690\n",
      "10) AgeCategory_6                  0.046255\n",
      "11) AgeCategory_5                  0.037210\n",
      "12) BreedPurity_mix                0.033178\n",
      "13) AgeCategory_3                  0.031225\n",
      "14) AgeCategory_4                  0.030856\n",
      "15) AgeCategory_7                  0.029006\n",
      "16) Gender_U                       0.022253\n",
      "17) BreedPurity_pure               0.019355\n"
     ]
    }
   ],
   "source": [
    "for f in range(X_train.shape[1]):\n",
    "#for f in range(25):\n",
    "    print \"%2d) %-*s %f\" % (f+1, 30, model_columns[indices[f]], importances[indices[f]])\n",
    "    \n",
    "#prediction = forest.predict_proba(X_test)\n",
    "prediction = forest.predict(X_test)\n",
    "prediction_prob = forest.predict_proba(X_test)"
   ]
  },
  {
   "cell_type": "markdown",
   "metadata": {},
   "source": [
    "print len(range(25))\n",
    "print len(indices[0:25])\n",
    "le.classes_"
   ]
  },
  {
   "cell_type": "code",
   "execution_count": 11,
   "metadata": {},
   "outputs": [
    {
     "name": "stdout",
     "output_type": "stream",
     "text": [
      "                 precision    recall  f1-score   support\n",
      "\n",
      "       Adoption       0.76      0.63      0.69      2185\n",
      "           Died       0.03      0.32      0.05        37\n",
      "     Euthanasia       0.25      0.35      0.29       322\n",
      "Return_to_owner       0.38      0.65      0.48       939\n",
      "       Transfer       0.75      0.41      0.53      1859\n",
      "\n",
      "    avg / total       0.65      0.54      0.57      5342\n",
      "\n"
     ]
    },
    {
     "data": {
      "image/png": "[encoded data removed]",
      "text/plain": [
       "<matplotlib.figure.Figure at 0x7fdbdd10c3d0>"
      ]
     },
     "metadata": {},
     "output_type": "display_data"
    },
    {
     "data": {
      "image/png": "[encoded data removed]",
      "text/plain": [
       "<matplotlib.figure.Figure at 0x7fdbdd2e6cd0>"
      ]
     },
     "metadata": {},
     "output_type": "display_data"
    }
   ],
   "source": [
    "print(classification_report(y_test, prediction, target_names=le.classes_))\n",
    "feature_count = 17\n",
    "\n",
    "plt.title('Feature Importance')\n",
    "plt.figure(figsize=(20,10))\n",
    "\n",
    "plt.bar(range(feature_count),importances[indices[0:feature_count]], color='lightblue', align='center')\n",
    "plt.xticks(range(feature_count), model_columns[indices[0:feature_count]], rotation = 90)\n",
    "plt.xlim([-1, feature_count])\n",
    "plt.tight_layout()\n",
    "\n",
    "plt.show()\n",
    "plt.close()\n",
    "\n"
   ]
  },
  {
   "cell_type": "code",
   "execution_count": 12,
   "metadata": {},
   "outputs": [
    {
     "name": "stdout",
     "output_type": "stream",
     "text": [
      "Confusion matrix, without normalization\n",
      "[[1378   78   39  582  108]\n",
      " [   0   12    5    4   16]\n",
      " [  11   39  114   86   72]\n",
      " [ 150   25   88  615   61]\n",
      " [ 265  288  210  338  758]]\n"
     ]
    },
    {
     "data": {
      "image/png": "[encoded data removed]",
      "text/plain": [
       "<matplotlib.figure.Figure at 0x7fdbdd10c510>"
      ]
     },
     "metadata": {},
     "output_type": "display_data"
    }
   ],
   "source": [
    "# plot confusion matrix from http://scikit-learn.org/stable/auto_examples/model_selection/plot_confusion_matrix.html#sphx-glr-auto-examples-model-selection-plot-confusion-matrix-py\n",
    "def plot_confusion_matrix(cm, classes,\n",
    "                          normalize=False,\n",
    "                          title='Confusion matrix',\n",
    "                          cmap=plt.cm.Blues):\n",
    "    \"\"\"\n",
    "    This function prints and plots the confusion matrix.\n",
    "    Normalization can be applied by setting `normalize=True`.\n",
    "    \"\"\"\n",
    "    if normalize:\n",
    "        cm = cm.astype('float') / cm.sum(axis=1)[:, np.newaxis]\n",
    "        print(\"Normalized confusion matrix\")\n",
    "    else:\n",
    "        print('Confusion matrix, without normalization')\n",
    "\n",
    "    print(cm)\n",
    "\n",
    "    plt.imshow(cm, interpolation='nearest', cmap=cmap)\n",
    "    plt.title(title)\n",
    "    plt.colorbar()\n",
    "    tick_marks = np.arange(len(classes))\n",
    "    plt.xticks(tick_marks, classes, rotation=45)\n",
    "    plt.yticks(tick_marks, classes)\n",
    "\n",
    "    fmt = '.2f' if normalize else 'd'\n",
    "    thresh = cm.max() / 2.\n",
    "    for i, j in itertools.product(range(cm.shape[0]), range(cm.shape[1])):\n",
    "        plt.text(j, i, format(cm[i, j], fmt),\n",
    "                 horizontalalignment=\"center\",\n",
    "                 color=\"white\" if cm[i, j] > thresh else \"black\")\n",
    "\n",
    "    plt.tight_layout()\n",
    "    plt.ylabel('True label')\n",
    "    plt.xlabel('Predicted label')\n",
    "\n",
    "\n",
    "cnm = confusion_matrix(y_test, prediction)\n",
    "plt.figure()\n",
    "plot_confusion_matrix(cnm, classes=le.classes_,\n",
    "                      title='Confusion matrix, without normalization')\n",
    "\n",
    "plt.show()\n",
    "plt.close()\n",
    "\n"
   ]
  },
  {
   "cell_type": "markdown",
   "metadata": {},
   "source": [
    "# Dogs vs Cats"
   ]
  },
  {
   "cell_type": "code",
   "execution_count": 20,
   "metadata": {},
   "outputs": [],
   "source": [
    "# Random Forest Classification based on dogs and cats separately\n",
    "# create feature and label array (when not using tfidx features)\n",
    "X_dog = df.loc[df.AnimalType_Dog == 1, model_columns].values\n",
    "\n",
    "#X = StandardScaler(with_mean=False).fit_transform(X)\n",
    "y_dog = df.loc[df.AnimalType_Dog == 1, \"OutcomeType\"].values\n",
    "# uncomment the below to train ensemble of 1vsrest Logistic Classifiers\n",
    "#y = df.iloc[:, 20:].values\n",
    "\n",
    "# convert target variable to number\n",
    "le = LabelEncoder()\n",
    "y_dog = le.fit_transform(y_dog)\n",
    "# we can compute inverse_transform to get back the labels\n",
    "# le.inverse_transform(y)\n",
    "\n",
    "# split in training and testing sets\n",
    "X_dog_train, X_dog_test, y_dog_train, y_dog_test = train_test_split(X_dog, y_dog, test_size=0.2, random_state=2)"
   ]
  },
  {
   "cell_type": "code",
   "execution_count": 23,
   "metadata": {},
   "outputs": [
    {
     "data": {
      "text/plain": [
       "RandomForestClassifier(bootstrap=True, class_weight=None, criterion='gini',\n",
       "            max_depth=None, max_features='auto', max_leaf_nodes=None,\n",
       "            min_impurity_decrease=0.0, min_impurity_split=None,\n",
       "            min_samples_leaf=1, min_samples_split=2,\n",
       "            min_weight_fraction_leaf=0.0, n_estimators=1000, n_jobs=1,\n",
       "            oob_score=False, random_state=0, verbose=0, warm_start=False)"
      ]
     },
     "execution_count": 23,
     "metadata": {},
     "output_type": "execute_result"
    }
   ],
   "source": [
    "#forest_of_dogs = RandomForestClassifier(n_estimators=1000, random_state=0, class_weight='balanced')\n",
    "forest_of_dogs = RandomForestClassifier(n_estimators=1000, random_state=0)\n",
    "forest_of_dogs.fit(X_dog_train, y_dog_train)\n",
    "#importances = forest.feature_importances_\n",
    "#indices = np.argsort(importances)[::-1]"
   ]
  },
  {
   "cell_type": "code",
   "execution_count": 24,
   "metadata": {},
   "outputs": [
    {
     "name": "stdout",
     "output_type": "stream",
     "text": [
      "                 precision    recall  f1-score   support\n",
      "\n",
      "       Adoption       0.63      0.77      0.69      1305\n",
      "           Died       0.33      0.07      0.12        14\n",
      "     Euthanasia       0.27      0.10      0.15       154\n",
      "Return_to_owner       0.47      0.56      0.51       845\n",
      "       Transfer       0.66      0.37      0.47       801\n",
      "\n",
      "    avg / total       0.57      0.57      0.56      3119\n",
      "\n"
     ]
    }
   ],
   "source": [
    "\n",
    "prediction_dog = forest_of_dogs.predict(X_dog_test)\n",
    "prediction_dog_prob = forest_of_dogs.predict_proba(X_dog_test)\n",
    "print(classification_report(y_dog_test, prediction_dog, target_names=le.classes_))"
   ]
  },
  {
   "cell_type": "markdown",
   "metadata": {},
   "source": [
    "# Train Ensemble of Logistic Regressors"
   ]
  },
  {
   "cell_type": "code",
   "execution_count": null,
   "metadata": {
    "collapsed": true
   },
   "outputs": [],
   "source": [
    "# taken from http://scikit-learn.org/stable/auto_examples/multioutput/plot_classifier_chain_yeast.html#sphx-glr-auto-examples-multioutput-plot-classifier-chain-yeast-py\n",
    "\n",
    "import numpy as np\n",
    "import matplotlib.pyplot as plt\n",
    "from sklearn.multioutput import ClassifierChain\n",
    "from sklearn.model_selection import train_test_split\n",
    "from sklearn.multiclass import OneVsRestClassifier\n",
    "from sklearn.metrics import jaccard_similarity_score\n",
    "from sklearn.linear_model import LogisticRegression\n",
    "from sklearn.datasets import fetch_mldata\n",
    "\n",
    "#yeast = fetch_mldata('yeast')\n",
    "#_X = yeast['data']\n",
    "#_Y = yeast['target'].transpose().toarray()\n",
    "\n",
    "# Fit an independent logistic regression model for each class using the\n",
    "# OneVsRestClassifier wrapper.\n",
    "ovr = OneVsRestClassifier(LogisticRegression())\n",
    "ovr.fit(X_train, y_train)\n",
    "y_pred_ovr = ovr.predict(X_test)\n",
    "ovr_jaccard_score = jaccard_similarity_score(y_test, y_pred_ovr)\n",
    "\n",
    "# Fit an ensemble of logistic regression classifier chains and take the\n",
    "# take the average prediction of all the chains.\n",
    "chains = [ClassifierChain(LogisticRegression(), order='random', random_state=i)\n",
    "          for i in range(10)]\n",
    "\n",
    "for chain in chains:\n",
    "    chain.fit(X_train, y_train)\n",
    "    \n",
    " \n",
    "y_pred_chains = np.array([chain.predict(X_test) for chain in chains])\n",
    "\n",
    "chain_jaccard_scores = [jaccard_similarity_score(y_test, y_pred_chain >= .5)\n",
    "                        for y_pred_chain in y_pred_chains]\n",
    "\n",
    "y_pred_ensemble = y_pred_chains.mean(axis=0)\n",
    "ensemble_jaccard_score = jaccard_similarity_score(y_test,\n",
    "                                                  y_pred_ensemble >= .5)\n",
    "\n",
    "model_scores = [ovr_jaccard_score] + chain_jaccard_scores\n",
    "model_scores.append(ensemble_jaccard_score)\n",
    "\n",
    "model_names = ('Independent',\n",
    "               'Chain 1',\n",
    "               'Chain 2',\n",
    "               'Chain 3',\n",
    "               'Chain 4',\n",
    "               'Chain 5',\n",
    "               'Chain 6',\n",
    "               'Chain 7',\n",
    "               'Chain 8',\n",
    "               'Chain 9',\n",
    "               'Chain 10',\n",
    "               'Ensemble')\n",
    "\n",
    "print model_scores\n",
    "x_pos = np.arange(len(model_names))\n"
   ]
  },
  {
   "cell_type": "code",
   "execution_count": null,
   "metadata": {
    "collapsed": true
   },
   "outputs": [],
   "source": [
    "# Plot the Jaccard similarity scores for the independent model, each of the\n",
    "# chains, and the ensemble (note that the vertical axis on this plot does\n",
    "# not begin at 0).\n",
    "\n",
    "fig, ax = plt.subplots(figsize=(7, 4))\n",
    "ax.grid(True)\n",
    "ax.set_title('Classifier Chain Ensemble Performance Comparison')\n",
    "ax.set_xticks(x_pos)\n",
    "ax.set_xticklabels(model_names, rotation='vertical')\n",
    "ax.set_ylabel('Jaccard Similarity Score')\n",
    "ax.set_ylim([min(model_scores) * .9, max(model_scores) * 1.1])\n",
    "colors = ['r'] + ['b'] * len(chain_jaccard_scores) + ['g']\n",
    "ax.bar(x_pos, model_scores, alpha=0.5, color=colors)\n",
    "plt.tight_layout()\n",
    "plt.show()    \n"
   ]
  },
  {
   "cell_type": "markdown",
   "metadata": {},
   "source": [
    "# Test a bunch of classifiers"
   ]
  },
  {
   "cell_type": "code",
   "execution_count": null,
   "metadata": {},
   "outputs": [],
   "source": [
    "# Code source: Gaël Varoquaux\n",
    "#              Andreas Müller\n",
    "# Modified for documentation by Jaques Grobler\n",
    "# License: BSD 3 clause\n",
    "\n",
    "import numpy as np\n",
    "import matplotlib.pyplot as plt\n",
    "from matplotlib.colors import ListedColormap\n",
    "from sklearn.model_selection import train_test_split\n",
    "from sklearn.preprocessing import StandardScaler\n",
    "from sklearn.neural_network import MLPClassifier\n",
    "from sklearn.neighbors import KNeighborsClassifier\n",
    "from sklearn.svm import SVC\n",
    "from sklearn.gaussian_process import GaussianProcessClassifier\n",
    "from sklearn.gaussian_process.kernels import RBF\n",
    "from sklearn.tree import DecisionTreeClassifier\n",
    "from sklearn.ensemble import RandomForestClassifier, AdaBoostClassifier\n",
    "from sklearn.naive_bayes import GaussianNB\n",
    "from sklearn.discriminant_analysis import QuadraticDiscriminantAnalysis\n",
    "\n",
    "#h = .02  # step size in the mesh\n",
    "\n",
    "names = [\"Nearest Neighbors\", \n",
    "         #\"Linear SVM\", \n",
    "         #\"RBF SVM\", \n",
    "         #\"Gaussian Process\",\n",
    "         \"Decision Tree\", \"Random Forest\",\n",
    "         #\"Neural Net\", \"AdaBoost\",\n",
    "         #\"Naive Bayes\"\n",
    "         #, \"QDA\"]\n",
    "]\n",
    "\n",
    "classifiers = [\n",
    "    KNeighborsClassifier(3),\n",
    "    #SVC(kernel=\"linear\", C=0.025),\n",
    "    #SVC(gamma=2, C=1),\n",
    "    #GaussianProcessClassifier(1.0 * RBF(1.0)),\n",
    "    DecisionTreeClassifier(max_depth=5),\n",
    "    RandomForestClassifier(max_depth=5, n_estimators=100, max_features=100)\n",
    "    #MLPClassifier(alpha=1),\n",
    "    #AdaBoostClassifier(),\n",
    "    #GaussianNB()\n",
    "    #QuadraticDiscriminantAnalysis()]\n",
    "]\n",
    "\n",
    "scores=[]\n",
    "# iterate over classifiers\n",
    "for name, clf in zip(names, classifiers):    \n",
    "    print \"Doing %s\" % (name)\n",
    "    clf.fit(X_train, y_train)\n",
    "    #score = clf.score(X_test, y_test)\n",
    "    #scores.append(score)\n",
    "    pred = clf.predict_proba(X_test)     \n",
    "    scores.append(log_loss(y_test, pred))\n"
   ]
  },
  {
   "cell_type": "code",
   "execution_count": null,
   "metadata": {
    "collapsed": true
   },
   "outputs": [],
   "source": [
    "scores\n",
    "classifiers[2].fit(X_train, y_train)\n",
    "predictions = classifiers[2].predict_proba(X_test)"
   ]
  },
  {
   "cell_type": "code",
   "execution_count": null,
   "metadata": {},
   "outputs": [],
   "source": [
    "\n"
   ]
  },
  {
   "cell_type": "code",
   "execution_count": null,
   "metadata": {
    "collapsed": true
   },
   "outputs": [],
   "source": [
    "# oversample with SMOTE\n",
    "from imblearn.over_sampling import SMOTE\n",
    "ratios = {0:8584, 1:3000, 2:3000, 3:4000, 4:8000}\n",
    "sm = SMOTE(random_state=0, ratio=ratios)\n",
    "X_train_res, y_train_res = sm.fit_sample(X_train, y_train)"
   ]
  },
  {
   "cell_type": "code",
   "execution_count": null,
   "metadata": {
    "collapsed": true
   },
   "outputs": [],
   "source": [
    "# perform recursive feature elimination using stratified K fold cross validation\n",
    "#lr = LogisticRegression(penalty='l2', C=10**-1, random_state=0, multi_class='multinomial', solver='lbfgs')\n",
    "lr = LogisticRegression()\n",
    "#rfecv = RFECV(estimator=lr, step=1, cv=StratifiedKFold(y_train, n_folds=5), scoring='accuracy')\n",
    "#rfecv.fit(X_train, y_train)\n",
    "lr.fit(X_train, y_train)"
   ]
  },
  {
   "cell_type": "code",
   "execution_count": null,
   "metadata": {
    "collapsed": true
   },
   "outputs": [],
   "source": [
    "#rfecv.grid_scores_\n",
    "#model_columns[rfecv.ranking_ == 1]\n",
    "# use all features for now\n",
    "\n",
    "predictions = lr.predict(X_test)\n"
   ]
  },
  {
   "cell_type": "code",
   "execution_count": null,
   "metadata": {
    "collapsed": true
   },
   "outputs": [],
   "source": [
    "# try and optimise regularisation parameter C (inverse of lambda)\n",
    "\n",
    "# return log loss for various regularisation C values over stratified folds\n",
    "def score(clf, random_state = 0):\n",
    "    kf = StratifiedKFold(y_train, n_folds=5, shuffle=True, random_state=random_state)\n",
    "    pred = np.zeros((y_train.shape[0], number_classes))\n",
    "    score=[]\n",
    "    for train, test in kf:\n",
    "        X_train_tr, X_train_test = X_train[train, :], X_train[test, :]\n",
    "        y_train_tr, y_train_test = y_train[train], y_train[test]        \n",
    "        clf.fit(X_train_tr, y_train_tr)        \n",
    "        pred[test,:] = clf.predict_proba(X_train_test)     \n",
    "        score.append(log_loss(y_train_test, pred[test, :]))        \n",
    "    print 'Log loss: %.3f' % (log_loss(y_train, pred))\n",
    "    return score\n",
    "\n",
    "Cs = np.logspace(-3,0,4)\n",
    "#Cs = np.arange(-5, 5)\n",
    "res = []\n",
    "for c in Cs:\n",
    "    #res.append(np.mean(score(LogisticRegression(penalty='l1', C = c, random_state=0))))\n",
    "    res.append(np.mean(score(LogisticRegression(penalty='l2', C = c, random_state=0, \n",
    "                                                multi_class='multinomial', solver='lbfgs'))))\n",
    "plt.semilogx(Cs, res,'-b');\n",
    "#plt.plot(Cs, res, '-b')\n",
    "plt.show()\n"
   ]
  },
  {
   "cell_type": "code",
   "execution_count": null,
   "metadata": {
    "collapsed": true
   },
   "outputs": [],
   "source": [
    "# run one-vs all logistic regression classifier\n",
    "lr = LogisticRegression(penalty='l2', C=10**-1, random_state=0, multi_class='multinomial', solver='lbfgs')\n",
    "lr.fit(X_train_res, y_train_res)\n",
    "#print X_test[0,:].reshape(-1,12)\n",
    "predictions = lr.predict_proba(X_test)\n",
    "print predictions\n",
    "#lr.predict_proba(X_test[0,:].reshape(-1,12))\n",
    "print lr.score(X_train, y_train)\n",
    "print lr.score(X_test, y_test)\n",
    "\n",
    "\n"
   ]
  },
  {
   "cell_type": "code",
   "execution_count": null,
   "metadata": {},
   "outputs": [],
   "source": [
    "# model beats the null model (whereby most frequent class is selected all the time).  This sort of model would\n",
    "# be correct 41% of the time\n",
    "# calculate accuracy score manually\n",
    "result_array = np.hstack((y_test.reshape(-1,1), predictions.argmax(axis = 1).reshape(-1,1)))\n",
    "print \"Classifier accuracy: %.3f\" % np.mean(np.where((result_array[:,0]==result_array[:,1]) == True, 1, 0))\n",
    "\n",
    "#print recall_score(y_test, predictions)\n",
    "\n",
    "# now i'd like to see which class was best predicted\n",
    "# results in first column represent the target label classes\n",
    "# find which class is worst predicted\n",
    "class_distribution = []\n",
    "for i in range(5):\n",
    "    temp = result_array[result_array[:,0] == i,:]     \n",
    "    class_distribution.append( np.mean(np.where((temp[:,0] == temp[:,1]), 1, 0)) )\n",
    "\n",
    "# \n",
    "print \"Classes: %s\" % le.classes_\n",
    "print \"Class accuracy: %s\" % class_distribution\n",
    "# [0.409, 0.007, 0.06, 0.176, 0.348]\n",
    "\n",
    "                   \n",
    "print \"Classifier log loss: %s\" %  log_loss(y_test, predictions)\n",
    "\n",
    "print \"Recall %.4f\" % recall_score(y_test, predictions.argmax(axis = 1), average='macro')\n",
    "#print df.columns[9:]\n",
    "#print le.classes_\n"
   ]
  },
  {
   "cell_type": "markdown",
   "metadata": {
    "collapsed": true
   },
   "source": [
    "# Imbarazz"
   ]
  },
  {
   "cell_type": "code",
   "execution_count": null,
   "metadata": {},
   "outputs": [],
   "source": [
    "x = np.random.randn(1000)\n",
    "\n",
    "fig = plt.figure()\n",
    "ax = fig.add_subplot(111)\n",
    "n, bins, rectangles = ax.hist(x, 50, normed=True)\n",
    "fig.canvas.draw()\n",
    "plt.show()"
   ]
  },
  {
   "cell_type": "code",
   "execution_count": null,
   "metadata": {},
   "outputs": [],
   "source": [
    "print np.argmax(n)\n",
    "#print n[30]\n",
    "#print bins[29:31]\n",
    "#print len(n)\n",
    "#print len(bins)\n",
    "\n",
    "from scipy import stats\n",
    "#stats.norm.pdf(3, loc=0.0, scale=1.0)\n",
    "#stats.norm.pdf(np.linspace(-1, 1), loc=0.0, scale=1.0)\n",
    "\n",
    "#print 1- stats.norm.cdf(-1, loc=0, scale=1.)  - (1- stats.norm.cdf(1, loc=0, scale=1.) )\n",
    "#print stats.norm.cdf(-1, loc=0, scale=1.)  \n",
    "#- stats.norm.cdf(1, loc=0, scale=1.)\n",
    "\n",
    "#print bins[1:]\n",
    "#print bins[:-1]\n",
    "print np.sum(n * (bins[1:] -  bins[:-1]))\n",
    "print n * (bins[1:] -  bins[:-1])\n",
    "print n\n",
    "print bins"
   ]
  },
  {
   "cell_type": "code",
   "execution_count": null,
   "metadata": {
    "collapsed": true
   },
   "outputs": [],
   "source": []
  }
 ],
 "metadata": {
  "kernelspec": {
   "display_name": "Python 2",
   "language": "python",
   "name": "python2"
  },
  "language_info": {
   "codemirror_mode": {
    "name": "ipython",
    "version": 2
   },
   "file_extension": ".py",
   "mimetype": "text/x-python",
   "name": "python",
   "nbconvert_exporter": "python",
   "pygments_lexer": "ipython2",
   "version": "2.7.12"
  }
 },
 "nbformat": 4,
 "nbformat_minor": 2
}
