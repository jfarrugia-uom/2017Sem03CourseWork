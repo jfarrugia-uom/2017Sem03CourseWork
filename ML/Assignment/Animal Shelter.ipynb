{
 "cells": [
  {
   "cell_type": "code",
   "execution_count": 1,
   "metadata": {},
   "outputs": [
    {
     "name": "stderr",
     "output_type": "stream",
     "text": [
      "/usr/local/lib/python2.7/dist-packages/sklearn/cross_validation.py:41: DeprecationWarning: This module was deprecated in version 0.18 in favor of the model_selection module into which all the refactored classes and functions are moved. Also note that the interface of the new CV iterators are different from that of this module. This module will be removed in 0.20.\n",
      "  \"This module will be removed in 0.20.\", DeprecationWarning)\n"
     ]
    }
   ],
   "source": [
    "import pandas as pd\n",
    "import numpy as np\n",
    "import matplotlib.pyplot as plt\n",
    "import seaborn as sns\n",
    "import math\n",
    "import random\n",
    "\n",
    "from collections import Counter\n",
    "from sklearn import preprocessing\n",
    "from sklearn.linear_model import LogisticRegression\n",
    "from sklearn.cross_validation import train_test_split\n",
    "from sklearn.feature_extraction.text import TfidfVectorizer\n",
    "from sklearn.decomposition import TruncatedSVD\n",
    "from sklearn.preprocessing import LabelEncoder\n",
    "from sklearn.cross_validation import StratifiedKFold\n",
    "\n",
    "from datetime import date, datetime"
   ]
  },
  {
   "cell_type": "code",
   "execution_count": 2,
   "metadata": {},
   "outputs": [],
   "source": [
    "# functions required to perform basic transformations\n",
    "# these transformations can be safely applied to all the data set (inc validation)\n",
    "# because they only take into consideration the values of the current row\n",
    "\n",
    "# function to translate gender into \n",
    "def get_gender(_input):\n",
    "    if 'Female' in _input:\n",
    "        return 'F'\n",
    "    elif 'Male' in _input:\n",
    "        return 'M'\n",
    "    else:\n",
    "        return 'U'\n",
    "\n",
    "# function that returns 1 if animal was operated; 0 otherwise\n",
    "def is_operated(_input):    \n",
    "    return int(_input.split()[0] in ['Neutered', 'Spayed'])   \n",
    "\n",
    "# Transform ages to categoris as follows:\n",
    "# 1 = neonatal; 2 = infant; 3 = child; 4 = adolescent; 5 = young_adult; 6 = mature_adult; 7 = old\n",
    "# These categories are based on rate that animal ages w.r.t. human years and the stages of human development\n",
    "# https://www.ajdesigner.com/fl_cat_age/cat_age.php; https://pets.webmd.com/dogs/how-to-calculate-your-dogs-age\n",
    "def get_age_in_labels(_input):\n",
    "    age_label = 0\n",
    "    age_list = _input.split()\n",
    "    age = int(age_list[0])\n",
    "    if \"year\" in age_list[1]:\n",
    "        # \n",
    "        options = [4, 5, 5, 6, 6, 6, 6, 6, 6, 6, 7]\n",
    "        age = age - 1 if age < 11 else 10\n",
    "        age_label = options[age]        \n",
    "    elif \"month\" in age_list[1]:\n",
    "        options = [2, 2, 2, 3, 3, 3, 3, 3, 3, 3, 3]\n",
    "        age_label = options[age-1]\n",
    "    elif \"week\" in age_list[1]:        \n",
    "        age_label = 1\n",
    "    else:\n",
    "        # if less than 1 week, default to 1 week\n",
    "        age_label = 1\n",
    "    return age_label\n",
    "\n",
    "# this function returns purity category: \"pure\", \"mixed\", \"cross\"\n",
    "# depending on whether breed string features just the animal breed, the word \"mix\" or a fwd-slash\n",
    "def get_breed_purity(_input):\n",
    "    breed_purity = \"\"\n",
    "    if \"/\" in _input:\n",
    "        breed_purity = \"cross\"\n",
    "    elif \"Mix\" in _input:\n",
    "        breed_purity = \"mix\"\n",
    "    else:\n",
    "        breed_purity = \"pure\"\n",
    "    return breed_purity\n",
    "\n",
    "# code to determine season from: https://stackoverflow.com/a/28688724\n",
    "Y = 2000 # dummy leap year to allow input X-02-29 (leap day)\n",
    "seasons = [('winter', (date(Y,  1,  1),  date(Y,  3, 20))),\n",
    "           ('spring', (date(Y,  3, 21),  date(Y,  6, 20))),\n",
    "           ('summer', (date(Y,  6, 21),  date(Y,  9, 22))),\n",
    "           ('autumn', (date(Y,  9, 23),  date(Y, 12, 20))),\n",
    "           ('winter', (date(Y, 12, 21),  date(Y, 12, 31)))]\n",
    "\n",
    "def get_season(now):\n",
    "    if isinstance(now, datetime):\n",
    "        now = now.date()\n",
    "    now = now.replace(year=Y)\n",
    "    return next(season for season, (start, end) in seasons\n",
    "                if start <= now <= end)\n"
   ]
  },
  {
   "cell_type": "code",
   "execution_count": 153,
   "metadata": {},
   "outputs": [
    {
     "name": "stdout",
     "output_type": "stream",
     "text": [
      "Transfer      19\n",
      "Euthanasia     2\n",
      "Died           1\n",
      "Name: OutcomeType, dtype: int64\n"
     ]
    }
   ],
   "source": [
    "# import training data in pandas dataframe df\n",
    "df = pd.read_csv('train.csv', header=0, sep=\",\")\n",
    "# print columns having at least one null entry\n",
    "#print df.isnull().any()\n",
    "# only 1 case of unknown sex\n",
    "df[df[\"SexuponOutcome\"].isnull() == True]\n",
    "# only 18 cases of unknown age\n",
    "len(df[df[\"AgeuponOutcome\"].isnull() == True])\n",
    "# remove null cases \n",
    "\n",
    "# remove null ages\n",
    "df = df[~df['AgeuponOutcome'].isnull()]\n",
    "df = df[~df['SexuponOutcome'].isnull()]\n",
    "#print df.isnull().any()\n",
    "\n",
    "# there are 22 cases where Age is 0 years; the distribution of outcomes (compared to the cases where age is known)\n",
    "# strongly suggests that these animals are neonatal.  Defaulting the value to 1 week\n",
    "print df[(df.AgeuponOutcome == '0 years')][\"OutcomeType\"].value_counts()\n",
    "df.loc[df.AgeuponOutcome == '0 years', 'AgeuponOutcome'] = \"1 week\"\n"
   ]
  },
  {
   "cell_type": "code",
   "execution_count": 154,
   "metadata": {},
   "outputs": [],
   "source": [
    "# we are going to perform dummy converstion, label encoding prior to splitting\n",
    "# replace missing value with \"Unknown\"\n",
    "\n",
    "df[\"HasName\"] = (~df.loc[:,\"Name\"].isnull()).apply(lambda x: int(x))\n",
    "df[\"IsOperated\"] = df[\"SexuponOutcome\"].apply(is_operated)\n",
    "df[\"Gender\"] = df[\"SexuponOutcome\"].apply(get_gender)\n",
    "df[\"AgeCategory\"] = df[\"AgeuponOutcome\"].apply(get_age_in_labels)\n",
    "df[\"BreedPurity\"] = df[\"Breed\"].apply(get_breed_purity).astype('category')\n",
    "df[\"IsWeekend\"] = pd.to_datetime(df.DateTime).apply(lambda x: int(1  if x.weekday() in [5,6] else 0))\n",
    "df[\"Season\"] = pd.to_datetime(df.DateTime).apply(get_season)\n",
    "\n",
    "df = pd.get_dummies(df, columns=['AnimalType', 'Gender', 'BreedPurity', 'Season'], drop_first=True)\n",
    "#df = pd.get_dummies(df, columns=['AnimalType', 'Gender', 'BreedPurity', 'Season', 'AgeCategory'], drop_first=True)\n",
    "\n",
    "# features that will be used to build our model\n",
    "# HasName, AnimalType_Dog, Gender, is_operated, \n",
    "# lets start with a simple model that ignores the breed and color\n",
    "# we will then build a more complex model that features TFID terms "
   ]
  },
  {
   "cell_type": "code",
   "execution_count": 164,
   "metadata": {},
   "outputs": [
    {
     "data": {
      "text/plain": [
       "[(0, 'AnimalID'),\n",
       " (1, 'Name'),\n",
       " (2, 'DateTime'),\n",
       " (3, 'OutcomeType'),\n",
       " (4, 'OutcomeSubtype'),\n",
       " (5, 'SexuponOutcome'),\n",
       " (6, 'AgeuponOutcome'),\n",
       " (7, 'Breed'),\n",
       " (8, 'Color'),\n",
       " (9, 'HasName'),\n",
       " (10, 'IsOperated'),\n",
       " (11, 'AgeCategory'),\n",
       " (12, 'IsWeekend'),\n",
       " (13, 'AnimalType_Dog'),\n",
       " (14, 'Gender_M'),\n",
       " (15, 'Gender_U'),\n",
       " (16, 'BreedPurity_mix'),\n",
       " (17, 'BreedPurity_pure'),\n",
       " (18, 'Season_spring'),\n",
       " (19, 'Season_summer'),\n",
       " (20, 'Season_winter')]"
      ]
     },
     "execution_count": 164,
     "metadata": {},
     "output_type": "execute_result"
    }
   ],
   "source": [
    "# Display columns to make selection easier\n",
    "ids = range(len(df.columns))\n",
    "[(x, df.columns[x]) for x in ids]"
   ]
  },
  {
   "cell_type": "code",
   "execution_count": 181,
   "metadata": {},
   "outputs": [
    {
     "data": {
      "text/html": [
       "<div>\n",
       "<style scoped>\n",
       "    .dataframe tbody tr th:only-of-type {\n",
       "        vertical-align: middle;\n",
       "    }\n",
       "\n",
       "    .dataframe tbody tr th {\n",
       "        vertical-align: top;\n",
       "    }\n",
       "\n",
       "    .dataframe thead th {\n",
       "        text-align: right;\n",
       "    }\n",
       "</style>\n",
       "<table border=\"1\" class=\"dataframe\">\n",
       "  <thead>\n",
       "    <tr style=\"text-align: right;\">\n",
       "      <th></th>\n",
       "      <th>HasName</th>\n",
       "      <th>IsOperated</th>\n",
       "      <th>AgeCategory</th>\n",
       "      <th>IsWeekend</th>\n",
       "      <th>Gender_M</th>\n",
       "      <th>Gender_U</th>\n",
       "      <th>BreedPurity_mix</th>\n",
       "      <th>BreedPurity_pure</th>\n",
       "      <th>Season_spring</th>\n",
       "      <th>Season_summer</th>\n",
       "      <th>Season_winter</th>\n",
       "    </tr>\n",
       "  </thead>\n",
       "  <tbody>\n",
       "    <tr>\n",
       "      <th>2</th>\n",
       "      <td>1</td>\n",
       "      <td>1</td>\n",
       "      <td>5</td>\n",
       "      <td>1</td>\n",
       "      <td>1</td>\n",
       "      <td>0</td>\n",
       "      <td>1</td>\n",
       "      <td>0</td>\n",
       "      <td>0</td>\n",
       "      <td>0</td>\n",
       "      <td>1</td>\n",
       "    </tr>\n",
       "    <tr>\n",
       "      <th>3</th>\n",
       "      <td>0</td>\n",
       "      <td>0</td>\n",
       "      <td>1</td>\n",
       "      <td>0</td>\n",
       "      <td>1</td>\n",
       "      <td>0</td>\n",
       "      <td>1</td>\n",
       "      <td>0</td>\n",
       "      <td>0</td>\n",
       "      <td>1</td>\n",
       "      <td>0</td>\n",
       "    </tr>\n",
       "    <tr>\n",
       "      <th>4</th>\n",
       "      <td>0</td>\n",
       "      <td>1</td>\n",
       "      <td>5</td>\n",
       "      <td>0</td>\n",
       "      <td>1</td>\n",
       "      <td>0</td>\n",
       "      <td>0</td>\n",
       "      <td>0</td>\n",
       "      <td>0</td>\n",
       "      <td>0</td>\n",
       "      <td>0</td>\n",
       "    </tr>\n",
       "  </tbody>\n",
       "</table>\n",
       "</div>"
      ],
      "text/plain": [
       "   HasName  IsOperated  AgeCategory  IsWeekend  Gender_M  Gender_U  \\\n",
       "2        1           1            5          1         1         0   \n",
       "3        0           0            1          0         1         0   \n",
       "4        0           1            5          0         1         0   \n",
       "\n",
       "   BreedPurity_mix  BreedPurity_pure  Season_spring  Season_summer  \\\n",
       "2                1                 0              0              0   \n",
       "3                1                 0              0              1   \n",
       "4                0                 0              0              0   \n",
       "\n",
       "   Season_winter  \n",
       "2              1  \n",
       "3              0  \n",
       "4              0  "
      ]
     },
     "execution_count": 181,
     "metadata": {},
     "output_type": "execute_result"
    }
   ],
   "source": [
    "df.iloc[2:5,[9,10,11,12,14,15,16,17,18,19,20]]"
   ]
  },
  {
   "cell_type": "code",
   "execution_count": 177,
   "metadata": {},
   "outputs": [
    {
     "name": "stdout",
     "output_type": "stream",
     "text": [
      "(26710, 12)\n",
      "(26710,)\n"
     ]
    }
   ],
   "source": [
    "# create feature and label array\n",
    "X = df.iloc[:, 9:].values\n",
    "y = df.iloc[:, 3].values\n",
    "# build dog model\n",
    "#X = df[df.AnimalType_Dog==1].iloc[:, 9:]\n",
    "#y = df[df.AnimalType_Dog==1].iloc[:, 3]\n",
    "print X.shape\n",
    "print y.shape\n",
    "\n",
    "# convert target variable to number\n",
    "le = LabelEncoder()\n",
    "y = le.fit_transform(y)\n",
    "# we can compute inverse_transform to get back the labels\n",
    "le.inverse_transform(y)\n",
    "\n",
    "# split in training and testing sets\n",
    "X_train, X_test, y_train, y_test = train_test_split(X, y, test_size=0.2, random_state=2)\n"
   ]
  },
  {
   "cell_type": "code",
   "execution_count": 178,
   "metadata": {},
   "outputs": [
    {
     "name": "stdout",
     "output_type": "stream",
     "text": [
      "[40.90228378884313, 0.6926244852115313, 6.027704979408461, 17.57768625982778, 34.79970048670909]\n",
      "[40.17222014226881, 0.7487832272557094, 5.760950954698615, 17.998876825159115, 35.31916885061774]\n"
     ]
    }
   ],
   "source": [
    "from collections import Counter\n",
    "_foo = Counter(y_test), Counter(y_train)\n",
    "\n",
    "# confirm that propotion of test outcome is similar to population proportion\n",
    "print [float(_foo[0][x])/float(sum(_foo[0].values())) * 100. for x in _foo[0]]\n",
    "\n",
    "# confirm that propotion of train outcome is similar to population proportion\n",
    "print [float(_foo[1][x])/float(sum(_foo[1].values())) * 100. for x in _foo[1]]\n"
   ]
  },
  {
   "cell_type": "code",
   "execution_count": 179,
   "metadata": {},
   "outputs": [
    {
     "data": {
      "image/png": "[encoded data removed]",
      "text/plain": [
       "<matplotlib.figure.Figure at 0x7fcb50a5de50>"
      ]
     },
     "metadata": {},
     "output_type": "display_data"
    }
   ],
   "source": [
    "number_classes = len(le.classes_)\n",
    "\n",
    "# return log loss for various regularisation C values over stratified folds\n",
    "def score(clf, random_state = 0):\n",
    "    kf = StratifiedKFold(y_train, n_folds=10, shuffle=True, random_state=random_state)\n",
    "    pred = np.zeros((y_train.shape[0], number_classes))\n",
    "    for train, test in kf:\n",
    "        X_train_tr, X_train_test = X_train[train, :], X_train[test, :]\n",
    "        y_train_tr, y_train_test = y[train], y[test]\n",
    "        clf.fit(X_train_tr, y_train_tr)\n",
    "        pred[test,:] = clf.predict_proba(X_train_test)        \n",
    "        return log_loss(y_train_test, pred[test, :])        \n",
    "    return log_loss(y_train, pred)\n",
    "\n",
    "Cs = np.logspace(-3,0,4)\n",
    "res = []\n",
    "for c in Cs:\n",
    "    res.append(score(LogisticRegression(penalty='l1', C = c, random_state=0)))\n",
    "plt.semilogx(Cs, res,'-o');\n",
    "plt.show()\n"
   ]
  },
  {
   "cell_type": "code",
   "execution_count": 172,
   "metadata": {},
   "outputs": [
    {
     "data": {
      "text/plain": [
       "LogisticRegression(C=0.1, class_weight=None, dual=False, fit_intercept=True,\n",
       "          intercept_scaling=1, max_iter=100, multi_class='ovr', n_jobs=1,\n",
       "          penalty='l1', random_state=0, solver='liblinear', tol=0.0001,\n",
       "          verbose=0, warm_start=False)"
      ]
     },
     "execution_count": 172,
     "metadata": {},
     "output_type": "execute_result"
    }
   ],
   "source": [
    "lr = LogisticRegression(penalty='l1', C=0.1, random_state=0)\n",
    "lr.fit(X_train, y_train)"
   ]
  },
  {
   "cell_type": "code",
   "execution_count": 173,
   "metadata": {},
   "outputs": [
    {
     "name": "stdout",
     "output_type": "stream",
     "text": [
      "[[ 0.01926844  0.00548269  0.31119028  0.07859673  0.58546187]\n",
      " [ 0.1182259   0.03021588  0.06174012  0.0191293   0.77068882]\n",
      " [ 0.29371086  0.00099447  0.05969353  0.48176944  0.16383169]\n",
      " ..., \n",
      " [ 0.72550071  0.00287516  0.00626716  0.12987695  0.13548003]\n",
      " [ 0.46321467  0.00149707  0.03948306  0.32530011  0.17050509]\n",
      " [ 0.56174545  0.00210934  0.00951878  0.23696093  0.1896655 ]]\n",
      "4\n",
      "0.572550905884\n",
      "0.579352356525\n"
     ]
    }
   ],
   "source": [
    "#print X_test[0,:].reshape(-1,12)\n",
    "print lr.predict_proba(X_test)\n",
    "#lr.predict_proba(X_test[0,:].reshape(-1,12))\n",
    "print y_test[0]\n",
    "print lr.score(X_train, y_train)\n",
    "print lr.score(X_test, y_test)"
   ]
  },
  {
   "cell_type": "code",
   "execution_count": 174,
   "metadata": {},
   "outputs": [
    {
     "name": "stdout",
     "output_type": "stream",
     "text": [
      "1.0109679479\n",
      "[[ -1.02626719e-01   3.76864558e+00  -5.17166052e-01   5.71395089e-01\n",
      "   -3.61359018e-01  -2.21880208e-01   0.00000000e+00  -1.72732901e-01\n",
      "   -3.67999189e-01  -2.16286595e-02   2.24208843e-01   1.59115141e-01]\n",
      " [ -3.85342823e-01  -1.03828660e+00  -3.98218193e-01   0.00000000e+00\n",
      "   -1.17109519e+00   0.00000000e+00   0.00000000e+00   0.00000000e+00\n",
      "    0.00000000e+00   0.00000000e+00   0.00000000e+00   0.00000000e+00]\n",
      " [ -8.97160369e-01  -1.76181298e+00   5.51563724e-01  -5.20524357e-01\n",
      "   -2.07116178e+00   1.06096928e-01   0.00000000e+00   0.00000000e+00\n",
      "   -3.24459940e-01   0.00000000e+00   0.00000000e+00   0.00000000e+00]\n",
      " [  1.89263475e+00  -2.79568744e-01   4.61585896e-01  -2.59803841e-01\n",
      "   -2.39987386e+00   1.57847343e-01   0.00000000e+00   1.90324217e-01\n",
      "    1.99772684e-01   9.77601474e-02  -1.61394672e-01  -2.90200068e-03]\n",
      " [ -6.85455919e-01  -1.47922005e+00  -9.93785465e-02  -2.38056499e-01\n",
      "    4.29586344e-01   0.00000000e+00   0.00000000e+00   0.00000000e+00\n",
      "    2.68849013e-01  -3.78342367e-02  -6.53255226e-02  -1.29958899e-01]]\n",
      "Index([u'HasName', u'IsOperated', u'AgeCategory', u'IsWeekend',\n",
      "       u'AnimalType_Dog', u'Gender_M', u'Gender_U', u'BreedPurity_mix',\n",
      "       u'BreedPurity_pure', u'Season_spring', u'Season_summer',\n",
      "       u'Season_winter'],\n",
      "      dtype='object')\n",
      "['Adoption' 'Died' 'Euthanasia' 'Return_to_owner' 'Transfer']\n"
     ]
    },
    {
     "data": {
      "text/html": [
       "<div>\n",
       "<style scoped>\n",
       "    .dataframe tbody tr th:only-of-type {\n",
       "        vertical-align: middle;\n",
       "    }\n",
       "\n",
       "    .dataframe tbody tr th {\n",
       "        vertical-align: top;\n",
       "    }\n",
       "\n",
       "    .dataframe thead th {\n",
       "        text-align: right;\n",
       "    }\n",
       "</style>\n",
       "<table border=\"1\" class=\"dataframe\">\n",
       "  <thead>\n",
       "    <tr style=\"text-align: right;\">\n",
       "      <th></th>\n",
       "      <th>HasName</th>\n",
       "      <th>IsOperated</th>\n",
       "      <th>AgeCategory</th>\n",
       "      <th>IsWeekend</th>\n",
       "      <th>AnimalType_Dog</th>\n",
       "      <th>Gender_M</th>\n",
       "      <th>Gender_U</th>\n",
       "      <th>BreedPurity_mix</th>\n",
       "      <th>BreedPurity_pure</th>\n",
       "      <th>Season_spring</th>\n",
       "      <th>Season_summer</th>\n",
       "      <th>Season_winter</th>\n",
       "    </tr>\n",
       "  </thead>\n",
       "  <tbody>\n",
       "    <tr>\n",
       "      <th>0</th>\n",
       "      <td>1</td>\n",
       "      <td>1</td>\n",
       "      <td>4</td>\n",
       "      <td>0</td>\n",
       "      <td>1</td>\n",
       "      <td>1</td>\n",
       "      <td>0</td>\n",
       "      <td>1</td>\n",
       "      <td>0</td>\n",
       "      <td>0</td>\n",
       "      <td>0</td>\n",
       "      <td>1</td>\n",
       "    </tr>\n",
       "    <tr>\n",
       "      <th>1</th>\n",
       "      <td>1</td>\n",
       "      <td>1</td>\n",
       "      <td>4</td>\n",
       "      <td>1</td>\n",
       "      <td>0</td>\n",
       "      <td>0</td>\n",
       "      <td>0</td>\n",
       "      <td>1</td>\n",
       "      <td>0</td>\n",
       "      <td>0</td>\n",
       "      <td>0</td>\n",
       "      <td>0</td>\n",
       "    </tr>\n",
       "    <tr>\n",
       "      <th>2</th>\n",
       "      <td>1</td>\n",
       "      <td>1</td>\n",
       "      <td>5</td>\n",
       "      <td>1</td>\n",
       "      <td>1</td>\n",
       "      <td>1</td>\n",
       "      <td>0</td>\n",
       "      <td>1</td>\n",
       "      <td>0</td>\n",
       "      <td>0</td>\n",
       "      <td>0</td>\n",
       "      <td>1</td>\n",
       "    </tr>\n",
       "    <tr>\n",
       "      <th>3</th>\n",
       "      <td>0</td>\n",
       "      <td>0</td>\n",
       "      <td>1</td>\n",
       "      <td>0</td>\n",
       "      <td>0</td>\n",
       "      <td>1</td>\n",
       "      <td>0</td>\n",
       "      <td>1</td>\n",
       "      <td>0</td>\n",
       "      <td>0</td>\n",
       "      <td>1</td>\n",
       "      <td>0</td>\n",
       "    </tr>\n",
       "    <tr>\n",
       "      <th>4</th>\n",
       "      <td>0</td>\n",
       "      <td>1</td>\n",
       "      <td>5</td>\n",
       "      <td>0</td>\n",
       "      <td>1</td>\n",
       "      <td>1</td>\n",
       "      <td>0</td>\n",
       "      <td>0</td>\n",
       "      <td>0</td>\n",
       "      <td>0</td>\n",
       "      <td>0</td>\n",
       "      <td>0</td>\n",
       "    </tr>\n",
       "  </tbody>\n",
       "</table>\n",
       "</div>"
      ],
      "text/plain": [
       "   HasName  IsOperated  AgeCategory  IsWeekend  AnimalType_Dog  Gender_M  \\\n",
       "0        1           1            4          0               1         1   \n",
       "1        1           1            4          1               0         0   \n",
       "2        1           1            5          1               1         1   \n",
       "3        0           0            1          0               0         1   \n",
       "4        0           1            5          0               1         1   \n",
       "\n",
       "   Gender_U  BreedPurity_mix  BreedPurity_pure  Season_spring  Season_summer  \\\n",
       "0         0                1                 0              0              0   \n",
       "1         0                1                 0              0              0   \n",
       "2         0                1                 0              0              0   \n",
       "3         0                1                 0              0              1   \n",
       "4         0                0                 0              0              0   \n",
       "\n",
       "   Season_winter  \n",
       "0              1  \n",
       "1              0  \n",
       "2              1  \n",
       "3              0  \n",
       "4              0  "
      ]
     },
     "execution_count": 174,
     "metadata": {},
     "output_type": "execute_result"
    }
   ],
   "source": [
    "from sklearn.metrics import log_loss\n",
    "predictions = lr.predict_proba(X_test)\n",
    "print log_loss(y_test, predictions)\n",
    "print lr.coef_\n",
    "\n",
    "print df.columns[9:]\n",
    "print le.classes_\n",
    "df.iloc[:,9:].head()"
   ]
  },
  {
   "cell_type": "code",
   "execution_count": null,
   "metadata": {
    "collapsed": true
   },
   "outputs": [],
   "source": []
  }
 ],
 "metadata": {
  "kernelspec": {
   "display_name": "Python 2",
   "language": "python",
   "name": "python2"
  },
  "language_info": {
   "codemirror_mode": {
    "name": "ipython",
    "version": 2
   },
   "file_extension": ".py",
   "mimetype": "text/x-python",
   "name": "python",
   "nbconvert_exporter": "python",
   "pygments_lexer": "ipython2",
   "version": "2.7.12"
  }
 },
 "nbformat": 4,
 "nbformat_minor": 2
}
