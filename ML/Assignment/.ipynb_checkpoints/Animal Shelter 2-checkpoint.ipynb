{
 "cells": [
  {
   "cell_type": "code",
   "execution_count": 1,
   "metadata": {},
   "outputs": [
    {
     "name": "stderr",
     "output_type": "stream",
     "text": [
      "/usr/local/lib/python2.7/dist-packages/sklearn/cross_validation.py:41: DeprecationWarning: This module was deprecated in version 0.18 in favor of the model_selection module into which all the refactored classes and functions are moved. Also note that the interface of the new CV iterators are different from that of this module. This module will be removed in 0.20.\n",
      "  \"This module will be removed in 0.20.\", DeprecationWarning)\n"
     ]
    }
   ],
   "source": [
    "import itertools\n",
    "import pandas as pd\n",
    "import numpy as np\n",
    "import matplotlib.pyplot as plt\n",
    "import seaborn as sns\n",
    "import math\n",
    "import random\n",
    "\n",
    "from collections import Counter\n",
    "\n",
    "from sklearn import preprocessing\n",
    "from sklearn.linear_model import LogisticRegression\n",
    "from sklearn.cross_validation import train_test_split\n",
    "#from sklearn.feature_extraction.text import TfidfVectorizer\n",
    "from sklearn.feature_extraction.text import CountVectorizer\n",
    "from sklearn.decomposition import TruncatedSVD\n",
    "from sklearn.preprocessing import LabelEncoder\n",
    "from sklearn.cross_validation import StratifiedKFold\n",
    "from sklearn.feature_selection import RFECV\n",
    "from sklearn.preprocessing import StandardScaler\n",
    "from sklearn.preprocessing import MinMaxScaler\n",
    "from sklearn.preprocessing import scale\n",
    "\n",
    "from sklearn.ensemble import RandomForestClassifier\n",
    "\n",
    "from sklearn.metrics import recall_score\n",
    "from sklearn.metrics import log_loss\n",
    "from sklearn.metrics import classification_report\n",
    "from sklearn.metrics import confusion_matrix\n",
    "\n",
    "from scipy import sparse\n",
    "\n",
    "from datetime import date, datetime"
   ]
  },
  {
   "cell_type": "code",
   "execution_count": 118,
   "metadata": {},
   "outputs": [],
   "source": [
    "# functions required to perform basic transformations\n",
    "# these transformations can be safely applied to all the data set (inc validation)\n",
    "# because they only take into consideration the values of the current row\n",
    "\n",
    "# function to translate gender into \n",
    "def get_gender(_input):\n",
    "    if 'Female' in _input:\n",
    "        return 'F'\n",
    "    elif 'Male' in _input:\n",
    "        return 'M'\n",
    "    else:\n",
    "        return 'U'\n",
    "\n",
    "# function that returns 1 if animal was operated; 0 otherwise\n",
    "def is_operated(_input):    \n",
    "    return int(_input.split()[0] in ['Neutered', 'Spayed'])   \n",
    "\n",
    "# function that normalises age of animal in years\n",
    "def get_age_in_years(_input):\n",
    "    age = 0.0\n",
    "    age_list = _input.split()\n",
    "    if \"year\" in age_list[1]:\n",
    "        age = float(age_list[0])\n",
    "    elif \"month\" in age_list[1]:\n",
    "        age = float(age_list[0]) / 12.0\n",
    "    elif \"week\" in age_list[1]:\n",
    "        age = float(age_list[0]) / 52.0\n",
    "    else:\n",
    "        # if less than 1 week, default to 1 week\n",
    "        age = 1.0 / 52.0\n",
    "    return round(age, 3)\n",
    "\n",
    "# Transform ages to categoris as follows:\n",
    "# 1 = neonatal; 2 = infant; 3 = child; 4 = adolescent; 5 = young_adult; 6 = mature_adult; 7 = old\n",
    "# These categories are based on rate that animal ages w.r.t. human years and the stages of human development\n",
    "# https://www.ajdesigner.com/fl_cat_age/cat_age.php; https://pets.webmd.com/dogs/how-to-calculate-your-dogs-age\n",
    "def get_age_in_labels(_input):\n",
    "    age_label = 0\n",
    "    age_list = _input.split()\n",
    "    age = int(age_list[0])\n",
    "    if \"year\" in age_list[1]:\n",
    "        # \n",
    "        options = [4, 5, 5, 6, 6, 6, 6, 6, 6, 6, 7]\n",
    "        age = age - 1 if age < 11 else 10\n",
    "        age_label = options[age]        \n",
    "    elif \"month\" in age_list[1]:\n",
    "        options = [2, 2, 2, 3, 3, 3, 3, 3, 3, 3, 3]\n",
    "        age_label = options[age-1]\n",
    "    elif \"week\" in age_list[1]:        \n",
    "        age_label = 1\n",
    "    else:\n",
    "        # if less than 1 week, default to 1 week\n",
    "        age_label = 1\n",
    "    return age_label\n",
    "\n",
    "# this function returns purity category: \"pure\", \"mixed\", \"cross\"\n",
    "# depending on whether breed string features just the animal breed, the word \"mix\" or a fwd-slash\n",
    "def get_breed_purity(_input):\n",
    "    breed_purity = \"\"\n",
    "    if \"/\" in _input:\n",
    "        breed_purity = \"mix\"\n",
    "    elif \"Mix\" in _input:\n",
    "        breed_purity = \"mix\"\n",
    "    else:\n",
    "        breed_purity = \"pure\"\n",
    "    return breed_purity\n",
    "\n",
    "# code to determine season from: https://stackoverflow.com/a/28688724\n",
    "Y = 2000 # dummy leap year to allow input X-02-29 (leap day)\n",
    "seasons = [('winter', (date(Y,  1,  1),  date(Y,  3, 20))),\n",
    "           ('spring', (date(Y,  3, 21),  date(Y,  6, 20))),\n",
    "           ('summer', (date(Y,  6, 21),  date(Y,  9, 22))),\n",
    "           ('autumn', (date(Y,  9, 23),  date(Y, 12, 20))),\n",
    "           ('winter', (date(Y, 12, 21),  date(Y, 12, 31)))]\n",
    "\n",
    "def get_season(now):\n",
    "    if isinstance(now, datetime):\n",
    "        now = now.date()\n",
    "    now = now.replace(year=Y)\n",
    "    return next(season for season, (start, end) in seasons\n",
    "                if start <= now <= end)\n",
    "\n",
    "def get_hour(now):\n",
    "    hr = int(now.hour + round(now.minute/60.0))\n",
    "    return (0 if (hr == 24) else hr)\n",
    "\n",
    "def get_sine_transformation(value, max_value):\n",
    "    return np.sin(2 * np.pi * (value / max_value))\n",
    "\n",
    "def get_cosine_transformation(value, max_value):\n",
    "    return np.cos(2 * np.pi * (value / max_value))"
   ]
  },
  {
   "cell_type": "code",
   "execution_count": 3,
   "metadata": {},
   "outputs": [
    {
     "name": "stdout",
     "output_type": "stream",
     "text": [
      "AnimalID          False\n",
      "Name               True\n",
      "DateTime          False\n",
      "OutcomeType       False\n",
      "OutcomeSubtype     True\n",
      "AnimalType        False\n",
      "SexuponOutcome     True\n",
      "AgeuponOutcome     True\n",
      "Breed             False\n",
      "Color             False\n",
      "dtype: bool\n"
     ]
    }
   ],
   "source": [
    "df = pd.read_csv('train.csv', header=0, sep=\",\")\n",
    "# print columns having at least one null entry\n",
    "print df.isnull().any()\n",
    "# remove entries where age = 0\n",
    "df = df[~(df.AgeuponOutcome == '0 years')]"
   ]
  },
  {
   "cell_type": "code",
   "execution_count": 261,
   "metadata": {},
   "outputs": [
    {
     "name": "stdout",
     "output_type": "stream",
     "text": [
      "Transfer      19\n",
      "Euthanasia     2\n",
      "Died           1\n",
      "Name: OutcomeType, dtype: int64\n"
     ]
    }
   ],
   "source": [
    "# import training data in pandas dataframe df\n",
    "df = pd.read_csv('train.csv', header=0, sep=\",\")\n",
    "\n",
    "# only 1 case of unknown sex\n",
    "df[df[\"SexuponOutcome\"].isnull() == True]\n",
    "# only 18 cases of unknown age\n",
    "len(df[df[\"AgeuponOutcome\"].isnull() == True])\n",
    "# remove null cases \n",
    "\n",
    "# remove null ages\n",
    "df = df[~df['AgeuponOutcome'].isnull()]\n",
    "df = df[~df['SexuponOutcome'].isnull()]\n",
    "#print df.isnull().any()\n",
    "\n",
    "# there are 22 cases where Age is 0 years; the distribution of outcomes (compared to the cases where age is known)\n",
    "# best would be to remove these from the set too\n",
    "print df[(df.AgeuponOutcome == '0 years')][\"OutcomeType\"].value_counts()\n",
    "#df.loc[df.AgeuponOutcome == '0 years', 'AgeuponOutcome'] = \"1 week\"\n",
    "df = df[~(df.AgeuponOutcome == '0 years')]"
   ]
  },
  {
   "cell_type": "code",
   "execution_count": 262,
   "metadata": {
    "scrolled": true
   },
   "outputs": [
    {
     "data": {
      "text/html": [
       "<div>\n",
       "<style scoped>\n",
       "    .dataframe tbody tr th:only-of-type {\n",
       "        vertical-align: middle;\n",
       "    }\n",
       "\n",
       "    .dataframe tbody tr th {\n",
       "        vertical-align: top;\n",
       "    }\n",
       "\n",
       "    .dataframe thead th {\n",
       "        text-align: right;\n",
       "    }\n",
       "</style>\n",
       "<table border=\"1\" class=\"dataframe\">\n",
       "  <thead>\n",
       "    <tr style=\"text-align: right;\">\n",
       "      <th></th>\n",
       "      <th>AnimalID</th>\n",
       "      <th>Name</th>\n",
       "      <th>DateTime</th>\n",
       "      <th>OutcomeType</th>\n",
       "      <th>OutcomeSubtype</th>\n",
       "      <th>AnimalType</th>\n",
       "      <th>SexuponOutcome</th>\n",
       "      <th>AgeuponOutcome</th>\n",
       "      <th>Breed</th>\n",
       "      <th>Color</th>\n",
       "      <th>HasName</th>\n",
       "      <th>IsOperated</th>\n",
       "      <th>Gender</th>\n",
       "      <th>AgeInYears</th>\n",
       "      <th>BreedPurity</th>\n",
       "      <th>DayOfWeek</th>\n",
       "      <th>SinMonth</th>\n",
       "      <th>CosMonth</th>\n",
       "      <th>SinTime</th>\n",
       "      <th>CosTime</th>\n",
       "    </tr>\n",
       "  </thead>\n",
       "  <tbody>\n",
       "    <tr>\n",
       "      <th>0</th>\n",
       "      <td>A671945</td>\n",
       "      <td>Hambone</td>\n",
       "      <td>2014-02-12 18:22:00</td>\n",
       "      <td>Return_to_owner</td>\n",
       "      <td>NaN</td>\n",
       "      <td>Dog</td>\n",
       "      <td>Neutered Male</td>\n",
       "      <td>1 year</td>\n",
       "      <td>Shetland Sheepdog Mix</td>\n",
       "      <td>Brown/White</td>\n",
       "      <td>1</td>\n",
       "      <td>1</td>\n",
       "      <td>M</td>\n",
       "      <td>1.000</td>\n",
       "      <td>mix</td>\n",
       "      <td>2</td>\n",
       "      <td>0.866025</td>\n",
       "      <td>0.500000</td>\n",
       "      <td>-0.995396</td>\n",
       "      <td>0.095846</td>\n",
       "    </tr>\n",
       "    <tr>\n",
       "      <th>1</th>\n",
       "      <td>A656520</td>\n",
       "      <td>Emily</td>\n",
       "      <td>2013-10-13 12:44:00</td>\n",
       "      <td>Euthanasia</td>\n",
       "      <td>Suffering</td>\n",
       "      <td>Cat</td>\n",
       "      <td>Spayed Female</td>\n",
       "      <td>1 year</td>\n",
       "      <td>Domestic Shorthair Mix</td>\n",
       "      <td>Cream Tabby</td>\n",
       "      <td>1</td>\n",
       "      <td>1</td>\n",
       "      <td>F</td>\n",
       "      <td>1.000</td>\n",
       "      <td>mix</td>\n",
       "      <td>6</td>\n",
       "      <td>-0.866025</td>\n",
       "      <td>0.500000</td>\n",
       "      <td>-0.190809</td>\n",
       "      <td>-0.981627</td>\n",
       "    </tr>\n",
       "    <tr>\n",
       "      <th>2</th>\n",
       "      <td>A686464</td>\n",
       "      <td>Pearce</td>\n",
       "      <td>2015-01-31 12:28:00</td>\n",
       "      <td>Adoption</td>\n",
       "      <td>Foster</td>\n",
       "      <td>Dog</td>\n",
       "      <td>Neutered Male</td>\n",
       "      <td>2 years</td>\n",
       "      <td>Pit Bull Mix</td>\n",
       "      <td>Blue/White</td>\n",
       "      <td>1</td>\n",
       "      <td>1</td>\n",
       "      <td>M</td>\n",
       "      <td>2.000</td>\n",
       "      <td>mix</td>\n",
       "      <td>5</td>\n",
       "      <td>0.500000</td>\n",
       "      <td>0.866025</td>\n",
       "      <td>-0.121869</td>\n",
       "      <td>-0.992546</td>\n",
       "    </tr>\n",
       "    <tr>\n",
       "      <th>3</th>\n",
       "      <td>A683430</td>\n",
       "      <td>NaN</td>\n",
       "      <td>2014-07-11 19:09:00</td>\n",
       "      <td>Transfer</td>\n",
       "      <td>Partner</td>\n",
       "      <td>Cat</td>\n",
       "      <td>Intact Male</td>\n",
       "      <td>3 weeks</td>\n",
       "      <td>Domestic Shorthair Mix</td>\n",
       "      <td>Blue Cream</td>\n",
       "      <td>0</td>\n",
       "      <td>0</td>\n",
       "      <td>M</td>\n",
       "      <td>0.058</td>\n",
       "      <td>mix</td>\n",
       "      <td>4</td>\n",
       "      <td>-0.500000</td>\n",
       "      <td>-0.866025</td>\n",
       "      <td>-0.955020</td>\n",
       "      <td>0.296542</td>\n",
       "    </tr>\n",
       "    <tr>\n",
       "      <th>4</th>\n",
       "      <td>A667013</td>\n",
       "      <td>NaN</td>\n",
       "      <td>2013-11-15 12:52:00</td>\n",
       "      <td>Transfer</td>\n",
       "      <td>Partner</td>\n",
       "      <td>Dog</td>\n",
       "      <td>Neutered Male</td>\n",
       "      <td>2 years</td>\n",
       "      <td>Lhasa Apso/Miniature Poodle</td>\n",
       "      <td>Tan</td>\n",
       "      <td>0</td>\n",
       "      <td>1</td>\n",
       "      <td>M</td>\n",
       "      <td>2.000</td>\n",
       "      <td>mix</td>\n",
       "      <td>4</td>\n",
       "      <td>-0.500000</td>\n",
       "      <td>0.866025</td>\n",
       "      <td>-0.224951</td>\n",
       "      <td>-0.974370</td>\n",
       "    </tr>\n",
       "  </tbody>\n",
       "</table>\n",
       "</div>"
      ],
      "text/plain": [
       "  AnimalID     Name             DateTime      OutcomeType OutcomeSubtype  \\\n",
       "0  A671945  Hambone  2014-02-12 18:22:00  Return_to_owner            NaN   \n",
       "1  A656520    Emily  2013-10-13 12:44:00       Euthanasia      Suffering   \n",
       "2  A686464   Pearce  2015-01-31 12:28:00         Adoption         Foster   \n",
       "3  A683430      NaN  2014-07-11 19:09:00         Transfer        Partner   \n",
       "4  A667013      NaN  2013-11-15 12:52:00         Transfer        Partner   \n",
       "\n",
       "  AnimalType SexuponOutcome AgeuponOutcome                        Breed  \\\n",
       "0        Dog  Neutered Male         1 year        Shetland Sheepdog Mix   \n",
       "1        Cat  Spayed Female         1 year       Domestic Shorthair Mix   \n",
       "2        Dog  Neutered Male        2 years                 Pit Bull Mix   \n",
       "3        Cat    Intact Male        3 weeks       Domestic Shorthair Mix   \n",
       "4        Dog  Neutered Male        2 years  Lhasa Apso/Miniature Poodle   \n",
       "\n",
       "         Color  HasName  IsOperated Gender  AgeInYears BreedPurity  DayOfWeek  \\\n",
       "0  Brown/White        1           1      M       1.000         mix          2   \n",
       "1  Cream Tabby        1           1      F       1.000         mix          6   \n",
       "2   Blue/White        1           1      M       2.000         mix          5   \n",
       "3   Blue Cream        0           0      M       0.058         mix          4   \n",
       "4          Tan        0           1      M       2.000         mix          4   \n",
       "\n",
       "   SinMonth  CosMonth   SinTime   CosTime  \n",
       "0  0.866025  0.500000 -0.995396  0.095846  \n",
       "1 -0.866025  0.500000 -0.190809 -0.981627  \n",
       "2  0.500000  0.866025 -0.121869 -0.992546  \n",
       "3 -0.500000 -0.866025 -0.955020  0.296542  \n",
       "4 -0.500000  0.866025 -0.224951 -0.974370  "
      ]
     },
     "execution_count": 262,
     "metadata": {},
     "output_type": "execute_result"
    }
   ],
   "source": [
    "df[\"HasName\"] = (~df.loc[:,\"Name\"].isnull()).apply(lambda x: int(x))\n",
    "df[\"IsOperated\"] = df[\"SexuponOutcome\"].apply(is_operated)\n",
    "df[\"Gender\"] = df[\"SexuponOutcome\"].apply(get_gender)\n",
    "df[\"AgeInYears\"] = df[\"AgeuponOutcome\"].apply(get_age_in_years)\n",
    "#df[\"AgeCategory\"] = df[\"AgeuponOutcome\"].apply(get_age_in_labels)\n",
    "df[\"BreedPurity\"] = df[\"Breed\"].apply(get_breed_purity).astype('category')\n",
    "#df[\"IsWeekend\"] = pd.to_datetime(df.DateTime).apply(lambda x: int(1  if x.weekday() in [5,6] else 0))\n",
    "#df[\"Season\"] = pd.to_datetime(df.DateTime).apply(get_season)\n",
    "df[\"DayOfWeek\"] = pd.to_datetime(df.DateTime).apply(lambda x: int(x.weekday()))\n",
    "#df[\"MonthOfYear\"] = pd.to_datetime(df.DateTime).apply(lambda x: int(x.month))\n",
    "\n",
    "#df[\"SinDayOfWeek\"] = pd.to_datetime(df.DateTime).apply(lambda x: get_sine_transformation(x.weekday()+1.,7.) ) \n",
    "#df[\"CosDayOfWeek\"] = pd.to_datetime(df.DateTime).apply(lambda x: get_cosine_transformation(x.weekday()+1.,7.) ) \n",
    "#df[\"MonthOfYear\"] = pd.to_datetime(df.DateTime).apply(lambda x: int(x.month))\n",
    "\n",
    "df[\"SinMonth\"] = pd.to_datetime(df.DateTime).apply(lambda x: get_sine_transformation(x.month, 12.) ) \n",
    "df[\"CosMonth\"] = pd.to_datetime(df.DateTime).apply(lambda x: get_cosine_transformation(x.month, 12.) ) \n",
    "\n",
    "# include name frequency column\n",
    "#names = df.Name[df.Name.isnull() == False]\n",
    "#names_freq = names.value_counts()#/names.shape[0]\n",
    "\n",
    "#df[\"NameFreq\"] = 0.\n",
    "#df.loc[df.HasName==True,\"NameFreq\"] = df.loc[df.HasName==True,\"Name\"].apply(lambda x: names_freq[x])\n",
    "\n",
    "#df['TimeOfDay'] = pd.to_datetime(df.DateTime).apply(get_hour)\n",
    "# apply sin and cos transforms to time to capture cyclic nature of time\n",
    "sec_since_midnight = pd.to_datetime(df.DateTime).apply(lambda x: (x.hour * 3600) + (x.minute * 60) )\n",
    "#df[\"SinTime\"] = np.sin(2 * np.pi * sec_since_midnight / (24*60*60))\n",
    "#df[\"CosTime\"] = np.cos(2 * np.pi * sec_since_midnight / (24*60*60))\n",
    "df[\"SinTime\"] = get_sine_transformation(sec_since_midnight, 24*60*60)\n",
    "df[\"CosTime\"] = get_cosine_transformation(sec_since_midnight, 24*60*60)\n",
    "\n",
    "df.head()\n"
   ]
  },
  {
   "cell_type": "code",
   "execution_count": 71,
   "metadata": {},
   "outputs": [
    {
     "data": {
      "text/plain": [
       "(0.019, 20.0)"
      ]
     },
     "execution_count": 71,
     "metadata": {},
     "output_type": "execute_result"
    }
   ],
   "source": [
    "np.min(df.AgeInYears), np.max(df.AgeInYears)"
   ]
  },
  {
   "cell_type": "code",
   "execution_count": null,
   "metadata": {},
   "outputs": [],
   "source": [
    "#iris.groupby(\"Name\").PetalWidth.plot(kind='kde', ax=axs[1])\n",
    "\n",
    "#df.loc[df.HasName == True, [\"NameFreq\", \"OutcomeType\"]].groupby(\"OutcomeType\").NameFreq.plot(kind='kde',figsize=(20,10))\n",
    "df.loc[:, [\"AgeInYears\", \"OutcomeType\"]].groupby(\"OutcomeType\").AgeInYears.plot(kind='kde',figsize=(20,10))\n",
    "#df.loc[:, [\"TimeOfDay\", \"OutcomeType\"]].groupby(\"OutcomeType\").TimeOfDay.plot(kind='kde',figsize=(20,10))\n",
    "#df.loc[:,['SinTime', 'CosTime']].plot.scatter('SinTime','CosTime').set_aspect('equal');\n",
    "plt.show()"
   ]
  },
  {
   "cell_type": "code",
   "execution_count": 145,
   "metadata": {
    "scrolled": true
   },
   "outputs": [
    {
     "data": {
      "image/png": "[encoded data removed]",
      "text/plain": [
       "<matplotlib.figure.Figure at 0x7ff890c2ce90>"
      ]
     },
     "metadata": {},
     "output_type": "display_data"
    },
    {
     "data": {
      "image/png": "[encoded data removed]",
      "text/plain": [
       "<matplotlib.figure.Figure at 0x7ff890db9450>"
      ]
     },
     "metadata": {},
     "output_type": "display_data"
    }
   ],
   "source": [
    "%matplotlib inline\n",
    "#df.head()\n",
    "#df.columns\n",
    "# plot line graph of week day by outcome\n",
    "#day_of_week = pd.crosstab(df.DayOfWeek, df.OutcomeType,margins=False)\n",
    "#day_of_week.plot(kind='line', figsize=(10,6))\n",
    "#pd.crosstab(df.MonthOfYear, df.OutcomeType,margins=False).plot(kind='line', figsize=(10,6))\n",
    "#pd.crosstab(df.AgeCategory, df.OutcomeType,margins=False).plot(kind='line', figsize=(10,6))\n",
    "#pd.crosstab(df.TimeOfDay, df.OutcomeType,margins=False).plot(kind='line', figsize=(10,6))\n",
    "#df.plot.scatter('SinTime','CosTime').set_aspect('equal');\n",
    "df.plot.scatter('SinDayOfWeek','CosDayOfWeek').set_aspect('equal');\n",
    "df.plot.scatter('SinMonth','CosMonth').set_aspect('equal');\n",
    "#plt.show()\n"
   ]
  },
  {
   "cell_type": "code",
   "execution_count": 134,
   "metadata": {},
   "outputs": [
    {
     "data": {
      "text/plain": [
       "Index([u'AnimalID', u'Name', u'DateTime', u'OutcomeType', u'OutcomeSubtype',\n",
       "       u'AnimalType', u'SexuponOutcome', u'AgeuponOutcome', u'Breed', u'Color',\n",
       "       u'HasName', u'IsOperated', u'Gender', u'AgeInYears', u'BreedPurity',\n",
       "       u'SinDayOfWeek', u'CosDayOfWeek', u'SinMonth', u'CosMonth', u'SinTime',\n",
       "       u'CosTime'],\n",
       "      dtype='object')"
      ]
     },
     "execution_count": 134,
     "metadata": {},
     "output_type": "execute_result"
    }
   ],
   "source": [
    "df.columns"
   ]
  },
  {
   "cell_type": "code",
   "execution_count": 263,
   "metadata": {},
   "outputs": [
    {
     "name": "stdout",
     "output_type": "stream",
     "text": [
      "Index([u'AnimalID', u'Name', u'DateTime', u'OutcomeType', u'OutcomeSubtype',\n",
      "       u'AnimalType', u'SexuponOutcome', u'AgeuponOutcome', u'Breed', u'Color',\n",
      "       u'HasName', u'IsOperated', u'Gender', u'AgeInYears', u'BreedPurity',\n",
      "       u'DayOfWeek', u'SinMonth', u'CosMonth', u'SinTime', u'CosTime'],\n",
      "      dtype='object')\n",
      "Index([u'Name', u'OutcomeType', u'HasName', u'IsOperated', u'AgeInYears',\n",
      "       u'SinMonth', u'CosMonth', u'SinTime', u'CosTime', u'AnimalType_Dog',\n",
      "       u'Gender_M', u'Gender_U', u'BreedPurity_pure', u'DayOfWeek_1',\n",
      "       u'DayOfWeek_2', u'DayOfWeek_3', u'DayOfWeek_4', u'DayOfWeek_5',\n",
      "       u'DayOfWeek_6'],\n",
      "      dtype='object')\n"
     ]
    }
   ],
   "source": [
    "print df.columns\n",
    "# one-hot encode categorical variables\n",
    "#categorical_cols = ['AnimalType', 'Gender', 'BreedPurity', 'AgeCategory', 'MonthOfYear', 'DayOfWeek','Season']\n",
    "categorical_cols = ['AnimalType','Gender','BreedPurity','DayOfWeek']\n",
    "rid_cols = ['AnimalID', 'DateTime', 'OutcomeSubtype','SexuponOutcome','AgeuponOutcome','Breed', 'Color']\n",
    "#rid_cols = ['AnimalID', 'Name', 'DateTime', 'OutcomeSubtype','SexuponOutcome','AgeuponOutcome','Breed', 'Color','Gender','BreedPurity','MonthOfYear']\n",
    "df_model = pd.get_dummies(df, columns=categorical_cols, drop_first=True).drop(rid_cols, axis=1)\n",
    "print df_model.columns"
   ]
  },
  {
   "cell_type": "code",
   "execution_count": null,
   "metadata": {
    "collapsed": true
   },
   "outputs": [],
   "source": [
    "# minmax scaling algorithms\n",
    "if 'AgeInYears' in expl_variables:    \n",
    "    age_minmax = MinMaxScaler().fit(X_train.AgeInYears.values.reshape(-1,1))\n",
    "    X_train.loc[:,\"AgeInYears\"] = age_minmax.transform(X_train.AgeInYears.values.reshape(-1,1))\n",
    "    X_valid.loc[:,\"AgeInYears\"] = age_minmax.transform(X_valid.AgeInYears.values.reshape(-1,1))\n",
    "\n",
    "    #age_scale = StandardScaler().fit(X_train.AgeInYears.values.reshape(-1,1))\n",
    "    #X_train.loc[:,\"AgeInYears\"] = age_scale.transform(X_train.AgeInYears.values.reshape(-1,1))\n",
    "    #X_valid.loc[:,\"AgeInYears\"] = age_scale.transform(X_valid.AgeInYears.values.reshape(-1,1))\n",
    "\n",
    "if 'NameFreq' in expl_variables:    \n",
    "    name_minmax = MinMaxScaler().fit(X_train.NameFreq.values.reshape(-1,1))\n",
    "    X_train.loc[:,\"NameFreq\"] = name_minmax.transform(X_train.NameFreq.values.reshape(-1,1))\n",
    "    X_valid.loc[:,\"NameFreq\"] = name_minmax.transform(X_valid.NameFreq.values.reshape(-1,1))\n",
    "\n",
    "if 'SinTime'in expl_variables:    \n",
    "    sintime_minmax = MinMaxScaler().fit(X_train.SinTime.values.reshape(-1,1))\n",
    "    costime_minmax = MinMaxScaler().fit(X_train.CosTime.values.reshape(-1,1))\n",
    "\n",
    "    X_train.loc[:,\"SinTime\"] = sintime_minmax.transform(X_train.SinTime.values.reshape(-1,1))\n",
    "    X_train.loc[:,\"CosTime\"] = costime_minmax.transform(X_train.CosTime.values.reshape(-1,1))\n",
    "\n",
    "    X_valid.loc[:,\"SinTime\"] = sintime_minmax.transform(X_valid.SinTime.values.reshape(-1,1))\n",
    "    X_valid.loc[:,\"CosTime\"] = costime_minmax.transform(X_valid.CosTime.values.reshape(-1,1))\n"
   ]
  },
  {
   "cell_type": "code",
   "execution_count": 259,
   "metadata": {
    "collapsed": true
   },
   "outputs": [],
   "source": [
    "def get_freq(names_freq, name):\n",
    "    freq = 0.\n",
    "    try:\n",
    "        freq = names_freq[name]\n",
    "    except:\n",
    "        freq = 0.\n",
    "    return freq\n",
    "    \n",
    "def create_name_freq(data, names_freq, drop):\n",
    "    data.loc[:, \"NameFreq\"] = 0.\n",
    "    data.loc[data.HasName==True,\"NameFreq\"] = data.loc[data.HasName==True,\"Name\"].apply(lambda x: get_freq(names_freq, x)) \n",
    "    if drop == True:\n",
    "        return data.drop(['Name'], axis=1)    \n",
    "    return data"
   ]
  },
  {
   "cell_type": "code",
   "execution_count": 266,
   "metadata": {},
   "outputs": [
    {
     "name": "stdout",
     "output_type": "stream",
     "text": [
      "(Counter({0: 9692, 4: 8448, 3: 4306, 2: 1395, 1: 176}), Counter({0: 1077, 4: 939, 3: 479, 2: 156, 1: 20}))\n",
      "[0.404, 0.007, 0.058, 0.179, 0.352]\n",
      "[0.403, 0.007, 0.058, 0.179, 0.352]\n"
     ]
    },
    {
     "data": {
      "text/plain": [
       "['HasName',\n",
       " 'IsOperated',\n",
       " 'AgeInYears',\n",
       " 'SinMonth',\n",
       " 'CosMonth',\n",
       " 'SinTime',\n",
       " 'CosTime',\n",
       " 'AnimalType_Dog',\n",
       " 'Gender_M',\n",
       " 'Gender_U',\n",
       " 'BreedPurity_pure',\n",
       " 'DayOfWeek_1',\n",
       " 'DayOfWeek_2',\n",
       " 'DayOfWeek_3',\n",
       " 'DayOfWeek_4',\n",
       " 'DayOfWeek_5',\n",
       " 'DayOfWeek_6',\n",
       " 'NameFreq']"
      ]
     },
     "execution_count": 266,
     "metadata": {},
     "output_type": "execute_result"
    }
   ],
   "source": [
    "#model_columns = ['AnimalType', 'Breed', 'Color', 'OutcomeType']\n",
    "#df_model = df.loc[:,model_columns]\n",
    "#df_model.head()\n",
    "expl_variables = [x for x in df_model.columns if x not in ['OutcomeType']]\n",
    "X = df_model.loc[:,expl_variables]\n",
    "y = df_model.loc[:,'OutcomeType']\n",
    "\n",
    "le = LabelEncoder()\n",
    "y = le.fit_transform(y)\n",
    "\n",
    "# stratify test/validation split\n",
    "# split into train and test\n",
    "from sklearn.cross_validation import StratifiedKFold\n",
    "eval_size = 0.1\n",
    "kf = StratifiedKFold(y, round(1./eval_size))\n",
    "train_indices, valid_indices = next(iter(kf))\n",
    "\n",
    "X_train, y_train = X.iloc[train_indices,:], y[train_indices]\n",
    "X_valid, y_valid = X.iloc[valid_indices,:], y[valid_indices]\n",
    "\n",
    "# let's include name frequency but avoid leaking names found in the validation set\n",
    "names = X_train.loc[X_train.Name.isnull() == False, 'Name']\n",
    "names_freq = names.value_counts()\n",
    "\n",
    "#X_train.loc[X_train.HasName==True,\"NameFreq\"] = X_train.loc[X_train.HasName==True,\"Name\"].apply(lambda x: names_freq[x])\n",
    "X_train = X_train.pipe(create_name_freq, names_freq, True)\n",
    "X_valid = X_valid.pipe(create_name_freq, names_freq, True)\n",
    "\n",
    "expl_variables = [x for x in X_train.columns if x not in ['OutcomeType']]\n",
    "\n",
    "minmax = MinMaxScaler();\n",
    "minmax = minmax.fit(X_train)\n",
    "X_train = minmax.transform(X_train)\n",
    "X_valid = minmax.transform(X_valid)\n",
    "\n",
    "#stdsc = StandardScaler()\n",
    "#X_train = stdsc.fit_transform(X_train)\n",
    "#X_valid = stdsc.transform(X_valid)\n",
    "\n",
    "#X_train = X_train.values\n",
    "#X_valid = X_valid.values\n",
    "\n",
    "# Check label proportions\n",
    "from collections import Counter\n",
    "_foo = Counter(y_train), Counter(y_valid)\n",
    "\n",
    "print _foo\n",
    "\n",
    "# confirm that propotion of test outcome is similar to population proportion\n",
    "print [round(float(_foo[0][x]) / sum(_foo[0].values()),3)   for x in _foo[0]]\n",
    "\n",
    "# confirm that propotion of train outcome is similar to population proportion\n",
    "print [round(float(_foo[1][x]) / sum(_foo[1].values()),3)   for x in _foo[1]]\n",
    "\n",
    "expl_variables"
   ]
  },
  {
   "cell_type": "code",
   "execution_count": 278,
   "metadata": {},
   "outputs": [
    {
     "data": {
      "text/plain": [
       "(0.0, 1.0)"
      ]
     },
     "execution_count": 278,
     "metadata": {},
     "output_type": "execute_result"
    }
   ],
   "source": [
    "np.min(X_train), np.max(X_train)\n",
    "np.min(X_valid), np.max(X_valid)\n",
    "#X_train[:5,:]"
   ]
  },
  {
   "cell_type": "code",
   "execution_count": null,
   "metadata": {},
   "outputs": [],
   "source": [
    "# concatenate breed and colour\n",
    "train_breed_colour = list(X_train.apply(lambda x: '%s %s' % (x['Breed'], x['Color']),axis=1))\n",
    "valid_breed_colour = list(X_valid.apply(lambda x: '%s %s' % (x['Breed'], x['Color']),axis=1))\n",
    "\n",
    "ctv = CountVectorizer(binary=True, min_df=30, max_df=0.6)\n",
    "train_breed_colour_matrix = ctv.fit_transform(train_breed_colour)\n",
    "valid_breed_colour_matrix = ctv.transform(valid_breed_colour)\n",
    "#print(breed_colour[:2])\n",
    "#X.head(2)"
   ]
  },
  {
   "cell_type": "code",
   "execution_count": null,
   "metadata": {},
   "outputs": [],
   "source": [
    "def get_top_n_features(count_vector, vectorizer):\n",
    "    weights = count_vector.toarray().mean(axis=0).ravel().tolist()\n",
    "    weights_df = pd.DataFrame({'term': vectorizer.get_feature_names(), 'weight':weights})\n",
    "    print weights_df.sort_values(by='weight', ascending=False).head(20)    \n",
    "\n",
    "get_top_n_features(train_breed_colour_matrix, ctv)\n",
    "#len(ctv.get_feature_names())\n",
    "#train_breed_colour_matrix.toarray().mean(axis=0).ravel()"
   ]
  },
  {
   "cell_type": "code",
   "execution_count": null,
   "metadata": {},
   "outputs": [],
   "source": [
    "len(ctv.get_feature_names())\n",
    "#print ctv.get_feature_names()\n",
    "print X_train.head(2)\n",
    "# 289 features\n",
    "#train_breed_colour_matrix['chi']\n",
    "ctv.get_feature_names().index('chihuahua')\n",
    "\n",
    "X_train2 = (pd.get_dummies(X_train, columns=['AnimalType'], drop_first=True).drop(['Breed', 'Color'], axis = 1)).values\n",
    "X_train2 = sparse.hstack((sparse.coo_matrix(X_train2), train_breed_colour_matrix))\n",
    "\n",
    "X_valid2 = (pd.get_dummies(X_valid, columns=['AnimalType'], drop_first=True).drop(['Breed', 'Color'], axis = 1)).values\n",
    "X_valid2 = sparse.hstack((sparse.coo_matrix(X_valid2), valid_breed_colour_matrix))\n",
    "\n",
    "    \n",
    "print train_breed_colour_matrix.shape, X_train2.shape\n",
    "print valid_breed_colour_matrix.shape, X_valid2.shape\n"
   ]
  },
  {
   "cell_type": "code",
   "execution_count": null,
   "metadata": {},
   "outputs": [],
   "source": [
    "# attempt multi variate bernoulli with just breed and colour\n",
    "from sklearn.naive_bayes import BernoulliNB\n",
    "clf = BernoulliNB()\n",
    "clf.fit(X_train2, y_train)"
   ]
  },
  {
   "cell_type": "code",
   "execution_count": null,
   "metadata": {},
   "outputs": [],
   "source": [
    "#clf.score(train_breed_colour_matrix, y_train)\n",
    "#clf.score(valid_breed_colour_matrix, y_valid)\n",
    "prediction = clf.predict(X_train2)\n",
    "print(classification_report(y_train, prediction, target_names=le.classes_))\n",
    "\n",
    "valid_prediction = clf.predict(X_valid2)\n",
    "print(classification_report(y_valid, valid_prediction, target_names=le.classes_))\n",
    "\n",
    "# high recall but low accuracy when attempting to predict return to owner based on just breed tokens"
   ]
  },
  {
   "cell_type": "code",
   "execution_count": null,
   "metadata": {
    "collapsed": true
   },
   "outputs": [],
   "source": [
    "# attempt to run Truncated SVF on binary vectorizer\n",
    "svd = TruncatedSVD(n_components=10)\n",
    "# fit svd decomposer on vectorisation matrix result\n",
    "X_train_svd = svd.fit_transform(train_breed_colour_matrix)\n",
    "X_valid_svd = svd.transform(valid_breed_colour_matrix)"
   ]
  },
  {
   "cell_type": "code",
   "execution_count": null,
   "metadata": {},
   "outputs": [],
   "source": [
    "X_train3 = (pd.get_dummies(X_train, columns=['AnimalType'], drop_first=True).drop(['Breed', 'Color'], axis = 1)).values\n",
    "X_train3 = np.hstack((X_train3, X_train_svd))\n",
    "\n",
    "X_valid3 = (pd.get_dummies(X_valid, columns=['AnimalType'], drop_first=True).drop(['Breed', 'Color'], axis = 1)).values\n",
    "X_valid3 = np.hstack((X_valid3, X_valid_svd))\n"
   ]
  },
  {
   "cell_type": "code",
   "execution_count": null,
   "metadata": {},
   "outputs": [],
   "source": [
    "# plot terms by weight and component\n",
    "def plot_weighted_terms_by_component(svd, feat_names):\n",
    "    for compNum in range(0, 10):\n",
    "        comp = svd.components_[compNum]\n",
    "\n",
    "        # Sort the weights in the first component, and get the indeces\n",
    "        indices = np.argsort(comp).tolist()\n",
    "        #print len(indices)\n",
    "        # Reverse the indeces, so we have the largest weights first.\n",
    "        indices.reverse()\n",
    "\n",
    "        # Grab the top 10 terms which have the highest weight in this component.        \n",
    "        terms = [feat_names[weightIndex] for weightIndex in indices[0:10]]    \n",
    "        weights = [comp[weightIndex] for weightIndex in indices[0:10]]    \n",
    "\n",
    "        # Display these terms and their weights as a horizontal bar graph.    \n",
    "        # The horizontal bar graph displays the first item on the bottom; reverse\n",
    "        # the order of the terms so the biggest one is on top.\n",
    "        terms.reverse()\n",
    "        weights.reverse()\n",
    "        positions = np.arange(10) + .5    # the bar centers on the y axis\n",
    "\n",
    "        plt.figure(compNum)\n",
    "        plt.barh(positions, weights, align='center')\n",
    "        plt.yticks(positions, terms)\n",
    "        plt.xlabel('Weight')\n",
    "        plt.title('Strongest terms for component %d' % (compNum))\n",
    "        plt.grid(True)\n",
    "        plt.show()\n",
    "\n",
    "\n",
    "plot_weighted_terms_by_component(svd, ctv.get_feature_names())"
   ]
  },
  {
   "cell_type": "code",
   "execution_count": null,
   "metadata": {
    "collapsed": true
   },
   "outputs": [],
   "source": [
    "#print np.min(X_train_svd), np.max(X_train_svd), np.mean(X_train_svd)\n",
    "minmax_scale = MinMaxScaler().fit(X_train3)\n",
    "X_train3 = minmax_scale.transform(X_train3)\n",
    "#print np.min(X_train_svd), np.max(X_train_svd), np.mean(X_train_svd)\n",
    "X_valid3 = minmax_scale.transform(X_valid3)"
   ]
  },
  {
   "cell_type": "code",
   "execution_count": null,
   "metadata": {
    "scrolled": true
   },
   "outputs": [],
   "source": [
    "#print type(ctv.get_feature_names())\n",
    "#print X_train2.toarray()[0:13,0]\n",
    "#X_train2.shape\n",
    "\n",
    "#(pd.get_dummies(X_train, columns=['AnimalType'], drop_first=True).drop(['Breed', 'Color'], axis = 1)).iloc[0:13,:]\n",
    "\n",
    "from sklearn.naive_bayes import GaussianNB\n",
    "clf = GaussianNB()\n",
    "clf.fit(X_train_svd, y_train)\n",
    "\n",
    "prediction = clf.predict(X_train_svd)\n",
    "print(classification_report(y_train, prediction, target_names=le.classes_))\n",
    "\n",
    "valid_prediction = clf.predict(X_valid_svd)\n",
    "print(classification_report(y_valid, valid_prediction, target_names=le.classes_))\n"
   ]
  },
  {
   "cell_type": "code",
   "execution_count": 267,
   "metadata": {},
   "outputs": [
    {
     "name": "stdout",
     "output_type": "stream",
     "text": [
      "0.644127076654\n",
      "0.633845001872\n",
      "                 precision    recall  f1-score   support\n",
      "\n",
      "       Adoption       0.64      0.83      0.73      1077\n",
      "           Died       0.00      0.00      0.00        20\n",
      "     Euthanasia       0.38      0.19      0.26       156\n",
      "Return_to_owner       0.44      0.28      0.34       479\n",
      "       Transfer       0.71      0.67      0.69       939\n",
      "\n",
      "    avg / total       0.61      0.63      0.61      2671\n",
      "\n",
      "0.885258892379\n"
     ]
    }
   ],
   "source": [
    "# build basic decision tree\n",
    "from sklearn.tree import DecisionTreeClassifier\n",
    "tree = DecisionTreeClassifier(criterion='entropy', max_depth=5, random_state=0)\n",
    "tree.fit(X_train, y_train)\n",
    "\n",
    "print tree.score(X_train, y_train)\n",
    "print tree.score(X_valid, y_valid)\n",
    "\n",
    "valid_prediction = tree.predict(X_valid)\n",
    "valid_prediction_prob = tree.predict_proba(X_valid)\n",
    "print(classification_report(y_valid, valid_prediction, target_names=le.classes_))\n",
    "print log_loss(y_valid, valid_prediction_prob)\n",
    "\n",
    "#from sklearn.tree import export_graphviz\n",
    "#export_graphviz(tree, out_file='tree.dot', feature_names=expl_variables)"
   ]
  },
  {
   "cell_type": "markdown",
   "metadata": {},
   "source": [
    "Simple logistic regression results exluding all date fields\n",
    "precision    recall  f1-score   support\n",
    "\n",
    "       Adoption       0.60      0.90      0.72      1077\n",
    "           Died       0.00      0.00      0.00        20\n",
    "     Euthanasia       0.67      0.04      0.07       156\n",
    "Return_to_owner       0.50      0.28      0.36       479\n",
    "       Transfer       0.75      0.61      0.67       939\n",
    "\n",
    "    avg / total       0.63      0.63      0.60      2671\n"
   ]
  },
  {
   "cell_type": "code",
   "execution_count": 292,
   "metadata": {},
   "outputs": [
    {
     "name": "stdout",
     "output_type": "stream",
     "text": [
      "-0.889544916286\n",
      "0.639213890161\n",
      "0.638712092849\n",
      "                 precision    recall  f1-score   support\n",
      "\n",
      "       Adoption       0.62      0.87      0.72      1077\n",
      "           Died       0.00      0.00      0.00        20\n",
      "     Euthanasia       0.74      0.09      0.16       156\n",
      "Return_to_owner       0.51      0.33      0.40       479\n",
      "       Transfer       0.72      0.64      0.68       939\n",
      "\n",
      "    avg / total       0.64      0.64      0.61      2671\n",
      "\n",
      "0.893161156842\n"
     ]
    },
    {
     "data": {
      "text/plain": [
       "array([[  2.10075167e-01,   2.88801471e+00,  -3.70831177e+00,\n",
       "         -9.70474583e-02,  -1.17174805e-01,  -9.98775576e-01,\n",
       "          7.48447808e-01,  -2.91307989e-01,  -2.41583381e-01,\n",
       "         -2.42460555e+00,  -1.09970784e-01,   3.65467259e-02,\n",
       "          3.86446263e-02,   1.96234805e-02,   1.02148650e-01,\n",
       "          7.72222718e-01,   5.17443537e-01,  -1.63871666e-01],\n",
       "       [ -3.52090980e-01,  -1.46827589e+00,  -8.01709079e-02,\n",
       "         -1.36848607e-01,  -6.61878579e-02,   1.73619201e+00,\n",
       "          2.36739402e-01,  -7.83610886e-01,   1.64461153e-01,\n",
       "          6.39563018e-01,   1.00247886e-01,  -1.21325353e-01,\n",
       "         -2.46701911e-01,  -3.35065304e-01,  -3.19614232e-02,\n",
       "         -1.75756610e-01,   6.14132881e-02,  -2.47381450e-01],\n",
       "       [ -1.14069508e+00,  -1.15472499e+00,   3.37402447e+00,\n",
       "          7.06353424e-02,   8.11524512e-02,  -2.69086628e-02,\n",
       "         -6.29773815e-01,   5.56483269e-02,   1.41602139e-01,\n",
       "          5.57127302e-01,  -2.73115147e-01,  -8.69639564e-02,\n",
       "         -6.54049149e-04,   1.40490559e-01,  -1.16609576e-01,\n",
       "         -5.29888100e-01,  -3.87228512e-01,   7.05612392e-01],\n",
       "       [  1.80551000e+00,   3.32533492e-01,   1.62339187e+00,\n",
       "          1.67881557e-01,   2.90991361e-02,  -9.31975352e-01,\n",
       "          3.67611427e-02,   1.33565899e+00,   6.35654177e-02,\n",
       "          5.19362963e-01,   1.28610588e-01,   1.03724318e-01,\n",
       "          1.47774487e-01,   3.72485887e-02,   7.84757987e-03,\n",
       "          1.01789902e-01,  -3.28106798e-02,   2.43830648e-01],\n",
       "       [ -5.22799103e-01,  -5.97547319e-01,  -1.20893367e+00,\n",
       "         -4.62083404e-03,   7.31110759e-02,   2.21467580e-01,\n",
       "         -3.92174538e-01,  -3.16388445e-01,  -1.28045328e-01,\n",
       "          7.08552262e-01,   1.54227457e-01,   6.80182657e-02,\n",
       "          6.09368462e-02,   1.37702675e-01,   3.85747693e-02,\n",
       "         -1.68367909e-01,  -1.58817633e-01,  -5.38189924e-01]])"
      ]
     },
     "execution_count": 292,
     "metadata": {},
     "output_type": "execute_result"
    }
   ],
   "source": [
    "from sklearn.model_selection import cross_val_score\n",
    "\n",
    "# basic logistic regression\n",
    "lr = LogisticRegression(random_state=22, multi_class='multinomial', solver='lbfgs')\n",
    "\n",
    "kfold = StratifiedKFold(y_train, n_folds=2, random_state=7)\n",
    "results = cross_val_score(lr, X_train, y_train, cv=kfold, scoring='neg_log_loss')\n",
    "print(results.mean())\n",
    "\n",
    "lr.fit(X_train, y_train)\n",
    "print lr.score(X_train, y_train)\n",
    "print lr.score(X_valid, y_valid)\n",
    "\n",
    "valid_prediction = lr.predict(X_valid)\n",
    "valid_prediction_prob = lr.predict_proba(X_valid)\n",
    "print(classification_report(y_valid, valid_prediction, target_names=le.classes_))\n",
    "print log_loss(y_valid, valid_prediction_prob)\n",
    "lr.coef_"
   ]
  },
  {
   "cell_type": "code",
   "execution_count": 271,
   "metadata": {},
   "outputs": [
    {
     "name": "stdout",
     "output_type": "stream",
     "text": [
      "0.636465836699\n",
      "0.638337701235\n",
      "                 precision    recall  f1-score   support\n",
      "\n",
      "       Adoption       0.61      0.89      0.73      1077\n",
      "           Died       0.00      0.00      0.00        20\n",
      "     Euthanasia       0.56      0.03      0.06       156\n",
      "Return_to_owner       0.51      0.30      0.38       479\n",
      "       Transfer       0.74      0.64      0.68       939\n",
      "\n",
      "    avg / total       0.63      0.64      0.60      2671\n",
      "\n",
      "0.899846667014\n"
     ]
    },
    {
     "data": {
      "text/plain": [
       "array([[ 0.30664702,  3.47864297, -4.3406667 , -0.16733853, -0.15154646,\n",
       "        -0.88850245,  0.86277188, -0.5231466 , -0.2177561 , -4.3324316 ,\n",
       "        -0.23293653, -0.04774688, -0.05548812, -0.07784325,  0.07816492,\n",
       "         0.83455194,  0.62118883, -0.17528775],\n",
       "       [ 0.        , -1.83839367,  0.        , -0.09140039, -0.07551512,\n",
       "         1.7120975 ,  0.16273848, -0.65932767,  0.2448431 ,  0.        ,\n",
       "         0.        , -0.0542593 , -0.1883195 , -0.33497631,  0.        ,\n",
       "        -0.03818618,  0.15473531,  0.        ],\n",
       "       [-1.07020518, -1.4456347 ,  4.2601517 ,  0.06215644,  0.06683334,\n",
       "        -0.04992459, -0.80532811,  0.13692102,  0.24755795, -0.16516589,\n",
       "        -0.41019979, -0.14319321, -0.04450295,  0.05886112, -0.12901384,\n",
       "        -0.59800775, -0.40090131,  0.69770752],\n",
       "       [ 2.12401788, -0.07652862,  3.35185901,  0.21833228,  0.06722139,\n",
       "        -0.53982321, -0.32492889,  1.59898388,  0.22946344,  0.        ,\n",
       "         0.16716594,  0.06988322,  0.12071644, -0.02543223, -0.03579353,\n",
       "        -0.28178804, -0.2674471 ,  0.44958956],\n",
       "       [-0.70273264, -1.74743142, -1.08442431,  0.01971481,  0.09463796,\n",
       "         0.75993608, -0.87323426, -0.40423104, -0.03980567,  0.60957439,\n",
       "         0.15729151,  0.03838165,  0.02639227,  0.10671148,  0.02042747,\n",
       "        -0.5151978 , -0.36956209, -0.59711519]])"
      ]
     },
     "execution_count": 271,
     "metadata": {},
     "output_type": "execute_result"
    }
   ],
   "source": [
    "# we attempt to play around logistic regression trying L1 regularisation with standardised parameters including \n",
    "# the categorical variables\n",
    "# try ovr and multinomial.  For latter, attempt saga solver that supports L1\n",
    "lr_lasso = LogisticRegression(random_state=22, penalty='l1',C=1)\n",
    "lr_lasso.fit(X_train, y_train)\n",
    "print lr_lasso.score(X_train, y_train)\n",
    "print lr_lasso.score(X_valid, y_valid)\n",
    "\n",
    "valid_prediction = lr_lasso.predict(X_valid)\n",
    "valid_prediction_prob = lr_lasso.predict_proba(X_valid)\n",
    "print(classification_report(y_valid, valid_prediction, target_names=le.classes_))\n",
    "print log_loss(y_valid, valid_prediction_prob)\n",
    "lr_lasso.coef_"
   ]
  },
  {
   "cell_type": "code",
   "execution_count": 272,
   "metadata": {},
   "outputs": [
    {
     "name": "stdout",
     "output_type": "stream",
     "text": [
      "0.639130615814\n",
      "0.638337701235\n",
      "                 precision    recall  f1-score   support\n",
      "\n",
      "       Adoption       0.62      0.87      0.72      1077\n",
      "           Died       0.00      0.00      0.00        20\n",
      "     Euthanasia       0.70      0.09      0.16       156\n",
      "Return_to_owner       0.51      0.33      0.40       479\n",
      "       Transfer       0.72      0.64      0.68       939\n",
      "\n",
      "    avg / total       0.63      0.64      0.61      2671\n",
      "\n",
      "0.892751670353\n"
     ]
    },
    {
     "data": {
      "text/plain": [
       "array([[  5.73561532e-01,   3.49092913e+00,  -3.62520870e+00,\n",
       "         -8.98883850e-02,  -1.45229227e-01,  -9.74625290e-01,\n",
       "          7.03897230e-01,   0.00000000e+00,  -3.07235747e-01,\n",
       "         -3.96340004e+00,  -2.18269316e-01,   0.00000000e+00,\n",
       "          0.00000000e+00,  -1.56070048e-02,   5.99268702e-02,\n",
       "          8.71454611e-01,   5.51249729e-01,   0.00000000e+00],\n",
       "       [  0.00000000e+00,  -8.92823405e-01,   0.00000000e+00,\n",
       "         -7.77800962e-02,  -4.83095406e-02,   1.77571573e+00,\n",
       "          1.08810486e-01,  -4.76018755e-01,   7.85326900e-02,\n",
       "          2.98993426e-02,   0.00000000e+00,  -3.42646541e-02,\n",
       "         -1.61203463e-01,  -2.45382218e-01,   0.00000000e+00,\n",
       "          0.00000000e+00,   1.45977903e-01,   0.00000000e+00],\n",
       "       [ -7.73758809e-01,  -5.63421390e-01,   3.55581114e+00,\n",
       "          6.91201733e-02,   4.65589717e-02,   0.00000000e+00,\n",
       "         -6.57151062e-01,   3.47746692e-01,   7.77866894e-02,\n",
       "         -2.54332385e-03,  -3.78786268e-01,  -9.95815865e-02,\n",
       "         -1.38880467e-02,   1.19477976e-01,  -1.32126064e-01,\n",
       "         -4.10190436e-01,  -3.29534224e-01,   8.47869368e-01],\n",
       "       [  2.17894099e+00,   9.26221026e-01,   1.76260708e+00,\n",
       "          1.71478801e-01,   0.00000000e+00,  -9.03611183e-01,\n",
       "          0.00000000e+00,   1.63049449e+00,   0.00000000e+00,\n",
       "          0.00000000e+00,   1.12943149e-02,   6.56579190e-02,\n",
       "          1.06522440e-01,   0.00000000e+00,  -3.24127843e-02,\n",
       "          1.97645873e-01,   0.00000000e+00,   4.02823457e-01],\n",
       "       [ -1.57518848e-01,   0.00000000e+00,  -1.08232251e+00,\n",
       "          0.00000000e+00,   4.12248786e-02,   2.45221488e-01,\n",
       "         -4.29094824e-01,  -2.18772210e-02,  -1.92717410e-01,\n",
       "          1.27881230e-01,   3.85675754e-02,   3.42524340e-02,\n",
       "          2.46589209e-02,   1.03250634e-01,   0.00000000e+00,\n",
       "         -6.55968854e-02,  -1.20905143e-01,  -3.68378412e-01]])"
      ]
     },
     "execution_count": 272,
     "metadata": {},
     "output_type": "execute_result"
    }
   ],
   "source": [
    "lr_lasso_m = LogisticRegression(random_state=22, penalty='l1',C=1, multi_class='multinomial', solver='saga')\n",
    "lr_lasso_m.fit(X_train, y_train)\n",
    "print lr_lasso_m.score(X_train, y_train)\n",
    "print lr_lasso_m.score(X_valid, y_valid)\n",
    "\n",
    "valid_prediction = lr_lasso_m.predict(X_valid)\n",
    "valid_prediction_prob = lr_lasso_m.predict_proba(X_valid)\n",
    "print(classification_report(y_valid, valid_prediction, target_names=le.classes_))\n",
    "print log_loss(y_valid, valid_prediction_prob)\n",
    "lr_lasso_m.coef_"
   ]
  },
  {
   "cell_type": "code",
   "execution_count": 235,
   "metadata": {},
   "outputs": [
    {
     "data": {
      "text/plain": [
       "['HasName',\n",
       " 'IsOperated',\n",
       " 'AgeInYears',\n",
       " 'SinMonth',\n",
       " 'CosMonth',\n",
       " 'SinTime',\n",
       " 'CosTime',\n",
       " 'AnimalType_Dog',\n",
       " 'Gender_M',\n",
       " 'Gender_U',\n",
       " 'BreedPurity_pure',\n",
       " 'DayOfWeek_1',\n",
       " 'DayOfWeek_2',\n",
       " 'DayOfWeek_3',\n",
       " 'DayOfWeek_4',\n",
       " 'DayOfWeek_5',\n",
       " 'DayOfWeek_6',\n",
       " 'NameFreq']"
      ]
     },
     "execution_count": 235,
     "metadata": {},
     "output_type": "execute_result"
    }
   ],
   "source": [
    "expl_variables"
   ]
  },
  {
   "cell_type": "markdown",
   "metadata": {},
   "source": [
    "With standard scaling, and excluding age category, weekend, season and name frequency \n",
    "we get a reasonable accuracy score and not terrible log loss\n",
    "\n",
    "score = 0.682515911644\n",
    "                 precision    recall  f1-score   support\n",
    "\n",
    "       Adoption       0.71      0.79      0.75      1077\n",
    "           Died       0.00      0.00      0.00        20\n",
    "     Euthanasia       0.60      0.21      0.31       156\n",
    "Return_to_owner       0.47      0.46      0.46       479\n",
    "       Transfer       0.75      0.77      0.76       939\n",
    "\n",
    "    avg / total       0.67      0.68      0.67      2671\n",
    "\n",
    "log loss = 0.88993787013067283"
   ]
  },
  {
   "cell_type": "code",
   "execution_count": 377,
   "metadata": {},
   "outputs": [
    {
     "name": "stdout",
     "output_type": "stream",
     "text": [
      "0.679895170348\n",
      "                 precision    recall  f1-score   support\n",
      "\n",
      "       Adoption       0.70      0.82      0.76      1077\n",
      "           Died       0.50      0.05      0.09        20\n",
      "     Euthanasia       0.60      0.25      0.35       156\n",
      "Return_to_owner       0.47      0.36      0.41       479\n",
      "       Transfer       0.74      0.77      0.75       939\n",
      "\n",
      "    avg / total       0.67      0.68      0.66      2671\n",
      "\n",
      "0.837120229372\n"
     ]
    }
   ],
   "source": [
    "# basic random forest classifier\n",
    "rf_basic = RandomForestClassifier(random_state=1, n_estimators=500)\n",
    "rf_basic.fit(X_train, y_train)\n",
    "\n",
    "print rf_basic.score(X_valid, y_valid)\n",
    "valid_prediction = rf_basic.predict(X_valid)\n",
    "valid_prediction_prob = rf_basic.predict_proba(X_valid)\n",
    "print(classification_report(y_valid, valid_prediction, target_names=le.classes_))\n",
    "print log_loss(y_valid, valid_prediction_prob)\n",
    "\n"
   ]
  },
  {
   "cell_type": "code",
   "execution_count": 143,
   "metadata": {
    "collapsed": true
   },
   "outputs": [],
   "source": [
    "def plot_feature_importance(importances, indices, feature_count, extended_model_columns):\n",
    "    plt.title('Feature Importance')    \n",
    "\n",
    "    plt.bar(range(feature_count),importances[indices[0:feature_count]], color='lightblue', align='center')\n",
    "    plt.xticks(range(feature_count), extended_model_columns[indices[0:feature_count]], rotation = 90)\n",
    "    plt.xlim([-1, feature_count])\n",
    "    plt.tight_layout()\n",
    "    fig = plt.figure(figsize=(20, 10))\n",
    "    plt.show()\n",
    "    plt.close()"
   ]
  },
  {
   "cell_type": "code",
   "execution_count": 378,
   "metadata": {},
   "outputs": [
    {
     "data": {
      "image/png": "[encoded data removed]",
      "text/plain": [
       "<matplotlib.figure.Figure at 0x7ff890767210>"
      ]
     },
     "metadata": {},
     "output_type": "display_data"
    },
    {
     "data": {
      "text/plain": [
       "<matplotlib.figure.Figure at 0x7ff890387a50>"
      ]
     },
     "metadata": {},
     "output_type": "display_data"
    },
    {
     "name": "stdout",
     "output_type": "stream",
     "text": [
      "[ 5  2  6 17  1  4  3  7  0]\n"
     ]
    }
   ],
   "source": [
    "importances = rf_basic.feature_importances_\n",
    "indices = np.argsort(importances)[::-1]\n",
    "[expl_variables[x] for x in indices]\n",
    "\n",
    "plot_feature_importance(importances, indices, len(expl_variables), np.array(expl_variables))\n",
    "print indices[:9]"
   ]
  },
  {
   "cell_type": "code",
   "execution_count": 394,
   "metadata": {},
   "outputs": [],
   "source": [
    "# plot roc-auc \n",
    "from sklearn.metrics import roc_auc_score\n",
    "from sklearn.metrics import roc_curve, auc\n",
    "\n",
    "from sklearn.preprocessing import label_binarize\n",
    "\n",
    "y_valid_bin = label_binarize(y_valid, classes=[0,1,2,3,4])\n",
    "roc_predictions = rf_basic.predict(X_valid)\n",
    "roc_prob = rf_basic.predict_proba(X_valid)\n"
   ]
  },
  {
   "cell_type": "code",
   "execution_count": 401,
   "metadata": {},
   "outputs": [
    {
     "name": "stdout",
     "output_type": "stream",
     "text": [
      "{0: 0.88723002578145305, 1: 0.8076574877404753, 2: 0.85248636386807353, 3: 0.83300586303582591, 4: 0.89572742119152859}\n",
      "{0: 0.88723002578145305, 1: 0.8076574877404753, 2: 0.85248636386807353, 3: 0.83300586303582591, 4: 0.89572742119152859, 'micro': 0.9231511277793949}\n"
     ]
    }
   ],
   "source": [
    "# refer to https://plot.ly/scikit-learn/plot-roc/\n",
    "fpr = dict()\n",
    "tpr = dict()\n",
    "roc_auc = dict()\n",
    "\n",
    "for i in range(5):\n",
    "    fpr[i], tpr[i], _ = roc_curve(y_valid_bin[:, i], roc_prob[:, i])\n",
    "    roc_auc[i] = auc(fpr[i], tpr[i])\n",
    "\n",
    "print roc_auc\n",
    "# Compute micro-average ROC curve and ROC area\n",
    "fpr[\"micro\"], tpr[\"micro\"], _ = roc_curve(y_valid_bin.ravel(), roc_prob.ravel())\n",
    "roc_auc[\"micro\"] = auc(fpr[\"micro\"], tpr[\"micro\"])"
   ]
  },
  {
   "cell_type": "code",
   "execution_count": 407,
   "metadata": {},
   "outputs": [
    {
     "name": "stdout",
     "output_type": "stream",
     "text": [
      "[0 0 1 0 0 0 0 0 1 1 0 1 1 0 0 1 0 0 0 0]\n",
      "[False  True  True False False False False False  True  True False  True\n",
      " False  True  True  True False False False False]\n"
     ]
    }
   ],
   "source": [
    "print y_valid_bin[:20, 0] \n",
    "print np.where(roc_prob[:20, 0] >= 0.5 =="
   ]
  },
  {
   "cell_type": "code",
   "execution_count": 404,
   "metadata": {},
   "outputs": [
    {
     "data": {
      "text/plain": [
       "<matplotlib.legend.Legend at 0x7ff8900ed5d0>"
      ]
     },
     "execution_count": 404,
     "metadata": {},
     "output_type": "execute_result"
    },
    {
     "data": {
      "image/png": "[encoded data removed]",
      "text/plain": [
       "<matplotlib.figure.Figure at 0x7ff890104150>"
      ]
     },
     "metadata": {},
     "output_type": "display_data"
    }
   ],
   "source": [
    "plt.figure()\n",
    "plt.plot(fpr[3], tpr[3], label='Random Forest (area = %0.2f)' % roc_auc[3])\n",
    "plt.plot([0, 1], [0, 1],'r--')\n",
    "plt.xlim([0.0, 1.0])\n",
    "plt.ylim([0.0, 1.05])\n",
    "plt.xlabel('False Positive Rate')\n",
    "plt.ylabel('True Positive Rate')\n",
    "plt.title('Receiver operating characteristic')\n",
    "plt.legend(loc=\"lower right\")"
   ]
  },
  {
   "cell_type": "code",
   "execution_count": 238,
   "metadata": {},
   "outputs": [
    {
     "name": "stderr",
     "output_type": "stream",
     "text": [
      "/usr/local/lib/python2.7/dist-packages/sklearn/feature_selection/univariate_selection.py:113: UserWarning: Features [17] are constant.\n",
      "  UserWarning)\n",
      "/usr/local/lib/python2.7/dist-packages/sklearn/feature_selection/univariate_selection.py:114: RuntimeWarning: invalid value encountered in divide\n",
      "  f = msb / msw\n"
     ]
    },
    {
     "name": "stdout",
     "output_type": "stream",
     "text": [
      "Pipeline(memory=None,\n",
      "     steps=[('minmax', MinMaxScaler(copy=True, feature_range=(0, 1))), ('kbest', SelectKBest(k=13, score_func=<function f_classif at 0x7ff897deeed8>)), ('clf', LogisticRegression(C=10, class_weight=None, dual=False, fit_intercept=True,\n",
      "          intercept_scaling=1, max_iter=100, multi_class='multinomial',\n",
      "          n_jobs=1, penalty='l2', random_state=1, solver='lbfgs',\n",
      "          tol=0.0001, verbose=0, warm_start=False))])\n",
      "-0.889914438733\n"
     ]
    }
   ],
   "source": [
    "#from sklearn.svm import SVC\n",
    "#from sklearn.decomposition import PCA\n",
    "from sklearn.feature_selection import SelectKBest, chi2, SelectFromModel\n",
    "from sklearn.pipeline import Pipeline, FeatureUnion\n",
    "from sklearn.model_selection import GridSearchCV\n",
    "\n",
    "# This dataset is way too high-dimensional. Better do PCA:\n",
    "#pca = PCA(n_components=2)\n",
    "\n",
    "# Maybe some original features where good, too?\n",
    "minmax = MinMaxScaler()\n",
    "selection = SelectKBest()\n",
    "\n",
    "# Build estimator from PCA and Univariate selection:\n",
    "#combined_features = FeatureUnion([(\"pca\", pca), (\"univ_select\", selection)])\n",
    "#combined_features = FeatureUnion([(\"univ_select\", selection)])\n",
    "\n",
    "# Use combined features to transform dataset:\n",
    "#X_features = combined_features.fit(X_train, y_train).transform(X_train)\n",
    "\n",
    "clf = LogisticRegression(random_state=1,C=1,solver='lbfgs')\n",
    "#lr = LogisticRegression(penalty='l2', C=10**-1, random_state=0, multi_class='multinomial', solver='lbfgs')\n",
    "\n",
    "# Do grid search over k, n_components and C:\n",
    "pipeline = Pipeline([(\"minmax\", minmax ), (\"kbest\", selection), (\"clf\", clf)])\n",
    "\n",
    "param_grid = dict(#features__pca__n_components=[1, 2, 3],    \n",
    "                  kbest__k=range(1, len(expl_variables)),\n",
    "                  clf__C=[0.1,1,10],\n",
    "                  #clf__class_weight=[None,'balanced'])\n",
    "                  clf__multi_class=['ovr','multinomial'])\n",
    "                  #lr__solver=['sag', 'lbfgs'])                                    \n",
    "                  \n",
    "                    \n",
    "grid_search = GridSearchCV(pipeline, param_grid=param_grid, scoring='neg_log_loss')\n",
    "grid_search.fit(X_train, y_train)\n",
    "print(grid_search.best_estimator_)\n",
    "print(grid_search.best_score_)"
   ]
  },
  {
   "cell_type": "code",
   "execution_count": 239,
   "metadata": {},
   "outputs": [
    {
     "name": "stdout",
     "output_type": "stream",
     "text": [
      "                 precision    recall  f1-score   support\n",
      "\n",
      "       Adoption       0.62      0.87      0.72      1077\n",
      "           Died       0.00      0.00      0.00        20\n",
      "     Euthanasia       0.65      0.08      0.15       156\n",
      "Return_to_owner       0.51      0.32      0.39       479\n",
      "       Transfer       0.73      0.64      0.68       939\n",
      "\n",
      "    avg / total       0.63      0.64      0.61      2671\n",
      "\n"
     ]
    },
    {
     "data": {
      "text/plain": [
       "0.89229330135209395"
      ]
     },
     "execution_count": 239,
     "metadata": {},
     "output_type": "execute_result"
    }
   ],
   "source": [
    "valid_prediction = grid_search.predict(X_valid)\n",
    "valid_prediction_prob = grid_search.predict_proba(X_valid)\n",
    "print(classification_report(y_valid, valid_prediction, target_names=le.classes_))\n",
    "log_loss(y_valid, valid_prediction_prob)"
   ]
  },
  {
   "cell_type": "code",
   "execution_count": 240,
   "metadata": {},
   "outputs": [
    {
     "name": "stdout",
     "output_type": "stream",
     "text": [
      "Pipeline(memory=None,\n",
      "     steps=[('feature_selection', SelectFromModel(estimator=RandomForestClassifier(bootstrap=True, class_weight=None, criterion='gini',\n",
      "            max_depth=None, max_features='log2', max_leaf_nodes=None,\n",
      "            min_impurity_decrease=0.0, min_impurity_split=None,\n",
      "            min_samples_leaf=1, min...enalty='l2', random_state=None, solver='lbfgs',\n",
      "          tol=0.0001, verbose=0, warm_start=False))])\n",
      "-0.963638008668\n"
     ]
    }
   ],
   "source": [
    "# use feature selection from RandomForest and logistic classifier\n",
    "from sklearn.feature_selection import SelectKBest, chi2, SelectFromModel\n",
    "from sklearn.ensemble import RandomForestClassifier\n",
    "\n",
    "minmax = MinMaxScaler()\n",
    "rf = RandomForestClassifier(random_state=2, n_estimators=500)\n",
    "lr2 = LogisticRegression(multi_class='multinomial')\n",
    "feat_selection = SelectFromModel(rf)\n",
    "\n",
    "pipeline = Pipeline([\n",
    " #   ('minmax', minmax),\n",
    "    ('feature_selection', feat_selection),\n",
    "    ('lr', lr2)\n",
    "])\n",
    "param_grid = dict(feature_selection__estimator__n_estimators=[100, 300, 500],\n",
    "                  feature_selection__estimator__max_features=['log2', 'sqrt'],\n",
    "                  lr__multi_class=['ovr','multinomial'],\n",
    "                  lr__solver=['lbfgs'])\n",
    "                  #lr__C=[0.1, 1, 10])\n",
    "                  \n",
    "grid_search = GridSearchCV(pipeline, param_grid=param_grid, scoring='neg_log_loss')\n",
    "grid_search.fit(X_train, y_train)\n",
    "print(grid_search.best_estimator_)\n",
    "print(grid_search.best_score_)"
   ]
  },
  {
   "cell_type": "code",
   "execution_count": 241,
   "metadata": {},
   "outputs": [
    {
     "name": "stdout",
     "output_type": "stream",
     "text": [
      "[1 2 3 4 5 6]\n",
      "['IsOperated', 'AgeInYears', 'SinMonth', 'CosMonth', 'SinTime', 'CosTime']\n",
      "                 precision    recall  f1-score   support\n",
      "\n",
      "       Adoption       0.60      0.90      0.72      1077\n",
      "           Died       0.00      0.00      0.00        20\n",
      "     Euthanasia       0.46      0.07      0.12       156\n",
      "Return_to_owner       0.42      0.21      0.28       479\n",
      "       Transfer       0.74      0.62      0.68       939\n",
      "\n",
      "    avg / total       0.60      0.62      0.58      2671\n",
      "\n"
     ]
    },
    {
     "data": {
      "text/plain": [
       "array([[ 3.04638346, -3.59609482, -0.13591448, -0.05834192, -1.08052202,\n",
       "         0.56025191],\n",
       "       [-1.66377343, -0.42480868, -0.21725677, -0.17675596,  1.87391839,\n",
       "         0.30129763],\n",
       "       [-1.3690201 ,  3.16779376,  0.08424187,  0.05278409,  0.06274163,\n",
       "        -0.44899452],\n",
       "       [ 0.82191588,  2.33239537,  0.28001946,  0.17568628, -1.17592934,\n",
       "        -0.12912749],\n",
       "       [-0.83550582, -1.47928563, -0.01109009,  0.00662751,  0.31979134,\n",
       "        -0.28342753]])"
      ]
     },
     "execution_count": 241,
     "metadata": {},
     "output_type": "execute_result"
    }
   ],
   "source": [
    "select_indices = grid_search.best_estimator_.named_steps['feature_selection'].transform(\n",
    "    np.arange(len(expl_variables)).reshape(1, -1) \n",
    ").ravel()\n",
    "print select_indices\n",
    "\n",
    "#expl_variables[select_indices.ravel()]\n",
    "#expl_variables[0:4]\n",
    "\n",
    "print [expl_variables[i] for i in select_indices]\n",
    "\n",
    "valid_prediction = grid_search.predict(X_valid)\n",
    "valid_prediction_prob = grid_search.predict_proba(X_valid)\n",
    "print(classification_report(y_valid, valid_prediction, target_names=le.classes_))\n",
    "log_loss(y_valid, valid_prediction_prob)\n",
    "\n",
    "grid_search.best_estimator_.named_steps['lr'].coef_\n"
   ]
  },
  {
   "cell_type": "markdown",
   "metadata": {},
   "source": [
    "# ScratchPad"
   ]
  },
  {
   "cell_type": "code",
   "execution_count": 117,
   "metadata": {},
   "outputs": [
    {
     "name": "stdout",
     "output_type": "stream",
     "text": [
      "1\n",
      "1\n",
      "12\n",
      "12.0\n",
      "26\n",
      "10\n"
     ]
    }
   ],
   "source": [
    "dt = datetime.now()\n",
    "\n",
    "print dt.weekday()\n",
    "print dt.month\n",
    "print dt.hour\n",
    "print dt.hour + round(dt.minute/60.0)\n",
    "print dt.minute\n",
    "print dt.second\n",
    "seconds_in_day = 24*60*60\n",
    "dt = (dt.hour * 3600) + (dt.minute * 60) + dt.second\n",
    "# Monday = 0; Tue = 1; Wed = 2; Thurs = 3; Fri = 4; Sat = 5; Sun = 6\n"
   ]
  },
  {
   "cell_type": "code",
   "execution_count": null,
   "metadata": {},
   "outputs": [],
   "source": [
    "%matplotlib inline\n",
    "import matplotlib.pyplot as plt\n",
    "import pandas as pd\n",
    "import numpy as np\n",
    "\n",
    "def rand_times(n):\n",
    "    \"\"\"Generate n rows of random 24-hour times (seconds past midnight)\"\"\"\n",
    "    rand_seconds = np.random.randint(0, 24*60*60, n)\n",
    "    return pd.DataFrame(data=dict(seconds=rand_seconds))\n",
    "\n",
    "n_rows = 1000\n",
    "\n",
    "df = rand_times(n_rows)\n",
    "# sort for the sake of graphing\n",
    "df = df.sort_values('seconds').reset_index(drop=True)\n",
    "df.head()\n",
    "\n",
    "#df.seconds.plot();\n",
    "\n",
    "seconds_in_day = 24*60*60\n",
    "\n",
    "df['sin_time'] = np.sin(2*np.pi*df.seconds/seconds_in_day)\n",
    "df['cos_time'] = np.cos(2*np.pi*df.seconds/seconds_in_day)\n",
    "\n",
    "#df = df.drop(['seconds'], axis=1)\n",
    "\n",
    "#df.sample(50).plot.scatter('sin_time','cos_time').set_aspect('equal');\n",
    "\n",
    "df.sin_time.plot();\n",
    "print df.iloc[500,:]\n",
    "df.cos_time.plot();"
   ]
  },
  {
   "cell_type": "code",
   "execution_count": null,
   "metadata": {
    "collapsed": true
   },
   "outputs": [],
   "source": []
  }
 ],
 "metadata": {
  "kernelspec": {
   "display_name": "Python 2",
   "language": "python",
   "name": "python2"
  },
  "language_info": {
   "codemirror_mode": {
    "name": "ipython",
    "version": 2
   },
   "file_extension": ".py",
   "mimetype": "text/x-python",
   "name": "python",
   "nbconvert_exporter": "python",
   "pygments_lexer": "ipython2",
   "version": "2.7.12"
  }
 },
 "nbformat": 4,
 "nbformat_minor": 2
}
