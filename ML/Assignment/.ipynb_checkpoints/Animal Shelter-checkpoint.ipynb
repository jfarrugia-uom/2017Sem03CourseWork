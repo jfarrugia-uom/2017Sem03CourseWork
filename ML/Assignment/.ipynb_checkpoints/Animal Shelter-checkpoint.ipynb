{
 "cells": [
  {
   "cell_type": "code",
   "execution_count": 14,
   "metadata": {},
   "outputs": [
    {
     "name": "stderr",
     "output_type": "stream",
     "text": [
      "/usr/local/lib/python2.7/dist-packages/sklearn/cross_validation.py:41: DeprecationWarning: This module was deprecated in version 0.18 in favor of the model_selection module into which all the refactored classes and functions are moved. Also note that the interface of the new CV iterators are different from that of this module. This module will be removed in 0.20.\n",
      "  \"This module will be removed in 0.20.\", DeprecationWarning)\n"
     ]
    }
   ],
   "source": [
    "import itertools\n",
    "import pandas as pd\n",
    "import numpy as np\n",
    "import matplotlib.pyplot as plt\n",
    "import seaborn as sns\n",
    "import math\n",
    "import random\n",
    "\n",
    "from collections import Counter\n",
    "\n",
    "from sklearn import preprocessing\n",
    "from sklearn.linear_model import LogisticRegression\n",
    "from sklearn.cross_validation import train_test_split\n",
    "from sklearn.feature_extraction.text import TfidfVectorizer\n",
    "from sklearn.decomposition import TruncatedSVD\n",
    "from sklearn.preprocessing import LabelEncoder\n",
    "from sklearn.cross_validation import StratifiedKFold\n",
    "from sklearn.feature_selection import RFECV\n",
    "from sklearn.preprocessing import StandardScaler\n",
    "from sklearn.preprocessing import scale\n",
    "\n",
    "from sklearn.ensemble import RandomForestClassifier\n",
    "\n",
    "from sklearn.metrics import recall_score\n",
    "from sklearn.metrics import log_loss\n",
    "from sklearn.metrics import classification_report\n",
    "from sklearn.metrics import confusion_matrix\n",
    "\n",
    "from scipy import sparse\n",
    "\n",
    "from datetime import date, datetime"
   ]
  },
  {
   "cell_type": "code",
   "execution_count": 26,
   "metadata": {
    "collapsed": true
   },
   "outputs": [],
   "source": [
    "# functions required to perform basic transformations\n",
    "# these transformations can be safely applied to all the data set (inc validation)\n",
    "# because they only take into consideration the values of the current row\n",
    "\n",
    "# function to translate gender into \n",
    "def get_gender(_input):\n",
    "    if 'Female' in _input:\n",
    "        return 'F'\n",
    "    elif 'Male' in _input:\n",
    "        return 'M'\n",
    "    else:\n",
    "        return 'U'\n",
    "\n",
    "# function that returns 1 if animal was operated; 0 otherwise\n",
    "def is_operated(_input):    \n",
    "    return int(_input.split()[0] in ['Neutered', 'Spayed'])   \n",
    "\n",
    "# function that normalises age of animal in years\n",
    "def get_age_in_years(_input):\n",
    "    age = 0.0\n",
    "    age_list = _input.split()\n",
    "    if \"year\" in age_list[1]:\n",
    "        age = float(age_list[0])\n",
    "    elif \"month\" in age_list[1]:\n",
    "        age = float(age_list[0]) / 12.0\n",
    "    elif \"week\" in age_list[1]:\n",
    "        age = float(age_list[0]) / 52.0\n",
    "    else:\n",
    "        # if less than 1 week, default to 1 week\n",
    "        age = 1.0 / 52.0\n",
    "    return round(age, 3)\n",
    "\n",
    "# Transform ages to categoris as follows:\n",
    "# 1 = neonatal; 2 = infant; 3 = child; 4 = adolescent; 5 = young_adult; 6 = mature_adult; 7 = old\n",
    "# These categories are based on rate that animal ages w.r.t. human years and the stages of human development\n",
    "# https://www.ajdesigner.com/fl_cat_age/cat_age.php; https://pets.webmd.com/dogs/how-to-calculate-your-dogs-age\n",
    "def get_age_in_labels(_input):\n",
    "    age_label = 0\n",
    "    age_list = _input.split()\n",
    "    age = int(age_list[0])\n",
    "    if \"year\" in age_list[1]:\n",
    "        # \n",
    "        options = [4, 5, 5, 6, 6, 6, 6, 6, 6, 6, 7]\n",
    "        age = age - 1 if age < 11 else 10\n",
    "        age_label = options[age]        \n",
    "    elif \"month\" in age_list[1]:\n",
    "        options = [2, 2, 2, 3, 3, 3, 3, 3, 3, 3, 3]\n",
    "        age_label = options[age-1]\n",
    "    elif \"week\" in age_list[1]:        \n",
    "        age_label = 1\n",
    "    else:\n",
    "        # if less than 1 week, default to 1 week\n",
    "        age_label = 1\n",
    "    return age_label\n",
    "\n",
    "# this function returns purity category: \"pure\", \"mixed\", \"cross\"\n",
    "# depending on whether breed string features just the animal breed, the word \"mix\" or a fwd-slash\n",
    "def get_breed_purity(_input):\n",
    "    breed_purity = \"\"\n",
    "    if \"/\" in _input:\n",
    "        breed_purity = \"cross\"\n",
    "    elif \"Mix\" in _input:\n",
    "        breed_purity = \"mix\"\n",
    "    else:\n",
    "        breed_purity = \"pure\"\n",
    "    return breed_purity\n",
    "\n",
    "# code to determine season from: https://stackoverflow.com/a/28688724\n",
    "Y = 2000 # dummy leap year to allow input X-02-29 (leap day)\n",
    "seasons = [('winter', (date(Y,  1,  1),  date(Y,  3, 20))),\n",
    "           ('spring', (date(Y,  3, 21),  date(Y,  6, 20))),\n",
    "           ('summer', (date(Y,  6, 21),  date(Y,  9, 22))),\n",
    "           ('autumn', (date(Y,  9, 23),  date(Y, 12, 20))),\n",
    "           ('winter', (date(Y, 12, 21),  date(Y, 12, 31)))]\n",
    "\n",
    "def get_season(now):\n",
    "    if isinstance(now, datetime):\n",
    "        now = now.date()\n",
    "    now = now.replace(year=Y)\n",
    "    return next(season for season, (start, end) in seasons\n",
    "                if start <= now <= end)"
   ]
  },
  {
   "cell_type": "code",
   "execution_count": 36,
   "metadata": {},
   "outputs": [
    {
     "name": "stdout",
     "output_type": "stream",
     "text": [
      "Transfer      19\n",
      "Euthanasia     2\n",
      "Died           1\n",
      "Name: OutcomeType, dtype: int64\n"
     ]
    }
   ],
   "source": [
    "# import training data in pandas dataframe df\n",
    "df = pd.read_csv('train.csv', header=0, sep=\",\")\n",
    "# print columns having at least one null entry\n",
    "#print df.isnull().any()\n",
    "# only 1 case of unknown sex\n",
    "df[df[\"SexuponOutcome\"].isnull() == True]\n",
    "# only 18 cases of unknown age\n",
    "len(df[df[\"AgeuponOutcome\"].isnull() == True])\n",
    "# remove null cases \n",
    "\n",
    "# remove null ages\n",
    "df = df[~df['AgeuponOutcome'].isnull()]\n",
    "df = df[~df['SexuponOutcome'].isnull()]\n",
    "#print df.isnull().any()\n",
    "\n",
    "# there are 22 cases where Age is 0 years; the distribution of outcomes (compared to the cases where age is known)\n",
    "# strongly suggests that these animals are neonatal.  Defaulting the value to 1 week\n",
    "print df[(df.AgeuponOutcome == '0 years')][\"OutcomeType\"].value_counts()\n",
    "df.loc[df.AgeuponOutcome == '0 years', 'AgeuponOutcome'] = \"1 week\"\n"
   ]
  },
  {
   "cell_type": "code",
   "execution_count": 37,
   "metadata": {},
   "outputs": [],
   "source": [
    "# we are going to perform dummy converstion, label encoding prior to splitting\n",
    "# replace missing value with \"Unknown\"\n",
    "\n",
    "df[\"HasName\"] = (~df.loc[:,\"Name\"].isnull()).apply(lambda x: int(x))\n",
    "df[\"IsOperated\"] = df[\"SexuponOutcome\"].apply(is_operated)\n",
    "df[\"Gender\"] = df[\"SexuponOutcome\"].apply(get_gender)\n",
    "df[\"AgeCategory\"] = df[\"AgeuponOutcome\"].apply(get_age_in_labels)\n",
    "df[\"BreedPurity\"] = df[\"Breed\"].apply(get_breed_purity).astype('category')\n",
    "df[\"IsWeekend\"] = pd.to_datetime(df.DateTime).apply(lambda x: int(1  if x.weekday() in [5,6] else 0))\n",
    "df[\"Season\"] = pd.to_datetime(df.DateTime).apply(get_season)\n",
    "#df = df.assign(AgeCategory = scale(df.AgeuponOutcome.apply(get_age_in_years)))#.drop([\"AgeuponOutcome\"], axis=1)\n",
    "\n",
    "#df[\"Month\"] = pd.to_datetime(df.DateTime).apply(lambda x: x.strftime(\"%b\"))\n",
    "df = pd.get_dummies(df, columns=['AnimalType', 'Gender', 'BreedPurity', 'Season','AgeCategory'], drop_first=True)\n",
    "#df = pd.get_dummies(df, columns=['AnimalType', 'Gender', 'BreedPurity', 'Season'], drop_first=True)\n",
    "#df = pd.get_dummies(df, columns=['OutcomeType'])\n",
    "\n",
    "# features that will be used to build our model\n",
    "# HasName, AnimalType_Dog, Gender, is_operated, \n",
    "# lets start with a simple model that ignores the breed and color\n",
    "# we will then build a more complex model that features TFID terms "
   ]
  },
  {
   "cell_type": "code",
   "execution_count": 38,
   "metadata": {},
   "outputs": [
    {
     "data": {
      "text/plain": [
       "[(0, 'AnimalID'),\n",
       " (1, 'Name'),\n",
       " (2, 'DateTime'),\n",
       " (3, 'OutcomeType'),\n",
       " (4, 'OutcomeSubtype'),\n",
       " (5, 'SexuponOutcome'),\n",
       " (6, 'AgeuponOutcome'),\n",
       " (7, 'Breed'),\n",
       " (8, 'Color'),\n",
       " (9, 'HasName'),\n",
       " (10, 'IsOperated'),\n",
       " (11, 'IsWeekend'),\n",
       " (12, 'AnimalType_Dog'),\n",
       " (13, 'Gender_M'),\n",
       " (14, 'Gender_U'),\n",
       " (15, 'BreedPurity_mix'),\n",
       " (16, 'BreedPurity_pure'),\n",
       " (17, 'Season_spring'),\n",
       " (18, 'Season_summer'),\n",
       " (19, 'Season_winter'),\n",
       " (20, 'AgeCategory_2'),\n",
       " (21, 'AgeCategory_3'),\n",
       " (22, 'AgeCategory_4'),\n",
       " (23, 'AgeCategory_5'),\n",
       " (24, 'AgeCategory_6'),\n",
       " (25, 'AgeCategory_7')]"
      ]
     },
     "execution_count": 38,
     "metadata": {},
     "output_type": "execute_result"
    }
   ],
   "source": [
    "# Display columns to make selection easier\n",
    "ids = range(len(df.columns))\n",
    "[(x, df.columns[x]) for x in ids]"
   ]
  },
  {
   "cell_type": "code",
   "execution_count": 40,
   "metadata": {},
   "outputs": [
    {
     "data": {
      "text/plain": [
       "array(['HasName', 'IsOperated', 'IsWeekend', 'AnimalType_Dog', 'Gender_M',\n",
       "       'Gender_U', 'BreedPurity_mix', 'BreedPurity_pure', 'Season_spring',\n",
       "       'Season_summer', 'Season_winter', 'AgeCategory_2', 'AgeCategory_3',\n",
       "       'AgeCategory_4', 'AgeCategory_5', 'AgeCategory_6', 'AgeCategory_7'], dtype=object)"
      ]
     },
     "execution_count": 40,
     "metadata": {},
     "output_type": "execute_result"
    }
   ],
   "source": [
    "# retain model column names\n",
    "model_columns = df.iloc[:,9:26].columns.values\n",
    "\n",
    "# if age category is continuous\n",
    "#model_columns = df.iloc[:,9:21].columns.values\n",
    "\n",
    "#model_columns = df.iloc[:,[9,10,11,12,13]].columns.values\n",
    "model_columns\n",
    "#df.loc[:,\"AgeCategory\"]\n"
   ]
  },
  {
   "cell_type": "code",
   "execution_count": null,
   "metadata": {},
   "outputs": [],
   "source": [
    "# create feature and label array (when not using tfidx features)\n",
    "X = df.loc[:, model_columns].values\n",
    "\n",
    "#X = StandardScaler(with_mean=False).fit_transform(X)\n",
    "y = df.iloc[:, 3].values\n",
    "# uncomment the below to train ensemble of 1vsrest Logistic Classifiers\n",
    "#y = df.iloc[:, 20:].values\n",
    "\n",
    "# convert target variable to number\n",
    "le = LabelEncoder()\n",
    "y = le.fit_transform(y)\n",
    "# we can compute inverse_transform to get back the labels\n",
    "# le.inverse_transform(y)\n",
    "\n",
    "# split in training and testing sets\n",
    "X_train, X_test, y_train, y_test = train_test_split(X, y, test_size=0.2, random_state=2)"
   ]
  },
  {
   "cell_type": "code",
   "execution_count": null,
   "metadata": {},
   "outputs": [],
   "source": [
    "from sklearn.decomposition import TruncatedSVD\n",
    "# was max_df 0.1\n",
    "# now let's create the tfidf features\n",
    "df_train, df_test = train_test_split(df, test_size=0.2, random_state=2)\n",
    "tfv = TfidfVectorizer(min_df=0.0025, max_df=0.5, max_features=None, strip_accents='unicode', analyzer='word', token_pattern=r'\\w{1,}',\n",
    "                     ngram_range=(1,2), use_idf=1, smooth_idf=1, sublinear_tf=1, stop_words='english')\n",
    "\n",
    "breed_colour = list(df_train.apply(lambda x: '%s %s' % (x['Breed'], x['Color']),axis=1))\n",
    "breed_colour = tfv.fit_transform(breed_colour)\n",
    "\n",
    "breed_colour.shape\n",
    "\n",
    "def get_top_n_features(tfidf_array):\n",
    "    weights = tfidf_array.mean(axis=0).ravel().tolist()\n",
    "    weights_df = pd.DataFrame({'term': tfv.get_feature_names(), 'weight':weights})\n",
    "    print weights_df.sort_values(by='weight', ascending=False).head(20)    \n",
    "\n",
    "#weights = np.asarray(breed_colour.mean(axis=0)).ravel().tolist()\n",
    "#weights_df = pd.DataFrame({'term': tfv.get_feature_names(), 'weight':weights})\n",
    "#print weights_df.sort_values(by='weight', ascending=False).head(20)\n",
    "\n",
    "# perform dimensionality reduction using SVD\n",
    "#svd = TruncatedSVD(n_components=100)\n",
    "#breed_colour_svd = svd.fit_transform(breed_colour)\n",
    "\n",
    "X_train = df_train.loc[:, model_columns].values\n",
    "#X_train = sparse.hstack((X_train, breed_colour))\n",
    "X_train = np.hstack((X_train, breed_colour.toarray()))\n",
    "\n",
    "#X_train = np.hstack((X_train, breed_colour_svd))\n",
    "##ss = StandardScaler(with_mean=False)\n",
    "#ss = StandardScaler()\n",
    "#X_train = ss.fit_transform(X_train)\n",
    "\n",
    "X_test = df_test.loc[:, model_columns].values\n",
    "breed_colour_test = list(df_test.apply(lambda x: '%s %s' % (x['Breed'], x['Color']),axis=1))\n",
    "breed_colour_test = tfv.transform(breed_colour_test)\n",
    "#breed_colour_test_svd = svd.transform(breed_colour_test)\n",
    "X_test = np.hstack((X_test, breed_colour_test.toarray()))\n",
    "#X_test = sparse.hstack((X_test, breed_colour_test))\n",
    "#X_test = np.hstack((X_test, breed_colour_test_svd))\n",
    "#X_test = ss.transform(X_test)\n",
    "\n",
    "y_train = df_train.iloc[:, 3].values\n",
    "y_test = df_test.iloc[:, 3].values\n",
    "\n",
    "# convert target variable to number\n",
    "le = LabelEncoder()\n",
    "y_train = le.fit_transform(y_train)\n",
    "y_test = le.fit_transform(y_test)\n",
    "\n",
    "\n",
    "arrays = [X_train, X_test, y_train, y_test]\n",
    "print [x.shape for x in arrays]"
   ]
  },
  {
   "cell_type": "code",
   "execution_count": null,
   "metadata": {
    "collapsed": true
   },
   "outputs": [],
   "source": [
    "extended_model_columns = np.hstack((model_columns, tfv.get_feature_names()) )"
   ]
  },
  {
   "cell_type": "code",
   "execution_count": null,
   "metadata": {},
   "outputs": [],
   "source": [
    "# get top features associated with outcome\n",
    "get_top_n_features((X_train[y_train==3])[:,17:])\n"
   ]
  },
  {
   "cell_type": "code",
   "execution_count": null,
   "metadata": {},
   "outputs": [],
   "source": [
    "# Check label proportions\n",
    "from collections import Counter\n",
    "_foo = Counter(y_test), Counter(y_train)\n",
    "print _foo\n",
    "# confirm that propotion of test outcome is similar to population proportion\n",
    "print [round(float(_foo[0][x]) / sum(_foo[0].values()),3)   for x in _foo[0]]\n",
    "\n",
    "# confirm that propotion of train outcome is similar to population proportion\n",
    "print [round(float(_foo[1][x]) / sum(_foo[1].values()),3)   for x in _foo[1]]"
   ]
  },
  {
   "cell_type": "markdown",
   "metadata": {},
   "source": [
    "# Random Forest Classification"
   ]
  },
  {
   "cell_type": "code",
   "execution_count": null,
   "metadata": {},
   "outputs": [],
   "source": [
    "forest = RandomForestClassifier(n_estimators=1000, random_state=0, class_weight='balanced')\n",
    "forest.fit(X_train, y_train)\n",
    "importances = forest.feature_importances_\n",
    "indices = np.argsort(importances)[::-1]"
   ]
  },
  {
   "cell_type": "code",
   "execution_count": null,
   "metadata": {
    "scrolled": false
   },
   "outputs": [],
   "source": [
    "for f in range(X_train.shape[1]):\n",
    "#for f in range(25):\n",
    "    print \"%2d) %-*s %f\" % (f+1, 30, extended_model_columns[indices[f]], importances[indices[f]])\n",
    "    \n",
    "#prediction = forest.predict_proba(X_test)\n",
    "prediction = forest.predict(X_test)\n",
    "prediction_prob = forest.predict_proba(X_test)"
   ]
  },
  {
   "cell_type": "markdown",
   "metadata": {},
   "source": [
    "print len(range(25))\n",
    "print len(indices[0:25])\n",
    "le.classes_"
   ]
  },
  {
   "cell_type": "code",
   "execution_count": null,
   "metadata": {},
   "outputs": [],
   "source": [
    "#print(classification_report(y_test, prediction, target_names=le.classes_))\n",
    "\n",
    "def plot_feature_importance(importances, indices, feature_count, extended_model_columns):\n",
    "    plt.title('Feature Importance')    \n",
    "\n",
    "    plt.bar(range(feature_count),importances[indices[0:feature_count]], color='lightblue', align='center')\n",
    "    plt.xticks(range(feature_count), extended_model_columns[indices[0:feature_count]], rotation = 90)\n",
    "    plt.xlim([-1, feature_count])\n",
    "    plt.tight_layout()\n",
    "    fig = plt.figure(figsize=(20, 10))\n",
    "    plt.show()\n",
    "    plt.close()\n",
    "\n"
   ]
  },
  {
   "cell_type": "code",
   "execution_count": 53,
   "metadata": {},
   "outputs": [],
   "source": [
    "# plot confusion matrix from http://scikit-learn.org/stable/auto_examples/model_selection/plot_confusion_matrix.html#sphx-glr-auto-examples-model-selection-plot-confusion-matrix-py\n",
    "def plot_confusion_matrix(cm, classes,\n",
    "                          normalize=False,\n",
    "                          title='Confusion matrix',\n",
    "                          cmap=plt.cm.Blues):\n",
    "    \"\"\"\n",
    "    This function prints and plots the confusion matrix.\n",
    "    Normalization can be applied by setting `normalize=True`.\n",
    "    \"\"\"\n",
    "    if normalize:\n",
    "        cm = cm.astype('float') / cm.sum(axis=1)[:, np.newaxis]\n",
    "        print(\"Normalized confusion matrix\")\n",
    "    else:\n",
    "        print('Confusion matrix, without normalization')\n",
    "\n",
    "    print(cm)\n",
    "\n",
    "    plt.imshow(cm, interpolation='nearest', cmap=cmap)\n",
    "    plt.title(title)\n",
    "    plt.colorbar()\n",
    "    tick_marks = np.arange(len(classes))\n",
    "    plt.xticks(tick_marks, classes, rotation=45)\n",
    "    plt.yticks(tick_marks, classes)\n",
    "\n",
    "    fmt = '.2f' if normalize else 'd'\n",
    "    thresh = cm.max() / 2.\n",
    "    for i, j in itertools.product(range(cm.shape[0]), range(cm.shape[1])):\n",
    "        plt.text(j, i, format(cm[i, j], fmt),\n",
    "                 horizontalalignment=\"center\",\n",
    "                 color=\"white\" if cm[i, j] > thresh else \"black\")\n",
    "\n",
    "    plt.tight_layout()\n",
    "    plt.ylabel('True label')\n",
    "    plt.xlabel('Predicted label')\n",
    "\n",
    "\n",
    "#cnm = confusion_matrix(y_test, prediction)\n",
    "#plt.figure()\n",
    "#plot_confusion_matrix(cnm, classes=le.classes_, title='Confusion matrix, without normalization')\n",
    "\n",
    "#plt.show()\n",
    "#plt.close()\n",
    "\n"
   ]
  },
  {
   "cell_type": "markdown",
   "metadata": {},
   "source": [
    "# Dogs vs Cats"
   ]
  },
  {
   "cell_type": "code",
   "execution_count": null,
   "metadata": {},
   "outputs": [],
   "source": [
    "# Random Forest Classification based on dogs and cats separately\n",
    "# create feature and label array (when not using tfidx features)\n",
    "X_dog = df.loc[df.AnimalType_Dog == 0, model_columns].values\n",
    "\n",
    "#X = StandardScaler(with_mean=False).fit_transform(X)\n",
    "y_dog = df.loc[df.AnimalType_Dog == 0, \"OutcomeType\"].values\n",
    "# uncomment the below to train ensemble of 1vsrest Logistic Classifiers\n",
    "#y = df.iloc[:, 20:].values\n",
    "\n",
    "# convert target variable to number\n",
    "le = LabelEncoder()\n",
    "y_dog = le.fit_transform(y_dog)\n",
    "# we can compute inverse_transform to get back the labels\n",
    "# le.inverse_transform(y)\n",
    "\n",
    "# split in training and testing sets\n",
    "X_dog_train, X_dog_test, y_dog_train, y_dog_test = train_test_split(X_dog, y_dog, test_size=0.2, random_state=2)"
   ]
  },
  {
   "cell_type": "code",
   "execution_count": null,
   "metadata": {},
   "outputs": [],
   "source": [
    "#forest_of_dogs = RandomForestClassifier(n_estimators=1000, random_state=0, class_weight='balanced')\n",
    "forest_of_dogs = RandomForestClassifier(n_estimators=1000, random_state=0)\n",
    "forest_of_dogs.fit(X_dog_train, y_dog_train)\n",
    "#importances = forest.feature_importances_\n",
    "#indices = np.argsort(importances)[::-1]"
   ]
  },
  {
   "cell_type": "code",
   "execution_count": null,
   "metadata": {},
   "outputs": [],
   "source": [
    "# predict outcome based on test dogs\n",
    "prediction_dog = forest_of_dogs.predict(X_dog_test)\n",
    "prediction_dog_prob = forest_of_dogs.predict_proba(X_dog_test)\n",
    "print(classification_report(y_dog_test, prediction_dog, target_names=le.classes_))"
   ]
  },
  {
   "cell_type": "code",
   "execution_count": null,
   "metadata": {},
   "outputs": [],
   "source": [
    "# was max_df 0.1\n",
    "# now let's create the tfidf features\n",
    "df_dog_train, df_dog_test = train_test_split(df[df.AnimalType_Dog == 0], test_size=0.2, random_state=2)\n",
    "\n",
    "#tfv = TfidfVectorizer(min_df=0.0025, max_df=0.5, max_features=None, strip_accents='unicode', analyzer='word', token_pattern=r'\\w{1,}',\n",
    " #                    ngram_range=(1,2), use_idf=1, smooth_idf=1, sublinear_tf=1, stop_words='english')\n",
    "\n",
    "tfv = TfidfVectorizer(min_df=3, max_features=None, strip_accents='unicode', analyzer='word', token_pattern=r'\\w{1,}',\n",
    "                      ngram_range=(1,2), use_idf=1, smooth_idf=1, sublinear_tf=1, stop_words='english')\n",
    "\n",
    "    \n",
    "breed_colour = list(df_dog_train.apply(lambda x: '%s %s' % (x['Breed'], x['Color']),axis=1))\n",
    "breed_colour = tfv.fit_transform(breed_colour)\n",
    "\n",
    "breed_colour.shape\n",
    "\n",
    "def get_top_n_features(tfidf_array):\n",
    "    weights = tfidf_array.mean(axis=0).ravel().tolist()\n",
    "    weights_df = pd.DataFrame({'term': tfv.get_feature_names(), 'weight':weights})\n",
    "    print weights_df.sort_values(by='weight', ascending=False).head(20)    \n",
    "\n",
    "# perform dimensionality reduction using SVD\n",
    "#svd = TruncatedSVD(n_components=100)\n",
    "#breed_colour_svd = svd.fit_transform(breed_colour)\n",
    "\n",
    "X_dog_train = df_dog_train.loc[:, model_columns].values\n",
    "#X_train = sparse.hstack((X_train, breed_colour))\n",
    "X_dog_train = np.hstack((X_dog_train, breed_colour.toarray()))\n",
    "\n",
    "X_dog_test = df_dog_test.loc[:, model_columns].values\n",
    "breed_colour_test = list(df_dog_test.apply(lambda x: '%s %s' % (x['Breed'], x['Color']),axis=1))\n",
    "breed_colour_test = tfv.transform(breed_colour_test)\n",
    "#breed_colour_test_svd = svd.transform(breed_colour_test)\n",
    "X_dog_test = np.hstack((X_dog_test, breed_colour_test.toarray()))\n",
    "#X_test = sparse.hstack((X_test, breed_colour_test))\n",
    "#X_test = np.hstack((X_test, breed_colour_test_svd))\n",
    "#X_test = ss.transform(X_test)\n",
    "\n",
    "y_dog_train = df_dog_train.iloc[:, 3].values\n",
    "y_dog_test = df_dog_test.iloc[:, 3].values\n",
    "\n",
    "# convert target variable to number\n",
    "le = LabelEncoder()\n",
    "y_dog_train = le.fit_transform(y_dog_train)\n",
    "y_dog_test = le.fit_transform(y_dog_test)\n",
    "\n",
    "\n",
    "arrays = [X_dog_train, X_dog_test, y_dog_train, y_dog_test]\n",
    "print [x.shape for x in arrays]"
   ]
  },
  {
   "cell_type": "code",
   "execution_count": 42,
   "metadata": {
    "collapsed": true
   },
   "outputs": [],
   "source": [
    "def create_vectoriser():\n",
    "    tfd = TfidfVectorizer(min_df=0.0025, max_df=0.5, max_features=None, strip_accents='unicode', analyzer='word', token_pattern=r'\\w{1,}',\n",
    "                     ngram_range=(1,2), use_idf=1, smooth_idf=1, sublinear_tf=1, stop_words='english')\n",
    "    return tfd\n",
    "\n",
    "def get_features(df):\n",
    "    text_features = list(df.apply(lambda x: '%s %s' % (x['Breed'], x['Color']),axis=1))\n",
    "    return text_features"
   ]
  },
  {
   "cell_type": "markdown",
   "metadata": {},
   "source": [
    "# Create SVD for cat/dog textual features separately"
   ]
  },
  {
   "cell_type": "code",
   "execution_count": 46,
   "metadata": {
    "scrolled": false
   },
   "outputs": [
    {
     "name": "stdout",
     "output_type": "stream",
     "text": [
      "[(21368, 27), (5342, 27), (21368,), (5342,)]\n"
     ]
    }
   ],
   "source": [
    "# Reduce breed/colour dimensionality using SVD, retain 10 components only\n",
    "# Since breed/colour for dogs are markedly different than from cats, we create two vectorisers and SVD transformers\n",
    "# The dog and cat components are reduced separately and then re-composed back to one training set.\n",
    "from sklearn.decomposition import TruncatedSVD\n",
    "\n",
    "df_train, df_test = train_test_split(df, test_size=0.2, random_state=2)\n",
    "\n",
    "#tfv_d = TfidfVectorizer(min_df=0.0025, max_df=0.5, max_features=None, strip_accents='unicode', analyzer='word', token_pattern=r'\\w{1,}',\n",
    "#                     ngram_range=(1,2), use_idf=1, smooth_idf=1, sublinear_tf=1, stop_words='english')\n",
    "\n",
    "#tfv_c = TfidfVectorizer(min_df=0.0025, max_df=0.5, max_features=None, strip_accents='unicode', analyzer='word', token_pattern=r'\\w{1,}',\n",
    " #                    ngram_range=(1,2), use_idf=1, smooth_idf=1, sublinear_tf=1, stop_words='english')\n",
    "\n",
    "tfv_d = TfidfVectorizer(min_df=3, max_features=None, strip_accents='unicode', analyzer='word', token_pattern=r'\\w{1,}',\n",
    "                      ngram_range=(1,2), use_idf=1, smooth_idf=1, sublinear_tf=1, stop_words='english')\n",
    "\n",
    "tfv_c = TfidfVectorizer(min_df=3, max_features=None, strip_accents='unicode', analyzer='word', token_pattern=r'\\w{1,}',\n",
    "                      ngram_range=(1,2), use_idf=1, smooth_idf=1, sublinear_tf=1, stop_words='english')\n",
    "\n",
    "    \n",
    "#dog_text_features = list(df_train[df_train.AnimalType_Dog==1].apply(lambda x: '%s %s' % (x['Breed'], x['Color']),axis=1))\n",
    "dog_text_features = get_features(df_train[df_train.AnimalType_Dog==1])\n",
    "dog_text_features = tfv_d.fit_transform(dog_text_features)\n",
    "#cat_text_features = list(df_train[df_train.AnimalType_Dog==0] .apply(lambda x: '%s %s' % (x['Breed'], x['Color']),axis=1))\n",
    "cat_text_features = get_features(df_train[df_train.AnimalType_Dog==0])\n",
    "cat_text_features = tfv_c.fit_transform(cat_text_features)\n",
    "\n",
    "dog_svd = TruncatedSVD(10)\n",
    "cat_svd = TruncatedSVD(10)\n",
    "\n",
    "dog_tfdid_svd = dog_svd.fit_transform(dog_text_features)\n",
    "cat_tfdid_svd = cat_svd.fit_transform(cat_text_features)\n",
    "\n",
    "dog_scaler = MinMaxScaler()\n",
    "cat_scaler = MinMaxScaler()\n",
    "\n",
    "minmax_dog_scale = dog_scaler.fit(dog_tfdid_svd)\n",
    "minmax_cat_scale = cat_scaler.fit(cat_tfdid_svd)\n",
    "\n",
    "dog_tfdid_svd = minmax_dog_scale.transform(dog_tfdid_svd)\n",
    "cat_tfdid_svd = minmax_cat_scale.transform(cat_tfdid_svd)\n",
    "\n",
    "X_dog_train = df_train[df_train.AnimalType_Dog==1].loc[:, model_columns].values\n",
    "X_dog_train = np.hstack((X_dog_train, dog_tfdid_svd))\n",
    "\n",
    "X_cat_train = df_train[df_train.AnimalType_Dog==0].loc[:, model_columns].values\n",
    "X_cat_train = np.hstack((X_cat_train, cat_tfdid_svd))\n",
    "\n",
    "y_dog_train = df_train[df_train.AnimalType_Dog==1].iloc[:, 3].values\n",
    "y_cat_train = df_train[df_train.AnimalType_Dog==0].iloc[:, 3].values\n",
    "\n",
    "X_train = np.vstack((X_dog_train, X_cat_train))\n",
    "y_train = np.hstack((y_dog_train, y_cat_train))\n",
    "\n",
    "\n",
    "# perform transformations on test data\n",
    "dog_text_features_test = list(df_test[df_test.AnimalType_Dog==1] .apply(lambda x: '%s %s' % (x['Breed'], x['Color']),axis=1))\n",
    "dog_text_features_test = tfv_d.transform(dog_text_features_test)\n",
    "\n",
    "cat_text_features_test = list(df_test[df_test.AnimalType_Dog==0] .apply(lambda x: '%s %s' % (x['Breed'], x['Color']),axis=1))\n",
    "cat_text_features_test = tfv_c.transform(cat_text_features_test)\n",
    "\n",
    "dog_tfdid_svd_test = dog_svd.transform(dog_text_features_test)\n",
    "cat_tfdid_svd_test = cat_svd.transform(cat_text_features_test)\n",
    "\n",
    "dog_tfdid_svd_test = minmax_dog_scale.transform(dog_tfdid_svd_test)\n",
    "cat_tfdid_svd_test = minmax_cat_scale.transform(cat_tfdid_svd_test)\n",
    "\n",
    "X_dog_test = df_test[df_test.AnimalType_Dog==1].loc[:, model_columns].values\n",
    "X_dog_test = np.hstack((X_dog_test, dog_tfdid_svd_test))\n",
    "\n",
    "X_cat_test = df_test[df_test.AnimalType_Dog==0].loc[:, model_columns].values\n",
    "X_cat_test = np.hstack((X_cat_test, cat_tfdid_svd_test))\n",
    "\n",
    "y_dog_test = df_test[df_test.AnimalType_Dog==1].iloc[:, 3].values\n",
    "y_cat_test = df_test[df_test.AnimalType_Dog==0].iloc[:, 3].values\n",
    "\n",
    "X_test = np.vstack((X_dog_test, X_cat_test))\n",
    "y_test = np.hstack((y_dog_test, y_cat_test))\n",
    "\n",
    "# replace Euthanasia with Died - now we have one less class, grouping eventually-deceased animals in one class\n",
    "reduce_to_binary = False\n",
    "if (reduce_to_binary == True):\n",
    "    y_train[y_train == 'Euthanasia'] = 'Died'\n",
    "    y_test[y_test == 'Euthanasia'] = 'Died'\n",
    "    for i in ['Adoption', 'Return_to_owner','Transfer']:    \n",
    "        y_train[y_train==i] = 'Lives'\n",
    "        y_test[y_test==i] = 'Lives'\n",
    "\n",
    "\n",
    "# convert target variable to number\n",
    "le = LabelEncoder()\n",
    "y_train = le.fit_transform(y_train)\n",
    "y_test = le.fit_transform(y_test)\n",
    "\n",
    "arrays = [X_train, X_test, y_train, y_test]\n",
    "print [x.shape for x in arrays]\n"
   ]
  },
  {
   "cell_type": "code",
   "execution_count": null,
   "metadata": {},
   "outputs": [],
   "source": [
    "# create simple set, ignoring breed/colour attributes\n",
    "\n",
    "# create feature and label array (when not using tfidx features)\n",
    "X = df.loc[:, model_columns].values\n",
    "\n",
    "#X = StandardScaler(with_mean=False).fit_transform(X)\n",
    "y = np.copy(df.iloc[:, 3].values)\n",
    "\n",
    "print df.iloc[:, 3].values\n",
    "reduce_to_binary = False\n",
    "if (reduce_to_binary == True):\n",
    "    y[y == 'Euthanasia'] = 'Died'\n",
    "    for i in ['Adoption', 'Return_to_owner','Transfer']:    \n",
    "        y[y==i] = 'Lives'\n",
    "\n",
    "# we can compute inverse_transform to get back the labels\n",
    "# le.inverse_transform(y)\n",
    "\n",
    "le = LabelEncoder()\n",
    "y  = le.fit_transform(y)\n",
    "\n",
    "# split in training and testing sets\n",
    "X_train, X_test, y_train, y_test = train_test_split(X, y, test_size=0.2, random_state=2)\n",
    "\n",
    "print np.unique(y_train)\n",
    "print np.unique(y_test)\n",
    "\n",
    "# convert target variable to number\n",
    "\n",
    "arrays = [X_train, X_test, y_train, y_test]\n",
    "print [x.shape for x in arrays]\n"
   ]
  },
  {
   "cell_type": "code",
   "execution_count": null,
   "metadata": {},
   "outputs": [],
   "source": [
    "print np.unique(y_train)\n",
    "print np.unique(y_test)\n",
    "\n",
    "arrays = [X_train, X_test, y_train, y_test]\n",
    "print [x.shape for x in arrays]"
   ]
  },
  {
   "cell_type": "code",
   "execution_count": null,
   "metadata": {},
   "outputs": [],
   "source": [
    "# plot terms by weight and component\n",
    "def plot_weighted_terms_by_component(svd, feat_names):\n",
    "    for compNum in range(0, 10):\n",
    "        comp = svd.components_[compNum]\n",
    "\n",
    "        # Sort the weights in the first component, and get the indeces\n",
    "        indices = np.argsort(comp).tolist()\n",
    "        #print len(indices)\n",
    "        # Reverse the indeces, so we have the largest weights first.\n",
    "        indices.reverse()\n",
    "\n",
    "        # Grab the top 10 terms which have the highest weight in this component.        \n",
    "        terms = [feat_names[weightIndex] for weightIndex in indices[0:10]]    \n",
    "        weights = [comp[weightIndex] for weightIndex in indices[0:10]]    \n",
    "\n",
    "        # Display these terms and their weights as a horizontal bar graph.    \n",
    "        # The horizontal bar graph displays the first item on the bottom; reverse\n",
    "        # the order of the terms so the biggest one is on top.\n",
    "        terms.reverse()\n",
    "        weights.reverse()\n",
    "        positions = np.arange(10) + .5    # the bar centers on the y axis\n",
    "\n",
    "        plt.figure(compNum)\n",
    "        plt.barh(positions, weights, align='center')\n",
    "        plt.yticks(positions, terms)\n",
    "        plt.xlabel('Weight')\n",
    "        plt.title('Strongest terms for component %d' % (compNum))\n",
    "        plt.grid(True)\n",
    "        plt.show()\n",
    "\n",
    "plot_weighted_terms_by_component(dog_svd, tfv_d.get_feature_names())"
   ]
  },
  {
   "cell_type": "code",
   "execution_count": 50,
   "metadata": {},
   "outputs": [
    {
     "name": "stdout",
     "output_type": "stream",
     "text": [
      "0.315857213887\n"
     ]
    },
    {
     "data": {
      "text/plain": [
       "array([ 1.        ,  1.        ,  0.        ,  1.        ,  0.        ,\n",
       "        0.        ,  1.        ,  0.        ,  0.        ,  0.        ,\n",
       "        0.        ,  0.        ,  0.        ,  1.        ,  0.        ,\n",
       "        0.        ,  0.        ,  0.17172945,  0.44201415,  0.46250432,\n",
       "        0.25079033,  0.36919961,  0.49641539,  0.38395192,  0.29682812,\n",
       "        0.3267557 ,  0.52594904])"
      ]
     },
     "execution_count": 50,
     "metadata": {},
     "output_type": "execute_result"
    }
   ],
   "source": [
    "#print X_dog_train_lsa[:,:2]\n",
    "#print X_dog_train_lsa.shape\n",
    "\n",
    "#print svd.components_[0].shape\n",
    "##print svd.n_components\n",
    "#print len(feat_names)\n",
    "#print svd.explained_variance_ratio_.sum()\n",
    "#print breed_colour.shape\n",
    "#print X_dog_train.shape\n",
    "\n",
    "#print X_dog_train_lsa[1,:]\n",
    "#df_dog_train.iloc[:1,:]\n",
    "\n",
    "print np.sum(dog_svd.explained_variance_)\n"
   ]
  },
  {
   "cell_type": "code",
   "execution_count": null,
   "metadata": {},
   "outputs": [],
   "source": [
    "#get_top_n_features((X_dog_train[y_dog_train==0])[:,17:])\n",
    "# Check label proportions\n",
    "from collections import Counter\n",
    "_foo = Counter(y_test), Counter(y_train)\n",
    "print _foo\n",
    "# confirm that propotion of test outcome is similar to population proportion\n",
    "print [round(float(_foo[0][x]) / sum(_foo[0].values()),3)   for x in _foo[0]]\n",
    "\n",
    "# confirm that propotion of train outcome is similar to population proportion\n",
    "print [round(float(_foo[1][x]) / sum(_foo[1].values()),3)   for x in _foo[1]]"
   ]
  },
  {
   "cell_type": "code",
   "execution_count": null,
   "metadata": {
    "collapsed": true
   },
   "outputs": [],
   "source": [
    "# Try oversampling prior to training model\n",
    "# oversample with SMOTE\n",
    "from imblearn.over_sampling import SMOTE\n",
    "ratios = {0:8584, 1:1000, 2:2000, 3:3846, 4:7547}\n",
    "#ratios = {0:3500, 1:19977}\n",
    "sm = SMOTE(random_state=0, ratio=ratios)\n",
    "X_train_res, y_train_res = sm.fit_sample(X_train, y_train)"
   ]
  },
  {
   "cell_type": "code",
   "execution_count": 55,
   "metadata": {},
   "outputs": [
    {
     "data": {
      "text/plain": [
       "RandomForestClassifier(bootstrap=True, class_weight=None, criterion='gini',\n",
       "            max_depth=None, max_features='auto', max_leaf_nodes=None,\n",
       "            min_impurity_decrease=0.0, min_impurity_split=None,\n",
       "            min_samples_leaf=1, min_samples_split=2,\n",
       "            min_weight_fraction_leaf=0.0, n_estimators=1000, n_jobs=1,\n",
       "            oob_score=False, random_state=0, verbose=0, warm_start=False)"
      ]
     },
     "execution_count": 55,
     "metadata": {},
     "output_type": "execute_result"
    }
   ],
   "source": [
    "# train RF on dog breed/colour features \n",
    "forest = RandomForestClassifier(n_estimators=1000, random_state=0)\n",
    "forest.fit(X_train, y_train)"
   ]
  },
  {
   "cell_type": "markdown",
   "metadata": {},
   "source": [
    "RF using only dogs\n",
    " \n",
    "      precision    recall  f1-score   support\n",
    "\n",
    "       Adoption       0.60      0.72      0.65      1305\n",
    "           Died       0.00      0.00      0.00        14\n",
    "     Euthanasia       0.28      0.13      0.18       154\n",
    "Return_to_owner       0.45      0.47      0.46       845\n",
    "       Transfer       0.55      0.42      0.48       801\n",
    "\n",
    "    avg / total       0.53      0.54      0.53      3119\n",
    "    \n",
    "Mixed RF (no oversampling)\n",
    " precision    recall  f1-score   support\n",
    "\n",
    "       Adoption       0.68      0.75      0.71      2185\n",
    "           Died       0.00      0.00      0.00        37\n",
    "     Euthanasia       0.40      0.18      0.25       322\n",
    "Return_to_owner       0.45      0.44      0.45       939\n",
    "       Transfer       0.66      0.66      0.66      1859\n",
    "\n",
    "    avg / total       0.61      0.62      0.61      5342\n",
    "\n",
    "    \n",
    "Mixed RF w. SMOTE (2000 estimators; balanced)\n",
    "             precision    recall  f1-score   support\n",
    "\n",
    "       Adoption       0.68      0.74      0.71      2185\n",
    "           Died       0.05      0.05      0.05        37\n",
    "     Euthanasia       0.35      0.28      0.31       322\n",
    "Return_to_owner       0.43      0.44      0.44       939\n",
    "       Transfer       0.67      0.62      0.64      1859\n",
    "\n",
    "    avg / total       0.61      0.61      0.61      5342\n",
    "    \n",
    "Mixed RF w. SMOTE (1000 estimators)\n",
    "           precision    recall  f1-score   support\n",
    "\n",
    "       Adoption       0.68      0.75      0.71      2185\n",
    "           Died       0.06      0.03      0.04        37\n",
    "     Euthanasia       0.40      0.23      0.29       322\n",
    "Return_to_owner       0.45      0.44      0.44       939\n",
    "       Transfer       0.66      0.65      0.66      1859\n",
    "\n",
    "    avg / total       0.61      0.62      0.62      5342\n",
    "    \n",
    "Mixef RF - collapse died/euthanasia into Died\n",
    " precision    recall  f1-score   support\n",
    "\n",
    "       Adoption       0.68      0.75      0.71      2185\n",
    "           Died       0.39      0.17      0.24       359\n",
    "Return_to_owner       0.45      0.45      0.45       939\n",
    "       Transfer       0.66      0.65      0.65      1859\n",
    "\n",
    "    avg / total       0.61      0.62      0.61      5342\n",
    "    \n",
    "Mixed RF - lives/dies\n",
    "precision    recall  f1-score   support\n",
    "\n",
    "       Died       0.44      0.13      0.21       359\n",
    "      Lives       0.94      0.99      0.96      4983\n",
    "\n",
    "avg / total       0.91      0.93      0.91      5342\n",
    "\n",
    "Lives vs Dies, full SVD with oversampling\n",
    " precision    recall  f1-score   support\n",
    "\n",
    "       Died       0.45      0.21      0.29       359\n",
    "      Lives       0.95      0.98      0.96      4983\n",
    "\n",
    "avg / total       0.91      0.93      0.92      5342\n",
    "\n"
   ]
  },
  {
   "cell_type": "code",
   "execution_count": 56,
   "metadata": {},
   "outputs": [
    {
     "name": "stdout",
     "output_type": "stream",
     "text": [
      "                 precision    recall  f1-score   support\n",
      "\n",
      "       Adoption       0.68      0.75      0.71      2185\n",
      "           Died       0.00      0.00      0.00        37\n",
      "     Euthanasia       0.40      0.18      0.25       322\n",
      "Return_to_owner       0.45      0.44      0.44       939\n",
      "       Transfer       0.66      0.65      0.66      1859\n",
      "\n",
      "    avg / total       0.61      0.62      0.61      5342\n",
      "\n",
      "Confusion matrix, without normalization\n",
      "[[1641    2    8  263  271]\n",
      " [   1    0    1    1   34]\n",
      " [  43    2   57   65  155]\n",
      " [ 329    0   28  414  168]\n",
      " [ 415    3   47  182 1212]]\n"
     ]
    },
    {
     "data": {
      "image/png": "[encoded data removed]",
      "text/plain": [
       "<matplotlib.figure.Figure at 0x7f69f9b8c710>"
      ]
     },
     "metadata": {},
     "output_type": "display_data"
    },
    {
     "data": {
      "text/plain": [
       "1.163955152207333"
      ]
     },
     "execution_count": 56,
     "metadata": {},
     "output_type": "execute_result"
    }
   ],
   "source": [
    "# predict outcome based on test dogs\n",
    "prediction = forest.predict(X_test)\n",
    "prediction_proba = forest.predict_proba(X_test)\n",
    "\n",
    "importances = forest.feature_importances_\n",
    "indices = np.argsort(importances)[::-1]\n",
    "\n",
    "print(classification_report(y_test, prediction, target_names=le.classes_))\n",
    "\n",
    "cnm = confusion_matrix(y_test, prediction)\n",
    "plt.figure()\n",
    "plot_confusion_matrix(cnm, classes=le.classes_,\n",
    "                      title='Confusion matrix, without normalization')\n",
    "\n",
    "plt.show()\n",
    "plt.close()\n",
    "\n",
    "log_loss(y_test, prediction_proba )\n"
   ]
  },
  {
   "cell_type": "code",
   "execution_count": null,
   "metadata": {},
   "outputs": [],
   "source": [
    "print importances\n",
    "#print np.sum(importances[:15])\n",
    "print indices\n",
    "ext_model_columns = np.hstack((model_columns, np.asarray([\"SVD_\" + str(x) for x in range(2)]))) \n",
    "#ext_model_columns = model_columns\n",
    "feature_count = 14\n",
    "plot_feature_importance(importances, indices, feature_count, ext_model_columns)\n",
    "#print model_columns\n",
    "#np.max(X_train[:,18:])"
   ]
  },
  {
   "cell_type": "code",
   "execution_count": null,
   "metadata": {},
   "outputs": [],
   "source": [
    "#ext_model_columns[indices][:15]\n",
    "X_train_res[1000,]"
   ]
  },
  {
   "cell_type": "code",
   "execution_count": null,
   "metadata": {},
   "outputs": [],
   "source": [
    "from sklearn.neighbors import KNeighborsClassifier\n",
    "knn = KNeighborsClassifier(5, metric='jaccard')\n",
    "knn.fit(X_train, y_train)"
   ]
  },
  {
   "cell_type": "code",
   "execution_count": null,
   "metadata": {},
   "outputs": [],
   "source": [
    "prediction = knn.predict(X_test)\n",
    "\n",
    "print(classification_report(y_test, prediction, target_names=le.classes_))\n",
    "\n",
    "cnm = confusion_matrix(y_test, prediction)\n",
    "plt.figure()\n",
    "plot_confusion_matrix(cnm, classes=le.classes_,\n",
    "                      title='Confusion matrix, without normalization')\n",
    "\n",
    "plt.show()\n",
    "plt.close()\n"
   ]
  },
  {
   "cell_type": "code",
   "execution_count": 51,
   "metadata": {},
   "outputs": [
    {
     "data": {
      "text/plain": [
       "LogisticRegression(C=1.0, class_weight=None, dual=False, fit_intercept=True,\n",
       "          intercept_scaling=1, max_iter=100, multi_class='ovr', n_jobs=1,\n",
       "          penalty='l2', random_state=None, solver='liblinear', tol=0.0001,\n",
       "          verbose=0, warm_start=False)"
      ]
     },
     "execution_count": 51,
     "metadata": {},
     "output_type": "execute_result"
    }
   ],
   "source": [
    "lr = LogisticRegression()\n",
    "#lr = LogisticRegression(penalty='l2', C=10**-1, random_state=0, multi_class='multinomial', solver='lbfgs')\n",
    "#rfecv = RFECV(estimator=lr, step=1, cv=StratifiedKFold(y_train, n_folds=5), scoring='accuracy')\n",
    "#rfecv.fit(X_train, y_train)\n",
    "lr.fit(X_train, y_train)"
   ]
  },
  {
   "cell_type": "code",
   "execution_count": null,
   "metadata": {},
   "outputs": [],
   "source": [
    "X_train_best = X_train[:,[3, 12, 13,  1,  0]]\n",
    "X_test_best = X_test[:,[3, 12, 13,  1,  0]]"
   ]
  },
  {
   "cell_type": "code",
   "execution_count": 54,
   "metadata": {},
   "outputs": [
    {
     "name": "stdout",
     "output_type": "stream",
     "text": [
      "                 precision    recall  f1-score   support\n",
      "\n",
      "       Adoption       0.66      0.85      0.74      2185\n",
      "           Died       0.00      0.00      0.00        37\n",
      "     Euthanasia       0.61      0.04      0.08       322\n",
      "Return_to_owner       0.46      0.40      0.43       939\n",
      "       Transfer       0.70      0.64      0.67      1859\n",
      "\n",
      "    avg / total       0.63      0.64      0.62      5342\n",
      "\n",
      "Confusion matrix, without normalization\n",
      "[[1849    0    0  223  113]\n",
      " [   0    0    0    2   35]\n",
      " [  41    0   14   69  198]\n",
      " [ 404    0    1  378  156]\n",
      " [ 506    0    8  153 1192]]\n"
     ]
    },
    {
     "data": {
      "text/plain": [
       "<matplotlib.figure.Figure at 0x7f69eb0f9b10>"
      ]
     },
     "metadata": {},
     "output_type": "display_data"
    },
    {
     "data": {
      "image/png": "[encoded data removed]",
      "text/plain": [
       "<matplotlib.figure.Figure at 0x7f69ea56b2d0>"
      ]
     },
     "metadata": {},
     "output_type": "display_data"
    },
    {
     "data": {
      "text/plain": [
       "0.86232364385682314"
      ]
     },
     "execution_count": 54,
     "metadata": {},
     "output_type": "execute_result"
    }
   ],
   "source": [
    "prediction = lr.predict(X_test)\n",
    "prediction_proba = lr.predict_proba(X_test)\n",
    "\n",
    "print(classification_report(y_test, prediction, target_names=le.classes_))\n",
    "\n",
    "cnm = confusion_matrix(y_test, prediction)\n",
    "plt.figure()\n",
    "plot_confusion_matrix(cnm, classes=le.classes_,\n",
    "                      title='Confusion matrix, without normalization')\n",
    "\n",
    "plt.show()\n",
    "plt.close()\n",
    "\n",
    "log_loss(y_test, prediction_proba )\n"
   ]
  },
  {
   "cell_type": "markdown",
   "metadata": {},
   "source": [
    "# Train Ensemble of Logistic Regressors"
   ]
  },
  {
   "cell_type": "code",
   "execution_count": null,
   "metadata": {
    "collapsed": true
   },
   "outputs": [],
   "source": [
    "# taken from http://scikit-learn.org/stable/auto_examples/multioutput/plot_classifier_chain_yeast.html#sphx-glr-auto-examples-multioutput-plot-classifier-chain-yeast-py\n",
    "\n",
    "import numpy as np\n",
    "import matplotlib.pyplot as plt\n",
    "from sklearn.multioutput import ClassifierChain\n",
    "from sklearn.model_selection import train_test_split\n",
    "from sklearn.multiclass import OneVsRestClassifier\n",
    "from sklearn.metrics import jaccard_similarity_score\n",
    "from sklearn.linear_model import LogisticRegression\n",
    "from sklearn.datasets import fetch_mldata\n",
    "\n",
    "#yeast = fetch_mldata('yeast')\n",
    "#_X = yeast['data']\n",
    "#_Y = yeast['target'].transpose().toarray()\n",
    "\n",
    "# Fit an independent logistic regression model for each class using the\n",
    "# OneVsRestClassifier wrapper.\n",
    "ovr = OneVsRestClassifier(LogisticRegression())\n",
    "ovr.fit(X_train, y_train)\n",
    "y_pred_ovr = ovr.predict(X_test)\n",
    "ovr_jaccard_score = jaccard_similarity_score(y_test, y_pred_ovr)\n",
    "\n",
    "# Fit an ensemble of logistic regression classifier chains and take the\n",
    "# take the average prediction of all the chains.\n",
    "chains = [ClassifierChain(LogisticRegression(), order='random', random_state=i)\n",
    "          for i in range(10)]\n",
    "\n",
    "for chain in chains:\n",
    "    chain.fit(X_train, y_train)\n",
    "    \n",
    " \n",
    "y_pred_chains = np.array([chain.predict(X_test) for chain in chains])\n",
    "\n",
    "chain_jaccard_scores = [jaccard_similarity_score(y_test, y_pred_chain >= .5)\n",
    "                        for y_pred_chain in y_pred_chains]\n",
    "\n",
    "y_pred_ensemble = y_pred_chains.mean(axis=0)\n",
    "ensemble_jaccard_score = jaccard_similarity_score(y_test,\n",
    "                                                  y_pred_ensemble >= .5)\n",
    "\n",
    "model_scores = [ovr_jaccard_score] + chain_jaccard_scores\n",
    "model_scores.append(ensemble_jaccard_score)\n",
    "\n",
    "model_names = ('Independent',\n",
    "               'Chain 1',\n",
    "               'Chain 2',\n",
    "               'Chain 3',\n",
    "               'Chain 4',\n",
    "               'Chain 5',\n",
    "               'Chain 6',\n",
    "               'Chain 7',\n",
    "               'Chain 8',\n",
    "               'Chain 9',\n",
    "               'Chain 10',\n",
    "               'Ensemble')\n",
    "\n",
    "print model_scores\n",
    "x_pos = np.arange(len(model_names))\n"
   ]
  },
  {
   "cell_type": "code",
   "execution_count": null,
   "metadata": {
    "collapsed": true
   },
   "outputs": [],
   "source": [
    "# Plot the Jaccard similarity scores for the independent model, each of the\n",
    "# chains, and the ensemble (note that the vertical axis on this plot does\n",
    "# not begin at 0).\n",
    "\n",
    "fig, ax = plt.subplots(figsize=(7, 4))\n",
    "ax.grid(True)\n",
    "ax.set_title('Classifier Chain Ensemble Performance Comparison')\n",
    "ax.set_xticks(x_pos)\n",
    "ax.set_xticklabels(model_names, rotation='vertical')\n",
    "ax.set_ylabel('Jaccard Similarity Score')\n",
    "ax.set_ylim([min(model_scores) * .9, max(model_scores) * 1.1])\n",
    "colors = ['r'] + ['b'] * len(chain_jaccard_scores) + ['g']\n",
    "ax.bar(x_pos, model_scores, alpha=0.5, color=colors)\n",
    "plt.tight_layout()\n",
    "plt.show()    \n"
   ]
  },
  {
   "cell_type": "markdown",
   "metadata": {},
   "source": [
    "# Test a bunch of classifiers"
   ]
  },
  {
   "cell_type": "code",
   "execution_count": null,
   "metadata": {},
   "outputs": [],
   "source": [
    "# Code source: Gaël Varoquaux\n",
    "#              Andreas Müller\n",
    "# Modified for documentation by Jaques Grobler\n",
    "# License: BSD 3 clause\n",
    "\n",
    "import numpy as np\n",
    "import matplotlib.pyplot as plt\n",
    "from matplotlib.colors import ListedColormap\n",
    "from sklearn.model_selection import train_test_split\n",
    "from sklearn.preprocessing import StandardScaler\n",
    "from sklearn.neural_network import MLPClassifier\n",
    "from sklearn.neighbors import KNeighborsClassifier\n",
    "from sklearn.svm import SVC\n",
    "from sklearn.gaussian_process import GaussianProcessClassifier\n",
    "from sklearn.gaussian_process.kernels import RBF\n",
    "from sklearn.tree import DecisionTreeClassifier\n",
    "from sklearn.ensemble import RandomForestClassifier, AdaBoostClassifier\n",
    "from sklearn.naive_bayes import GaussianNB\n",
    "from sklearn.discriminant_analysis import QuadraticDiscriminantAnalysis\n",
    "\n",
    "#h = .02  # step size in the mesh\n",
    "\n",
    "names = [\"Nearest Neighbors\", \n",
    "         \"Linear SVM\", \n",
    "         #\"RBF SVM\", \n",
    "         #\"Gaussian Process\",\n",
    "         \"Decision Tree\", \"Random Forest\",\n",
    "         \"Neural Net\", \"AdaBoost\",\n",
    "         \"Naive Bayes\"\n",
    "         #, \"QDA\"]\n",
    "]\n",
    "\n",
    "classifiers = [\n",
    "    KNeighborsClassifier(3),\n",
    "    SVC(kernel=\"linear\", C=0.025, probability=True),\n",
    "    #SVC(gamma=2, C=1),\n",
    "    #GaussianProcessClassifier(1.0 * RBF(1.0)),\n",
    "    DecisionTreeClassifier(),\n",
    "    RandomForestClassifier(n_estimators=100),\n",
    "    MLPClassifier(alpha=1),\n",
    "    AdaBoostClassifier(),\n",
    "    GaussianNB()\n",
    "    #QuadraticDiscriminantAnalysis()]\n",
    "]\n",
    "\n",
    "scores=[]\n",
    "# iterate over classifiers\n",
    "for name, clf in zip(names, classifiers):    \n",
    "    print \"Doing %s\" % (name)\n",
    "    clf.fit(X_train_best, y_train)\n",
    "    #score = clf.score(X_test, y_test)\n",
    "    #scores.append(score)\n",
    "    pred = clf.predict_proba(X_test_best)     \n",
    "    scores.append(log_loss(y_test, pred))\n"
   ]
  },
  {
   "cell_type": "code",
   "execution_count": null,
   "metadata": {},
   "outputs": [],
   "source": [
    "print scores\n",
    "#classifiers[2].fit(X_train, y_train)\n",
    "#predictions = classifiers[2].predict_proba(X_test)"
   ]
  },
  {
   "cell_type": "code",
   "execution_count": null,
   "metadata": {
    "collapsed": true
   },
   "outputs": [],
   "source": [
    "# oversample with SMOTE\n",
    "from imblearn.over_sampling import SMOTE\n",
    "ratios = {0:8584, 1:3000, 2:3000, 3:4000, 4:8000}\n",
    "sm = SMOTE(random_state=0, ratio=ratios)\n",
    "X_train_res, y_train_res = sm.fit_sample(X_train, y_train)"
   ]
  },
  {
   "cell_type": "code",
   "execution_count": null,
   "metadata": {
    "collapsed": true
   },
   "outputs": [],
   "source": [
    "# perform recursive feature elimination using stratified K fold cross validation\n",
    "#lr = LogisticRegression(penalty='l2', C=10**-1, random_state=0, multi_class='multinomial', solver='lbfgs')\n",
    "lr = LogisticRegression()\n",
    "#rfecv = RFECV(estimator=lr, step=1, cv=StratifiedKFold(y_train, n_folds=5), scoring='accuracy')\n",
    "#rfecv.fit(X_train, y_train)\n",
    "lr.fit(X_train, y_train)"
   ]
  },
  {
   "cell_type": "code",
   "execution_count": null,
   "metadata": {
    "collapsed": true
   },
   "outputs": [],
   "source": [
    "#rfecv.grid_scores_\n",
    "#model_columns[rfecv.ranking_ == 1]\n",
    "# use all features for now\n",
    "\n",
    "predictions = lr.predict(X_test)\n"
   ]
  },
  {
   "cell_type": "code",
   "execution_count": null,
   "metadata": {},
   "outputs": [],
   "source": [
    "# try and optimise regularisation parameter C (inverse of lambda)\n",
    "\n",
    "# return log loss for various regularisation C values over stratified folds\n",
    "def score(clf, random_state = 0):\n",
    "    kf = StratifiedKFold(y_train, n_folds=5, shuffle=True, random_state=random_state)\n",
    "    pred = np.zeros((y_train.shape[0], 5))\n",
    "    score=[]\n",
    "    for train, test in kf:\n",
    "        X_train_tr, X_train_test = X_train[train, :], X_train[test, :]\n",
    "        y_train_tr, y_train_test = y_train[train], y_train[test]        \n",
    "        clf.fit(X_train_tr, y_train_tr)        \n",
    "        pred[test,:] = clf.predict_proba(X_train_test)     \n",
    "        score.append(log_loss(y_train_test, pred[test, :]))        \n",
    "    print 'Log loss: %.3f' % (log_loss(y_train, pred))\n",
    "    return score\n",
    "\n",
    "Cs = np.logspace(-3,0,4)\n",
    "#Cs = np.arange(-5, 5)\n",
    "res = []\n",
    "for c in Cs:\n",
    "    res.append(np.mean(score(LogisticRegression(penalty='l1', C = c, random_state=0))))\n",
    "    #res.append(np.mean(score(LogisticRegression(penalty='l2', C = c, random_state=0, \n",
    "     #                                           multi_class='multinomial', solver='lbfgs'))))\n",
    "plt.semilogx(Cs, res,'-b');\n",
    "#plt.plot(Cs, res, '-b')\n",
    "plt.show()\n"
   ]
  },
  {
   "cell_type": "code",
   "execution_count": null,
   "metadata": {
    "collapsed": true
   },
   "outputs": [],
   "source": [
    "# run one-vs all logistic regression classifier\n",
    "lr = LogisticRegression(penalty='l2', C=10**-1, random_state=0, multi_class='multinomial', solver='lbfgs')\n",
    "lr.fit(X_train_res, y_train_res)\n",
    "#print X_test[0,:].reshape(-1,12)\n",
    "predictions = lr.predict_proba(X_test)\n",
    "print predictions\n",
    "#lr.predict_proba(X_test[0,:].reshape(-1,12))\n",
    "print lr.score(X_train, y_train)\n",
    "print lr.score(X_test, y_test)\n",
    "\n",
    "\n"
   ]
  },
  {
   "cell_type": "code",
   "execution_count": null,
   "metadata": {},
   "outputs": [],
   "source": [
    "# model beats the null model (whereby most frequent class is selected all the time).  This sort of model would\n",
    "# be correct 41% of the time\n",
    "# calculate accuracy score manually\n",
    "result_array = np.hstack((y_test.reshape(-1,1), predictions.argmax(axis = 1).reshape(-1,1)))\n",
    "print \"Classifier accuracy: %.3f\" % np.mean(np.where((result_array[:,0]==result_array[:,1]) == True, 1, 0))\n",
    "\n",
    "#print recall_score(y_test, predictions)\n",
    "\n",
    "# now i'd like to see which class was best predicted\n",
    "# results in first column represent the target label classes\n",
    "# find which class is worst predicted\n",
    "class_distribution = []\n",
    "for i in range(5):\n",
    "    temp = result_array[result_array[:,0] == i,:]     \n",
    "    class_distribution.append( np.mean(np.where((temp[:,0] == temp[:,1]), 1, 0)) )\n",
    "\n",
    "# \n",
    "print \"Classes: %s\" % le.classes_\n",
    "print \"Class accuracy: %s\" % class_distribution\n",
    "# [0.409, 0.007, 0.06, 0.176, 0.348]\n",
    "\n",
    "                   \n",
    "print \"Classifier log loss: %s\" %  log_loss(y_test, predictions)\n",
    "\n",
    "print \"Recall %.4f\" % recall_score(y_test, predictions.argmax(axis = 1), average='macro')\n",
    "#print df.columns[9:]\n",
    "#print le.classes_\n"
   ]
  },
  {
   "cell_type": "markdown",
   "metadata": {
    "collapsed": true
   },
   "source": [
    "# Imbarazz"
   ]
  },
  {
   "cell_type": "code",
   "execution_count": null,
   "metadata": {},
   "outputs": [],
   "source": [
    "x = np.random.randn(1000)\n",
    "\n",
    "fig = plt.figure()\n",
    "ax = fig.add_subplot(111)\n",
    "n, bins, rectangles = ax.hist(x, 50, normed=True)\n",
    "fig.canvas.draw()\n",
    "plt.show()"
   ]
  },
  {
   "cell_type": "code",
   "execution_count": null,
   "metadata": {},
   "outputs": [],
   "source": [
    "print np.argmax(n)\n",
    "#print n[30]\n",
    "#print bins[29:31]\n",
    "#print len(n)\n",
    "#print len(bins)\n",
    "\n",
    "from scipy import stats\n",
    "#stats.norm.pdf(3, loc=0.0, scale=1.0)\n",
    "#stats.norm.pdf(np.linspace(-1, 1), loc=0.0, scale=1.0)\n",
    "\n",
    "#print 1- stats.norm.cdf(-1, loc=0, scale=1.)  - (1- stats.norm.cdf(1, loc=0, scale=1.) )\n",
    "#print stats.norm.cdf(-1, loc=0, scale=1.)  \n",
    "#- stats.norm.cdf(1, loc=0, scale=1.)\n",
    "\n",
    "#print bins[1:]\n",
    "#print bins[:-1]\n",
    "print np.sum(n * (bins[1:] -  bins[:-1]))\n",
    "print n * (bins[1:] -  bins[:-1])\n",
    "print n\n",
    "print bins"
   ]
  },
  {
   "cell_type": "code",
   "execution_count": 57,
   "metadata": {},
   "outputs": [
    {
     "data": {
      "text/plain": [
       "array([[ 0.,  0.,  0.,  0.,  0.,  0.,  0.,  0.],\n",
       "       [ 0.,  1.,  1.,  0.,  0.,  0.,  0.,  0.]])"
      ]
     },
     "execution_count": 57,
     "metadata": {},
     "output_type": "execute_result"
    }
   ],
   "source": [
    "#minmax_scale = preprocessing.MinMaxScaler().fit(df[['Alcohol', 'Malic acid']])\n",
    "#df_minmax = minmax_scale.transform(df[['Alcohol', 'Malic acid']])\n",
    "from sklearn.preprocessing import MinMaxScaler \n",
    "\n",
    "data = [[0, 0, 0, 0, 0, 1, 1, 1], [0, 1, 1, 0, 0, 1, 1, 1]]\n",
    "scaler = MinMaxScaler()\n",
    "\n",
    "minmax_scale = scaler.fit(data)\n",
    "scaler.transform(data)\n",
    "\n",
    "#df_minmax = minmax_scale.transform(df[['Alcohol', 'Malic acid']])"
   ]
  }
 ],
 "metadata": {
  "kernelspec": {
   "display_name": "Python 2",
   "language": "python",
   "name": "python2"
  },
  "language_info": {
   "codemirror_mode": {
    "name": "ipython",
    "version": 2
   },
   "file_extension": ".py",
   "mimetype": "text/x-python",
   "name": "python",
   "nbconvert_exporter": "python",
   "pygments_lexer": "ipython2",
   "version": "2.7.12"
  }
 },
 "nbformat": 4,
 "nbformat_minor": 2
}
